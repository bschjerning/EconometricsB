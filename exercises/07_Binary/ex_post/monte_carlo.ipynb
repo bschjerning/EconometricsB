{
 "cells": [
  {
   "cell_type": "markdown",
   "metadata": {},
   "source": [
    "# Monte Carlo "
   ]
  },
  {
   "cell_type": "code",
   "execution_count": 1,
   "metadata": {},
   "outputs": [],
   "source": [
    "import numpy as np \n",
    "import pandas as pd \n",
    "from scipy.stats import norm # normal distribution \n",
    "\n",
    "# graphing \n",
    "import matplotlib.pyplot as plt \n",
    "import seaborn as sns \n",
    "sns.set_theme()\n",
    "plt.rcParams.update({\"text.usetex\": True})\n",
    "\n",
    "# reload our modules constantly (in case we make change)\n",
    "%load_ext autoreload\n",
    "%autoreload 2\n",
    "\n",
    "# user \n",
    "import probit, logit, estimation as est "
   ]
  },
  {
   "cell_type": "markdown",
   "metadata": {},
   "source": [
    "# Running a single Monte Carlo step "
   ]
  },
  {
   "cell_type": "code",
   "execution_count": 2,
   "metadata": {},
   "outputs": [
    {
     "name": "stdout",
     "output_type": "stream",
     "text": [
      "Optimization terminated successfully.\n",
      "         Current function value: 0.684374\n",
      "         Iterations: 5\n",
      "         Function evaluations: 24\n",
      "         Gradient evaluations: 6\n"
     ]
    },
    {
     "data": {
      "text/html": [
       "<div>\n",
       "<style scoped>\n",
       "    .dataframe tbody tr th:only-of-type {\n",
       "        vertical-align: middle;\n",
       "    }\n",
       "\n",
       "    .dataframe tbody tr th {\n",
       "        vertical-align: top;\n",
       "    }\n",
       "\n",
       "    .dataframe thead th {\n",
       "        text-align: right;\n",
       "    }\n",
       "</style>\n",
       "<table border=\"1\" class=\"dataframe\">\n",
       "  <thead>\n",
       "    <tr style=\"text-align: right;\">\n",
       "      <th></th>\n",
       "      <th>t0</th>\n",
       "      <th>theta</th>\n",
       "      <th>se</th>\n",
       "    </tr>\n",
       "  </thead>\n",
       "  <tbody>\n",
       "    <tr>\n",
       "      <th>0</th>\n",
       "      <td>0.1</td>\n",
       "      <td>0.098246</td>\n",
       "      <td>0.003984</td>\n",
       "    </tr>\n",
       "    <tr>\n",
       "      <th>1</th>\n",
       "      <td>0.1</td>\n",
       "      <td>0.095341</td>\n",
       "      <td>0.004008</td>\n",
       "    </tr>\n",
       "    <tr>\n",
       "      <th>2</th>\n",
       "      <td>0.1</td>\n",
       "      <td>0.096630</td>\n",
       "      <td>0.003993</td>\n",
       "    </tr>\n",
       "  </tbody>\n",
       "</table>\n",
       "</div>"
      ],
      "text/plain": [
       "    t0     theta        se\n",
       "0  0.1  0.098246  0.003984\n",
       "1  0.1  0.095341  0.004008\n",
       "2  0.1  0.096630  0.003993"
      ]
     },
     "execution_count": 2,
     "metadata": {},
     "output_type": "execute_result"
    }
   ],
   "source": [
    "model = probit\n",
    "t = 0.1 * np.ones((3,))\n",
    "Y,X = model.sim_data(t, 100000)\n",
    "t0 = model.starting_values(Y,X)\n",
    "r = est.estimate(model.q, t0, Y, X)\n",
    "pd.DataFrame({'t0':t, 'theta':r['theta'], 'se':r['se']})"
   ]
  },
  {
   "cell_type": "markdown",
   "metadata": {},
   "source": [
    "# Automating it "
   ]
  },
  {
   "cell_type": "code",
   "execution_count": 3,
   "metadata": {},
   "outputs": [
    {
     "name": "stdout",
     "output_type": "stream",
     "text": [
      "Wall time: 8.78 s\n"
     ]
    }
   ],
   "source": [
    "%%time \n",
    "np.random.seed(1337) # so we get the same picture always \n",
    "K=2\n",
    "t = .1 * np.ones((K,))\n",
    "tab = est.monte_carlo(logit, t, N=100, R=1000)"
   ]
  },
  {
   "cell_type": "code",
   "execution_count": 4,
   "metadata": {},
   "outputs": [
    {
     "data": {
      "text/plain": [
       "array([0.20075687, 0.21170081])"
      ]
     },
     "execution_count": 4,
     "metadata": {},
     "output_type": "execute_result"
    }
   ],
   "source": [
    "mc_std = tab.groupby('k').theta.std().values\n",
    "mc_std"
   ]
  },
  {
   "cell_type": "code",
   "execution_count": 5,
   "metadata": {},
   "outputs": [
    {
     "data": {
      "image/png": "[encoded data removed]",
      "text/plain": [
       "<Figure size 432x288 with 2 Axes>"
      ]
     },
     "metadata": {},
     "output_type": "display_data"
    }
   ],
   "source": [
    "fig,axes=plt.subplots(K);\n",
    "for k,t_ in enumerate(t): \n",
    "    ax = axes[k]\n",
    "    tab[tab.k==k].hist('theta', bins=25, ax=ax, density=True, label='$\\hat{\\\\theta}_k$');\n",
    "    \n",
    "    ymin,ymax = ax.get_ylim()\n",
    "    xmin,xmax = ax.get_xlim()\n",
    "    ax.axvline(t_, ymin, ymax, linestyle='--', color='r', label='True value')\n",
    "    \n",
    "    xx = np.linspace(xmin,xmax,100)\n",
    "    ax.plot(xx, norm.pdf(xx, loc=t_, scale=mc_std[k]), label='$N(\\\\theta_k^o, \\\\sigma_{MC}^2)$')\n",
    "    \n",
    "    ax.legend()\n",
    "    ax.set_title(f'$k = {k}$')\n",
    "\n",
    "plt.tight_layout()\n"
   ]
  }
 ],
 "metadata": {
  "kernelspec": {
   "display_name": "Python 3 (ipykernel)",
   "language": "python",
   "name": "python3"
  },
  "language_info": {
   "codemirror_mode": {
    "name": "ipython",
    "version": 3
   },
   "file_extension": ".py",
   "mimetype": "text/x-python",
   "name": "python",
   "nbconvert_exporter": "python",
   "pygments_lexer": "ipython3",
   "version": "3.8.11"
  }
 },
 "nbformat": 4,
 "nbformat_minor": 4
}
