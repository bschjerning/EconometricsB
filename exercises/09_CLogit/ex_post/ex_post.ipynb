{
 "cells": [
  {
   "cell_type": "markdown",
   "metadata": {},
   "source": [
    "# Modeling Demand for Cars with Conditional Logit \n",
    "\n",
    "In this problem set, you will replicate part of the results in\n",
    "Brownstone and Train (1999). You will estimate the conditional logit\n",
    "model given the available data.\n",
    "The core of the exercise will be to fill out the file `clogit.py`. \n"
   ]
  },
  {
   "cell_type": "code",
   "execution_count": 1,
   "metadata": {},
   "outputs": [],
   "source": [
    "import numpy as np\n",
    "from numpy import random\n",
    "from scipy.stats import norm\n",
    "from scipy.stats import genextreme\n",
    "import pandas as pd \n",
    "\n",
    "%load_ext autoreload\n",
    "%autoreload 2\n",
    "\n",
    "import clogit \n",
    "import estimation as est"
   ]
  },
  {
   "cell_type": "markdown",
   "metadata": {},
   "source": [
    "Data\n",
    "====\n",
    "\n",
    "The data consists of a survey of households regarding their preferences\n",
    "for car purchase. Each household was given 6 options, but the\n",
    "characteristics that the respondents were asked about was varied. The\n",
    "surveys were originally conducted in order to illicit consumer\n",
    "preferences for alternative-fuel vehicles. The data is *stated\n",
    "preferences*, in the sense that consumers did not actually buy but just\n",
    "stated what they would hypothetically choose, which is of course a\n",
    "drawback. This is very common in marketing when historic data is either\n",
    "not available or does not provide satisfactory variation. The advantage\n",
    "of the stated preference data is therefore that the choice set can be\n",
    "varied greatly (for example, the characteristics includes the\n",
    "availability of recharging stations, which is important for purchase of\n",
    "electric cars).\n",
    "\n",
    "The data you will use has $N=4654$ respondents with $J=6$ cars to choose\n",
    "from. For each household, we let $\\mathcal{J}_{i}$ denote the set of\n",
    "available cars.\n",
    "\n",
    "If you load the csv-file, `car_data.csv`, you will get a dataframe with \n",
    "$NJ = 27,924$ rows. The column `person_id` runs through $0,2,...,N-1$, and\n",
    "the column `j` is the index for the car, $\\{0,1,...,5\\}$. The variable \n",
    "`binary_choice` is a dummy, =1 for the car chosen by the respondent. \n",
    "A conveneint other variable, `y`, is the index for that car, repeated \n",
    "and identical for all $J$ rows for each person. The x-variables describe \n",
    "the characteristics of the 6 cars that the respondent was asked to choose \n",
    "from. \n",
    "\n",
    "We will also read in the dataset `car_labels.csv`, which contains the \n",
    "variable labels and descriptions for all the variables. \n",
    "The lists `x_vars` and `x_lab` will be used throughout as the list of \n",
    "explanatory variables we want to work with. \n",
    "\n",
    "In order to get the data into a 3-dimensional array, we will access \n",
    "the underlying numpy arrays and resize them. For example \n",
    "\n",
    "> `x = dat[x_vars].values.resize((N,J,K))`\n",
    "\n",
    "Note that this will only work because the data is sorted according to \n",
    "first `person_id` and then `j`. You can test this by verifying that \n",
    "`x[0,:,k]` prints the same as `dat.loc[dat.person_id == 0, x_vars[k]]`. "
   ]
  },
  {
   "cell_type": "code",
   "execution_count": 2,
   "metadata": {},
   "outputs": [
    {
     "data": {
      "text/html": [
       "<div>\n",
       "<style scoped>\n",
       "    .dataframe tbody tr th:only-of-type {\n",
       "        vertical-align: middle;\n",
       "    }\n",
       "\n",
       "    .dataframe tbody tr th {\n",
       "        vertical-align: top;\n",
       "    }\n",
       "\n",
       "    .dataframe thead th {\n",
       "        text-align: right;\n",
       "    }\n",
       "</style>\n",
       "<table border=\"1\" class=\"dataframe\">\n",
       "  <thead>\n",
       "    <tr style=\"text-align: right;\">\n",
       "      <th></th>\n",
       "      <th>label</th>\n",
       "      <th>description</th>\n",
       "    </tr>\n",
       "    <tr>\n",
       "      <th>variable</th>\n",
       "      <th></th>\n",
       "      <th></th>\n",
       "    </tr>\n",
       "  </thead>\n",
       "  <tbody>\n",
       "    <tr>\n",
       "      <th>person_id</th>\n",
       "      <td>Person ID</td>\n",
       "      <td>Person identifier</td>\n",
       "    </tr>\n",
       "    <tr>\n",
       "      <th>rownum</th>\n",
       "      <td>Row num</td>\n",
       "      <td>Row number in the dataset</td>\n",
       "    </tr>\n",
       "    <tr>\n",
       "      <th>binary_choice</th>\n",
       "      <td>Binary choice</td>\n",
       "      <td>Dummy, =1 if this row is the car that was chosen</td>\n",
       "    </tr>\n",
       "    <tr>\n",
       "      <th>price_to_inc</th>\n",
       "      <td>Price/ln(income)</td>\n",
       "      <td>Purchase price in thousands of dollars, divide...</td>\n",
       "    </tr>\n",
       "    <tr>\n",
       "      <th>range</th>\n",
       "      <td>Range</td>\n",
       "      <td>Hundreds of miles that the vehicle can travel ...</td>\n",
       "    </tr>\n",
       "    <tr>\n",
       "      <th>acceleration</th>\n",
       "      <td>Acceleration</td>\n",
       "      <td>Seconds required to reach 30 mph from stop, in...</td>\n",
       "    </tr>\n",
       "    <tr>\n",
       "      <th>top_speed</th>\n",
       "      <td>Top speed</td>\n",
       "      <td>Highest speed that the vehicle can attain, in ...</td>\n",
       "    </tr>\n",
       "    <tr>\n",
       "      <th>pollution</th>\n",
       "      <td>Pollution</td>\n",
       "      <td>Tailpipe emissions as fraction of comparable n...</td>\n",
       "    </tr>\n",
       "    <tr>\n",
       "      <th>size</th>\n",
       "      <td>Size</td>\n",
       "      <td>0\"mini, 0.1\"subcompact, 0.2\"compact, 0.3\"mid-s...</td>\n",
       "    </tr>\n",
       "    <tr>\n",
       "      <th>big_enough</th>\n",
       "      <td>Big enough</td>\n",
       "      <td>1 if household size is over 2 and vehicle size...</td>\n",
       "    </tr>\n",
       "    <tr>\n",
       "      <th>luggage_space</th>\n",
       "      <td>Luggage space</td>\n",
       "      <td>Luggage space as fraction of comparable new ga...</td>\n",
       "    </tr>\n",
       "    <tr>\n",
       "      <th>operating_cost</th>\n",
       "      <td>Operating cost</td>\n",
       "      <td>Cost per mile of travel, in tens of cents per ...</td>\n",
       "    </tr>\n",
       "    <tr>\n",
       "      <th>station_availability</th>\n",
       "      <td>Station availability</td>\n",
       "      <td>Fraction of stations that have capability to r...</td>\n",
       "    </tr>\n",
       "    <tr>\n",
       "      <th>suv</th>\n",
       "      <td>Sports utility vehicle</td>\n",
       "      <td>1 for sports utility vehicle, zero otherwise</td>\n",
       "    </tr>\n",
       "    <tr>\n",
       "      <th>sports_car</th>\n",
       "      <td>Sports car</td>\n",
       "      <td>1 for sports car, zero otherwise</td>\n",
       "    </tr>\n",
       "    <tr>\n",
       "      <th>station_wagon</th>\n",
       "      <td>Station wagon</td>\n",
       "      <td>1 for station wagon, zero otherwise</td>\n",
       "    </tr>\n",
       "    <tr>\n",
       "      <th>truck</th>\n",
       "      <td>Truck</td>\n",
       "      <td>1 for truck, zero otherwise</td>\n",
       "    </tr>\n",
       "    <tr>\n",
       "      <th>van</th>\n",
       "      <td>Van</td>\n",
       "      <td>1 for van, zero otherwise</td>\n",
       "    </tr>\n",
       "    <tr>\n",
       "      <th>ev</th>\n",
       "      <td>Constant for EV</td>\n",
       "      <td>1 for electric vehicle, zero otherwise</td>\n",
       "    </tr>\n",
       "    <tr>\n",
       "      <th>commute_x_ev</th>\n",
       "      <td>Commute*EV</td>\n",
       "      <td>1 if respondent commutes less than five miles ...</td>\n",
       "    </tr>\n",
       "    <tr>\n",
       "      <th>college_x_ev</th>\n",
       "      <td>College*EV</td>\n",
       "      <td>1 if respondent had some college education and...</td>\n",
       "    </tr>\n",
       "    <tr>\n",
       "      <th>cng</th>\n",
       "      <td>Constant for CNG</td>\n",
       "      <td>1 for compressed natural gas vehicle, zero oth...</td>\n",
       "    </tr>\n",
       "    <tr>\n",
       "      <th>methanol</th>\n",
       "      <td>Constant for methanol</td>\n",
       "      <td>1 for methanol vehicle, zero otherwise</td>\n",
       "    </tr>\n",
       "    <tr>\n",
       "      <th>college_x_methanol</th>\n",
       "      <td>College*methanol</td>\n",
       "      <td>1 if respondent had some college education and...</td>\n",
       "    </tr>\n",
       "    <tr>\n",
       "      <th>not_ev</th>\n",
       "      <td>Non-EV</td>\n",
       "      <td>Dummy, =1 if car is not EV</td>\n",
       "    </tr>\n",
       "    <tr>\n",
       "      <th>not_cng</th>\n",
       "      <td>Non-CNG</td>\n",
       "      <td>Dummy, =1 if car is not CNG</td>\n",
       "    </tr>\n",
       "    <tr>\n",
       "      <th>j</th>\n",
       "      <td>Car number</td>\n",
       "      <td>Index for the car number (0,1,...,5)</td>\n",
       "    </tr>\n",
       "    <tr>\n",
       "      <th>y</th>\n",
       "      <td>Chosen car</td>\n",
       "      <td>Index for the chosen car (0,1,...,5)</td>\n",
       "    </tr>\n",
       "  </tbody>\n",
       "</table>\n",
       "</div>"
      ],
      "text/plain": [
       "                                       label  \\\n",
       "variable                                       \n",
       "person_id                          Person ID   \n",
       "rownum                               Row num   \n",
       "binary_choice                  Binary choice   \n",
       "price_to_inc                Price/ln(income)   \n",
       "range                                  Range   \n",
       "acceleration                    Acceleration   \n",
       "top_speed                          Top speed   \n",
       "pollution                          Pollution   \n",
       "size                                    Size   \n",
       "big_enough                        Big enough   \n",
       "luggage_space                  Luggage space   \n",
       "operating_cost                Operating cost   \n",
       "station_availability    Station availability   \n",
       "suv                   Sports utility vehicle   \n",
       "sports_car                        Sports car   \n",
       "station_wagon                  Station wagon   \n",
       "truck                                  Truck   \n",
       "van                                      Van   \n",
       "ev                           Constant for EV   \n",
       "commute_x_ev                      Commute*EV   \n",
       "college_x_ev                      College*EV   \n",
       "cng                         Constant for CNG   \n",
       "methanol               Constant for methanol   \n",
       "college_x_methanol          College*methanol   \n",
       "not_ev                                Non-EV   \n",
       "not_cng                              Non-CNG   \n",
       "j                                 Car number   \n",
       "y                                 Chosen car   \n",
       "\n",
       "                                                            description  \n",
       "variable                                                                 \n",
       "person_id                                             Person identifier  \n",
       "rownum                                        Row number in the dataset  \n",
       "binary_choice          Dummy, =1 if this row is the car that was chosen  \n",
       "price_to_inc          Purchase price in thousands of dollars, divide...  \n",
       "range                 Hundreds of miles that the vehicle can travel ...  \n",
       "acceleration          Seconds required to reach 30 mph from stop, in...  \n",
       "top_speed             Highest speed that the vehicle can attain, in ...  \n",
       "pollution             Tailpipe emissions as fraction of comparable n...  \n",
       "size                  0\"mini, 0.1\"subcompact, 0.2\"compact, 0.3\"mid-s...  \n",
       "big_enough            1 if household size is over 2 and vehicle size...  \n",
       "luggage_space         Luggage space as fraction of comparable new ga...  \n",
       "operating_cost        Cost per mile of travel, in tens of cents per ...  \n",
       "station_availability  Fraction of stations that have capability to r...  \n",
       "suv                        1 for sports utility vehicle, zero otherwise  \n",
       "sports_car                             1 for sports car, zero otherwise  \n",
       "station_wagon                       1 for station wagon, zero otherwise  \n",
       "truck                                       1 for truck, zero otherwise  \n",
       "van                                           1 for van, zero otherwise  \n",
       "ev                               1 for electric vehicle, zero otherwise  \n",
       "commute_x_ev          1 if respondent commutes less than five miles ...  \n",
       "college_x_ev          1 if respondent had some college education and...  \n",
       "cng                   1 for compressed natural gas vehicle, zero oth...  \n",
       "methanol                         1 for methanol vehicle, zero otherwise  \n",
       "college_x_methanol    1 if respondent had some college education and...  \n",
       "not_ev                                       Dummy, =1 if car is not EV  \n",
       "not_cng                                     Dummy, =1 if car is not CNG  \n",
       "j                                  Index for the car number (0,1,...,5)  \n",
       "y                                  Index for the chosen car (0,1,...,5)  "
      ]
     },
     "execution_count": 2,
     "metadata": {},
     "output_type": "execute_result"
    }
   ],
   "source": [
    "lab = pd.read_csv('car_labels.csv', index_col='variable')\n",
    "lab"
   ]
  },
  {
   "cell_type": "code",
   "execution_count": 3,
   "metadata": {},
   "outputs": [],
   "source": [
    "# variables to use as explanatory variables\n",
    "x_lab  = list(lab.iloc[3:-4].label.values) # labels \n",
    "x_vars = list(lab.iloc[3:-4].index.values) # variable names "
   ]
  },
  {
   "cell_type": "code",
   "execution_count": 4,
   "metadata": {},
   "outputs": [],
   "source": [
    "dat = pd.read_csv('car_data.csv')\n",
    "N = dat.person_id.nunique()\n",
    "J = dat.j.nunique()\n",
    "K = len(x_vars)"
   ]
  },
  {
   "cell_type": "markdown",
   "metadata": {},
   "source": [
    "## Scaling variables\n",
    "\n",
    "Logit is most stable numerically if we ensure that variables are scaled near to $\\pm 1$. "
   ]
  },
  {
   "cell_type": "code",
   "execution_count": 5,
   "metadata": {},
   "outputs": [],
   "source": [
    "dat['range'] = dat['range'] / 100\n",
    "dat['top_speed'] = dat['top_speed'] / 100\n",
    "\n",
    "# scaling by 10 might be overkill \n",
    "dat['size'] = dat['size'] / 10\n",
    "dat['acceleration'] = dat['acceleration'] / 10\n",
    "dat['operating_cost'] = dat['operating_cost'] / 10"
   ]
  },
  {
   "cell_type": "code",
   "execution_count": 6,
   "metadata": {},
   "outputs": [],
   "source": [
    "y = dat['y'].values.reshape((N,J))\n",
    "y = y[:, 0] # all J elements are identical along axis=1\n",
    "x = dat[x_vars].values.reshape((N,J,K))"
   ]
  },
  {
   "cell_type": "markdown",
   "metadata": {},
   "source": [
    "# Question 1: 3-dimensional arrays in Numpy\n",
    "\n",
    "The explanatory variables are $x_{ijk}$, where $i$ denotes individuals,\n",
    "$j$ cars, and $k$ car attributes. We will be working with these as 3d arrays, so let's do some light warmup. \n",
    "\n",
    "Which of the following commands shows all the price-to-log-income\n",
    "    values for the cars in the choiceset of individual 1 (and what does\n",
    "    the other commands give you?).\n",
    "\n",
    "    a:   x[:,1,1]\n",
    "\n",
    "    b:   x[1,:,1]\n",
    "\n",
    "    b:   x[1,1,:]"
   ]
  },
  {
   "cell_type": "code",
   "execution_count": 7,
   "metadata": {},
   "outputs": [],
   "source": [
    "# Try to index, and make yourself familiar with a three dimensional array."
   ]
  },
  {
   "cell_type": "markdown",
   "metadata": {},
   "source": [
    "## Question 1b\n",
    "\n",
    "Create a 3-dimensional matrix `A` that has dimensions $4 \\times 3 \\times 2$, and fill it with random draws from a normal distribution. What happens if you matrix multiply this by the $2 \\times 1$ vector `1 2`? From \"common\" linear algebra knowledge, what do you expect the dimension of the new matrix is?"
   ]
  },
  {
   "cell_type": "code",
   "execution_count": 8,
   "metadata": {},
   "outputs": [
    {
     "data": {
      "text/plain": [
       "array([[[ 0.30471708, -1.03998411],\n",
       "        [ 0.7504512 ,  0.94056472],\n",
       "        [-1.95103519, -1.30217951]],\n",
       "\n",
       "       [[ 0.1278404 , -0.31624259],\n",
       "        [-0.01680116, -0.85304393],\n",
       "        [ 0.87939797,  0.77779194]],\n",
       "\n",
       "       [[ 0.0660307 ,  1.12724121],\n",
       "        [ 0.46750934, -0.85929246],\n",
       "        [ 0.36875078, -0.9588826 ]],\n",
       "\n",
       "       [[ 0.8784503 , -0.04992591],\n",
       "        [-0.18486236, -0.68092954],\n",
       "        [ 1.22254134, -0.15452948]]])"
      ]
     },
     "execution_count": 8,
     "metadata": {},
     "output_type": "execute_result"
    }
   ],
   "source": [
    "rng = random.default_rng(seed=42)\n",
    "A = rng.normal(size=(4, 3, 2))\n",
    "A"
   ]
  },
  {
   "cell_type": "code",
   "execution_count": 9,
   "metadata": {},
   "outputs": [
    {
     "name": "stdout",
     "output_type": "stream",
     "text": [
      "[[-1.77525113  2.63158063 -4.5553942 ]\n",
      " [-0.50464478 -1.72288901  2.43498185]\n",
      " [ 2.32051311 -1.25107558 -1.54901442]\n",
      " [ 0.77859848 -1.54672145  0.91348237]]\n"
     ]
    }
   ],
   "source": [
    "B = A @ [1, 2]\n",
    "print(B)"
   ]
  },
  {
   "cell_type": "code",
   "execution_count": 10,
   "metadata": {},
   "outputs": [
    {
     "name": "stdout",
     "output_type": "stream",
     "text": [
      "[[-1.77525113  2.63158063 -4.5553942 ]\n",
      " [-0.50464478 -1.72288901  2.43498185]\n",
      " [ 2.32051311 -1.25107558 -1.54901442]\n",
      " [ 0.77859848 -1.54672145  0.91348237]]\n",
      "\n",
      "True\n"
     ]
    }
   ],
   "source": [
    "a = A.reshape(12, 2)\n",
    "b = (a @ [1, 2]).reshape(4, 3)\n",
    "print(b)\n",
    "print()\n",
    "print((B==b).all())"
   ]
  },
  {
   "cell_type": "markdown",
   "metadata": {},
   "source": [
    "## 1c: Testing it on the data \n",
    "Next, we want to compute $\\sum_{k=1}^{K}x_{ijk}\\theta_{k}$ using linear algebra. Our  `x` matrix has three dimensions, $N\\times J\\times K$, and $\\theta$ is $K\\times1$. Does this behave as expected when using numpy?"
   ]
  },
  {
   "cell_type": "code",
   "execution_count": 11,
   "metadata": {},
   "outputs": [
    {
     "data": {
      "text/plain": [
       "(4654, 6)"
      ]
     },
     "execution_count": 11,
     "metadata": {},
     "output_type": "execute_result"
    }
   ],
   "source": [
    "theta = 0.0 * np.ones((K,))\n",
    "(x @ theta).shape"
   ]
  },
  {
   "cell_type": "markdown",
   "metadata": {},
   "source": [
    "# Question 2: Simulating data\n",
    "\n",
    "Finish `simulate_dataset(N,J,theta)` and simulate a dataset. It must return `(y,x)`, where `x` has dimensions ($N\\times J\\times K$) and `y` ($N\\times1$).\n",
    "\n",
    "The data generating process should be: \n",
    "$$u_{ij} = \\mathbf{x}_{ij}\\theta + \\varepsilon_{ij},\\quad\\varepsilon_{ij}\\sim\\text{IID Extreme Value Type I},$$\n",
    "\n",
    "where we will draw the regressors as $x_{ijk} \\sim \\mathcal{N}(0,1)$ IID for all $(i,j,k)$. The outcome is then $y_i = \\arg\\max_{j} u_{ij}$. \n",
    "\n",
    "***Hints:*** <br>\n",
    "* Draw `x` as `(N,J,K)` standard normals, \n",
    "* Draw `e` ($\\varepsilon$) using `genextreme.ppf(uni, c=0)` (the inverse CDF), were `uni` should be an `(N,J)` matrix of uniform draws (`c=0` gives us *Type I*, as needed), \n",
    "* To find the argmax over rows, use `np.argmax(axis=1)`. Verify that `y` is `(N,)`. \n"
   ]
  },
  {
   "cell_type": "code",
   "execution_count": 12,
   "metadata": {},
   "outputs": [],
   "source": [
    "N = 1000\n",
    "K = 3\n",
    "J = 4\n",
    "thetaTrue = np.array([1, 2, 3])"
   ]
  },
  {
   "cell_type": "code",
   "execution_count": 13,
   "metadata": {},
   "outputs": [],
   "source": [
    "# Finish the clogit.sim_data function.\n",
    "np.random.seed(1337)\n",
    "y,x = clogit.sim_data(N, thetaTrue, J)"
   ]
  },
  {
   "cell_type": "code",
   "execution_count": 14,
   "metadata": {},
   "outputs": [],
   "source": [
    "theta0 = clogit.starting_values(y, x)"
   ]
  },
  {
   "cell_type": "markdown",
   "metadata": {},
   "source": [
    "# Question 3: choice probabilities \n",
    "\n",
    "Finish the functions \n",
    "* `starting_values(y,x)`: Just return a $K$-vector of zeros *(what probabilities will arise from this, do you think?)*\n",
    "* `util(theta, x)`: The deterministic part of utility, max-rescaled: \n",
    "$$ v_{ij} = \\mathbf{x}_{ij} \\theta - K_i, \\quad K_i = \\max_{\\ell \\in \\{1,...,J\\}}  \\mathbf{x}_{i\\ell} \\theta. $$ \n",
    "Subtracting $K_i$ is called \"max-rescaling\". \n",
    "* `ccp(theta, x)`: the $N\\times J$ matrix of choice probabilities, given by \n",
    "$$ \\Pr(y_i = j | \\mathbf{x_i}; \\theta) = \\frac{\\exp(v_{ij})}{\\sum_{k=1}^J \\exp(v_{ik})}. $$ \n",
    "Note that if we add a scalar, $K$, to *all* $i$'s utility indices, the choice probabilities are analytically identical (check the algebra!). \n",
    "\n",
    "***Hints:*** \n",
    "* If `x` has shape `(N,J,K)`, then the matrix product `x @ theta` will return an `(N,J)` matrix. \n",
    "* Use `u.max(axis=1)` on an `(N,J)` matrix `u` to compute the max over the rows. \n",
    "    * Further, use `u.max(axis=1, keepdims=True)` to get an `(N,1)` vector out, rather than an `(N,)` vector. "
   ]
  },
  {
   "cell_type": "code",
   "execution_count": 15,
   "metadata": {},
   "outputs": [
    {
     "data": {
      "text/plain": [
       "True"
      ]
     },
     "execution_count": 15,
     "metadata": {},
     "output_type": "execute_result"
    }
   ],
   "source": [
    "u = clogit.util(theta0, x)\n",
    "(u == 0.0).all()"
   ]
  },
  {
   "cell_type": "code",
   "execution_count": 16,
   "metadata": {},
   "outputs": [
    {
     "data": {
      "text/plain": [
       "True"
      ]
     },
     "execution_count": 16,
     "metadata": {},
     "output_type": "execute_result"
    }
   ],
   "source": [
    "ccp = clogit.choice_prob(theta0, x)\n",
    "(ccp == 0.25).all()"
   ]
  },
  {
   "cell_type": "markdown",
   "metadata": {},
   "source": [
    "# Question 4: Criterion \n",
    "\n",
    "Code up the functions \n",
    "* `loglike(theta, y, x)`: loglikelihood contribution: $$ \\ell_i (\\theta) = \\log \\Pr( \\color{red}{y_i} | \\mathbf{x}_i;\\theta) = v_\\color{red}{y_i} - \\log \\left[ \\sum_{j=1}^J \\exp(\\mathbf{x}_{ij} \\theta) \\right], $$ \n",
    "where $\\color{red}{y_i} \\in \\{0,...,J-1\\}$ is the *outcome* for individual $i$ (whereas we earlier used $y_i$ to represent the stochastic variable that is the outcome chosen by $i$, in a mildly abusive notation.)\n",
    "* `q(theta, y, x)`: the negative loglikelihood criterion, and the function we will give to `est.estimate()`. \n",
    "\n",
    "***Hint:*** if you have an `(N,J)` matrix, `v`, and an `(N,)` array of numbers in `0,...,N-1`, you can do it two way: \n",
    "```Python\n",
    "# in a (slow) loop\n",
    "ll = np.empty((N,))\n",
    "for i in range(N): \n",
    "    ll[i] = v[i, y[i]]\n",
    "\n",
    "# or faster\n",
    "ll = v[range(N), y]\n",
    "```"
   ]
  },
  {
   "cell_type": "code",
   "execution_count": 17,
   "metadata": {},
   "outputs": [
    {
     "name": "stdout",
     "output_type": "stream",
     "text": [
      "Optimization terminated successfully.\n",
      "         Current function value: 0.454249\n",
      "         Iterations: 14\n",
      "         Function evaluations: 60\n",
      "         Gradient evaluations: 15\n"
     ]
    }
   ],
   "source": [
    "res = est.estimate(clogit.q, theta0, y, x)"
   ]
  },
  {
   "cell_type": "code",
   "execution_count": 18,
   "metadata": {},
   "outputs": [
    {
     "data": {
      "text/html": [
       "<div>\n",
       "<style scoped>\n",
       "    .dataframe tbody tr th:only-of-type {\n",
       "        vertical-align: middle;\n",
       "    }\n",
       "\n",
       "    .dataframe tbody tr th {\n",
       "        vertical-align: top;\n",
       "    }\n",
       "\n",
       "    .dataframe thead th {\n",
       "        text-align: right;\n",
       "    }\n",
       "</style>\n",
       "<table border=\"1\" class=\"dataframe\">\n",
       "  <thead>\n",
       "    <tr style=\"text-align: right;\">\n",
       "      <th></th>\n",
       "      <th>theta</th>\n",
       "      <th>se</th>\n",
       "      <th>t</th>\n",
       "    </tr>\n",
       "    <tr>\n",
       "      <th>theta_true</th>\n",
       "      <th></th>\n",
       "      <th></th>\n",
       "      <th></th>\n",
       "    </tr>\n",
       "  </thead>\n",
       "  <tbody>\n",
       "    <tr>\n",
       "      <th>1</th>\n",
       "      <td>1.132555</td>\n",
       "      <td>0.081938</td>\n",
       "      <td>13.822098</td>\n",
       "    </tr>\n",
       "    <tr>\n",
       "      <th>2</th>\n",
       "      <td>2.257784</td>\n",
       "      <td>0.125319</td>\n",
       "      <td>18.016352</td>\n",
       "    </tr>\n",
       "    <tr>\n",
       "      <th>3</th>\n",
       "      <td>2.954310</td>\n",
       "      <td>0.160174</td>\n",
       "      <td>18.444364</td>\n",
       "    </tr>\n",
       "  </tbody>\n",
       "</table>\n",
       "</div>"
      ],
      "text/plain": [
       "               theta        se          t\n",
       "theta_true                               \n",
       "1           1.132555  0.081938  13.822098\n",
       "2           2.257784  0.125319  18.016352\n",
       "3           2.954310  0.160174  18.444364"
      ]
     },
     "execution_count": 18,
     "metadata": {},
     "output_type": "execute_result"
    }
   ],
   "source": [
    "tab = pd.DataFrame({v:res[v] for v in ['theta', 'se', 't']}, index=thetaTrue)\n",
    "tab.index.name = 'theta_true'\n",
    "tab"
   ]
  },
  {
   "cell_type": "markdown",
   "metadata": {},
   "source": [
    "Expected output:\n",
    "\n",
    "Optimization terminated successfully.\n",
    "         Current function value: 0.454249\n",
    "         Iterations: 14\n",
    "         Function evaluations: 60\n",
    "         Gradient evaluations: 15\n",
    "\n",
    "|   theta_true |   theta |       se |       t |\n",
    "|-------------:|--------:|---------:|--------:|\n",
    "|            1 | 1.13255 | 0.081938 | 13.8221 |\n",
    "|            2 | 2.25778 | 0.125319 | 18.0164 |\n",
    "|            3 | 2.95431 | 0.160174 | 18.4444 |"
   ]
  },
  {
   "cell_type": "markdown",
   "metadata": {},
   "source": [
    "# Question 5: Estimation on real data\n",
    "\n",
    "Estimate the 21 parameters of the model. Check that you are able to\n",
    "    find the same estimates and standard errors as in Brownstone and\n",
    "    Train (1998; p. 121).\n",
    "\n"
   ]
  },
  {
   "cell_type": "code",
   "execution_count": 19,
   "metadata": {},
   "outputs": [],
   "source": [
    "N = dat.person_id.nunique()\n",
    "J = dat.j.nunique()\n",
    "K = len(x_vars)\n",
    "\n",
    "y = dat['y'].values.reshape((N,J))\n",
    "y = y[:, 0] # all J elements are identical along axis=1\n",
    "x = dat[x_vars].values.reshape((N,J,K))"
   ]
  },
  {
   "cell_type": "code",
   "execution_count": 20,
   "metadata": {},
   "outputs": [],
   "source": [
    "bt_res = [-.185 , .350 , -.716 , .261 , -.444 , .935 , .143 , .501 , -.768 , .413 , .820 , .637 , -1.437 , -1.017 , -.799 , -.179 , .198 , .443 , .345 , .313 , .228]"
   ]
  },
  {
   "cell_type": "code",
   "execution_count": 21,
   "metadata": {},
   "outputs": [
    {
     "data": {
      "text/html": [
       "<div>\n",
       "<style scoped>\n",
       "    .dataframe tbody tr th:only-of-type {\n",
       "        vertical-align: middle;\n",
       "    }\n",
       "\n",
       "    .dataframe tbody tr th {\n",
       "        vertical-align: top;\n",
       "    }\n",
       "\n",
       "    .dataframe thead th {\n",
       "        text-align: right;\n",
       "    }\n",
       "</style>\n",
       "<table border=\"1\" class=\"dataframe\">\n",
       "  <thead>\n",
       "    <tr style=\"text-align: right;\">\n",
       "      <th></th>\n",
       "      <th>Estimate (B&amp;T 1998)</th>\n",
       "    </tr>\n",
       "  </thead>\n",
       "  <tbody>\n",
       "    <tr>\n",
       "      <th>Price/ln(income)</th>\n",
       "      <td>-0.185</td>\n",
       "    </tr>\n",
       "    <tr>\n",
       "      <th>Range</th>\n",
       "      <td>0.350</td>\n",
       "    </tr>\n",
       "    <tr>\n",
       "      <th>Acceleration</th>\n",
       "      <td>-0.716</td>\n",
       "    </tr>\n",
       "    <tr>\n",
       "      <th>Top speed</th>\n",
       "      <td>0.261</td>\n",
       "    </tr>\n",
       "    <tr>\n",
       "      <th>Pollution</th>\n",
       "      <td>-0.444</td>\n",
       "    </tr>\n",
       "    <tr>\n",
       "      <th>Size</th>\n",
       "      <td>0.935</td>\n",
       "    </tr>\n",
       "    <tr>\n",
       "      <th>Big enough</th>\n",
       "      <td>0.143</td>\n",
       "    </tr>\n",
       "    <tr>\n",
       "      <th>Luggage space</th>\n",
       "      <td>0.501</td>\n",
       "    </tr>\n",
       "    <tr>\n",
       "      <th>Operating cost</th>\n",
       "      <td>-0.768</td>\n",
       "    </tr>\n",
       "    <tr>\n",
       "      <th>Station availability</th>\n",
       "      <td>0.413</td>\n",
       "    </tr>\n",
       "    <tr>\n",
       "      <th>Sports utility vehicle</th>\n",
       "      <td>0.820</td>\n",
       "    </tr>\n",
       "    <tr>\n",
       "      <th>Sports car</th>\n",
       "      <td>0.637</td>\n",
       "    </tr>\n",
       "    <tr>\n",
       "      <th>Station wagon</th>\n",
       "      <td>-1.437</td>\n",
       "    </tr>\n",
       "    <tr>\n",
       "      <th>Truck</th>\n",
       "      <td>-1.017</td>\n",
       "    </tr>\n",
       "    <tr>\n",
       "      <th>Van</th>\n",
       "      <td>-0.799</td>\n",
       "    </tr>\n",
       "    <tr>\n",
       "      <th>Constant for EV</th>\n",
       "      <td>-0.179</td>\n",
       "    </tr>\n",
       "    <tr>\n",
       "      <th>Commute*EV</th>\n",
       "      <td>0.198</td>\n",
       "    </tr>\n",
       "    <tr>\n",
       "      <th>College*EV</th>\n",
       "      <td>0.443</td>\n",
       "    </tr>\n",
       "    <tr>\n",
       "      <th>Constant for CNG</th>\n",
       "      <td>0.345</td>\n",
       "    </tr>\n",
       "    <tr>\n",
       "      <th>Constant for methanol</th>\n",
       "      <td>0.313</td>\n",
       "    </tr>\n",
       "    <tr>\n",
       "      <th>College*methanol</th>\n",
       "      <td>0.228</td>\n",
       "    </tr>\n",
       "  </tbody>\n",
       "</table>\n",
       "</div>"
      ],
      "text/plain": [
       "                        Estimate (B&T 1998)\n",
       "Price/ln(income)                     -0.185\n",
       "Range                                 0.350\n",
       "Acceleration                         -0.716\n",
       "Top speed                             0.261\n",
       "Pollution                            -0.444\n",
       "Size                                  0.935\n",
       "Big enough                            0.143\n",
       "Luggage space                         0.501\n",
       "Operating cost                       -0.768\n",
       "Station availability                  0.413\n",
       "Sports utility vehicle                0.820\n",
       "Sports car                            0.637\n",
       "Station wagon                        -1.437\n",
       "Truck                                -1.017\n",
       "Van                                  -0.799\n",
       "Constant for EV                      -0.179\n",
       "Commute*EV                            0.198\n",
       "College*EV                            0.443\n",
       "Constant for CNG                      0.345\n",
       "Constant for methanol                 0.313\n",
       "College*methanol                      0.228"
      ]
     },
     "execution_count": 21,
     "metadata": {},
     "output_type": "execute_result"
    }
   ],
   "source": [
    "tab_bt98 = pd.DataFrame(bt_res, index=x_lab, columns=['Estimate (B&T 1998)'])\n",
    "tab_bt98"
   ]
  },
  {
   "cell_type": "code",
   "execution_count": 22,
   "metadata": {},
   "outputs": [],
   "source": [
    "theta0 = np.array(bt_res)\n",
    "theta0 = np.zeros((K,))"
   ]
  },
  {
   "cell_type": "code",
   "execution_count": 23,
   "metadata": {},
   "outputs": [
    {
     "name": "stdout",
     "output_type": "stream",
     "text": [
      "Optimization terminated successfully.\n",
      "         Current function value: 1.588275\n",
      "         Iterations: 86\n",
      "         Function evaluations: 1914\n",
      "         Gradient evaluations: 87\n"
     ]
    }
   ],
   "source": [
    "res = est.estimate(clogit.q, theta0, y, x)"
   ]
  },
  {
   "cell_type": "code",
   "execution_count": 24,
   "metadata": {},
   "outputs": [
    {
     "data": {
      "text/html": [
       "<div>\n",
       "<style scoped>\n",
       "    .dataframe tbody tr th:only-of-type {\n",
       "        vertical-align: middle;\n",
       "    }\n",
       "\n",
       "    .dataframe tbody tr th {\n",
       "        vertical-align: top;\n",
       "    }\n",
       "\n",
       "    .dataframe thead th {\n",
       "        text-align: right;\n",
       "    }\n",
       "</style>\n",
       "<table border=\"1\" class=\"dataframe\">\n",
       "  <thead>\n",
       "    <tr style=\"text-align: right;\">\n",
       "      <th></th>\n",
       "      <th>theta</th>\n",
       "      <th>se</th>\n",
       "      <th>t</th>\n",
       "      <th>B&amp;T 1998</th>\n",
       "      <th>diff_small</th>\n",
       "    </tr>\n",
       "  </thead>\n",
       "  <tbody>\n",
       "    <tr>\n",
       "      <th>Price/ln(income)</th>\n",
       "      <td>-0.185425</td>\n",
       "      <td>0.027200</td>\n",
       "      <td>-6.817203</td>\n",
       "      <td>-0.185</td>\n",
       "      <td>True</td>\n",
       "    </tr>\n",
       "    <tr>\n",
       "      <th>Range</th>\n",
       "      <td>0.350097</td>\n",
       "      <td>0.026933</td>\n",
       "      <td>12.998902</td>\n",
       "      <td>0.350</td>\n",
       "      <td>True</td>\n",
       "    </tr>\n",
       "    <tr>\n",
       "      <th>Acceleration</th>\n",
       "      <td>-0.716186</td>\n",
       "      <td>0.110534</td>\n",
       "      <td>-6.479340</td>\n",
       "      <td>-0.716</td>\n",
       "      <td>True</td>\n",
       "    </tr>\n",
       "    <tr>\n",
       "      <th>Top speed</th>\n",
       "      <td>0.261102</td>\n",
       "      <td>0.079773</td>\n",
       "      <td>3.273062</td>\n",
       "      <td>0.261</td>\n",
       "      <td>True</td>\n",
       "    </tr>\n",
       "    <tr>\n",
       "      <th>Pollution</th>\n",
       "      <td>-0.444102</td>\n",
       "      <td>0.100115</td>\n",
       "      <td>-4.435929</td>\n",
       "      <td>-0.444</td>\n",
       "      <td>True</td>\n",
       "    </tr>\n",
       "    <tr>\n",
       "      <th>Size</th>\n",
       "      <td>0.934357</td>\n",
       "      <td>0.311053</td>\n",
       "      <td>3.003855</td>\n",
       "      <td>0.935</td>\n",
       "      <td>True</td>\n",
       "    </tr>\n",
       "    <tr>\n",
       "      <th>Big enough</th>\n",
       "      <td>0.143347</td>\n",
       "      <td>0.075909</td>\n",
       "      <td>1.888400</td>\n",
       "      <td>0.143</td>\n",
       "      <td>True</td>\n",
       "    </tr>\n",
       "    <tr>\n",
       "      <th>Luggage space</th>\n",
       "      <td>0.502492</td>\n",
       "      <td>0.188359</td>\n",
       "      <td>2.667735</td>\n",
       "      <td>0.501</td>\n",
       "      <td>True</td>\n",
       "    </tr>\n",
       "    <tr>\n",
       "      <th>Operating cost</th>\n",
       "      <td>-0.767961</td>\n",
       "      <td>0.073376</td>\n",
       "      <td>-10.466119</td>\n",
       "      <td>-0.768</td>\n",
       "      <td>True</td>\n",
       "    </tr>\n",
       "    <tr>\n",
       "      <th>Station availability</th>\n",
       "      <td>0.413064</td>\n",
       "      <td>0.096546</td>\n",
       "      <td>4.278434</td>\n",
       "      <td>0.413</td>\n",
       "      <td>True</td>\n",
       "    </tr>\n",
       "    <tr>\n",
       "      <th>Sports utility vehicle</th>\n",
       "      <td>0.819472</td>\n",
       "      <td>0.144276</td>\n",
       "      <td>5.679906</td>\n",
       "      <td>0.820</td>\n",
       "      <td>True</td>\n",
       "    </tr>\n",
       "    <tr>\n",
       "      <th>Sports car</th>\n",
       "      <td>0.636111</td>\n",
       "      <td>0.156366</td>\n",
       "      <td>4.068103</td>\n",
       "      <td>0.637</td>\n",
       "      <td>True</td>\n",
       "    </tr>\n",
       "    <tr>\n",
       "      <th>Station wagon</th>\n",
       "      <td>-1.436669</td>\n",
       "      <td>0.065417</td>\n",
       "      <td>-21.961586</td>\n",
       "      <td>-1.437</td>\n",
       "      <td>True</td>\n",
       "    </tr>\n",
       "    <tr>\n",
       "      <th>Truck</th>\n",
       "      <td>-1.016813</td>\n",
       "      <td>0.054530</td>\n",
       "      <td>-18.646854</td>\n",
       "      <td>-1.017</td>\n",
       "      <td>True</td>\n",
       "    </tr>\n",
       "    <tr>\n",
       "      <th>Van</th>\n",
       "      <td>-0.798940</td>\n",
       "      <td>0.053180</td>\n",
       "      <td>-15.023428</td>\n",
       "      <td>-0.799</td>\n",
       "      <td>True</td>\n",
       "    </tr>\n",
       "    <tr>\n",
       "      <th>Constant for EV</th>\n",
       "      <td>-0.179023</td>\n",
       "      <td>0.168621</td>\n",
       "      <td>-1.061692</td>\n",
       "      <td>-0.179</td>\n",
       "      <td>True</td>\n",
       "    </tr>\n",
       "    <tr>\n",
       "      <th>Commute*EV</th>\n",
       "      <td>0.198374</td>\n",
       "      <td>0.082343</td>\n",
       "      <td>2.409112</td>\n",
       "      <td>0.198</td>\n",
       "      <td>True</td>\n",
       "    </tr>\n",
       "    <tr>\n",
       "      <th>College*EV</th>\n",
       "      <td>0.442935</td>\n",
       "      <td>0.108249</td>\n",
       "      <td>4.091835</td>\n",
       "      <td>0.443</td>\n",
       "      <td>True</td>\n",
       "    </tr>\n",
       "    <tr>\n",
       "      <th>Constant for CNG</th>\n",
       "      <td>0.345063</td>\n",
       "      <td>0.091069</td>\n",
       "      <td>3.789033</td>\n",
       "      <td>0.345</td>\n",
       "      <td>True</td>\n",
       "    </tr>\n",
       "    <tr>\n",
       "      <th>Constant for methanol</th>\n",
       "      <td>0.313122</td>\n",
       "      <td>0.103205</td>\n",
       "      <td>3.033983</td>\n",
       "      <td>0.313</td>\n",
       "      <td>True</td>\n",
       "    </tr>\n",
       "    <tr>\n",
       "      <th>College*methanol</th>\n",
       "      <td>0.228549</td>\n",
       "      <td>0.088872</td>\n",
       "      <td>2.571672</td>\n",
       "      <td>0.228</td>\n",
       "      <td>True</td>\n",
       "    </tr>\n",
       "  </tbody>\n",
       "</table>\n",
       "</div>"
      ],
      "text/plain": [
       "                           theta        se          t  B&T 1998  diff_small\n",
       "Price/ln(income)       -0.185425  0.027200  -6.817203    -0.185        True\n",
       "Range                   0.350097  0.026933  12.998902     0.350        True\n",
       "Acceleration           -0.716186  0.110534  -6.479340    -0.716        True\n",
       "Top speed               0.261102  0.079773   3.273062     0.261        True\n",
       "Pollution              -0.444102  0.100115  -4.435929    -0.444        True\n",
       "Size                    0.934357  0.311053   3.003855     0.935        True\n",
       "Big enough              0.143347  0.075909   1.888400     0.143        True\n",
       "Luggage space           0.502492  0.188359   2.667735     0.501        True\n",
       "Operating cost         -0.767961  0.073376 -10.466119    -0.768        True\n",
       "Station availability    0.413064  0.096546   4.278434     0.413        True\n",
       "Sports utility vehicle  0.819472  0.144276   5.679906     0.820        True\n",
       "Sports car              0.636111  0.156366   4.068103     0.637        True\n",
       "Station wagon          -1.436669  0.065417 -21.961586    -1.437        True\n",
       "Truck                  -1.016813  0.054530 -18.646854    -1.017        True\n",
       "Van                    -0.798940  0.053180 -15.023428    -0.799        True\n",
       "Constant for EV        -0.179023  0.168621  -1.061692    -0.179        True\n",
       "Commute*EV              0.198374  0.082343   2.409112     0.198        True\n",
       "College*EV              0.442935  0.108249   4.091835     0.443        True\n",
       "Constant for CNG        0.345063  0.091069   3.789033     0.345        True\n",
       "Constant for methanol   0.313122  0.103205   3.033983     0.313        True\n",
       "College*methanol        0.228549  0.088872   2.571672     0.228        True"
      ]
     },
     "execution_count": 24,
     "metadata": {},
     "output_type": "execute_result"
    }
   ],
   "source": [
    "tab = pd.DataFrame({v:res[v] for v in ['theta', 'se', 't']}, index=x_lab)\n",
    "tab['B&T 1998'] = tab_bt98\n",
    "tab['diff_small'] = tab['theta']/tab['B&T 1998']-1.0 < 0.01 \n",
    "tab"
   ]
  },
  {
   "cell_type": "code",
   "execution_count": 25,
   "metadata": {},
   "outputs": [
    {
     "name": "stdout",
     "output_type": "stream",
     "text": [
      "Did we get close for all parameters? True\n"
     ]
    }
   ],
   "source": [
    "print(f'Did we get close for all parameters? {tab.diff_small.all()}')"
   ]
  },
  {
   "cell_type": "markdown",
   "metadata": {},
   "source": [
    "# Question 6: Price elasticities\n",
    "\n",
    "> Compute the own-price and cross-price elasticities for all observations $i$ and cars $j$.\n",
    "\n",
    "As with standard binary probit or logit, the parameter estimates are not\n",
    "interesting in and of themselves. Instead, we want to compute\n",
    "*elasticities* that we can interpret and answer interesting questions\n",
    "with. To do this, recall that an elasticity takes the form\n",
    "\n",
    "$$\\mbox{elasticity}=\\frac{\\mathrm{dy}}{y}\\frac{x}{\\mathrm{d}x}.$$ \n",
    "This\n",
    "formula is useful for computing elasticities numerically: we can\n",
    "increase $x$ by some small amount, say $10^{-5}$, and measure the change\n",
    "in $y$. The elasticity is then the relative change in $y$ divided by the\n",
    "relative change in $x$: $\\frac{\\Delta y/y}{\\Delta x/x}$, or equivalently\n",
    "\n",
    "$$\\text{numerical elasticity}=\\frac{\\text{pct. change in }y}{\\text{pct. change in }x}. \\tag{1}$$\n",
    "\n",
    "\n",
    "***Hint:*** One suggested approach would be: \n",
    "1. Evaluate conditional choice probabilities (CCPs) in the baseline setting, `ccp0`, \n",
    "2. for each car `j = 0, ..., 5` do: \n",
    "    1. make a copy of the dataset, `x2`, \n",
    "    2. increase the price  (`k=0`) of car `j` by `h` percent in `x2`, \n",
    "    3. evaluate CCPs for `x2`, call it `ccp2`\n",
    "    4. compute the percent change in CCPs, \n",
    "    5. compute the own-price elasticity directly using (1), and save the average elasticity among all cars other than `j` as the cross-price elasticity (averaged among other cars). "
   ]
  },
  {
   "cell_type": "code",
   "execution_count": 26,
   "metadata": {},
   "outputs": [],
   "source": [
    "thetahat = res['theta']"
   ]
  },
  {
   "cell_type": "code",
   "execution_count": 27,
   "metadata": {},
   "outputs": [],
   "source": [
    "# Original choice probabilites\n",
    "ccp1 = clogit.choice_prob(thetahat, x)"
   ]
  },
  {
   "cell_type": "code",
   "execution_count": 28,
   "metadata": {},
   "outputs": [],
   "source": [
    "E_own   = np.zeros((N, J))\n",
    "E_cross = np.zeros((N, J))\n",
    "k_price = 0 \n",
    "\n",
    "for j in range(J):\n",
    "    # A. copy \n",
    "    x2 = x.copy()\n",
    "    \n",
    "    # B. increase price just for car j \n",
    "    rel_change_x = 1e-3\n",
    "    x2[:, j, k_price] *= (1.0+rel_change_x)\n",
    "    \n",
    "    # C. evaluate CCPs\n",
    "    ccp2 = clogit.choice_prob(thetahat, x2)\n",
    "    \n",
    "    # D. percentage change in CCPs \n",
    "    rel_change_y = ccp2 / ccp1 - 1.0 \n",
    "    \n",
    "    # E. elasticities \n",
    "    elasticity = rel_change_y / rel_change_x \n",
    "    \n",
    "    E_own[:, j] = elasticity[:, j]\n",
    "    \n",
    "    k_not_j = [k for k in range(J) if k != j]\n",
    "    E_cross[:, j] = elasticity[:, k_not_j].mean(axis=1)"
   ]
  },
  {
   "cell_type": "code",
   "execution_count": 29,
   "metadata": {},
   "outputs": [
    {
     "name": "stdout",
     "output_type": "stream",
     "text": [
      "Own-price elasticity:  -0.652\n",
      "Cross-price elasticity: 0.1278\n"
     ]
    }
   ],
   "source": [
    "print(f'Own-price elasticity:  {np.mean(E_own).round(4)}')\n",
    "print(f'Cross-price elasticity: {np.mean(E_cross).round(4)}')"
   ]
  },
  {
   "cell_type": "markdown",
   "metadata": {},
   "source": [
    "### Are Electric Vehicles (EVs) different? \n",
    "\n",
    "A lot of policy debate these days is about (EVs). Compare whether demand for EVs is more or less price-sensitive. "
   ]
  },
  {
   "cell_type": "code",
   "execution_count": 30,
   "metadata": {},
   "outputs": [
    {
     "data": {
      "text/plain": [
       "'ev'"
      ]
     },
     "execution_count": 30,
     "metadata": {},
     "output_type": "execute_result"
    }
   ],
   "source": [
    "i_ev = 15\n",
    "x_vars[i_ev] # check that we found the right one "
   ]
  },
  {
   "cell_type": "code",
   "execution_count": 31,
   "metadata": {},
   "outputs": [
    {
     "name": "stdout",
     "output_type": "stream",
     "text": [
      "Elasticity, EVs:   -0.7149\n",
      "Elasticity, other: -0.6311\n"
     ]
    }
   ],
   "source": [
    "# Create two indexed, from where idx1 is for electric cars\n",
    "# and idx0 is for non-electric cars.\n",
    "idx1 = x[:, :, i_ev]==1\n",
    "idx0 = x[:, :, i_ev]==0 \n",
    "print(f'Elasticity, EVs:   {np.mean(E_own[idx1]).round(4)}')\n",
    "print(f'Elasticity, other: {np.mean(E_own[idx0]).round(4)}')"
   ]
  }
 ],
 "metadata": {
  "kernelspec": {
   "display_name": "Python 3 (ipykernel)",
   "language": "python",
   "name": "python3"
  },
  "language_info": {
   "codemirror_mode": {
    "name": "ipython",
    "version": 3
   },
   "file_extension": ".py",
   "mimetype": "text/x-python",
   "name": "python",
   "nbconvert_exporter": "python",
   "pygments_lexer": "ipython3",
   "version": "3.8.11"
  }
 },
 "nbformat": 4,
 "nbformat_minor": 4
}
