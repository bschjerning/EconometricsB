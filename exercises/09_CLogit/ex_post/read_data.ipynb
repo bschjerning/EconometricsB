{
 "cells": [
  {
   "cell_type": "markdown",
   "metadata": {},
   "source": [
    "# Read data\n",
    "\n",
    "This program reads in the raw data accompanying Brownstone and Train (1998), `xmat.txt`, and converts to a `csv file` for the students to use. "
   ]
  },
  {
   "cell_type": "code",
   "execution_count": 1,
   "metadata": {},
   "outputs": [],
   "source": [
    "import pandas as pd \n",
    "import numpy as np "
   ]
  },
  {
   "cell_type": "code",
   "execution_count": 2,
   "metadata": {},
   "outputs": [],
   "source": [
    "labels = ['Person ID', 'Row num', 'Binary choice','Price/ln(income)','Range','Acceleration','Top speed','Pollution','Size','Big enough','Luggage space','Operating cost','Station availability','Sports utility vehicle','Sports car','Station wagon','Truck','Van','Constant for EV','Commute*EV','College*EV','Constant for CNG','Constant for methanol','College*methanol','Non-EV','Non-CNG']\n",
    "varnames = ['person_id', 'rownum', 'binary_choice','price_to_inc','range','acceleration','top_speed','pollution','size','big_enough','luggage_space','operating_cost','station_availability','suv','sports_car','station_wagon','truck','van','ev','commute_x_ev','college_x_ev','cng','methanol','college_x_methanol','not_ev','not_cng']\n",
    "\n",
    "# we will drop not_ev and not_cng (to avoid multicollinearity)\n",
    "xvars = ['price_to_inc','range','acceleration','top_speed','pollution','size','big_enough','luggage_space','operating_cost','station_availability','suv','sports_car','station_wagon','truck','van','ev','commute_x_ev','college_x_ev','cng','methanol','college_x_methanol']"
   ]
  },
  {
   "cell_type": "code",
   "execution_count": 3,
   "metadata": {},
   "outputs": [],
   "source": [
    "tab = pd.read_csv('raw_data/xmat.txt', delimiter='\\t', names=varnames)"
   ]
  },
  {
   "cell_type": "code",
   "execution_count": 4,
   "metadata": {},
   "outputs": [],
   "source": [
    "# j is the index for each car, i.e. [0,1,2,3,4,5,6,0,1,...,6,0,...], repeating N times \n",
    "tab['j'] = tab.groupby('person_id').binary_choice.transform(lambda x : np.arange(len(x)))\n",
    "\n",
    "# y is the discrete choice, it is the index for the car where binary_choice == 1 \n",
    "tab['y'] = tab.groupby('person_id').binary_choice.transform(lambda x : x.argmax())"
   ]
  },
  {
   "cell_type": "code",
   "execution_count": 5,
   "metadata": {},
   "outputs": [
    {
     "data": {
      "text/html": [
       "<div>\n",
       "<style scoped>\n",
       "    .dataframe tbody tr th:only-of-type {\n",
       "        vertical-align: middle;\n",
       "    }\n",
       "\n",
       "    .dataframe tbody tr th {\n",
       "        vertical-align: top;\n",
       "    }\n",
       "\n",
       "    .dataframe thead th {\n",
       "        text-align: right;\n",
       "    }\n",
       "</style>\n",
       "<table border=\"1\" class=\"dataframe\">\n",
       "  <thead>\n",
       "    <tr style=\"text-align: right;\">\n",
       "      <th></th>\n",
       "      <th>person_id</th>\n",
       "      <th>binary_choice</th>\n",
       "      <th>j</th>\n",
       "      <th>y</th>\n",
       "    </tr>\n",
       "  </thead>\n",
       "  <tbody>\n",
       "    <tr>\n",
       "      <th>54</th>\n",
       "      <td>10</td>\n",
       "      <td>0</td>\n",
       "      <td>0</td>\n",
       "      <td>1</td>\n",
       "    </tr>\n",
       "    <tr>\n",
       "      <th>55</th>\n",
       "      <td>10</td>\n",
       "      <td>1</td>\n",
       "      <td>1</td>\n",
       "      <td>1</td>\n",
       "    </tr>\n",
       "    <tr>\n",
       "      <th>56</th>\n",
       "      <td>10</td>\n",
       "      <td>0</td>\n",
       "      <td>2</td>\n",
       "      <td>1</td>\n",
       "    </tr>\n",
       "    <tr>\n",
       "      <th>57</th>\n",
       "      <td>10</td>\n",
       "      <td>0</td>\n",
       "      <td>3</td>\n",
       "      <td>1</td>\n",
       "    </tr>\n",
       "    <tr>\n",
       "      <th>58</th>\n",
       "      <td>10</td>\n",
       "      <td>0</td>\n",
       "      <td>4</td>\n",
       "      <td>1</td>\n",
       "    </tr>\n",
       "    <tr>\n",
       "      <th>59</th>\n",
       "      <td>10</td>\n",
       "      <td>0</td>\n",
       "      <td>5</td>\n",
       "      <td>1</td>\n",
       "    </tr>\n",
       "  </tbody>\n",
       "</table>\n",
       "</div>"
      ],
      "text/plain": [
       "    person_id  binary_choice  j  y\n",
       "54         10              0  0  1\n",
       "55         10              1  1  1\n",
       "56         10              0  2  1\n",
       "57         10              0  3  1\n",
       "58         10              0  4  1\n",
       "59         10              0  5  1"
      ]
     },
     "execution_count": 5,
     "metadata": {},
     "output_type": "execute_result"
    }
   ],
   "source": [
    "tab[['person_id', 'binary_choice', 'j', 'y']].query('person_id == 10')"
   ]
  },
  {
   "cell_type": "markdown",
   "metadata": {},
   "source": [
    "## Output"
   ]
  },
  {
   "cell_type": "code",
   "execution_count": 6,
   "metadata": {},
   "outputs": [],
   "source": [
    "tab.person_id -= 1"
   ]
  },
  {
   "cell_type": "code",
   "execution_count": 7,
   "metadata": {},
   "outputs": [],
   "source": [
    "tab.to_csv('car_data.csv', index=False)"
   ]
  },
  {
   "cell_type": "markdown",
   "metadata": {},
   "source": [
    "# Labels"
   ]
  },
  {
   "cell_type": "code",
   "execution_count": 8,
   "metadata": {},
   "outputs": [],
   "source": [
    "desc = ['Person identifier', 'Row number in the dataset', 'Dummy, =1 if this row is the car that was chosen' ,'Purchase price in thousands of dollars, divided by the natural log of household income in thousands','Hundreds of miles that the vehicle can travel between refuelings/rechargings','Seconds required to reach 30 mph from stop, in tens of seconds (e.g., 3 s is entered as 0.3)','Highest speed that the vehicle can attain, in hundreds of miles/h (e.g., 80 mph is entered as 0.80)','Tailpipe emissions as fraction of comparable new gas vehicle','0\"mini, 0.1\"subcompact, 0.2\"compact, 0.3\"mid-size or large','1 if household size is over 2 and vehicle size is 3; 0 otherwise','Luggage space as fraction of comparable new gas vehicle','Cost per mile of travel, in tens of cents per mile (e.g., 5 cents/mile is entered as 0.5.). For electric vehicles, cost is for home recharging. For other vehicles, cost is for station refueling','Fraction of stations that have capability to refuel/recharge the vehicle','1 for sports utility vehicle, zero otherwise','1 for sports car, zero otherwise','1 for station wagon, zero otherwise','1 for truck, zero otherwise','1 for van, zero otherwise','1 for electric vehicle, zero otherwise','1 if respondent commutes less than five miles each day and vehicle is electric; zero otherwise','1 if respondent had some college education and vehicle is electric; zero otherwise','1 for compressed natural gas vehicle, zero otherwise','1 for methanol vehicle, zero otherwise','1 if respondent had some college education and vehicle is methanol; zero otherwise', 'Dummy, =1 if car is not EV', 'Dummy, =1 if car is not CNG', 'Index for the car number (0,1,...,5)', 'Index for the chosen car (0,1,...,5)']"
   ]
  },
  {
   "cell_type": "code",
   "execution_count": 9,
   "metadata": {},
   "outputs": [],
   "source": [
    "# add the extra variables we have created \n",
    "varnames.append('j')\n",
    "labels.append('Car number')\n",
    "\n",
    "varnames.append('y')\n",
    "labels.append('Chosen car')"
   ]
  },
  {
   "cell_type": "code",
   "execution_count": 10,
   "metadata": {},
   "outputs": [
    {
     "data": {
      "text/html": [
       "<div>\n",
       "<style scoped>\n",
       "    .dataframe tbody tr th:only-of-type {\n",
       "        vertical-align: middle;\n",
       "    }\n",
       "\n",
       "    .dataframe tbody tr th {\n",
       "        vertical-align: top;\n",
       "    }\n",
       "\n",
       "    .dataframe thead th {\n",
       "        text-align: right;\n",
       "    }\n",
       "</style>\n",
       "<table border=\"1\" class=\"dataframe\">\n",
       "  <thead>\n",
       "    <tr style=\"text-align: right;\">\n",
       "      <th></th>\n",
       "      <th>variable</th>\n",
       "      <th>label</th>\n",
       "      <th>description</th>\n",
       "    </tr>\n",
       "  </thead>\n",
       "  <tbody>\n",
       "    <tr>\n",
       "      <th>0</th>\n",
       "      <td>person_id</td>\n",
       "      <td>Person ID</td>\n",
       "      <td>Person identifier</td>\n",
       "    </tr>\n",
       "    <tr>\n",
       "      <th>1</th>\n",
       "      <td>rownum</td>\n",
       "      <td>Row num</td>\n",
       "      <td>Row number in the dataset</td>\n",
       "    </tr>\n",
       "    <tr>\n",
       "      <th>2</th>\n",
       "      <td>binary_choice</td>\n",
       "      <td>Binary choice</td>\n",
       "      <td>Dummy, =1 if this row is the car that was chosen</td>\n",
       "    </tr>\n",
       "  </tbody>\n",
       "</table>\n",
       "</div>"
      ],
      "text/plain": [
       "        variable          label  \\\n",
       "0      person_id      Person ID   \n",
       "1         rownum        Row num   \n",
       "2  binary_choice  Binary choice   \n",
       "\n",
       "                                        description  \n",
       "0                                 Person identifier  \n",
       "1                         Row number in the dataset  \n",
       "2  Dummy, =1 if this row is the car that was chosen  "
      ]
     },
     "execution_count": 10,
     "metadata": {},
     "output_type": "execute_result"
    }
   ],
   "source": [
    "lab = pd.DataFrame({'variable':varnames, 'label':labels, 'description':desc})\n",
    "lab.head(3)"
   ]
  },
  {
   "cell_type": "code",
   "execution_count": 11,
   "metadata": {},
   "outputs": [],
   "source": [
    "lab.set_index('variable').to_csv('car_labels.csv')"
   ]
  }
 ],
 "metadata": {
  "kernelspec": {
   "display_name": "Python 3",
   "language": "python",
   "name": "python3"
  },
  "language_info": {
   "codemirror_mode": {
    "name": "ipython",
    "version": 3
   },
   "file_extension": ".py",
   "mimetype": "text/x-python",
   "name": "python",
   "nbconvert_exporter": "python",
   "pygments_lexer": "ipython3",
   "version": "3.8.2"
  }
 },
 "nbformat": 4,
 "nbformat_minor": 4
}
