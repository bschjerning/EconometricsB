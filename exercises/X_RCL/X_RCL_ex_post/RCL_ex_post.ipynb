{
 "cells": [
  {
   "cell_type": "code",
   "execution_count": 1,
   "metadata": {},
   "outputs": [],
   "source": [
    "## Code to replicate the BLP results from : https://github.com/chrisconlon/blp-demand\n",
    "## Sophie Bindslev, 10 March 2025\n",
    "\n",
    "import numpy as np\n",
    "import pandas as pd\n",
    "from scipy import optimize\n",
    "import matplotlib.pyplot as plt\n",
    "import numpy.linalg as la\n",
    "\n",
    "# userwritten modules\n",
    "import linear \n",
    "import logit_agg_ex_post as logit_agg\n",
    "\n",
    "%load_ext autoreload\n",
    "%autoreload 2"
   ]
  },
  {
   "cell_type": "code",
   "execution_count": 2,
   "metadata": {},
   "outputs": [],
   "source": [
    "# Plan\n",
    "\n",
    "# Part 1: Vanilla Logit\n",
    "# estimate vanilla logit on market shares using ols and then iv\n",
    "# statistics of interest: elasticities, welfare measure, market shares\n",
    "# estimate vanilla logit on market shares using fixed point iteration - show that it converges immediately\n",
    "\n",
    "# Part 2: Random Coefficients Logit - buidling blocks\n",
    "# introduce the building blocks for random coefficients logit\n",
    "\n",
    "\n",
    "# Part 3: Random Coefficients Logit - put it all together\n",
    "# inner loop : construct the objective function\n",
    "\n",
    "# 1. get mean utilities, delta, using fixed point iteration and ccps\n",
    "# 2. linear projection of deltas on Xs to get xis (residuals)\n",
    "# 3. form the gmm objective function by multiplying the xis with the instruments \n",
    "\n",
    "# outer loop : search over nonlinear parameters: minimize gmm objective function wrt nonlinear parameters"
   ]
  },
  {
   "cell_type": "markdown",
   "metadata": {},
   "source": [
    "Motivator: in a world where we have market share data rather than individual level chocie data, can we still hope to estimate a logit model? yes! "
   ]
  },
  {
   "cell_type": "markdown",
   "metadata": {},
   "source": [
    "# The Random Coefficients Logit Model\n",
    "## Individual level utility\n",
    "Random Utility to individual, $i$, from each option, $j$, in market, $t$:\n",
    "$$\n",
    "    u_{ijt} = \\mathbf{x}_{jt}\\boldsymbol{\\beta}_i + \\alpha_{i} p_{jt} + \\xi_{jt} + \\varepsilon_{ijt}, \\quad \\varepsilon_{ijt}\\sim\\text{IID Extreme Value Type I}\\\\\n",
    "$$\n",
    "\n",
    "Normalise outside option: \n",
    "$$\n",
    "    u_{i0t} = \\varepsilon_{i0t}\n",
    "$$\n",
    "\n",
    "Decomposing the Random coefficients into their common and individual-specific parts \n",
    "$$    \\boldsymbol\\beta_i^{(k)} =\\beta_{0}^{(k)} + \\sigma_{\\beta}^{(k)}\\nu_i^{(k)}\\\\\n",
    "\\alpha_i =\\alpha_{0} + \\sigma_{\\alpha}\\nu_i\\\\\n",
    "\n",
    "$$\n",
    "\n",
    "Can re-write individual utility as\n",
    "$$    \n",
    "    u_{ijt} = \\delta_{jt}+\\mu_{ijt}+ \\varepsilon_{ijt}\\\\\n",
    "    \\delta_{jt} = \\mathbf{x}_{jt}\\boldsymbol{\\beta}_0 + \\alpha_0 p_{jt} + \\xi_{jt}\\\\\n",
    "    \\mu_{ijt} + \\varepsilon_{ijt} = \\mathbf{x}_{jt}(\\boldsymbol{{\\sigma}}_{\\beta}\\boldsymbol{\\nu}_i) + \\varepsilon_{ijt}\n",
    "$$\n",
    "\n",
    "where $\\boldsymbol{\\nu}_i\\sim N(0,\\boldsymbol{\\Sigma})$ may be e.g., independent or correlated normally distributed.\n",
    "\n",
    "Using the the idiosyncratic errors are IID EV1, obtain individual level choice probabilities:\n",
    "$$    \n",
    "P_{ijt} = \\int_{\\varepsilon} I(\\varepsilon_{ijt}-\\varepsilon_{iht}>\\delta_{ht}+\\mu_{iht}-\\delta_{jt}-\\mu_{ijt}\\mid j\\neq h \\in J_t)f(\\boldsymbol{\\varepsilon}_{it})d\\boldsymbol{\\varepsilon}_{it}\\\\\n",
    "=\\frac{\\exp(\\delta_{jt}+\\mu_{ijt})}{1+\\sum^{J_t}_h\\exp(\\delta_{ht}+\\mu_{iht})}\n",
    "$$\n"
   ]
  },
  {
   "cell_type": "markdown",
   "metadata": {},
   "source": [
    "## Market Shares\n",
    "From these individual choice probabilities we can obtain overall market shares by aggregating over individuals in each market: \n",
    "$$\n",
    "    s_{jt} = \\int_{i} \\frac{\\exp(\\delta_{jt}+\\mu_{ijt})}{1+\\sum^{J_t}_h\\exp(\\delta_{ht}+\\mu_{ijt})}f(\\boldsymbol{\\mu}_{it}|\\boldsymbol{\\theta}_{non})d\\boldsymbol{\\mu}_{it}.\n",
    "$$\n",
    "Effectively this integrates over all individuals' choice probabilities, assigning weights to each probability according to the mixing distribution, $f(\\boldsymbol{\\mu}_{it}|\\boldsymbol{\\theta}_{non})$. This distribution is parameterized by $\\boldsymbol{\\theta}_{non}$.\n",
    "\n"
   ]
  },
  {
   "cell_type": "markdown",
   "metadata": {},
   "source": [
    "## Data: Aggregated data"
   ]
  },
  {
   "cell_type": "code",
   "execution_count": 3,
   "metadata": {},
   "outputs": [],
   "source": [
    "# load the data\n",
    "dtable = pd.read_csv('table1.csv')"
   ]
  },
  {
   "cell_type": "code",
   "execution_count": 4,
   "metadata": {},
   "outputs": [
    {
     "data": {
      "text/html": [
       "<div>\n",
       "<style scoped>\n",
       "    .dataframe tbody tr th:only-of-type {\n",
       "        vertical-align: middle;\n",
       "    }\n",
       "\n",
       "    .dataframe tbody tr th {\n",
       "        vertical-align: top;\n",
       "    }\n",
       "\n",
       "    .dataframe thead th {\n",
       "        text-align: right;\n",
       "    }\n",
       "</style>\n",
       "<table border=\"1\" class=\"dataframe\">\n",
       "  <thead>\n",
       "    <tr style=\"text-align: right;\">\n",
       "      <th></th>\n",
       "      <th>mktid</th>\n",
       "      <th>prodid</th>\n",
       "      <th>price</th>\n",
       "      <th>sjt</th>\n",
       "      <th>s0t</th>\n",
       "      <th>x1_1</th>\n",
       "      <th>x1_2</th>\n",
       "      <th>x1_3</th>\n",
       "      <th>z_1</th>\n",
       "      <th>z_2</th>\n",
       "      <th>z_3</th>\n",
       "      <th>z_4</th>\n",
       "      <th>z_5</th>\n",
       "      <th>z_6</th>\n",
       "      <th>z_7</th>\n",
       "      <th>z_8</th>\n",
       "      <th>z_9</th>\n",
       "      <th>z_10</th>\n",
       "      <th>delta</th>\n",
       "      <th>firmid</th>\n",
       "    </tr>\n",
       "  </thead>\n",
       "  <tbody>\n",
       "    <tr>\n",
       "      <th>0</th>\n",
       "      <td>1</td>\n",
       "      <td>1</td>\n",
       "      <td>5.894105</td>\n",
       "      <td>0.002877</td>\n",
       "      <td>0.258113</td>\n",
       "      <td>1</td>\n",
       "      <td>0.638778</td>\n",
       "      <td>0.792877</td>\n",
       "      <td>0.437815</td>\n",
       "      <td>0.478248</td>\n",
       "      <td>0.397455</td>\n",
       "      <td>0.400379</td>\n",
       "      <td>0.913802</td>\n",
       "      <td>0.893741</td>\n",
       "      <td>0.835034</td>\n",
       "      <td>0.798772</td>\n",
       "      <td>0.174012</td>\n",
       "      <td>0.191481</td>\n",
       "      <td>-4.496703</td>\n",
       "      <td>1</td>\n",
       "    </tr>\n",
       "    <tr>\n",
       "      <th>1</th>\n",
       "      <td>1</td>\n",
       "      <td>2</td>\n",
       "      <td>4.076156</td>\n",
       "      <td>0.002663</td>\n",
       "      <td>0.258113</td>\n",
       "      <td>1</td>\n",
       "      <td>0.223674</td>\n",
       "      <td>0.826898</td>\n",
       "      <td>0.441967</td>\n",
       "      <td>0.477908</td>\n",
       "      <td>0.438965</td>\n",
       "      <td>0.396977</td>\n",
       "      <td>0.074285</td>\n",
       "      <td>0.816243</td>\n",
       "      <td>0.005518</td>\n",
       "      <td>0.666252</td>\n",
       "      <td>0.194008</td>\n",
       "      <td>0.189718</td>\n",
       "      <td>-4.573763</td>\n",
       "      <td>1</td>\n",
       "    </tr>\n",
       "    <tr>\n",
       "      <th>2</th>\n",
       "      <td>1</td>\n",
       "      <td>3</td>\n",
       "      <td>4.076300</td>\n",
       "      <td>0.000426</td>\n",
       "      <td>0.258113</td>\n",
       "      <td>1</td>\n",
       "      <td>0.169340</td>\n",
       "      <td>0.159173</td>\n",
       "      <td>0.442510</td>\n",
       "      <td>0.484585</td>\n",
       "      <td>0.444399</td>\n",
       "      <td>0.463750</td>\n",
       "      <td>0.471507</td>\n",
       "      <td>0.947423</td>\n",
       "      <td>0.222319</td>\n",
       "      <td>0.897611</td>\n",
       "      <td>0.196651</td>\n",
       "      <td>0.224726</td>\n",
       "      <td>-6.406749</td>\n",
       "      <td>1</td>\n",
       "    </tr>\n",
       "    <tr>\n",
       "      <th>3</th>\n",
       "      <td>1</td>\n",
       "      <td>4</td>\n",
       "      <td>3.462267</td>\n",
       "      <td>0.001733</td>\n",
       "      <td>0.258113</td>\n",
       "      <td>1</td>\n",
       "      <td>0.390939</td>\n",
       "      <td>0.014996</td>\n",
       "      <td>0.440294</td>\n",
       "      <td>0.486027</td>\n",
       "      <td>0.422239</td>\n",
       "      <td>0.478167</td>\n",
       "      <td>0.360546</td>\n",
       "      <td>0.240320</td>\n",
       "      <td>0.129993</td>\n",
       "      <td>0.057754</td>\n",
       "      <td>0.185909</td>\n",
       "      <td>0.232402</td>\n",
       "      <td>-5.003689</td>\n",
       "      <td>1</td>\n",
       "    </tr>\n",
       "    <tr>\n",
       "      <th>4</th>\n",
       "      <td>1</td>\n",
       "      <td>5</td>\n",
       "      <td>4.087225</td>\n",
       "      <td>0.003498</td>\n",
       "      <td>0.258113</td>\n",
       "      <td>1</td>\n",
       "      <td>0.459011</td>\n",
       "      <td>0.455759</td>\n",
       "      <td>0.439613</td>\n",
       "      <td>0.481619</td>\n",
       "      <td>0.415432</td>\n",
       "      <td>0.434091</td>\n",
       "      <td>0.305593</td>\n",
       "      <td>0.579701</td>\n",
       "      <td>0.093387</td>\n",
       "      <td>0.336053</td>\n",
       "      <td>0.182629</td>\n",
       "      <td>0.209067</td>\n",
       "      <td>-4.301152</td>\n",
       "      <td>1</td>\n",
       "    </tr>\n",
       "  </tbody>\n",
       "</table>\n",
       "</div>"
      ],
      "text/plain": [
       "   mktid  prodid     price       sjt       s0t  x1_1      x1_2      x1_3  \\\n",
       "0      1       1  5.894105  0.002877  0.258113     1  0.638778  0.792877   \n",
       "1      1       2  4.076156  0.002663  0.258113     1  0.223674  0.826898   \n",
       "2      1       3  4.076300  0.000426  0.258113     1  0.169340  0.159173   \n",
       "3      1       4  3.462267  0.001733  0.258113     1  0.390939  0.014996   \n",
       "4      1       5  4.087225  0.003498  0.258113     1  0.459011  0.455759   \n",
       "\n",
       "        z_1       z_2       z_3       z_4       z_5       z_6       z_7  \\\n",
       "0  0.437815  0.478248  0.397455  0.400379  0.913802  0.893741  0.835034   \n",
       "1  0.441967  0.477908  0.438965  0.396977  0.074285  0.816243  0.005518   \n",
       "2  0.442510  0.484585  0.444399  0.463750  0.471507  0.947423  0.222319   \n",
       "3  0.440294  0.486027  0.422239  0.478167  0.360546  0.240320  0.129993   \n",
       "4  0.439613  0.481619  0.415432  0.434091  0.305593  0.579701  0.093387   \n",
       "\n",
       "        z_8       z_9      z_10     delta  firmid  \n",
       "0  0.798772  0.174012  0.191481 -4.496703       1  \n",
       "1  0.666252  0.194008  0.189718 -4.573763       1  \n",
       "2  0.897611  0.196651  0.224726 -6.406749       1  \n",
       "3  0.057754  0.185909  0.232402 -5.003689       1  \n",
       "4  0.336053  0.182629  0.209067 -4.301152       1  "
      ]
     },
     "execution_count": 4,
     "metadata": {},
     "output_type": "execute_result"
    }
   ],
   "source": [
    "# take a look at the data - market shares for each product at a given point in time as well as product attributes: prices etc.\n",
    "dtable.head()"
   ]
  },
  {
   "cell_type": "code",
   "execution_count": 5,
   "metadata": {},
   "outputs": [
    {
     "data": {
      "text/plain": [
       "Index(['mktid', 'prodid', 'price', 'sjt', 's0t', 'x1_1', 'x1_2', 'x1_3', 'z_1',\n",
       "       'z_2', 'z_3', 'z_4', 'z_5', 'z_6', 'z_7', 'z_8', 'z_9', 'z_10', 'delta',\n",
       "       'firmid'],\n",
       "      dtype='object')"
      ]
     },
     "execution_count": 5,
     "metadata": {},
     "output_type": "execute_result"
    }
   ],
   "source": [
    "dtable.columns # columns headers"
   ]
  },
  {
   "cell_type": "code",
   "execution_count": 6,
   "metadata": {},
   "outputs": [],
   "source": [
    "x1s = ['x1_1', 'x1_2', 'x1_3']\n",
    "zs = [ 'z_1', 'z_2', 'z_3', 'z_4', 'z_5', 'z_6', 'z_7', 'z_8',\n",
    "       'z_9', 'z_10']"
   ]
  },
  {
   "cell_type": "code",
   "execution_count": 7,
   "metadata": {},
   "outputs": [],
   "source": [
    "sjt = dtable['sjt'].to_numpy().reshape(-1,1)\n",
    "s0t = dtable['s0t'].to_numpy().reshape(-1,1)"
   ]
  },
  {
   "cell_type": "markdown",
   "metadata": {},
   "source": [
    "# Part 1: Vanilla Logit\n",
    "Without random taste heterogeneity this boils down to a standard logit model which can be estimated via ordinary least squares using aggregate market share data. To see this, consider the market share expression above when there is no unobserved taste heterogeneity. In that case, the distribution $f(\\boldsymbol{\\mu}_{it})$ is degenerate. In the above specification this is equivalent to $\\{\\boldsymbol{\\sigma}_{\\beta},\\sigma_{\\alpha}\\}=\\textbf{0}_{K+1}$ and we get (we can set $\\mu_{ijt}=0$).\n",
    "$$    \n",
    "s_{jt} = \\frac{\\exp(\\delta_{jt})}{1+\\sum^{J_t}_h\\exp(\\delta_{ht})}.\n",
    "$$\n",
    "\n",
    "Taking logs yields\n",
    "$$    \n",
    "\\log(s_{jt})= \\log(\\frac{\\exp(\\delta_{jt})}{1+\\sum^{J_t}_h\\exp(\\delta_{ht})})=\\log(\\exp(\\delta_{jt}))-\\log(1+(\\sum^{J_t}_h\\exp(\\delta_{ht})))\\\\\n",
    "    \\log(s_{0t})= \\log(\\frac{\\exp(\\delta_{0t})}{1+\\sum^{J_t}_h\\exp(\\delta_{ht})})=\\log(\\exp(0))-\\log(1+(\\sum^{J_t}_h\\exp(\\delta_{ht})))\\\\\n",
    "    =-\\log(1+(\\sum^{J_t}_h\\exp(\\delta_{ht})))\\nonumber.\n",
    "$$\n",
    "\n",
    "Subtracting the outside good from other goods:\n",
    "\n",
    "$$    \\log(s_{jt}) - \\log(s_{0t})\\nonumber \\\\\n",
    "    =\\log(\\exp(\\delta_{jt}))-\\log(1+(\\sum^{J_t}_h\\exp(\\delta_{ht})))-(-\\log(1+(\\sum^{J_t}_h\\exp(\\delta_{ht})))) \\\\\n",
    "    = \\log(\\exp(\\delta_{jt})) = \\delta_{jt}.\n",
    "$$\n",
    "Finally, using the representation of common utility:\n",
    "$$    \\log(s_{jt}) - \\log(s_{0t}) = \\delta_{jt} = \\mathbf{x}_{jt}\\beta_0 + \\alpha_0 p_{jt} + \\xi_{jt}\n",
    "$$\n",
    "\n",
    "That is, we can estimate the parameters, $\\boldsymbol{\\beta},\\alpha$, via a linear projection of the log difference in market shares relative to the outside good, $\\log(s_{jt}) - \\log(s_{0t})$, onto product attributes, $ \\mathbf{x}_{jt} $."
   ]
  },
  {
   "cell_type": "markdown",
   "metadata": {},
   "source": [
    "### 1.1 Estimation\n",
    "Estimate the vanilla logit model using the data you loaded above, taking logs and differencing"
   ]
  },
  {
   "cell_type": "code",
   "execution_count": 8,
   "metadata": {},
   "outputs": [],
   "source": [
    "deltas = np.log(sjt) - np.log(s0t) # Fill in \n",
    "X = dtable[['price']+x1s].to_numpy() # Fill in\n",
    "T = dtable.mktid.nunique() # Fill in"
   ]
  },
  {
   "cell_type": "code",
   "execution_count": 9,
   "metadata": {},
   "outputs": [
    {
     "name": "stdout",
     "output_type": "stream",
     "text": [
      "Results\n",
      "Dependent variable: logdiff\n",
      "\n",
      "            Beta          Se    t-values\n",
      "-----  ---------  ----------  ----------\n",
      "price  -0.838357  0.00328081    -255.533\n",
      "x1_1   -4.24195   0.0145349     -291.847\n",
      "x1_2    5.57784   0.00931201     598.994\n",
      "x1_3    1.92143   0.00779516     246.491\n",
      "R² = 0.972\n",
      "σ² = 0.066\n"
     ]
    }
   ],
   "source": [
    "res = linear.estimate(deltas,X, T=T,robust_se=True)\n",
    "linear.print_table(labels = (('logdiff'),(['price']+x1s)),results=res)"
   ]
  },
  {
   "cell_type": "markdown",
   "metadata": {},
   "source": [
    "Your results should look like this:\n",
    "\n",
    "\n",
    "Results <br>\n",
    "Dependent variable: logdiff <br>\n",
    "\n",
    "|                |    Beta |     Se |   t-values |\n",
    "|----------------|---------|--------|------------|\n",
    "| price       | -0.838357 | 0.00328081 |    -255.533 |\n",
    "| x1_1          | -4.24195 | 0.0145349 |    -291.847 |\n",
    "| x1_2       |  5.57784 | 0.00931201 |     598.994 |\n",
    "| x1_3      |  1.92143 | 0.00779516 |    246.491 |\n",
    "R² = 0.972 <br>\n",
    "σ² = 0.066"
   ]
  },
  {
   "cell_type": "markdown",
   "metadata": {},
   "source": [
    "We suspect that price is not exogenous to demand and so might want to use an instrument for price.\n",
    "\n",
    "Estimate the same model but with an IV-approach. Hint: you can give linear.estimate instruments, Z, in which case it will perform this step for you."
   ]
  },
  {
   "cell_type": "code",
   "execution_count": 10,
   "metadata": {},
   "outputs": [
    {
     "name": "stdout",
     "output_type": "stream",
     "text": [
      "Results - IV estimation\n",
      "Dependent variable: logdiff\n",
      "\n",
      "            Beta         Se    t-values\n",
      "-----  ---------  ---------  ----------\n",
      "price  -0.998835  0.016594     -60.1924\n",
      "x1_1   -3.64362   0.0624751    -58.3212\n",
      "x1_2    5.72642   0.0186231    307.491\n",
      "x1_3    2.07995   0.0183874    113.118\n",
      "R² = 0.968\n",
      "σ² = 0.077\n"
     ]
    }
   ],
   "source": [
    "Z = dtable[x1s + zs].to_numpy() # Fill in\n",
    "\n",
    "res_iv = linear.estimate(deltas,X, Z, T=T,robust_se=True) # nb standard errors not corrected for iv estimation\n",
    "linear.print_table(labels = (('logdiff'),(['price']+x1s)),results=res_iv,title='Results - IV estimation')"
   ]
  },
  {
   "cell_type": "markdown",
   "metadata": {},
   "source": [
    "Your results should look like this:\n",
    "\n",
    "\n",
    "Results - IV estimation <br>\n",
    "Dependent variable: logdiff <br>\n",
    "\n",
    "|                |    Beta |     Se |   t-values |\n",
    "|----------------|---------|--------|------------|\n",
    "| price       | -0.998835   | 0.016594 |    -60.1924 |\n",
    "| x1_1          | -3.64362    | 0.0624751  |    -58.3212 |\n",
    "| x1_2       |  5.72642    | 0.0186231 |     307.491 |\n",
    "| x1_3      |  2.07995    | 0.0183874 |    113.118 |\n",
    "R² = 0.968 <br>\n",
    "σ² = 0.077"
   ]
  },
  {
   "cell_type": "markdown",
   "metadata": {},
   "source": [
    "### 1.2 Predicted Market Shares\n",
    "Compute the model implied market shares."
   ]
  },
  {
   "cell_type": "markdown",
   "metadata": {},
   "source": [
    "In the vanilla logit model we have\n",
    "$$    \n",
    "s_{jt} = \\frac{\\exp(\\delta_{jt})}{1+\\sum^{J_t}_h\\exp(\\delta_{ht})}.\n",
    "$$\n",
    "where \n",
    "$$    \n",
    "    \\delta_{jt} =  \\log(s_{jt}) - \\log(s_{0t}) \\\\\n",
    "$$\n"
   ]
  },
  {
   "cell_type": "code",
   "execution_count": 11,
   "metadata": {},
   "outputs": [],
   "source": [
    "# get mkt id\n",
    "mktids = dtable['mktid'].to_numpy()\n",
    "\n",
    "# get choice probabilities given deltas, using the choice_probs function in logit_agg.py <--- you will need to fill this out for the code below to work\n",
    "\n",
    "# initialise\n",
    "ccp_pred = np.zeros_like(deltas)\n",
    "\n",
    "# loop over markets\n",
    "for m in np.unique(mktids):\n",
    "    delta_m = deltas[mktids==m]\n",
    "    ccp_pred[mktids==m],_ = logit_agg.singlechoiceprob(delta_m) # you will need to fill in the missing part of this function in the logit_agg.py file"
   ]
  },
  {
   "cell_type": "markdown",
   "metadata": {},
   "source": [
    "Compare predicted and actual market shares - does what you see make sense?"
   ]
  },
  {
   "cell_type": "code",
   "execution_count": 12,
   "metadata": {},
   "outputs": [
    {
     "name": "stdout",
     "output_type": "stream",
     "text": [
      "[0.00287685 0.00266349 0.00042598 ... 0.0310292  0.00123969 0.00100363]\n",
      "[0.00287685 0.00266349 0.00042598 ... 0.0310292  0.00123969 0.00100363]\n"
     ]
    }
   ],
   "source": [
    "print(sjt.flatten()) \n",
    "print(ccp_pred.flatten())"
   ]
  },
  {
   "cell_type": "markdown",
   "metadata": {},
   "source": [
    "### 1.3 Statistics of interest: elasticities, compensating variation\n",
    "Using your estimation results compute elasticities and compensating variation. \n",
    "Fill out the functions for this in logit_agg.py file."
   ]
  },
  {
   "cell_type": "markdown",
   "metadata": {},
   "source": [
    "### Price Elasticities: Own- and Cross-products"
   ]
  },
  {
   "cell_type": "markdown",
   "metadata": {},
   "source": [
    "The main parameters describing substitution patterns are elasticities and diversion ratios. In the case of vanilla logit these take the form:\n",
    "$$    \\eta_{jkt} = \\frac{\\partial s_{jt}}{\\partial p_{kt}}\\frac{p_{kt}}{s_{jt}}=\\begin{cases}\n",
    "        \\alpha_0 p_{jt}(1-s_{jt}) \\quad \\text{if} \\quad j=k\\\\\n",
    "        -\\alpha_0 p_{kt}s_{kt} \\quad \\text{otherwise}\n",
    "    \\end{cases}$$\n"
   ]
  },
  {
   "cell_type": "code",
   "execution_count": 13,
   "metadata": {},
   "outputs": [
    {
     "name": "stdout",
     "output_type": "stream",
     "text": [
      "own price elasticity [-4.9271497  -3.40817301 -3.4159392  ... -3.45505511 -2.69633993\n",
      " -3.9604681 ]\n",
      "cross price elasticities [0.01421555 0.00910186 0.00145576 ... 0.1106407  0.00334676 0.00397885]\n"
     ]
    }
   ],
   "source": [
    "# pull out the common marginal disutility of price, alpha0\n",
    "k_price = 0\n",
    "alpha0 = res['b_hat'][k_price] # what happens if you pick alpha0 from the model without instrumenting ?\n",
    "alpha0_iv = res_iv['b_hat'][k_price] # what happens if you pick alpha0 from the model with instrumenting instead?\n",
    "\n",
    "ccp_pred = ccp_pred.flatten()\n",
    "\n",
    "\n",
    "# pull out price\n",
    "price = dtable['price'].to_numpy()\n",
    "\n",
    "# combine the above to compute the elasticities\n",
    "elast_own =  alpha0 * price * ( 1 - ccp_pred ) # fill in\n",
    "elast_cross = - alpha0 * price * ccp_pred # fill in \n",
    "\n",
    "elast_own_iv =  alpha0_iv * price * ( 1 - ccp_pred ) # fill in \n",
    "elast_cross_iv = - alpha0_iv * price * ccp_pred # fill in\n",
    "\n",
    "print('own price elasticity',elast_own)\n",
    "print('cross price elasticities',elast_cross)"
   ]
  },
  {
   "cell_type": "code",
   "execution_count": 14,
   "metadata": {},
   "outputs": [],
   "source": [
    "# pull out the mean elasticities for each product (across markets)\n",
    "prodids = dtable.prodid.to_numpy()\n",
    "J = len(np.unique(prodids))\n",
    "eown = np.zeros(J)\n",
    "ecross = np.zeros(J)\n",
    "eown_iv = np.zeros(J)\n",
    "ecross_iv = np.zeros(J)\n",
    "\n",
    "for j,prodid in enumerate(np.unique(prodids)):\n",
    "    eown[j] = elast_own[prodids==prodid].mean() # average over all markets for a given product\n",
    "    ecross[j] = elast_cross[prodids==prodid].mean()# average over all markets for a given product\n",
    "    eown_iv[j] = elast_own_iv[prodids==prodid].mean() # average over all markets for a given product\n",
    "    ecross_iv[j] = elast_cross_iv[prodids==prodid].mean()# average over all markets for a given product"
   ]
  },
  {
   "cell_type": "code",
   "execution_count": 15,
   "metadata": {},
   "outputs": [
    {
     "data": {
      "text/plain": [
       "-3.81274186908149"
      ]
     },
     "execution_count": 15,
     "metadata": {},
     "output_type": "execute_result"
    }
   ],
   "source": [
    "eown[1] # product 2's mean own price elasticity across all markets"
   ]
  },
  {
   "cell_type": "code",
   "execution_count": 16,
   "metadata": {},
   "outputs": [
    {
     "data": {
      "text/plain": [
       "0.034724121798667885"
      ]
     },
     "execution_count": 16,
     "metadata": {},
     "output_type": "execute_result"
    }
   ],
   "source": [
    "ecross[1] # how all other products respond to a 1% price increase in product 2 on average across all markets"
   ]
  },
  {
   "cell_type": "code",
   "execution_count": 17,
   "metadata": {},
   "outputs": [
    {
     "data": {
      "image/png": "[encoded data removed]",
      "text/plain": [
       "<Figure size 1200x500 with 2 Axes>"
      ]
     },
     "metadata": {},
     "output_type": "display_data"
    }
   ],
   "source": [
    "# Create figure and subplots\n",
    "fig, axes = plt.subplots(1, 2, figsize=(12, 5))  # 1 row, 2 columns\n",
    "\n",
    "# Plot histogram for own-price elasticities\n",
    "axes[0].hist(eown, bins=30, edgecolor='black', alpha=0.7,label='not IV')\n",
    "axes[0].hist(eown_iv, bins=30, edgecolor='black', alpha=0.7,label='IV')\n",
    "axes[0].legend(bbox_to_anchor=(1.05, 1), loc='upper left')\n",
    "axes[0].set_title(\"Own-Price Elasticities\")\n",
    "axes[0].set_xlabel(\"Price Elasticity\")\n",
    "axes[0].set_ylabel(\"Frequency\")\n",
    "\n",
    "# Plot histogram for cross-price elasticities\n",
    "axes[1].hist(ecross, bins=30, edgecolor='black', alpha=0.7,label='not IV')\n",
    "axes[1].hist(ecross_iv, bins=30, edgecolor='black', alpha=0.7,label='IV')\n",
    "axes[1].set_title(\"Cross-Price Elasticities\")\n",
    "axes[1].set_xlabel(\"Price Elasticity\")\n",
    "axes[1].set_ylabel(\"Frequency\")\n",
    "\n",
    "# Adjust layout and show plot\n",
    "plt.tight_layout()  # Ensures plots don't overlap\n",
    "plt.show()"
   ]
  },
  {
   "cell_type": "markdown",
   "metadata": {},
   "source": [
    "### Compensating Variation"
   ]
  },
  {
   "cell_type": "markdown",
   "metadata": {},
   "source": [
    "You can compute the compensating variation of a counterfactual environment using the result that the $E\\max(u)$ when $u=v+\\epsilon,\\epsilon \\sim EV1 $ is given by\n",
    "$$\n",
    "E\\max_j(u_{ij}) = \\log(\\sum^{J_t}_h\\exp(\\delta_{ht}))+\\gamma\n",
    "$$\n",
    "where $\\gamma$ is the Euler constant. \n",
    "\n",
    "If we have a price regressor and its estimated coefficient is $\\alpha_0$, then $1/\\alpha_0$ converts utils into money. \n",
    "\n",
    "We can therefore use the following welfare measure (in monetary terms) of moving from $\\{\\delta^{base}_{ht}\\}$ to $\\{\\delta^{new}_{ht}\\}$:\n",
    "$$\n",
    "CV = \\frac{1}{\\alpha_0} \\log(\\sum^{J_t}_h\\exp(\\delta^{new}_{ht}))+\\gamma - (\\frac{1}{\\alpha_0} \\log(\\sum^{J_t}_h\\exp(\\delta^{base}_{ht}))+\\gamma ) = \\frac{1}{\\alpha_0} (\\log(\\sum^{J_t}_h\\exp(\\delta^{new}_{ht})) - \\log(\\sum^{J_t}_h\\exp(\\delta^{base}_{ht})))\n",
    "$$"
   ]
  },
  {
   "cell_type": "code",
   "execution_count": 18,
   "metadata": {},
   "outputs": [],
   "source": [
    "def compensating_var(x_base,x_new,res,k_price = 0):\n",
    "    alpha0 = res['b_hat'][k_price] \n",
    "\n",
    "    # compute the compensating variation\n",
    "    delta_base = x_base@res['b_hat']\n",
    "    logsum_base = np.log(np.sum(np.exp(delta_base))) # emax under baseline environment\n",
    "\n",
    "    delta_new = x_new@res['b_hat']\n",
    "    logsum_new = np.log(np.sum(np.exp(delta_new))) # emax under counterfactual environment\n",
    "    \n",
    "    cv = 1/alpha0 * ( logsum_new - logsum_base ) \n",
    "    return cv"
   ]
  },
  {
   "cell_type": "code",
   "execution_count": 19,
   "metadata": {},
   "outputs": [],
   "source": [
    "x_base = X.copy()\n",
    "x_new = X.copy()\n",
    "x_new[:,0] = x_new[:,0] * 1.01 # 1% price increase for all products"
   ]
  },
  {
   "cell_type": "code",
   "execution_count": 20,
   "metadata": {},
   "outputs": [
    {
     "data": {
      "text/plain": [
       "array([0.04696151])"
      ]
     },
     "execution_count": 20,
     "metadata": {},
     "output_type": "execute_result"
    }
   ],
   "source": [
    "compensating_var(x_base,x_new,res,k_price = 0)"
   ]
  },
  {
   "cell_type": "code",
   "execution_count": 21,
   "metadata": {},
   "outputs": [
    {
     "data": {
      "text/plain": [
       "array([0.04634562])"
      ]
     },
     "execution_count": 21,
     "metadata": {},
     "output_type": "execute_result"
    }
   ],
   "source": [
    "compensating_var(x_base,x_new,res_iv,k_price = 0)"
   ]
  },
  {
   "cell_type": "markdown",
   "metadata": {},
   "source": [
    "# Part 2: Building blocks of Random Coefficients Logit"
   ]
  },
  {
   "cell_type": "markdown",
   "metadata": {},
   "source": [
    "With random coefficients we're back to the following expression for market shares\n",
    "$$\n",
    "    s_{jt} = \\int_{i} \\frac{\\exp(\\delta_{jt}+\\mu_{ijt})}{1+\\sum^{J_t}_h\\exp(\\delta_{ht}+\\mu_{ijt})}f(\\boldsymbol{\\mu}_{it}|\\boldsymbol{\\theta}_{non})d\\boldsymbol{\\mu}_{it}.\n",
    "$$\n",
    "\n",
    "We can no longer take logs, difference and use a linear projection of $\\log(s_{jt}) - \\log(s_{0t})$, onto product attributes, $ \\mathbf{x}_{jt} $ to recover the $\\boldsymbol{\\beta}$ due to the nonlinearity introduced by $f(\\boldsymbol{\\mu}_{it}|\\boldsymbol{\\theta}_{non})$. But we can do something similar. BLP 1995 show that the following relation is a contraction mapping and that the set of common utilities, $\\boldsymbol{\\delta}_t$, are the fixed point of this contraction:\n",
    "$$    \\boldsymbol{\\delta}_t^{(k)}(\\boldsymbol{\\theta}_{non}) = \\boldsymbol{\\delta}_t^{(k-1)}(\\boldsymbol{\\theta}_{non}) + \\log(\\mathfrak{s}_{jt})-\\log(s_j(\\boldsymbol{\\delta}_t^{(k-1)},\\boldsymbol{\\theta}_{non})).\n",
    "$$\n",
    "Here $\\mathfrak{s}_{jt}$ are observed market shares, whilst $s_j(\\boldsymbol{\\delta}_t^{(k-1)},\\boldsymbol{\\theta}_{non})$ are predicted market shares."
   ]
  },
  {
   "cell_type": "markdown",
   "metadata": {},
   "source": [
    "### 2.1 predicted market shares"
   ]
  },
  {
   "cell_type": "markdown",
   "metadata": {},
   "source": [
    "To integrate out the unobserved heterogeneity in $\\boldsymbol{\\mu}$ we use sparse grids weights and nodes from http://www.sparse-grids.de/. This is a numerical integration method that essentially replaces and approximates the continuous distribution in $f(\\boldsymbol{\\mu}_{it}|\\boldsymbol{\\theta}_{non})$ with a discrete one:\n",
    "\n",
    "$$\n",
    "    s_{jt} = \\int_{i} \\frac{\\exp(\\delta_{jt}+\\mu_{ijt})}{1+\\sum^{J_t}_h\\exp(\\delta_{ht}+\\mu_{ijt})}f(\\boldsymbol{\\mu}_{it}|\\boldsymbol{\\theta}_{non})d\\boldsymbol{\\mu}_{it} \n",
    "    = \\int_{i} \\frac{\\exp(\\delta_{jt}+\\mathbf{x}_{jt}\\boldsymbol{{\\sigma}}_{\\beta}\\boldsymbol{\\nu}_i)}{1+\\sum^{J_t}_h\\exp(\\delta_{ht}+\\mathbf{x}_{jt}\\boldsymbol{{\\sigma}}_{\\beta}\\boldsymbol{\\nu}_i)}f(\\boldsymbol{\\nu}_i)d\\boldsymbol{\\nu}_{i} \\\\\n",
    "    \\approx\\sum^{\\Iota}_{\\iota} w_{\\iota} \\frac{\\exp(\\delta_{jt}+ \\mathbf{x}_{jt}\\boldsymbol{{\\sigma}}_{\\beta}v_{\\iota})}{1+\\sum^{J_t}_h\\exp(\\delta_{ht}+ \\mathbf{x}_{jt}\\boldsymbol{{\\sigma}}_{\\beta}v_{\\iota})}\n",
    "$$\n",
    "\n",
    "where $w_{\\iota},v_{\\iota}$ are the weights and nodes, respectively.\n",
    "\n",
    "Please note, here we have only allowed for random coefficients on the exogenous explanatory variables $\\mathbf{x}_{jt}$, NOT on price, the endogenous variable. So relative to above we have $\\sigma_{\\alpha}=0$\n"
   ]
  },
  {
   "cell_type": "code",
   "execution_count": 22,
   "metadata": {},
   "outputs": [],
   "source": [
    "# load draws needed for random coefficients\n",
    "draws = pd.read_csv('draws.csv')\n",
    "\n",
    "# unpack draws \n",
    "v = np.vstack((draws.v_1,draws.v_2)).T # nodes\n",
    "w = np.array(draws.w).reshape(-1,1) # weights"
   ]
  },
  {
   "cell_type": "code",
   "execution_count": 23,
   "metadata": {},
   "outputs": [],
   "source": [
    "# initialize the nonlinear parameters and pull out the corresponding variables\n",
    "theta0 = np.array([0.5,0.5])\n",
    "X_random = dtable[['x1_2', 'x1_3']].to_numpy() # the variables that get random coefficients. NOT the price variable"
   ]
  },
  {
   "cell_type": "code",
   "execution_count": 24,
   "metadata": {},
   "outputs": [],
   "source": [
    "# compute predicted market shares for initial guess of theta and delta\n",
    "# initialise\n",
    "ccp_test = np.zeros_like(deltas)\n",
    "\n",
    "# loop over markets\n",
    "for m in np.unique(mktids):\n",
    "    delta_m = deltas[mktids==m]\n",
    "    x_random_m = X_random[mktids==m]\n",
    "\n",
    "    ccp_test[mktids==m],_ = logit_agg.singlechoiceprob(delta_m,theta0,w,v,x_random_m) # now you need to fill in the missing part of \n",
    "    # this function in the logit_agg.py file for the random coefficient version of this to work\n",
    "\n",
    "ccp_test = ccp_test.flatten()"
   ]
  },
  {
   "cell_type": "code",
   "execution_count": 25,
   "metadata": {},
   "outputs": [
    {
     "data": {
      "text/plain": [
       "array([0.00281735, 0.00265445, 0.00042492, ..., 0.03024085, 0.00125071,\n",
       "       0.00099494])"
      ]
     },
     "execution_count": 25,
     "metadata": {},
     "output_type": "execute_result"
    }
   ],
   "source": [
    "ccp_test # when theta = [[0,0]], ccp should be the same as ccp_pred from vanilla logit"
   ]
  },
  {
   "cell_type": "code",
   "execution_count": 26,
   "metadata": {},
   "outputs": [
    {
     "data": {
      "text/plain": [
       "array([0.00287685, 0.00266349, 0.00042598, ..., 0.0310292 , 0.00123969,\n",
       "       0.00100363])"
      ]
     },
     "execution_count": 26,
     "metadata": {},
     "output_type": "execute_result"
    }
   ],
   "source": [
    "ccp_pred # vanilla logit ccp"
   ]
  },
  {
   "cell_type": "markdown",
   "metadata": {},
   "source": [
    "### 2.2 fixed point algo"
   ]
  },
  {
   "cell_type": "markdown",
   "metadata": {},
   "source": [
    "We now solve for the mean utilities, $\\boldsymbol{\\delta}_t$, by iterating on the contraction mapping which the $\\boldsymbol{\\delta}_t$ are the fixed point of, as established by BLP in 1995:\n",
    "\n",
    "$$    \\boldsymbol{\\delta}_t^{(k)}(\\boldsymbol{\\theta}_{non}) = \\boldsymbol{\\delta}_t^{(k-1)}(\\boldsymbol{\\theta}_{non}) + \\log(\\mathfrak{s}_{jt})-\\log(s_j(\\boldsymbol{\\delta}_t^{(k-1)},\\boldsymbol{\\theta}_{non})).\n",
    "$$\n",
    "Here $\\mathfrak{s}_{jt}$ are observed market shares, whilst $s_j(\\boldsymbol{\\delta}_t^{(k-1)},\\boldsymbol{\\theta}_{non})$ are predicted market shares."
   ]
  },
  {
   "cell_type": "code",
   "execution_count": 27,
   "metadata": {},
   "outputs": [],
   "source": [
    "# fill out the missing part of the function called fixedpoint below\n",
    "\n",
    "def fixedpoint(deltas,ccp_data,mktids,theta=None,w=None,v=None,x_random=None):\n",
    "    \n",
    "    dhat = np.zeros(len(deltas)).reshape(-1,1)\n",
    "\n",
    "    for m in np.unique(mktids):\n",
    "        delta_m = deltas[mktids==m]#.flatten()\n",
    "        ccp_data_m = ccp_data[mktids==m] \n",
    "\n",
    "        if x_random is not None:\n",
    "            x_random_m = x_random[mktids==m]\n",
    "        \n",
    "        else:\n",
    "            x_random_m = None\n",
    "\n",
    "        f_m = lambda delta: delta + np.log(ccp_data_m) - np.log(logit_agg.singlechoiceprob(delta,theta,w,v,x_random_m)[0]) # fill in BLP contraction - separately for each market, m  \n",
    "        \n",
    "        dhat[mktids==m] = logit_agg.iteration(f_m,delta_m) # call iterator on f_m\n",
    "\n",
    "    return dhat"
   ]
  },
  {
   "cell_type": "code",
   "execution_count": 28,
   "metadata": {},
   "outputs": [],
   "source": [
    "# solve the fixed point problem to get the mean utilities, delta\n",
    "theta0 = np.array([0.0,0.0])\n",
    "delta0 = np.log(sjt)-np.log(s0t)\n",
    "dhat = fixedpoint(delta0,sjt,mktids,theta0,w,v,X_random)"
   ]
  },
  {
   "cell_type": "code",
   "execution_count": 29,
   "metadata": {},
   "outputs": [
    {
     "data": {
      "text/plain": [
       "array([-4.4967032 , -4.57376255, -6.40674922, ..., -1.81146061,\n",
       "       -5.03153199, -5.24276286])"
      ]
     },
     "execution_count": 29,
     "metadata": {},
     "output_type": "execute_result"
    }
   ],
   "source": [
    "dhat.flatten() # mean utilities"
   ]
  },
  {
   "cell_type": "markdown",
   "metadata": {},
   "source": [
    "### 2.3 linear parameters, $\\boldsymbol{\\beta}$"
   ]
  },
  {
   "cell_type": "code",
   "execution_count": 30,
   "metadata": {},
   "outputs": [
    {
     "name": "stdout",
     "output_type": "stream",
     "text": [
      "Results\n",
      "Dependent variable: delta\n",
      "\n",
      "            Beta         Se    t-values\n",
      "-----  ---------  ---------  ----------\n",
      "price  -0.998835  0.016594     -60.1924\n",
      "x1_1   -3.64362   0.0624751    -58.3212\n",
      "x1_2    5.72642   0.0186231    307.491\n",
      "x1_3    2.07995   0.0183874    113.118\n",
      "R² = 0.968\n",
      "σ² = 0.077\n"
     ]
    }
   ],
   "source": [
    "# recover the linear paramets, beta, from a linear projection of delta on Xs\n",
    "res_2 = linear.estimate(dhat.reshape(-1,1), X,Z,robust_se=True,T=T)\n",
    "linear.print_table(labels = (('delta'),(['price']+x1s)),results=res_2)"
   ]
  },
  {
   "cell_type": "markdown",
   "metadata": {},
   "source": [
    "Compare to the vanilla logit case you had before - are the results the same? why/why not?"
   ]
  },
  {
   "cell_type": "code",
   "execution_count": 31,
   "metadata": {},
   "outputs": [
    {
     "name": "stdout",
     "output_type": "stream",
     "text": [
      "Results\n",
      "Dependent variable: logdiff\n",
      "\n",
      "            Beta         Se    t-values\n",
      "-----  ---------  ---------  ----------\n",
      "price  -0.998835  0.016594     -60.1924\n",
      "x1_1   -3.64362   0.0624751    -58.3212\n",
      "x1_2    5.72642   0.0186231    307.491\n",
      "x1_3    2.07995   0.0183874    113.118\n",
      "R² = 0.968\n",
      "σ² = 0.077\n"
     ]
    }
   ],
   "source": [
    "linear.print_table(labels = (('logdiff'),(['price']+x1s)),results=res_iv)"
   ]
  },
  {
   "cell_type": "code",
   "execution_count": 32,
   "metadata": {},
   "outputs": [
    {
     "name": "stdout",
     "output_type": "stream",
     "text": [
      "Results\n",
      "Dependent variable: delta\n",
      "\n",
      "            Beta         Se    t-values\n",
      "-----  ---------  ---------  ----------\n",
      "price  -0.999243  0.0165923    -60.2233\n",
      "x1_1   -3.60438   0.0624473    -57.7187\n",
      "x1_2    5.7609    0.0184411    312.395\n",
      "x1_3    2.07019   0.0183045    113.097\n",
      "R² = 0.969\n",
      "σ² = 0.075\n"
     ]
    }
   ],
   "source": [
    "# now re-run the iteration but with nonlinear parameters\n",
    "# solve the fixed point problem to get the mean utilities, delta\n",
    "\n",
    "theta1 = np.array([0.5,0.5])\n",
    "\n",
    "# deltas when there are random coefficients\n",
    "dhat_random = fixedpoint(deltas ,sjt,mktids,theta1,w,v,X_random)\n",
    "\n",
    "# linear projection of deltas onto explanatory variables\n",
    "res_random = linear.estimate(dhat_random.reshape(-1,1), X,Z,robust_se=True,T=T) \n",
    "linear.print_table(labels = (('delta'),(['price']+x1s)),results=res_random)"
   ]
  },
  {
   "cell_type": "markdown",
   "metadata": {},
   "source": [
    "Your results should look like this:\n",
    "\n",
    "\n",
    "Results <br>\n",
    "Dependent variable: delta_random <br>\n",
    "\n",
    "|                |    Beta |     Se |   t-values |\n",
    "|----------------|---------|--------|------------|\n",
    "| price       | -0.999243     | 0.0165923         |    -60.2233 |\n",
    "| x1_1          | -3.60438        | 0.0624473              |    -57.7187 |\n",
    "| x1_2       |  5.7609         | 0.0184411              |     312.395 |\n",
    "| x1_3      |  2.07019         | 0.0183045            |    113.097 |\n",
    "R² = 0.969 <br>\n",
    "σ² = 0.075"
   ]
  },
  {
   "cell_type": "markdown",
   "metadata": {},
   "source": [
    "Are the results the same as in vanilla logit? why/why not?"
   ]
  },
  {
   "cell_type": "code",
   "execution_count": 33,
   "metadata": {},
   "outputs": [
    {
     "name": "stdout",
     "output_type": "stream",
     "text": [
      "Results\n",
      "Dependent variable: delta\n",
      "\n",
      "            Beta         Se    t-values\n",
      "-----  ---------  ---------  ----------\n",
      "price  -0.998835  0.016594     -60.1924\n",
      "x1_1   -3.64362   0.0624751    -58.3212\n",
      "x1_2    5.72642   0.0186231    307.491\n",
      "x1_3    2.07995   0.0183874    113.118\n",
      "R² = 0.968\n",
      "σ² = 0.077\n"
     ]
    }
   ],
   "source": [
    "# let's print the vanilla logit, iv, estimation results again to compare\n",
    "linear.print_table(labels = (('delta'),(['price']+x1s)),results=res_iv)"
   ]
  },
  {
   "cell_type": "markdown",
   "metadata": {},
   "source": [
    "### 2.4 objective function"
   ]
  },
  {
   "cell_type": "markdown",
   "metadata": {},
   "source": [
    "We now use the residuals from the IV regression, $\\hat{\\xi}_{jt}$, to compute the criterion function:\n",
    "$$    \n",
    "g(\\boldsymbol{\\theta}_{non}) =\\frac{1}{N} \\sum_t\\sum_j \\hat{\\xi}_{jt}\\mathbf{Z}_{jt}, \\quad N=\\sum_t J_t.\n",
    "$$\n",
    "This criterion function is based on a set of moments used for identification, namely:\n",
    "\\begin{align}\n",
    "    \\mathbb{E}(\\mathbf{Z}'\\boldsymbol{\\xi})=\\mathbf{0},\n",
    "\\end{align}\n",
    "the orthogonality of instruments to demand shocks. \n",
    "\n",
    "We obtain the residuals from the IV regression, $\\hat{\\xi}_{jt}$ using:\n",
    "$$\\hat{\\xi}_{jt}=\\hat{\\delta}_{jt}-\\mathbf{x}_{jt}\\hat{\\boldsymbol{\\beta_0}}\n",
    "$$\n",
    "\n",
    "This highlights that identification essentially boils down to the extent to which we believe that the chosen instruments are unrelated to unobserved demand drivers sitting in $\\xi_{jt}$.\n",
    "\n",
    "\n",
    "We reweight the criterion function in the following way to get our GMM estimator:\n",
    "\n",
    "$$\n",
    "g(\\boldsymbol{\\theta}_{non})'\\mathbf{W}g(\\boldsymbol{\\theta}_{non})\n",
    "$$\n",
    "\n"
   ]
  },
  {
   "cell_type": "code",
   "execution_count": 34,
   "metadata": {},
   "outputs": [
    {
     "data": {
      "text/plain": [
       "array([[3.16333077]])"
      ]
     },
     "execution_count": 34,
     "metadata": {},
     "output_type": "execute_result"
    }
   ],
   "source": [
    "# build the objective function for the nonlinear optimization\n",
    "\n",
    "# get the market level residuals, xi, from a linear projection of deltas (from the fixed point iteration) on to the explanatory variables (remembering to instrument for price)\n",
    "_,xi = linear.est_piv(dhat_random.reshape(-1,1), X, Z)\n",
    "\n",
    "# compute the objective function\n",
    "g = xi.T @ Z # fill in - moment condition\n",
    "W =  la.inv(Z.T@Z) # initial weighting matrix\n",
    "\n",
    "# weighted moment condition\n",
    "mom = g @ W @ g.T\n",
    "\n",
    "mom"
   ]
  },
  {
   "cell_type": "markdown",
   "metadata": {},
   "source": [
    "# Part 3: Putting it all together\n",
    "\n",
    "To estimate the random coefficient logit model, we run a nested fixed point algorithm. Estimation effectively runs in a nested loop. \n",
    "\n",
    "In the $\\textbf{inner loop}$, we fix the nonlinear parameters $\\boldsymbol{\\theta}_{non}=\\boldsymbol{\\sigma}_{\\beta}$ at a given value and conduct three steps. \n",
    "- First, we obtain the mean utilities, $\\delta_{jt}$, which solve the fixed point relation from above. \n",
    "- Second, we do a linear IV projection of these mean utilities, $\\delta_{jt}$, onto prices and controls. We do so to obtain the linear parameters $\\boldsymbol{\\theta}_{lin}=\\{\\alpha_0,\\boldsymbol{\\beta}_0\\}$, using instruments, $\\mathbf{Z}_{jt}$. \n",
    "- Finally, we use the residuals from the IV regression, $\\hat{\\xi}_{jt}$, to compute the criterion \n",
    "$$    \n",
    "g(\\boldsymbol{\\theta}_{non}) =\\frac{1}{N} \\sum_t\\sum_j \\hat{\\xi}_{jt}\\mathbf{Z}_{jt}, \\quad N=\\sum_t J_t.\n",
    "$$\n",
    "\n",
    "In the $\\textbf{outer loop}$, we conduct a search over nonlinear parameters, $\\boldsymbol{\\theta}_{non}$, to minimise:\n",
    "\n",
    "$$\n",
    "g(\\boldsymbol{\\theta}_{non})'\\mathbf{W}g(\\boldsymbol{\\theta}_{non})\n",
    "$$\n",
    "\n",
    "We use a GMM estimator for this loop (we just run 1 step, ideally one should run 2 steps). Here we use the weighting matrix, $\\mathbf{W}=(\\mathbf{Z}'\\mathbf{Z})^{-1}$. We use a gradient based numerical optimiser and conduct a bounded search since the standard deviations, $\\{\\sigma_{\\alpha},\\boldsymbol{\\sigma}_{\\beta}\\}$, are non-negative numbers."
   ]
  },
  {
   "cell_type": "markdown",
   "metadata": {},
   "source": [
    "### 3.1 Inner Loop"
   ]
  },
  {
   "cell_type": "code",
   "execution_count": 35,
   "metadata": {},
   "outputs": [
    {
     "name": "stdout",
     "output_type": "stream",
     "text": [
      "[[3.16333077]]\n"
     ]
    }
   ],
   "source": [
    "# starting values\n",
    "theta0 = np.array([0.5,0.5]) # initial guess for theta\n",
    "delta0 = np.log(sjt) - np.log(s0t) # start with vanilla logit deltas\n",
    "\n",
    "# 1. get mean utilities, delta, using fixed point iteration (and calling the ccp function)\n",
    "delta1 = fixedpoint(delta0,sjt,mktids,theta0,w,v,X_random)\n",
    "\n",
    "# 2. linear projection of deltas on Xs (remembering to instrument for price) to get xis (residuals)\n",
    "_,xi = linear.est_piv(delta1.reshape(-1,1), X, Z)\n",
    "\n",
    "# 3. form the gmm objective function by multiplying the xis with the instruments\n",
    "g = xi.T @ Z # moment condition\n",
    "W =  la.inv(Z.T@Z) # initial weighting matrix\n",
    "mom = g @ W @ g.T\n",
    "\n",
    "print(mom)"
   ]
  },
  {
   "cell_type": "code",
   "execution_count": 36,
   "metadata": {},
   "outputs": [],
   "source": [
    "# wrap it into a function\n",
    "\n",
    "def inner_loop(theta0, delta0, X, Z, mktids,ccp_data, w, v, X_random):\n",
    "    delta1 = np.zeros_like(delta0)\n",
    "    \n",
    "    # 1. get mean utilities, delta, using fixed point iteration and ccps\n",
    "    delta1 = fixedpoint(delta0,ccp_data,mktids,theta0,w,v,X_random) #(deltas,ccp_data,mktids,theta=None,w=None,v=None,x_random=None):\n",
    "\n",
    "\n",
    "    # 2. linear projection of deltas on Xs (remembering to instrument for price) to get xis (residuals)\n",
    "    _,xi = linear.est_piv(delta1.reshape(-1,1), X, Z)\n",
    "\n",
    "    # 3. form the gmm objective function by multiplying the xis with the instruments\n",
    "    g = xi.T @ Z # moment condition\n",
    "    W =  la.inv(Z.T@Z) # initial weighting matrix\n",
    "    mom = g @ W @ g.T\n",
    "\n",
    "    return mom"
   ]
  },
  {
   "cell_type": "code",
   "execution_count": 37,
   "metadata": {},
   "outputs": [
    {
     "data": {
      "text/plain": [
       "array([[3.16333077]])"
      ]
     },
     "execution_count": 37,
     "metadata": {},
     "output_type": "execute_result"
    }
   ],
   "source": [
    "inner_loop(theta0, delta0, X, Z, mktids,sjt, w, v, X_random)"
   ]
  },
  {
   "cell_type": "markdown",
   "metadata": {},
   "source": [
    "### 3.2 Outer loop"
   ]
  },
  {
   "cell_type": "code",
   "execution_count": 38,
   "metadata": {},
   "outputs": [],
   "source": [
    "f_outer = lambda  theta: inner_loop(theta, delta0, X, Z, mktids,sjt, w, v, X_random)"
   ]
  },
  {
   "cell_type": "code",
   "execution_count": 39,
   "metadata": {},
   "outputs": [
    {
     "data": {
      "text/plain": [
       "array([[3.16333077]])"
      ]
     },
     "execution_count": 39,
     "metadata": {},
     "output_type": "execute_result"
    }
   ],
   "source": [
    "f_outer(theta0) # returns the moment condition for the initial guess of theta"
   ]
  },
  {
   "cell_type": "code",
   "execution_count": 40,
   "metadata": {},
   "outputs": [
    {
     "name": "stdout",
     "output_type": "stream",
     "text": [
      "Optimization terminated successfully    (Exit mode 0)\n",
      "            Current function value: 0.2913977408168513\n",
      "            Iterations: 8\n",
      "            Function evaluations: 27\n",
      "            Gradient evaluations: 8\n"
     ]
    }
   ],
   "source": [
    "# nonlinear parameters\n",
    "bnds = ((0,None),(0,None)) # as cant have a negative standard error\n",
    "res_outer = optimize.minimize(f_outer, theta0,method = 'SLSQP',bounds=bnds,options={'disp': True})"
   ]
  },
  {
   "cell_type": "code",
   "execution_count": 41,
   "metadata": {},
   "outputs": [
    {
     "data": {
      "text/plain": [
       "array([1.41969523, 0.72194812])"
      ]
     },
     "execution_count": 41,
     "metadata": {},
     "output_type": "execute_result"
    }
   ],
   "source": [
    "res_outer.x"
   ]
  },
  {
   "cell_type": "markdown",
   "metadata": {},
   "source": [
    "Let's look at the results \n",
    "- recover linear parameters given nonlinear parameters\n",
    "- estimate standard errors\n",
    "- print a nice table"
   ]
  },
  {
   "cell_type": "code",
   "execution_count": 42,
   "metadata": {},
   "outputs": [],
   "source": [
    "# recover linear parameters\n",
    "thetahat = res_outer.x\n",
    "dhat_final = fixedpoint(deltas,sjt,mktids,thetahat,w,v,X_random)\n",
    "b_hat,xi = linear.est_piv(dhat_final, X, Z)"
   ]
  },
  {
   "cell_type": "markdown",
   "metadata": {},
   "source": [
    "For inference, we compute the variance covariance matrix of the resulting GMM estimator in the following way:\n",
    "\n",
    "$$\n",
    "    \\boldsymbol{\\Sigma}_{GMM} =(\\mathbf{G}'\\mathbf{W}\\mathbf{G})^{-1}  \\mathbf{G}'  \\mathbf{W}  \\mathbf{S}  \\mathbf{W}  \\mathbf{G}  (\\mathbf{G}' \\mathbf{W} \\mathbf{G})^{-1} \\\\\n",
    "    \\mathbf{G} =  \\mathbf{Z}'(\\mathbf{D},\\mathbf{x})/N, \\quad\n",
    "    \\mathbf{S} = \\mathbf{Z}'\\hat{\\boldsymbol{\\xi}} \\hat{\\boldsymbol{\\xi}}'\\mathbf{Z}, \\quad\n",
    "    \\mathbf{D} = \\partial \\boldsymbol{\\xi}/\\partial \\boldsymbol{\\theta}_{non}.\n",
    "$$"
   ]
  },
  {
   "cell_type": "code",
   "execution_count": 43,
   "metadata": {},
   "outputs": [],
   "source": [
    "# standard errors\n",
    "se = logit_agg.getcovar(dhat_final.flatten(),X,Z,W,v,w,X_random,mktids,thetahat) # this has been coded up for you - just call the function getcovar from logit_agg.py"
   ]
  },
  {
   "cell_type": "code",
   "execution_count": 44,
   "metadata": {},
   "outputs": [],
   "source": [
    "results = { 'fval': res_outer.fun, # function value at termination \n",
    "                'beta' : b_hat, # linear parameters\n",
    "                'theta' : res_outer.x, # nonlinear parameters\n",
    "                'thtbeta': np.hstack((res_outer.x,b_hat.flatten())),\n",
    "                'delta' : dhat_random, # mean utility\n",
    "                'resid' : xi , # residual\n",
    "                'se' : se # standard error\n",
    "        }"
   ]
  },
  {
   "cell_type": "code",
   "execution_count": 45,
   "metadata": {},
   "outputs": [
    {
     "name": "stdout",
     "output_type": "stream",
     "text": [
      "Random Coefficient Logit 1st step, y = dhat\n",
      "GMM Objective 0.2913977408168513\n",
      "Residual Variance 0.0701\n"
     ]
    },
    {
     "data": {
      "text/html": [
       "<div>\n",
       "<style scoped>\n",
       "    .dataframe tbody tr th:only-of-type {\n",
       "        vertical-align: middle;\n",
       "    }\n",
       "\n",
       "    .dataframe tbody tr th {\n",
       "        vertical-align: top;\n",
       "    }\n",
       "\n",
       "    .dataframe thead th {\n",
       "        text-align: right;\n",
       "    }\n",
       "</style>\n",
       "<table border=\"1\" class=\"dataframe\">\n",
       "  <thead>\n",
       "    <tr style=\"text-align: right;\">\n",
       "      <th></th>\n",
       "      <th>coeff</th>\n",
       "      <th>se</th>\n",
       "      <th>t-stat</th>\n",
       "    </tr>\n",
       "  </thead>\n",
       "  <tbody>\n",
       "    <tr>\n",
       "      <th>sig1</th>\n",
       "      <td>1.4197</td>\n",
       "      <td>0.1559</td>\n",
       "      <td>9.1052</td>\n",
       "    </tr>\n",
       "    <tr>\n",
       "      <th>sig2</th>\n",
       "      <td>0.7219</td>\n",
       "      <td>0.2016</td>\n",
       "      <td>3.5816</td>\n",
       "    </tr>\n",
       "    <tr>\n",
       "      <th>price</th>\n",
       "      <td>-1.0009</td>\n",
       "      <td>0.0044</td>\n",
       "      <td>-226.0132</td>\n",
       "    </tr>\n",
       "    <tr>\n",
       "      <th>constant</th>\n",
       "      <td>-3.4819</td>\n",
       "      <td>0.0256</td>\n",
       "      <td>-135.7771</td>\n",
       "    </tr>\n",
       "    <tr>\n",
       "      <th>x2_1</th>\n",
       "      <td>5.9635</td>\n",
       "      <td>0.0442</td>\n",
       "      <td>134.9966</td>\n",
       "    </tr>\n",
       "    <tr>\n",
       "      <th>x2_2</th>\n",
       "      <td>2.0597</td>\n",
       "      <td>0.0177</td>\n",
       "      <td>116.5891</td>\n",
       "    </tr>\n",
       "  </tbody>\n",
       "</table>\n",
       "</div>"
      ],
      "text/plain": [
       "           coeff      se    t-stat\n",
       "sig1      1.4197  0.1559    9.1052\n",
       "sig2      0.7219  0.2016    3.5816\n",
       "price    -1.0009  0.0044 -226.0132\n",
       "constant -3.4819  0.0256 -135.7771\n",
       "x2_1      5.9635  0.0442  134.9966\n",
       "x2_2      2.0597  0.0177  116.5891"
      ]
     },
     "execution_count": 45,
     "metadata": {},
     "output_type": "execute_result"
    }
   ],
   "source": [
    "RCL_labels =  ['sig1','sig2','price','constant','x2_1','x2_2'] \n",
    "\n",
    "logit_agg.print_table(RCL_labels, results,error_struct='', title=f'Random Coefficient Logit 1st step, y = dhat')"
   ]
  },
  {
   "cell_type": "markdown",
   "metadata": {},
   "source": [
    "Your results should look like this:\n",
    "\n",
    "Random Coefficient Logit 1st step, y = dhat  <br>\n",
    "GMM Objective 0.2913977408168513  <br>\n",
    "Residual Variance 0.0701  <br>\n",
    "\n",
    "\n",
    "|                |    coeff |     se |   t-stat |\n",
    "|----------------|---------|--------|------------|\n",
    "| sig1       | 1.4197     | 0.1559         |    9.1052 |\n",
    "| sig2       | 0.7219     | 0.2016         |    3.5816 |\n",
    "| price       | -1.0009     | 0.0044         |    -226.0132 |\n",
    "| x1_1          | -3.4819        | 0.0256              |    -135.7771 |\n",
    "| x1_2       |  5.9635         | 0.0442              |     134.9966 |\n",
    "| x1_3      |  2.0597         | 0.0177            |    116.5891 |"
   ]
  },
  {
   "cell_type": "code",
   "execution_count": null,
   "metadata": {},
   "outputs": [],
   "source": []
  }
 ],
 "metadata": {
  "kernelspec": {
   "display_name": "base",
   "language": "python",
   "name": "python3"
  },
  "language_info": {
   "codemirror_mode": {
    "name": "ipython",
    "version": 3
   },
   "file_extension": ".py",
   "mimetype": "text/x-python",
   "name": "python",
   "nbconvert_exporter": "python",
   "pygments_lexer": "ipython3",
   "version": "3.11.7"
  }
 },
 "nbformat": 4,
 "nbformat_minor": 2
}
