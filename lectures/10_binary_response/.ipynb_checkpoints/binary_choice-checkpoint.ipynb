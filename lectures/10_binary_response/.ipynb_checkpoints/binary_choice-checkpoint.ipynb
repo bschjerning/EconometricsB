{
 "cells": [
  {
   "cell_type": "markdown",
   "metadata": {
    "slideshow": {
     "slide_type": "slide"
    }
   },
   "source": [
    "#  Binary reponses\n",
    "\n",
    "### Econometrics B (ØkB)\n",
    "\n",
    "Wooldridge (2010, Ch. 15)\n",
    "\n",
    "Bertel Schjerning\n",
    "\n",
    "Department of Economics, University of Copenhagen\n"
   ]
  },
  {
   "cell_type": "markdown",
   "metadata": {
    "slideshow": {
     "slide_type": "slide"
    }
   },
   "source": [
    "### Binary response\n",
    "\n",
    "Numerous applications with binary outcomes, $y\\in \\{0,1\\}$:\n",
    "\n",
    "- a individual decides whether to participate in the labor force\n",
    "- a consumer decides whether to buy a car\n",
    "- a commuter decides whether to take public transit\n",
    "- a household decides whether to move residence\n",
    "- a high school student decides whether to attend a college\n",
    "- a firm decides whether to enter/exit a market, invest, export, issue a patent, etc.  \n",
    "- a student deciding whether to take the exam\n",
    "\n",
    "Binary reposes are often involved as part of econometric models: corner solution outcomes, censored regression, sample selection, discrete-continuous choice, duration models "
   ]
  },
  {
   "cell_type": "markdown",
   "metadata": {
    "slideshow": {
     "slide_type": "skip"
    }
   },
   "source": [
    "## Plan for binary response\n",
    "\n",
    "1. **Introduction to Binary response**\n",
    "    * Linear Probability Model (LPM)\n",
    "    * Latent Variable Model (LVM) \n",
    "1. Specification issues in binary response models\n",
    "\n",
    "1. Panel data models for binary response\n",
    "    * State dependence, initial conditions, fixed/random effects\n",
    "1. Unordered discrete response \n",
    "    * Random utility model (RUM)\n",
    "1. Ordered discrete response\n",
    "    * Latent variable model with multiple threshold\n"
   ]
  },
  {
   "cell_type": "markdown",
   "metadata": {
    "slideshow": {
     "slide_type": "slide"
    }
   },
   "source": [
    "### Binary Response\n",
    "**Response probability**\n",
    "\n",
    "\\begin{equation*}\n",
    "p\\left( \\mathbf{x}\\right) \\equiv P\\left( y=1|\\mathbf{x}\\right) \n",
    "=P\\left( y=1|x_{1},x_{2},..,x_{K}\\right) \n",
    "\\end{equation*}\n",
    "\n",
    "where \n",
    "- $y\\in \\left \\{ 0,1\\right \\} $ is a binary endogenous random variable\n",
    "- $\\mathbf{x} \\equiv (x_{1},x_{2},..,x_{K})$ is a vector vector of exogenous explanatory variables\n",
    "\n",
    "For a **continuous** $x_{j}$ we may be interested in\n",
    "\n",
    "\\begin{equation*}\n",
    "\\frac{P\\left( y=1|\\mathbf{x}\\right) }{\\partial x_{j}}\n",
    "=\\frac{\\partial p\\left( \\mathbf{x}\\right) }{\\partial x_{j}}\n",
    "\\end{equation*}\n",
    "\n",
    "For a **binary** $x_{K}$, interest lies in\n",
    "\\begin{equation*}\n",
    "P\\left( y=1|x_{1},x_{2},..,x_{K-1},1\\right) -P\\left(\n",
    "y=1|x_{1},x_{2},..,x_{K-1},0\\right) \n",
    "\\end{equation*}\n",
    "\n",
    "**Partial effects** depends on $\\mathbf{x}$ due to the non-linearity of $p(\\mathbf{x})$\n",
    "  "
   ]
  },
  {
   "cell_type": "markdown",
   "metadata": {
    "slideshow": {
     "slide_type": "slide"
    }
   },
   "source": [
    "### Conditional distribution\n",
    "\n",
    "* $y\\in\\{0,1\\}$ is Bernoulli distributed conditional on the explanatory variables, $x$\n",
    "\n",
    "* The **conditional distribution**, $f(y|x)$, of $y$ given $x$ can be summarized by\n",
    "\\begin{eqnarray*}\n",
    "p(x) \\equiv P(y=1|x) \\text{,  } \\quad \n",
    "P(y=0|x) =1-p(x) \n",
    "\\end{eqnarray*}\n",
    "So that\n",
    "\\begin{eqnarray*}\n",
    "f(y|x) =p(x)^{y}[1-p(x) ]^{1-y} \\\\\n",
    "\\end{eqnarray*}\n",
    "\n",
    "* The two fist conditional moments are\n",
    "\n",
    "\\begin{eqnarray*}\n",
    "E\\left[ y|x\\right] &=&p(x) \\\\\n",
    "Var\\left( y|x\\right) &=&p(x) \\left[ 1-p(x) \\right] \n",
    "\\end{eqnarray*}\n"
   ]
  },
  {
   "cell_type": "markdown",
   "metadata": {
    "slideshow": {
     "slide_type": "slide"
    }
   },
   "source": [
    "### **How to specify and estimate $p(x)$**?\n",
    "\n",
    "* **Parametric model:** Suppose $p( x) =G( x,\\beta_0) $, with $G(\\cdot)$ known up to parameters, $\\beta_0$\n",
    "\n",
    "* **Data:** Assume random sample $\\left\\{ y_{i},x_{i}\\right\\}\n",
    "_{i=1,..,N}$ where the unit $i$ is randomly chosen.\n",
    "\n",
    "\n",
    "* **Estimation:**  If model is identified, we can then estimate $\\beta_0$ using data on $y$ and $x$\n",
    "    * MLE using $f(y|x;\\beta_0)=G( x,\\beta_0) ^{y}[\n",
    "    1-G( x,\\beta_0) ] ^{1-y}$\n",
    "    \\begin{equation*}\n",
    "    \\hat{\\beta}_{MLE}=\\arg \\max_{\\beta }\\frac{1}{N}\\sum_{i=1}^{N}\n",
    "    \\log f(y_i|x_i;\\beta)\n",
    "    \\end{equation*}\n",
    "    * NLS using $E[y|x]=G( x,\\beta_0)$\n",
    "    \\begin{equation*}\n",
    "    \\hat{\\beta}_{NLS}=\\arg \\min_{\\beta }\\frac{1}{N}\\sum_{i=1}^{N}\\left(\n",
    "    y_{i}-G\\left( x_i,\\beta \\right) \\right) ^{2}\n",
    "    \\end{equation*}\n",
    "\n",
    "\n",
    "\n",
    "\n"
   ]
  },
  {
   "cell_type": "markdown",
   "metadata": {
    "slideshow": {
     "slide_type": "slide"
    }
   },
   "source": [
    "### MLE or NLS?\n",
    "* MLE is asymptotically efficient: \n",
    "    * We use all information about the distribution, $f( y|x;\\beta_0)$\n",
    "    * ......but is inconsistent if distribution is misspecified\n",
    "    * NLS only use first moment $E[y|x]$\n",
    "\n",
    "* Sometimes NLS is more robust than MLE\n",
    "* Not the case here: \n",
    "    * if the the model for the conditional density $f( y|x;\\beta_0)$ is misspecified\n",
    "    * .... the regression model $E[ y|x] =G( x,\\beta_0)$ is misspecified too\n",
    "    * works through $G( x,\\beta_0)$\n",
    "    * if MLE is inconsistent, NLS is too \n",
    "\n",
    "\n"
   ]
  },
  {
   "cell_type": "markdown",
   "metadata": {
    "slideshow": {
     "slide_type": "slide"
    }
   },
   "source": [
    "### How to specify $G(x,\\beta_0)$?\n",
    "\n",
    "Parametric specifications\n",
    "1. Linear probability model, $P(y=1|x)=G(x,\\beta_0)=x\\beta_0$\n",
    "2. Linear index models, $P(y=1|x)=G(x\\beta_0)$ with $0<G(z)<1$ \n",
    "3. More general parametric models are feasible, $P(y=1|x)=G(x,\\beta_0)$\n",
    "\n",
    "G often often motivated by latent variable model or the random utility model. "
   ]
  },
  {
   "cell_type": "markdown",
   "metadata": {
    "slideshow": {
     "slide_type": "slide"
    }
   },
   "source": [
    "### Linear probability model (LPM)\n",
    "\n",
    "\\begin{equation*}\n",
    "P(y=1|x)=E(y|x)=G(x,\\beta_0) =x\\beta_0\n",
    "\\end{equation*}\n",
    "\n",
    "Advantages: \n",
    "* LPM is a Linear regression model\n",
    "* Can be estimated using OLS    \n",
    "\\begin{equation*}\n",
    "\\hat{\\beta}=(x'x)^{-1}x'y\n",
    "\\end{equation*}\n",
    "* Often good approximation of average partial effects (APE)\n",
    "\n",
    "\n",
    "Issues: \n",
    "* model for $p\\left( x\\right) $ is not restricted to the unit interval \n",
    "* heteroscedasticity (conditional variance depends on x) \n",
    "\\begin{equation*}\n",
    "Var\\left( y|x\\right) =x\\beta _{0}\\left[ 1-x\\beta _{0}%\n",
    "\\right] \n",
    "\\end{equation*}\n",
    "* heteroscedasticity $\\rightarrow$ OLS is inefficient and OLS standard errors are invalid\n",
    "* negative variance if predicted values is outside unit interval - WLS is not possible\n",
    "* use heteroscedasticity robust variance matrix (see 12.52 for NLS)\n"
   ]
  },
  {
   "cell_type": "markdown",
   "metadata": {
    "slideshow": {
     "slide_type": "slide"
    }
   },
   "source": [
    "### Import libraries"
   ]
  },
  {
   "cell_type": "code",
   "execution_count": 1,
   "metadata": {
    "slideshow": {
     "slide_type": "-"
    }
   },
   "outputs": [],
   "source": [
    "# install if not yet installed\n",
    "# !pip install tabulate\n",
    "# !pip install wooldridge\n",
    "# !pip install statsmodels\n",
    "\n",
    "import numpy as np\n",
    "from tabulate import tabulate\n",
    "import numpy.random as random\n",
    "from scipy.stats import norm\n",
    "import matplotlib.pyplot as plt\n",
    "from numpy import linalg as la\n",
    "import statsmodels.api as sm"
   ]
  },
  {
   "cell_type": "markdown",
   "metadata": {
    "slideshow": {
     "slide_type": "slide"
    }
   },
   "source": [
    "### Simulate data from binary response model and estimate LPM "
   ]
  },
  {
   "cell_type": "code",
   "execution_count": 2,
   "metadata": {
    "slideshow": {
     "slide_type": "-"
    }
   },
   "outputs": [],
   "source": [
    "# Simulate binary reponse data \n",
    "n=10000 # Number of observations\n",
    "beta=np.array([[0,2]]).T # parameters\n",
    "rng=random.default_rng(seed=43);\n",
    "x1 = rng.normal(0, 1, (n,len(beta)-1)) \n",
    "const=np.ones((n,1))\n",
    "x_sim=np.concatenate((const, x1), axis=1)\n",
    "\n",
    "def sim_y(x,  # exogenous variables\n",
    "    beta,  # slope coefficient\n",
    "    rng=random.default_rng()):\n",
    "    \n",
    "    beta=np.array(beta).reshape(-1,1)\n",
    "    k=beta.shape[0]\n",
    "    u = rng.normal(0, 1, (n,1))\n",
    "    y=1.0*(x@beta + u > 0);\n",
    "    \n",
    "    return y; \n",
    "\n",
    "y_sim= sim_y(x_sim, beta, rng)\n"
   ]
  },
  {
   "cell_type": "markdown",
   "metadata": {
    "slideshow": {
     "slide_type": "slide"
    }
   },
   "source": [
    "### Plot data, response probability fit, conditional variance "
   ]
  },
  {
   "cell_type": "code",
   "execution_count": 3,
   "metadata": {
    "slideshow": {
     "slide_type": "-"
    }
   },
   "outputs": [],
   "source": [
    "def plot_lpmfit(y, x, beta): \n",
    "    fig, axs = plt.subplots(1, 3, figsize=(16,5))\n",
    "    bhat=la.inv(x.T@x)@x.T@y\n",
    "    x1_grid=np.linspace(-2, 2,100);  # grid over x (for plotting)\n",
    "    fig.tight_layout(pad=3.0)\n",
    "    \n",
    "    # plot 1: LPM fit in scatter plot\n",
    "    axs[0].scatter(x[:,1], y);\n",
    "    axs[0].plot(x1_grid, bhat[0] +x1_grid*bhat[1])\n",
    "    axs[0].set(xlabel='x1', ylabel='y', title='Model fit vs data'); \n",
    "    axs[0].legend(('LPM fit','y'), loc='lower right')\n",
    "\n",
    "    # plot 2: true cdf and linear probility fit\n",
    "    axs[1].plot(x1_grid, norm.cdf(beta[0] +x1_grid*beta[1])) # true\n",
    "    axs[1].plot(x1_grid, bhat[0] +x1_grid*bhat[1]) # LPM fit\n",
    "    axs[1].set(xlabel='x1', ylabel='P(y=1|x1)', title='LPM fit vs P(y=1|x)'); \n",
    "    axs[1].legend(('True', 'LPM fit'), loc='lower right')\n",
    "\n",
    "    # plot 3: squared residuals and Var(y,x)\n",
    "    xbhat=(bhat[0] +x[:,1]*bhat[1])  # predicted probability\n",
    "    axs[2].scatter(x[:,1], xbhat*(1-xbhat))      # plot squared residuals\n",
    "    axs[2].set(xlabel='x1', ylabel='Var(y|x)', title='Var(y|x)'); \n"
   ]
  },
  {
   "cell_type": "markdown",
   "metadata": {
    "slideshow": {
     "slide_type": "slide"
    }
   },
   "source": [
    "### Graphical illustration of issues wth LPM\n",
    "* Predicted probability $P(y=1|x)=x\\beta$ not restricted to unit interval\n",
    "* Conditional variance $Var(y|x)=x\\beta(1-x\\beta)$ depends on x (heteroscedasticity) \n",
    "* LPM predicts negative variance (in areas with $x\\beta$ outside unit interval)"
   ]
  },
  {
   "cell_type": "code",
   "execution_count": 4,
   "metadata": {
    "scrolled": true,
    "slideshow": {
     "slide_type": "-"
    }
   },
   "outputs": [
    {
     "data": {
      "image/png": "[encoded data removed]",
      "text/plain": [
       "<Figure size 1152x360 with 3 Axes>"
      ]
     },
     "metadata": {
      "needs_background": "light"
     },
     "output_type": "display_data"
    }
   ],
   "source": [
    "plot_lpmfit(y_sim, x_sim, beta)"
   ]
  },
  {
   "cell_type": "markdown",
   "metadata": {
    "slideshow": {
     "slide_type": "slide"
    }
   },
   "source": [
    "### Replicate results on Married women's labor force participation\n",
    "(Example 15.1 Wooldridge (p. 563-564))\n",
    "\n",
    "Read in data and summarize key variables\n"
   ]
  },
  {
   "cell_type": "code",
   "execution_count": 5,
   "metadata": {
    "slideshow": {
     "slide_type": "-"
    }
   },
   "outputs": [
    {
     "data": {
      "text/html": [
       "<div>\n",
       "<style scoped>\n",
       "    .dataframe tbody tr th:only-of-type {\n",
       "        vertical-align: middle;\n",
       "    }\n",
       "\n",
       "    .dataframe tbody tr th {\n",
       "        vertical-align: top;\n",
       "    }\n",
       "\n",
       "    .dataframe thead th {\n",
       "        text-align: right;\n",
       "    }\n",
       "</style>\n",
       "<table border=\"1\" class=\"dataframe\">\n",
       "  <thead>\n",
       "    <tr style=\"text-align: right;\">\n",
       "      <th></th>\n",
       "      <th>inlf</th>\n",
       "      <th>nwifeinc</th>\n",
       "      <th>educ</th>\n",
       "      <th>exper</th>\n",
       "      <th>expersq</th>\n",
       "      <th>age</th>\n",
       "      <th>kidslt6</th>\n",
       "      <th>kidsge6</th>\n",
       "    </tr>\n",
       "  </thead>\n",
       "  <tbody>\n",
       "    <tr>\n",
       "      <th>count</th>\n",
       "      <td>753.000000</td>\n",
       "      <td>753.000000</td>\n",
       "      <td>753.000000</td>\n",
       "      <td>753.00000</td>\n",
       "      <td>753.000000</td>\n",
       "      <td>753.000000</td>\n",
       "      <td>753.000000</td>\n",
       "      <td>753.000000</td>\n",
       "    </tr>\n",
       "    <tr>\n",
       "      <th>mean</th>\n",
       "      <td>0.568393</td>\n",
       "      <td>20.128964</td>\n",
       "      <td>12.286853</td>\n",
       "      <td>10.63081</td>\n",
       "      <td>178.038513</td>\n",
       "      <td>42.537849</td>\n",
       "      <td>0.237716</td>\n",
       "      <td>1.353254</td>\n",
       "    </tr>\n",
       "    <tr>\n",
       "      <th>std</th>\n",
       "      <td>0.495630</td>\n",
       "      <td>11.634797</td>\n",
       "      <td>2.280246</td>\n",
       "      <td>8.06913</td>\n",
       "      <td>249.630849</td>\n",
       "      <td>8.072574</td>\n",
       "      <td>0.523959</td>\n",
       "      <td>1.319874</td>\n",
       "    </tr>\n",
       "    <tr>\n",
       "      <th>min</th>\n",
       "      <td>0.000000</td>\n",
       "      <td>-0.029057</td>\n",
       "      <td>5.000000</td>\n",
       "      <td>0.00000</td>\n",
       "      <td>0.000000</td>\n",
       "      <td>30.000000</td>\n",
       "      <td>0.000000</td>\n",
       "      <td>0.000000</td>\n",
       "    </tr>\n",
       "    <tr>\n",
       "      <th>25%</th>\n",
       "      <td>0.000000</td>\n",
       "      <td>13.025040</td>\n",
       "      <td>12.000000</td>\n",
       "      <td>4.00000</td>\n",
       "      <td>16.000000</td>\n",
       "      <td>36.000000</td>\n",
       "      <td>0.000000</td>\n",
       "      <td>0.000000</td>\n",
       "    </tr>\n",
       "    <tr>\n",
       "      <th>50%</th>\n",
       "      <td>1.000000</td>\n",
       "      <td>17.700001</td>\n",
       "      <td>12.000000</td>\n",
       "      <td>9.00000</td>\n",
       "      <td>81.000000</td>\n",
       "      <td>43.000000</td>\n",
       "      <td>0.000000</td>\n",
       "      <td>1.000000</td>\n",
       "    </tr>\n",
       "    <tr>\n",
       "      <th>75%</th>\n",
       "      <td>1.000000</td>\n",
       "      <td>24.466000</td>\n",
       "      <td>13.000000</td>\n",
       "      <td>15.00000</td>\n",
       "      <td>225.000000</td>\n",
       "      <td>49.000000</td>\n",
       "      <td>0.000000</td>\n",
       "      <td>2.000000</td>\n",
       "    </tr>\n",
       "    <tr>\n",
       "      <th>max</th>\n",
       "      <td>1.000000</td>\n",
       "      <td>96.000000</td>\n",
       "      <td>17.000000</td>\n",
       "      <td>45.00000</td>\n",
       "      <td>2025.000000</td>\n",
       "      <td>60.000000</td>\n",
       "      <td>3.000000</td>\n",
       "      <td>8.000000</td>\n",
       "    </tr>\n",
       "  </tbody>\n",
       "</table>\n",
       "</div>"
      ],
      "text/plain": [
       "             inlf    nwifeinc        educ      exper      expersq         age  \\\n",
       "count  753.000000  753.000000  753.000000  753.00000   753.000000  753.000000   \n",
       "mean     0.568393   20.128964   12.286853   10.63081   178.038513   42.537849   \n",
       "std      0.495630   11.634797    2.280246    8.06913   249.630849    8.072574   \n",
       "min      0.000000   -0.029057    5.000000    0.00000     0.000000   30.000000   \n",
       "25%      0.000000   13.025040   12.000000    4.00000    16.000000   36.000000   \n",
       "50%      1.000000   17.700001   12.000000    9.00000    81.000000   43.000000   \n",
       "75%      1.000000   24.466000   13.000000   15.00000   225.000000   49.000000   \n",
       "max      1.000000   96.000000   17.000000   45.00000  2025.000000   60.000000   \n",
       "\n",
       "          kidslt6     kidsge6  \n",
       "count  753.000000  753.000000  \n",
       "mean     0.237716    1.353254  \n",
       "std      0.523959    1.319874  \n",
       "min      0.000000    0.000000  \n",
       "25%      0.000000    0.000000  \n",
       "50%      0.000000    1.000000  \n",
       "75%      0.000000    2.000000  \n",
       "max      3.000000    8.000000  "
      ]
     },
     "execution_count": 5,
     "metadata": {},
     "output_type": "execute_result"
    }
   ],
   "source": [
    "import wooldridge\n",
    "df = wooldridge.data('mroz')\n",
    "y = df['inlf'] # binary response variable: Labor force participation\n",
    "xvars=['nwifeinc','educ', 'exper','expersq','age', 'kidslt6', 'kidsge6']\n",
    "x = sm.add_constant(df[xvars])\n",
    "df[['inlf']+xvars].describe()"
   ]
  },
  {
   "cell_type": "markdown",
   "metadata": {
    "slideshow": {
     "slide_type": "slide"
    }
   },
   "source": [
    "### Modeling married women's Labor force participation using LPM\n",
    "- Estimator for lpm is very simple (OLS)\n",
    "- Need to use heteroscedasticity robust standard errors (nice exercise)"
   ]
  },
  {
   "cell_type": "code",
   "execution_count": 6,
   "metadata": {},
   "outputs": [
    {
     "name": "stdout",
     "output_type": "stream",
     "text": [
      "            bhat (LMP)\n",
      "--------  ------------\n",
      "const      0.585519\n",
      "nwifeinc  -0.00340517\n",
      "educ       0.0379953\n",
      "exper      0.0394924\n",
      "expersq   -0.000596312\n",
      "age       -0.0160908\n",
      "kidslt6   -0.26181\n",
      "kidsge6    0.0130122\n"
     ]
    }
   ],
   "source": [
    "bhat_lpm=la.inv(x.T@x)@x.T@y\n",
    "print(tabulate({\"\":x.columns,\"bhat (LMP)\": bhat_lpm}, headers=\"keys\"))"
   ]
  },
  {
   "cell_type": "code",
   "execution_count": 7,
   "metadata": {
    "scrolled": false,
    "slideshow": {
     "slide_type": "slide"
    }
   },
   "outputs": [
    {
     "name": "stdout",
     "output_type": "stream",
     "text": [
      "                            OLS Regression Results                            \n",
      "==============================================================================\n",
      "Dep. Variable:                   inlf   R-squared:                       0.264\n",
      "Model:                            OLS   Adj. R-squared:                  0.257\n",
      "Method:                 Least Squares   F-statistic:                     63.15\n",
      "Date:                Sun, 27 Feb 2022   Prob (F-statistic):           3.02e-71\n",
      "Time:                        22:02:28   Log-Likelihood:                -423.89\n",
      "No. Observations:                 753   AIC:                             863.8\n",
      "Df Residuals:                     745   BIC:                             900.8\n",
      "Df Model:                           7                                         \n",
      "Covariance Type:                  HC0                                         \n",
      "==============================================================================\n",
      "                 coef    std err          z      P>|z|      [0.025      0.975]\n",
      "------------------------------------------------------------------------------\n",
      "const          0.5855      0.151      3.866      0.000       0.289       0.882\n",
      "nwifeinc      -0.0034      0.002     -2.245      0.025      -0.006      -0.000\n",
      "educ           0.0380      0.007      5.257      0.000       0.024       0.052\n",
      "exper          0.0395      0.006      6.834      0.000       0.028       0.051\n",
      "expersq       -0.0006      0.000     -3.155      0.002      -0.001      -0.000\n",
      "age           -0.0161      0.002     -6.743      0.000      -0.021      -0.011\n",
      "kidslt6       -0.2618      0.032     -8.281      0.000      -0.324      -0.200\n",
      "kidsge6        0.0130      0.013      0.967      0.334      -0.013       0.039\n",
      "==============================================================================\n",
      "Omnibus:                      169.137   Durbin-Watson:                   0.494\n",
      "Prob(Omnibus):                  0.000   Jarque-Bera (JB):               36.741\n",
      "Skew:                          -0.196   Prob(JB):                     1.05e-08\n",
      "Kurtosis:                       1.991   Cond. No.                     3.06e+03\n",
      "==============================================================================\n",
      "\n",
      "Notes:\n",
      "[1] Standard Errors are heteroscedasticity robust (HC0)\n",
      "[2] The condition number is large, 3.06e+03. This might indicate that there are\n",
      "strong multicollinearity or other numerical problems.\n"
     ]
    }
   ],
   "source": [
    "# You can also estimate linear regression models using canned routines from statsmodels\n",
    "# See https://www.statsmodels.org/stable/index.html\n",
    "mod = sm.OLS(y, x)\n",
    "out_lpm = mod.fit(cov_type='HC0') # use heteroscedasticity robust standard errors (HC0)\n",
    "print(out_lpm.summary())"
   ]
  },
  {
   "cell_type": "markdown",
   "metadata": {
    "slideshow": {
     "slide_type": "slide"
    }
   },
   "source": [
    "### Latent Variable Model (LVM)\n",
    "\n",
    "**Latent outcome variable, $y^*$**\n",
    "\\begin{equation*}\n",
    "y^*=x\\beta _{0}+\\varepsilon\n",
    "\\end{equation*}\n",
    "\n",
    "\n",
    "\n",
    "**Observed outcome variable, $y \\in {0,1}$**\n",
    "\\begin{equation*}\n",
    "y = \\mathbb{1}\\left(y^{\\ast }>0\\right)\n",
    "\\end{equation*}\n",
    "\n",
    "\n",
    "**Response probability**\n",
    "\\begin{eqnarray*}\n",
    "P(y=1|x) &=& P( y^{*}>0|x)  \\\\\n",
    "&=&  P(\\varepsilon >-x\\beta_{0}|x) \\\\\n",
    "&=&1-P(\\varepsilon <-x\\beta_{0}|x) \\\\\n",
    "&=&1-G( -x\\beta _{0}) \\text{... $G$ is CDF of $\\varepsilon$ conditional on $x$} \\\\\n",
    "&=&  G( x\\beta _{0})  \\text{... if $G$ is symmetric around zero}\n",
    "\\end{eqnarray*}\n"
   ]
  },
  {
   "cell_type": "markdown",
   "metadata": {
    "slideshow": {
     "slide_type": "slide"
    }
   },
   "source": [
    "### Symmetric distribution\n",
    "![title](img/symmetric.png)"
   ]
  },
  {
   "cell_type": "markdown",
   "metadata": {
    "slideshow": {
     "slide_type": "slide"
    }
   },
   "source": [
    "### Identification Issues\n",
    "**$\\beta$ cannot be identified in the latent variable model**\n",
    "\n",
    "\\begin{eqnarray*}\n",
    "    P\\left( y=1|x\\right) &=&P\\left( xc\\beta _{0}+c\\varepsilon >0|x\\right) \\\\ \n",
    "    &=&P\\left( x\\beta _{0}+\\varepsilon >0|x\\right)  \n",
    "\\end{eqnarray*}\n",
    "\n",
    "* Choice probability $P\\left( y=1|x\\right) $ does not change if e.g. $\\tilde{\\beta}=c\\beta _{0}$, $\\tilde{\\varepsilon}=c\\varepsilon $ \n",
    "* Sample objective function can be maximized for a continuum of values of $c$\n",
    "* $\\beta _{0}$ is only identified up to a scale factor. \n",
    "\n",
    "**Solution:** Normalize distribution of $\\varepsilon $ by for example by assuming fixed variance\n",
    "\n",
    "\n"
   ]
  },
  {
   "cell_type": "markdown",
   "metadata": {
    "slideshow": {
     "slide_type": "slide"
    }
   },
   "source": [
    "### Identification - Probit Example\n",
    "\n",
    "**Latent variable model with normal errors**\n",
    "\n",
    "\\begin{eqnarray*}\n",
    "y=\\mathbb{1}(x\\beta _{0}+\\varepsilon) \\\\\n",
    "\\varepsilon|x \\sim N\\left( 0,\\sigma _{0}^{2}\\right) \n",
    "\\end{eqnarray*}\n",
    "\n",
    "**Response probability**\n",
    "\n",
    "\\begin{eqnarray*}\n",
    "P(y=1|x) &=&  P(\\varepsilon >-x\\beta_{0}|x) \\\\\n",
    "&=&1-P(\\varepsilon <-x\\beta_{0}|x) \\\\\n",
    "&=&1-P(\\varepsilon/\\sigma_0 <-x\\beta_{0}/\\sigma_0|x) \\\\\n",
    "&=&1-\\Phi( -x\\beta _{0}/\\sigma_0) \\text{.... since $\\varepsilon/\\sigma_0 \\sim N(0,1)$} \\\\\n",
    "&=&  \\Phi( x\\beta _{0}/\\sigma_0)  \\text{... since normal distribution is  symmetric around zero} \\\\\n",
    "\\end{eqnarray*}\n",
    "\n",
    "* only the relative size of $\\beta_{0}/\\sigma _{0}=c\\beta _{0}/c\\sigma _{0}$ matters for the response probability and thus for the likelihood\n",
    "\n",
    "* therefore $\\beta _{0}$ and $\\sigma _{0}$ cannot be separately identified - only relative size $\\beta _{0}/\\sigma _{0}$ \n"
   ]
  },
  {
   "cell_type": "markdown",
   "metadata": {
    "slideshow": {
     "slide_type": "slide"
    }
   },
   "source": [
    "### Identification - Probit Example\n",
    "* We usually make the scale normalization $Var\\left( \\varepsilon|x\\right)=\\sigma _{0}=1$\n",
    "\n",
    "\\begin{equation*}\n",
    "\tP\\left( y=1|x\\right) =\\Phi \\left( x\\beta \\right) \\text{ where }\\beta =\\beta _{0}/\\sigma _{0}\n",
    "\\end{equation*}\n",
    "\n",
    "- After the normalization $\\beta $ is identified.\n",
    "- Important to have in mind when interpreting $\\beta $ in binary choice models\n",
    "- Effect of $x$ *seems* smaller when $Var\\left( \\varepsilon|x\\right) $ is large\n",
    "* If $\\beta=\\beta _{0}/\\sigma _{0}$ is identifiable, so is the relative size of two coefficients $x_l$ and $x_k$ \n",
    "$$\\frac{\\beta^l _{0}/\\sigma _{0}}{\\beta^k _{0}/\\sigma _{0}}\n",
    "=\\frac{\\beta^l _{0}}{\\beta^k _{0}}\n",
    "$$"
   ]
  },
  {
   "cell_type": "markdown",
   "metadata": {
    "slideshow": {
     "slide_type": "slide"
    }
   },
   "source": [
    "### Probit and Logit are two very popular specifications of G\n",
    "\n",
    "**Probit:** G is the CDF of the standard *normal* distribution\n",
    "\n",
    "$$G(z)=\\Phi(z)$$\n",
    "\n",
    "whose derivative is the standard normal density\n",
    "\n",
    "\\begin{eqnarray*}g(z)&=&d\\Phi(z)/dz=\\phi(z)\\\\\n",
    "&=&(2\\pi)^{-1/2}\\exp(-z^2/2)\n",
    "\\end{eqnarray*}\n",
    "\n",
    "**Logit:** G is the CDF of the standard *logistic* distribution\n",
    "\n",
    "$$G(z)=\\Lambda(z)=\\frac{\\exp(z)}{1+\\exp(z)}=\\frac{1}{1+\\exp(-z)}$$\n",
    "\n",
    "whose derivative is the standard logistic density\n",
    "\n",
    "$$g(z)=d\\Lambda(z)/dz=\\exp(z)/[1+\\exp(z)]^2=\\exp(-z)/[1+\\exp(-z)]^2$$\n"
   ]
  },
  {
   "cell_type": "markdown",
   "metadata": {
    "slideshow": {
     "slide_type": "slide"
    }
   },
   "source": [
    "### Python Implementation "
   ]
  },
  {
   "cell_type": "code",
   "execution_count": 8,
   "metadata": {
    "slideshow": {
     "slide_type": "-"
    }
   },
   "outputs": [],
   "source": [
    "def G(z, model='probit'):\n",
    "    # Index function for probit and logit models\n",
    "    if model=='probit':\n",
    "        return norm.cdf(z)\n",
    "    elif model=='logit':\n",
    "        return 1/(1+np.exp(-z))\n",
    "\n",
    "def g(z, model='probit'):\n",
    "    # Derivative: g(z)=dG(z)/dz\n",
    "    if model=='probit':\n",
    "        return norm.pdf(z)\n",
    "    elif model=='logit':\n",
    "        z=-np.abs(z) # use transformation to avoid overflow (ok since g is symmetric)\n",
    "        return np.exp(z)/(1+np.exp(z))**2"
   ]
  },
  {
   "cell_type": "markdown",
   "metadata": {
    "slideshow": {
     "slide_type": "slide"
    }
   },
   "source": [
    "### Some graphs \n",
    "(output: see next slide)"
   ]
  },
  {
   "cell_type": "code",
   "execution_count": 9,
   "metadata": {
    "slideshow": {
     "slide_type": "-"
    }
   },
   "outputs": [],
   "source": [
    "def plot_G(scale=1): \n",
    "    # If scale=1 plot_G plots the cdf and pdf for standard normal and standard logistic\n",
    "    # If scale is specified, variance of logistic distribution is scaled by 1/scale. '\n",
    "    # If scale=1/(np.pi/np.sqrt(3)) the variance of logistic is 1 (like standard normal)\n",
    "    # If scale=0.25/0.4, logistic is calibrated to have identical density at z=0. i.e. g(0)=0.4 (like standard normal, 0.25 for standard logistic)\n",
    "\n",
    "    fig, axs = plt.subplots(1, 2, figsize=(16,8))\n",
    "    z=np.linspace(-4,4,100);  # grid over z (for plotting)\n",
    "    fig.tight_layout(pad=3.0)\n",
    "    \n",
    "    # plot 1: CDF Logit and Probit\n",
    "    axs[0].plot(z, G(z, 'probit')) \n",
    "    axs[0].plot(z, G(z/scale, 'logit')) \n",
    "    axs[0].set(xlabel='z', ylabel='G(z)', title='CDF'); \n",
    "    axs[0].legend(('Probit', 'Logit'), loc='lower right')\n",
    "\n",
    "    # plot 2: PDF Logit and Probit\n",
    "    axs[1].plot(z, g(z, 'probit')) \n",
    "    axs[1].plot(z, 1/scale*g(z/scale, 'logit')) \n",
    "    axs[1].set(xlabel='z', ylabel='g(z)', title='PDF'); \n",
    "    axs[1].legend(('Probit', 'Logit'), loc='lower right')"
   ]
  },
  {
   "cell_type": "markdown",
   "metadata": {
    "slideshow": {
     "slide_type": "slide"
    }
   },
   "source": [
    "### Unscaled distributions "
   ]
  },
  {
   "cell_type": "code",
   "execution_count": 10,
   "metadata": {
    "slideshow": {
     "slide_type": "-"
    }
   },
   "outputs": [
    {
     "data": {
      "image/png": "[encoded data removed]",
      "text/plain": [
       "<Figure size 1152x576 with 2 Axes>"
      ]
     },
     "metadata": {
      "needs_background": "light"
     },
     "output_type": "display_data"
    }
   ],
   "source": [
    "plot_G(scale=1) "
   ]
  },
  {
   "cell_type": "markdown",
   "metadata": {
    "slideshow": {
     "slide_type": "slide"
    }
   },
   "source": [
    "###  Rescaled distributions\n",
    "Calibrate to have identical density at 0 \n",
    "\n",
    "When unscaled density is 0.4 for standard normal and 0.25 for standard logistic"
   ]
  },
  {
   "cell_type": "code",
   "execution_count": 11,
   "metadata": {
    "slideshow": {
     "slide_type": "-"
    }
   },
   "outputs": [
    {
     "data": {
      "image/png": "[encoded data removed]",
      "text/plain": [
       "<Figure size 1152x576 with 2 Axes>"
      ]
     },
     "metadata": {
      "needs_background": "light"
     },
     "output_type": "display_data"
    }
   ],
   "source": [
    "plot_G(scale=0.25/0.4)"
   ]
  },
  {
   "cell_type": "markdown",
   "metadata": {
    "slideshow": {
     "slide_type": "slide"
    }
   },
   "source": [
    "### Probit or Logit\n",
    "Both these choices implies $0<G(z)<1$ so that \n",
    "1. predictions of $P(y=1|x)$ are never outside the unit interval \n",
    "1. condtional variance $Var(y|x)$ is always positve\n",
    "\n",
    "Logistic and normal distributions are very similar\n",
    "- Both symmetric\n",
    "- logistic distribution have longer tails\n",
    "- The derivatibes $g(z)\\equiv dG(z)/dz>0$  are both positive over infinite domain\n",
    "\n",
    "Scale is different\n",
    "- **Probit:** std. dev is $\\sigma=1$\n",
    "- **Logit :** std. dev is $\\sigma \\simeq \\pi/\\sqrt(3)=1.8137993642342178$\n",
    "- but scale differences are irrelevant (and unidentified)\n",
    "- .... and average partial effects and the ratio $\\hat{\\beta}_l/\\hat{\\beta}_k$ are similar across specifications\n",
    "\n",
    "\n",
    "\n"
   ]
  },
  {
   "cell_type": "markdown",
   "metadata": {
    "slideshow": {
     "slide_type": "slide"
    }
   },
   "source": [
    "### Estimation: Likelihood contributions and derivatives\n",
    "Given a random sample $\\left\\{ y_{i},x_{i}\\right\\}\n",
    "_{i=1,..,N}$ we can compute the density of $y_i$ conditional on $x_i$\n",
    "\n",
    "$$\n",
    "f(y_i|x_i;\\beta)=G(x_i\\beta) ^{y_i}[1-G(x_i\\beta) ] ^{1-y_i}\n",
    "$$\n",
    "\n",
    "log likelihood for observation i\n",
    "\n",
    "$$\n",
    "\\ell_i(\\beta)=y_i \\log[G(x_i\\beta)] + (1-y_i)\\log[1-G(x_i\\beta)]\n",
    "$$\n",
    "\n",
    "sample log-Likelihood function\n",
    "\n",
    "\\begin{equation*}\n",
    "\\log\\mathcal{L(\\beta)}=N^{-1}\\sum_{i=1}^{N} \\ell_i(\\beta)\n",
    "\\end{equation*}\n",
    "The $1 \\times K$ vector of derivatives for the conditional likelihood contribution can be expressed as\n",
    "\n",
    "$$\n",
    "\\nabla_{\\beta} \\ell_i(\\beta)= \\frac{g(x_i\\beta)x_i y_i}{G(x_i\\beta)} - \\frac{g(x_i\\beta)x_i (1-y_i)}{1-G(x_i\\beta)}\n",
    "= \\frac{g(x_i\\beta)x_i [y_i-G(x_i\\beta)]}{G(x_i,\\beta)(1-G(x_i\\beta))}\n",
    "$$"
   ]
  },
  {
   "cell_type": "markdown",
   "metadata": {
    "slideshow": {
     "slide_type": "slide"
    }
   },
   "source": [
    "### Python Implementation of log likelihood contributions and derivatives"
   ]
  },
  {
   "cell_type": "code",
   "execution_count": 12,
   "metadata": {},
   "outputs": [],
   "source": [
    "def logl_i(y, x, beta, model='probit', out='logl'):\n",
    "    beta=np.array(beta).reshape(-1,1)\n",
    "    xb=x@beta        # Linear index xb=x1*b1+x2*b2+...+xK*bK\n",
    "    Gx=G(xb, model)  # Response probability at x\n",
    "    Gx=np.minimum(np.maximum(Gx,1e-15),1-1e-15)\n",
    "\n",
    "    logl = np.log(Gx)*y + np.log(1-Gx)*(1-y)     # Nx1 vector of log-likelihood contributions\n",
    "    if out=='logl': \n",
    "        return logl\n",
    "    \n",
    "    # Compute derivarives of logl wrt beta\n",
    "    gx=g(xb, model)                              # Density at xb\n",
    "    dlogl=gx*x*(y-Gx)/( Gx* (1-Gx))              # NxK matrix of derivatives of logl\n",
    " \n",
    "    if out=='dlogl': \n",
    "        return dlogl\n",
    "\n",
    "    if out=='all':         \n",
    "        return xb, Gx, gx, logl, dlogl"
   ]
  },
  {
   "cell_type": "markdown",
   "metadata": {
    "slideshow": {
     "slide_type": "slide"
    }
   },
   "source": [
    "### Maximum Likelihood (an M-Estimator)\n",
    "We can trivially turn the maximization problem involved in MLE into a minimization problem \n",
    "\n",
    "\\begin{eqnarray*}\n",
    "\\hat{\\beta}_{MLE}\n",
    "&=&\\arg \\max_{\\beta} N^{-1}\\sum_{i=1}^{N} \\log f(y_i|x_i;\\beta) \\\\\n",
    "&=&\\arg \\min_{\\theta}  N^{-1}\\sum_{i=1}^{N} q(w_i, \\theta)\n",
    "\\end{eqnarray*}\n",
    "where we take \n",
    "- $w_i=(x_i,y_i)$ as the observed data for unit i\n",
    "- $\\theta=\\beta$ as the parameters to estimate\n",
    "- $q(w_i, \\theta)=-\\log f(y_i|x_i;\\beta)=-\\ell_i(\\beta)$ as the objective function whose expectation we wish to minimize\n",
    "\n"
   ]
  },
  {
   "cell_type": "markdown",
   "metadata": {
    "slideshow": {
     "slide_type": "slide"
    }
   },
   "source": [
    "### Python Implementation of $\\hat{\\beta}_{MLE}$"
   ]
  },
  {
   "cell_type": "code",
   "execution_count": 13,
   "metadata": {
    "slideshow": {
     "slide_type": "-"
    }
   },
   "outputs": [],
   "source": [
    "from scipy.optimize import minimize\n",
    "\n",
    "def estim_mle(y, x, model, use_grad=1):\n",
    "    x = np.array(x)\n",
    "    N,k=x.shape    \n",
    "    y = np.array(y).reshape(N, 1)\n",
    "\n",
    "    # objective function is negative of mean log-likelihood \n",
    "    q=lambda beta:    - np.mean(logl_i(y, x,beta, model));\n",
    "\n",
    "    beta_start=np.zeros((k,1));  # use vector of zeros starting values   \n",
    "    \n",
    "    if use_grad==0: \n",
    "        out=minimize(q, x0=beta_start) \n",
    "    \n",
    "    if use_grad==1: \n",
    "        grad=lambda beta: - np.mean(logl_i(y, x,beta, model, out='dlogl'), axis=0);\n",
    "        out=minimize(q, x0=beta_start, jac=grad)\n",
    "        \n",
    "    return out"
   ]
  },
  {
   "cell_type": "markdown",
   "metadata": {
    "slideshow": {
     "slide_type": "slide"
    }
   },
   "source": [
    "### Output from minimize"
   ]
  },
  {
   "cell_type": "code",
   "execution_count": 14,
   "metadata": {
    "slideshow": {
     "slide_type": "-"
    }
   },
   "outputs": [
    {
     "name": "stdout",
     "output_type": "stream",
     "text": [
      "      fun: 0.5335526575489804\n",
      " hess_inv: array([[ 5.50685656e+02,  5.61909246e-01, -1.66577680e+01,\n",
      "        -3.10351858e+00,  1.18381597e-01, -7.05986737e+00,\n",
      "        -4.05125350e+01, -2.15702309e+01],\n",
      "       [ 5.61909246e-01,  4.50366173e-02, -1.01992400e-01,\n",
      "        -1.85498551e-03,  5.04485027e-04, -7.06271603e-03,\n",
      "         1.34514397e-01, -9.57380331e-03],\n",
      "       [-1.66577680e+01, -1.01992400e-01,  1.41318075e+00,\n",
      "        -6.10039512e-02,  1.98291031e-03,  3.76307781e-02,\n",
      "        -1.09774238e+00,  2.89478075e-01],\n",
      "       [-3.10351858e+00, -1.85498551e-03, -6.10039512e-02,\n",
      "         8.30768986e-01, -2.54178809e-02, -1.08867953e-02,\n",
      "        -1.80713614e-01,  1.83240098e-01],\n",
      "       [ 1.18381597e-01,  5.04485027e-04,  1.98291031e-03,\n",
      "        -2.54178809e-02,  9.13613145e-04, -1.06832775e-03,\n",
      "         2.24709176e-03, -1.45051188e-03],\n",
      "       [-7.05986737e+00, -7.06271603e-03,  3.76307781e-02,\n",
      "        -1.08867953e-02, -1.06832775e-03,  1.49579447e-01,\n",
      "         9.86704745e-01,  2.54849561e-01],\n",
      "       [-4.05125350e+01,  1.34514397e-01, -1.09774238e+00,\n",
      "        -1.80713614e-01,  2.24709176e-03,  9.86704745e-01,\n",
      "         2.76050125e+01,  2.14861519e+00],\n",
      "       [-2.15702309e+01, -9.57380331e-03,  2.89478075e-01,\n",
      "         1.83240098e-01, -1.45051188e-03,  2.54849561e-01,\n",
      "         2.14861519e+00,  3.75532816e+00]])\n",
      "      jac: array([ 1.94556152e-09,  1.38714391e-07,  3.33207416e-08, -1.39479105e-09,\n",
      "       -6.16108466e-07,  7.34437130e-08,  4.19990598e-09,  1.17214694e-08])\n",
      "  message: 'Optimization terminated successfully.'\n",
      "     nfev: 37\n",
      "      nit: 31\n",
      "     njev: 37\n",
      "   status: 0\n",
      "  success: True\n",
      "        x: array([ 0.42545195, -0.02134517,  0.22117037,  0.20586954, -0.0031541 ,\n",
      "       -0.08802437, -1.44335402,  0.06011226])\n"
     ]
    }
   ],
   "source": [
    "model='logit'\n",
    "out=estim_mle(y, x, model, use_grad=1)\n",
    "print(out)"
   ]
  },
  {
   "cell_type": "markdown",
   "metadata": {
    "slideshow": {
     "slide_type": "slide"
    }
   },
   "source": [
    "### Output from minimize converted into estimation output"
   ]
  },
  {
   "cell_type": "code",
   "execution_count": 15,
   "metadata": {
    "scrolled": true,
    "slideshow": {
     "slide_type": "-"
    }
   },
   "outputs": [
    {
     "name": "stdout",
     "output_type": "stream",
     "text": [
      "dict_keys(['fun', 'jac', 'hess_inv', 'nfev', 'njev', 'status', 'success', 'message', 'x', 'nit'])\n",
      "messsage: Optimization terminated successfully.\n",
      "minimize used 31 iterations, 37 function evaluations and 37 evaluations of the jacobian\n",
      "\n",
      "Parameter estimates from logit \n",
      "                bhat          se     t-value\n",
      "--------  ----------  ----------  ----------\n",
      "const         0.4255      0.8552      0.4975\n",
      "nwifeinc     -0.0213      0.0077     -2.7600\n",
      "educ          0.2212      0.0433      5.1054\n",
      "exper         0.2059      0.0332      6.1980\n",
      "expersq      -0.0032      0.0011     -2.8635\n",
      "age          -0.0880      0.0141     -6.2455\n",
      "kidslt6      -1.4434      0.1915     -7.5384\n",
      "kidsge6       0.0601      0.0706      0.8512\n",
      "mean logl -0.533553\n",
      "\n",
      "g*Hinv*g.T: Chi-Square test for gradients beein zero\n",
      " 1.1916952457873383e-15\n",
      "\n",
      "jac: derivative of (negative of) likehood wrt beta\n",
      " [ 1.94556152e-09  1.38714391e-07  3.33207416e-08 -1.39479105e-09\n",
      " -6.16108466e-07  7.34437130e-08  4.19990598e-09  1.17214694e-08]\n"
     ]
    }
   ],
   "source": [
    "model='logit'\n",
    "out=estim_mle(y, x, model, use_grad=1)\n",
    "print(out.keys())\n",
    "print('messsage:', out.message)\n",
    "print('minimize used %d iterations, %d function evaluations and %d evaluations of the jacobian' %  \n",
    "      (out.nit, out.nfev, out.njev))\n",
    "N=len(y)\n",
    "se=np.sqrt(np.diag(out.hess_inv/N));  # standard errors (square rooot of diaginal of Avar=Hinv/N)\n",
    "table={\"\":x.columns, \"bhat \": out.x, \"se \":  se , \"t-value \": out.x/se}\n",
    "print('\\nParameter estimates from', model, '\\n',tabulate(table, headers=\"keys\",floatfmt=\"10.4f\"))\n",
    "print('mean logl %g' % -out.fun)\n",
    "print('\\ng*Hinv*g.T: Chi-Square test for gradients beein zero\\n', out.jac@ out.hess_inv @out.jac.T)\n",
    "print('\\njac: derivative of (negative of) likehood wrt beta\\n', out.jac)\n",
    "# print(out)"
   ]
  },
  {
   "cell_type": "markdown",
   "metadata": {
    "slideshow": {
     "slide_type": "slide"
    }
   },
   "source": [
    "### Inference\n",
    "For inference we use the expectation of the Hessian\n",
    "$$\n",
    "\\text{Avar}(\\hat{\\beta})=-A_0/N=-E[H(x_i,\\beta_0)]/N\n",
    "$$\n",
    "\n",
    "\n",
    "To obtain the $K \\times K$ Hessian matrix of the likelihood we differentiate once more and obtain\n",
    "$$\n",
    "H(x_i,\\beta)\n",
    "= -\\frac{g(x_i,\\beta)^2 x'_i x_i}{G(x_i,\\beta)(1-G(x_i,\\beta))} + [y_i-G(x_i,\\beta)]L(x_i, \\beta)\n",
    "$$\n",
    "where $L(x_i, \\beta)$ in the last term is a complicated function of $x_i$ but has expectation 0 when likelihood is maximized. So we have\n",
    "$$\n",
    "-E[H(x_i,\\beta_0)|x_i]= A(x_i, \\beta_0)= \\frac{g(x_i,\\beta_0)^2 x'_i x_i}{G(x_i,\\beta_0)(1-G(x_i,\\beta_0))}\n",
    "$$\n",
    "\n",
    "We can then obtain an estimate of $\\text{Avar}(\\beta)$ as\n",
    "$$\n",
    "\\widehat{\\text{Avar}(\\hat{\\beta})}\n",
    "=\\left\\{ N^{-1}\\sum_{i=1}^N A(x_i, \\beta)^{-1}\\right\\} /N\n",
    "= \\left\\{ \n",
    "\\sum_{i=1}^N\n",
    "\\frac{g\\left(x_i,\\hat{\\beta}\\right)^2 x'_i x_i}{G(x_i,\\hat{\\beta})(1-G(x_i,\\hat{\\beta}))} \n",
    "\\right\\}^{-1} \n",
    "$$"
   ]
  },
  {
   "cell_type": "markdown",
   "metadata": {
    "slideshow": {
     "slide_type": "slide"
    }
   },
   "source": [
    "### Python Implementation $\\widehat{\\text{Avar}(\\hat{\\beta})}$"
   ]
  },
  {
   "cell_type": "code",
   "execution_count": 16,
   "metadata": {},
   "outputs": [
    {
     "name": "stdout",
     "output_type": "stream",
     "text": [
      "Standard errors\n",
      "Ainv [0.86037 0.00842 0.04344 0.03206 0.00102 0.01457 0.20358 0.07479]\n",
      "Binv [0.86335 0.00784 0.04273 0.03203 0.00103 0.01479 0.20513 0.07043]\n",
      "sandwich [0.85916 0.00907 0.04442 0.03227 0.00101 0.01443 0.20303 0.07983]\n"
     ]
    }
   ],
   "source": [
    "# derivatives of likelihood contribution\n",
    "def avar(y, x, beta, model, cov_type='Ainv'):\n",
    "    x = np.array(x)\n",
    "    N,k=x.shape    \n",
    "    y = np.array(y).reshape(N, 1)\n",
    "    beta = np.array(beta).reshape(k, 1)\n",
    "\n",
    "    xb, Gx, gx, logl, dlogl  = logl_i(y, x, beta, model, out='all')\n",
    "    A=(gx*x).T @(gx*x/(Gx* (1-Gx)))\n",
    "    if cov_type=='Ainv':\n",
    "        return la.inv(A)    \n",
    "\n",
    "    B=(dlogl).T @ dlogl # equals outer product of scores [sum_i(s_i*s_i')]\n",
    "    if cov_type=='Binv':\n",
    "        return la.inv(B)\n",
    "    if cov_type=='sandwich':\n",
    "        return la.inv(A) @ B @ la.inv(A)\n",
    "\n",
    "bhat=out.x\n",
    "print('Standard errors')\n",
    "for cov_type in ['Ainv', 'Binv', 'sandwich']:\n",
    "    V=avar(y, x, bhat, model, cov_type)\n",
    "    se= np.sqrt(np.diag(V))\n",
    "    print(cov_type, se.round(5))\n"
   ]
  },
  {
   "cell_type": "markdown",
   "metadata": {
    "slideshow": {
     "slide_type": "slide"
    }
   },
   "source": [
    "### Compare results with and without analytical derivatives"
   ]
  },
  {
   "cell_type": "code",
   "execution_count": 17,
   "metadata": {
    "slideshow": {
     "slide_type": "-"
    }
   },
   "outputs": [
    {
     "name": "stdout",
     "output_type": "stream",
     "text": [
      "number of iterations - with gradients    :  31\n",
      "number of iterations - without gradients :  31\n",
      "number of function evaluations - with gradients   :  37\n",
      "number of function evaluations - without gradients:  333\n",
      "number of function evaluations - without gradients/(1+# of parameters):  37.0\n"
     ]
    }
   ],
   "source": [
    "# Output from minimize with and without derivatives\n",
    "res_p_nograd=estim_mle(y,x,model, use_grad=0)\n",
    "res_p=estim_mle(y,x,model, use_grad=1)\n",
    "print('number of iterations - with gradients    : ', res_p.nit)\n",
    "print('number of iterations - without gradients : ', res_p_nograd.nit)\n",
    "print('number of function evaluations - with gradients   : ', res_p.nfev)\n",
    "print('number of function evaluations - without gradients: ', res_p_nograd.nfev)\n",
    "print('number of function evaluations - without gradients/(1+# of parameters): ', res_p_nograd.nfev/9)"
   ]
  },
  {
   "cell_type": "markdown",
   "metadata": {
    "slideshow": {
     "slide_type": "slide"
    }
   },
   "source": [
    "### Replicate results in Example 15.2 (Wooldridge, p. 580)\n",
    "Table 15.1: LPM, Logit and Probit Estimates of of Labor Force Participation"
   ]
  },
  {
   "cell_type": "code",
   "execution_count": 18,
   "metadata": {
    "slideshow": {
     "slide_type": "-"
    }
   },
   "outputs": [
    {
     "name": "stdout",
     "output_type": "stream",
     "text": [
      "\n",
      "Parameter Estimates\n",
      "             bhat (lpm)     se(lpm)    bhat (probit)    se(probit)    bhat (logit)    se(logit)\n",
      "--------  ------------  ----------  ---------------  ------------  --------------  -----------\n",
      "const            0.586       0.151            0.270         0.508           0.425        0.860\n",
      "nwifeinc        -0.003       0.002           -0.012         0.005          -0.021        0.008\n",
      "educ             0.038       0.007            0.131         0.025           0.221        0.043\n",
      "exper            0.039       0.006            0.123         0.019           0.206        0.032\n",
      "expersq         -0.001       0.000           -0.002         0.001          -0.003        0.001\n",
      "age             -0.016       0.002           -0.053         0.008          -0.088        0.015\n",
      "kidslt6         -0.262       0.032           -0.868         0.118          -1.443        0.204\n",
      "kidsge6          0.013       0.013            0.036         0.044           0.060        0.075\n"
     ]
    }
   ],
   "source": [
    "# LPM estimated by OLS: \n",
    "beta_lpm=la.inv(x.T@x)@x.T@y  \n",
    "\n",
    "# Estimate probit and logit using MLE \n",
    "for model in [\"probit\", \"logit\"]:\n",
    "    out[model]=estim_mle(y,x,model)\n",
    "    out[model].beta=out[model].x\n",
    "    out[model].avar=avar(y, x, out[model].beta, model, cov_type='Ainv')\n",
    "    out[model].se=np.sqrt(np.diag(out[model].avar))\n",
    "    \n",
    "# Table with parameter estimates\n",
    "table={\"\":x.columns,\"bhat (lpm)\": beta_lpm, \"se(lpm)\": out_lpm.bse, \n",
    "       \"bhat (probit)\": out['probit'].beta, \"se(probit)\": out['probit'].se,  \n",
    "       \"bhat (logit)\": out['logit'].beta, \"se(logit)\": out['logit'].se}  \n",
    "print('\\nParameter Estimates\\n', tabulate(table, headers=\"keys\",floatfmt=\"10.3f\"))\n"
   ]
  },
  {
   "cell_type": "markdown",
   "metadata": {
    "slideshow": {
     "slide_type": "slide"
    }
   },
   "source": [
    "### Goodness of fit"
   ]
  },
  {
   "cell_type": "code",
   "execution_count": 19,
   "metadata": {
    "slideshow": {
     "slide_type": "-"
    }
   },
   "outputs": [
    {
     "name": "stdout",
     "output_type": "stream",
     "text": [
      "                                lpm          logit      probit\n",
      "------------------------------  -------  ----------  ----------\n",
      "Log-likelihood                             -401.765    -401.302\n",
      "Log-likelihood (only constant)             -514.873    -514.873\n",
      "Pseudo R^2                      0.26422       0.220       0.221\n",
      "\n",
      "Number of observartions, N=753\n",
      "\n"
     ]
    }
   ],
   "source": [
    "# Log-likelihood and Pseudo-R-squared\n",
    "const=np.array(x['const']).reshape(-1,1)\n",
    "N=len(y)\n",
    "for model in [\"probit\", \"logit\"]:\n",
    "    onlyconst=estim_mle(y,const,model, use_grad=1)\n",
    "    out[model].logl0=-onlyconst.fun*N        # log-likelihood at restricted model (only constant)\n",
    "\n",
    "    out[model].logl=-out[model].fun*N  # log-likelihood at unrestricted model (estimated above)\n",
    "    out[model].R2=1.0-out[model].logl/out[model].logl0 # Pseudo R-squred\n",
    "\n",
    "    \n",
    "r=np.array(y)-np.array(x)@bhat_lpm\n",
    "R2_lpm=1-sum(r**2)/sum((y-np.mean(y))**2)\n",
    "\n",
    "table={\"\":[\"Log-likelihood\", \"Log-likelihood (only constant)\",  \"Pseudo R^2\"], \n",
    "       \"lpm \" :   [\"\", \"\", R2_lpm.round(5)],\n",
    "       \"logit \" : [out['logit'].logl, out['logit'].logl0, out['logit'].R2 ],\n",
    "       \"probit \" :[out['probit'].logl, out['probit'].logl0, out['probit'].R2]}\n",
    "\n",
    "print(tabulate(table, headers=\"keys\",floatfmt=\"10.3f\"))\n",
    "print(\"\\nNumber of observartions, N=%i\\n\" % N)\n",
    " "
   ]
  },
  {
   "cell_type": "markdown",
   "metadata": {
    "slideshow": {
     "slide_type": "slide"
    }
   },
   "source": [
    "### Partial Effects - computation\n",
    "\n",
    "**Discrete change**\n",
    "\n",
    "\\begin{equation*}\n",
    "PE_{\\Delta x_{k}}\\left( x^{0}\\right) =P\\left(\n",
    "y=1|x_{1}^{0},x_{2}^{0},..,x_{k}^{0}+\\Delta x_{k}^{0},..,x_{K}^{0}\\right)\n",
    "-P\\left( y=1|x^{0}\\right) \n",
    "\\end{equation*}\n",
    "\n",
    "If $x_{k}$ is a dummy variable: $x_{k}=0$, $\\Delta x_{k}=1$%\n",
    "\n",
    "Remark: If $x_{k}$ is continuous, then we often take effect relative to $%\n",
    "\\Delta x_{k}$.%\n",
    "\n",
    "**Marginal Change**\n",
    "\n",
    "\\begin{equation*}\n",
    "\\left. \\frac{\\partial P\\left( y=1|x\\right) }{\\partial x_{k}}\\right \\vert\n",
    "_{x=x^{0}}=\\underset{\\text{density, }>0}{\\underbrace{g\\left( x^{0}\\beta \\right) }}\\beta _{k}\\text{, where }g\\left( z\\right) =\\frac{\\partial G}{%\n",
    "\\partial z}\n",
    "\\end{equation*}\n",
    "\n"
   ]
  },
  {
   "cell_type": "markdown",
   "metadata": {
    "slideshow": {
     "slide_type": "slide"
    }
   },
   "source": [
    "### Partial Effects - identification\n",
    "**Scale of $\\beta $ or $G$ is irrelevant for the partial effects.**\n",
    "\n",
    "Suppose $P\\left( y=1|x\\right) =G\\left( x\\beta \\right) =\\tilde{G}\\left(\n",
    "x\\beta /\\sigma \\right) $\n",
    "\n",
    "\\begin{equation*}\n",
    "\\left. \\frac{\\partial P\\left( y=1|x\\right) }{\\partial x_{k}}\\right \\vert\n",
    "_{x=x^{0}}=\\underset{\\text{density, }>0}{\\underbrace{\\tilde{g}\\left(\n",
    "x^{0 }\\beta /\\sigma \\right) }}\\beta _{k}/\\sigma \\text{, where }\\tilde{g} \\left( z\\right) =\\frac{\\partial \\tilde{G}}{\\partial z}\n",
    "\\end{equation*}\n",
    "\n",
    "- Partial effect only depends on $\\beta /\\sigma $- which is what we can\n",
    "identify\n",
    "- Hence, the normalization $\\sigma =1$ is without loss of generality - if interest is in the partial effect\n",
    "- $\\beta _{j}$ determines the sign of partial effect (in binary choice\n",
    "models)\n",
    "\n"
   ]
  },
  {
   "cell_type": "markdown",
   "metadata": {
    "slideshow": {
     "slide_type": "slide"
    }
   },
   "source": [
    "### Partial Effects\n",
    "\n",
    "In LPM - partial effects are always equal to $\\beta _{j}$\n",
    "\n",
    "In LVM - $\\beta _{j}$ determines the sign of partial effects - but magnitude depends on $x^{0}$\n",
    "\n",
    "Which $x^{0}$ to choose?\n",
    "\n",
    "1. $x^{0}$ sample mean of $x$\n",
    "2. sample enumeration (evaluate PE at the data and take the sample average)\n",
    "\n",
    "\n",
    "- 1) estimates partial effect at the average (PEA)\n",
    "- 2) estimates average partial effect (APE)\n",
    "\n",
    "APE and PEA may be very different since $p(x) $ is nonlinear (example on next slide)\n"
   ]
  },
  {
   "cell_type": "markdown",
   "metadata": {
    "slideshow": {
     "slide_type": "slide"
    }
   },
   "source": [
    "### Partial effect as function of $x_1$\n",
    "Suppose $\\beta _{1}<0$\n",
    "![title](img/partial.png)"
   ]
  },
  {
   "cell_type": "markdown",
   "metadata": {
    "slideshow": {
     "slide_type": "slide"
    }
   },
   "source": [
    "### LPM is often a good approximation of APE\n",
    "* $\\hat{\\beta}_{LPM}=(x'x)^{-1}x'y$ can be a good approximation of average partial effects (APE)\n",
    "* if both $x$ and $\\varepsilon$ are normally LPM is asymptotically  equivalent to APE for probit\n",
    "* LPM inadequate if interest lies in the distribution of partial effects"
   ]
  },
  {
   "cell_type": "code",
   "execution_count": 20,
   "metadata": {
    "scrolled": false,
    "slideshow": {
     "slide_type": "-"
    }
   },
   "outputs": [
    {
     "name": "stdout",
     "output_type": "stream",
     "text": [
      "  beta, true    parameter estimate, bhat_lpm    Avereage partial effects, APE\n",
      "------------  ------------------------------  -------------------------------\n",
      "           0                         0.50063                          0\n",
      "           2                         0.35679                          0.35663\n"
     ]
    },
    {
     "data": {
      "image/png": "[encoded data removed]",
      "text/plain": [
       "<Figure size 1152x360 with 3 Axes>"
      ]
     },
     "metadata": {
      "needs_background": "light"
     },
     "output_type": "display_data"
    }
   ],
   "source": [
    "# Estimate LPM using OLS and compare to APE (using our simulated data from above)\n",
    "bhat_simdata_lpm=la.inv(x_sim.T@x_sim)@x_sim.T@y_sim\n",
    "APE_simdata=np.mean(norm.pdf(x_sim@beta))*beta\n",
    "table={\"beta, true\": beta, \"parameter estimate, bhat_lpm\": bhat_simdata_lpm.round(5), \"Avereage partial effects, APE\": APE_simdata.round(5)}\n",
    "print(tabulate(table, headers=\"keys\"))\n",
    "plot_lpmfit(y_sim, x_sim, beta)"
   ]
  },
  {
   "cell_type": "markdown",
   "metadata": {
    "slideshow": {
     "slide_type": "slide"
    }
   },
   "source": [
    "### Partial Effects in our empirical example "
   ]
  },
  {
   "cell_type": "code",
   "execution_count": 21,
   "metadata": {
    "scrolled": true,
    "slideshow": {
     "slide_type": "-"
    }
   },
   "outputs": [
    {
     "name": "stdout",
     "output_type": "stream",
     "text": [
      "                 lpm       logit      probit    APE (logit)    APE (probit)    PEA (logit)    PEA (probit)\n",
      "--------  ----------  ----------  ----------  -------------  --------------  -------------  --------------\n",
      "nwifeinc      -0.003      -0.021      -0.012         -0.004          -0.004         -0.005          -0.005\n",
      "educ           0.038       0.221       0.131          0.039           0.039          0.054           0.051\n",
      "exper          0.039       0.206       0.123          0.037           0.037          0.050           0.048\n",
      "expersq       -0.001      -0.003      -0.002         -0.001          -0.001         -0.001          -0.001\n",
      "age           -0.016      -0.088      -0.053         -0.016          -0.016         -0.021          -0.021\n",
      "kidslt6       -0.262      -1.443      -0.868         -0.258          -0.261         -0.351          -0.339\n",
      "kidsge6        0.013       0.060       0.036          0.011           0.011          0.015           0.014\n"
     ]
    }
   ],
   "source": [
    "# Estimate LPM using OLS and compare to APE (using our data on labor force participation)\n",
    "bhat_lpm=la.inv(x.T@x)@x.T@y \n",
    "\n",
    "for model in [\"probit\", \"logit\"]:\n",
    "    out[model].APE = np.mean(g(x@out[model].beta, model))*out[model].beta\n",
    "    out[model].PEA = g(np.mean(x,axis=0)@ out[model].beta, model)*out[model].beta\n",
    "\n",
    "table={\"\":x.columns[1:],\n",
    "        \"lpm\": bhat_lpm[1:], \n",
    "       \"logit\": out['logit'].beta[1:], \n",
    "       \"probit\": out['probit'].beta[1:],\n",
    "       \"APE (logit)\":  out['logit'].APE[1:], \n",
    "       \"APE (probit)\": out['probit'].APE[1:],\n",
    "       \"PEA (logit)\":  out['logit'].PEA[1:], \n",
    "       \"PEA (probit)\": out['probit'].PEA[1:]}\n",
    "\n",
    "print(tabulate(table, headers=\"keys\",floatfmt=\"10.3f\"))"
   ]
  },
  {
   "cell_type": "markdown",
   "metadata": {
    "slideshow": {
     "slide_type": "slide"
    }
   },
   "source": [
    "### Scaling of parameters\n",
    "**Logit**\n",
    "\n",
    "$PE_{x_{k}}^{L}\\left( x^{0}\\right) =\\beta _{k}^{L}\\left. \\frac{\\partial \\Lambda }{\\partial z}\\right \\vert _{z=x^{0\\prime }\\beta }=\\beta\n",
    "_{k}^{L}\\frac{\\exp \\left( x^{0}\\beta ^{L}\\right) }{\\left[ 1+\\exp\n",
    "\\left( x^{0 }\\beta ^{L}\\right) \\right] ^{2}}$\n",
    "\n",
    "**Probit:**\n",
    "\n",
    "$PE_{x_{k}}^{P}\\left( x^{0}\\right) =\\beta _{k}^{P}\\phi \\left(\n",
    "x^{0}\\beta ^{P}\\right) $\n",
    "\n",
    "\n",
    "We can \"Calibrate\" at coefficients to have same partial effect at $x^0\\beta =0$\n",
    "\\begin{eqnarray*}\n",
    "PE_{x_{k}}^{L}\\left( 0\\right) &=&\\beta _{k}^{L}\\frac{1}{4} \\\\\n",
    "PE_{x_{k}}^{L}\\left( 0\\right) &=&\\beta _{k}^{P}\\frac{1}{\\sqrt{2\\pi }}\n",
    "\\end{eqnarray*}\n",
    "\n",
    "\\begin{equation*}\n",
    "\\beta _{k}^{L}\\frac{1}{4}\\simeq \\beta _{k}^{P}\\frac{1}{\\sqrt{2\\pi }}\n",
    "\\Rightarrow \\beta _{k}^{L}\\simeq \\beta _{k}^{P}\\frac{4}{\\sqrt{2\\pi }}\n",
    "=1.60\\cdot \\beta _{k}^{P}\n",
    "\\end{equation*}"
   ]
  },
  {
   "cell_type": "code",
   "execution_count": 22,
   "metadata": {},
   "outputs": [
    {
     "name": "stdout",
     "output_type": "stream",
     "text": [
      "\n",
      "Unscaled and scaled coefficients\n",
      "             bhat (lpm)    bhat (logit)    bhat (probit)    bhat (logit) / 1.6\n",
      "--------  ------------  --------------  ---------------  --------------------\n",
      "const            0.586           0.425            0.270                 0.266\n",
      "nwifeinc        -0.003          -0.021           -0.012                -0.013\n",
      "educ             0.038           0.221            0.131                 0.138\n",
      "exper            0.039           0.206            0.123                 0.129\n",
      "expersq         -0.001          -0.003           -0.002                -0.002\n",
      "age             -0.016          -0.088           -0.053                -0.055\n",
      "kidslt6         -0.262          -1.443           -0.868                -0.902\n",
      "kidsge6          0.013           0.060            0.036                 0.038\n"
     ]
    }
   ],
   "source": [
    "table={\"\":x.columns,\n",
    "       \"bhat (lpm)\":    bhat_lpm.round(5), \n",
    "       \"bhat (logit)\":  out['logit' ].x ,  \n",
    "       \"bhat (probit)\": out['probit'].x ,\n",
    "       \"bhat (logit) / 1.6\": out['logit'].x/ 1.6 }\n",
    "print('\\nUnscaled and scaled coefficients\\n', tabulate(table, headers=\"keys\",floatfmt=\"10.3f\"))"
   ]
  },
  {
   "cell_type": "markdown",
   "metadata": {
    "slideshow": {
     "slide_type": "slide"
    }
   },
   "source": [
    "### The relative size of coefficients on two different variables does not depend on scale\n"
   ]
  },
  {
   "cell_type": "code",
   "execution_count": 23,
   "metadata": {
    "scrolled": true
   },
   "outputs": [
    {
     "name": "stdout",
     "output_type": "stream",
     "text": [
      "\n",
      "Coefficients relative to coefficent on educ\n",
      "             bhat (lpm)    bhat (logit)    bhat (probit)\n",
      "--------  ------------  --------------  ---------------\n",
      "const          15.4103          1.9236           2.0632\n",
      "nwifeinc       -0.0896         -0.0965          -0.0919\n",
      "educ            1.0000          1.0000           1.0000\n",
      "exper           1.0394          0.9308           0.9423\n",
      "expersq        -0.0157         -0.0143          -0.0144\n",
      "age            -0.4235         -0.3980          -0.4037\n",
      "kidslt6        -6.8906         -6.5260          -6.6333\n",
      "kidsge6         0.3425          0.2718           0.2750\n"
     ]
    }
   ],
   "source": [
    "table={\"\":x.columns,\n",
    "       \"bhat (lpm)\":    bhat_lpm/bhat_lpm[2], \n",
    "       \"bhat (logit)\":  out['logit' ].x/out['logit' ].x[2] , \n",
    "       \"bhat (probit)\": out['probit'].x/out['probit'].x[2]}\n",
    "print('\\nCoefficients relative to coefficent on educ\\n', tabulate(table, headers=\"keys\",floatfmt=\"10.4f\"))"
   ]
  },
  {
   "cell_type": "markdown",
   "metadata": {
    "slideshow": {
     "slide_type": "slide"
    }
   },
   "source": [
    "### Some takeaways on LPM, probit and Logit\n",
    "\n",
    "- Probit and logit is very similar\n",
    "    - logistic and normal distributions are very similar (both symmetric, although logistic distribution have longer tails)\n",
    "    - partial effects and ratio between parameter estimates very similar     \n",
    "    - latent variable model requires scale normalization to obtain identification\n",
    "    - usually estimated using MLE\n",
    "\n",
    "- LPM \n",
    "    - easy to estimate (OLS)\n",
    "    - easy to allow for endgeonous variables, unobserved effects, dynamics, etc\n",
    "    - prediction of $P(y=1|x)$ can fall outside [0,1] and Var$(\\varepsilon|x)$ can be negative\n",
    "    - assumes constant partial effects which is very unrealistic\n",
    "    - ....but LPM is often a good approximation of APE\n",
    " "
   ]
  }
 ],
 "metadata": {
  "celltoolbar": "Slideshow",
  "date": 1602643870.398518,
  "filename": "38_optimization.rst",
  "kernelspec": {
   "display_name": "Python 3",
   "language": "python",
   "name": "python3"
  },
  "language_info": {
   "codemirror_mode": {
    "name": "ipython",
    "version": 3
   },
   "file_extension": ".py",
   "mimetype": "text/x-python",
   "name": "python",
   "nbconvert_exporter": "python",
   "pygments_lexer": "ipython3",
   "version": "3.8.6"
  },
  "title": "Foundations of Computational Economics #38"
 },
 "nbformat": 4,
 "nbformat_minor": 4
}
