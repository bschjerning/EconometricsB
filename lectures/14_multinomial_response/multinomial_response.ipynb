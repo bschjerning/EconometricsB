{
 "cells": [
  {
   "cell_type": "markdown",
   "metadata": {
    "slideshow": {
     "slide_type": "subslide"
    }
   },
   "source": [
    "#  Multinomial responses\n",
    "\n",
    "### Econometrics B (ØkB)\n",
    "\n",
    "(Wooldridge Ch. 16)\n",
    "\n",
    "Bertel Schjerning\n",
    "\n",
    "Department of Economics, University of Copenhagen\n"
   ]
  },
  {
   "cell_type": "markdown",
   "metadata": {
    "slideshow": {
     "slide_type": "slide"
    }
   },
   "source": [
    "## Discrete responses\n",
    "\n",
    "*When the response variable $y$ has a finite number of outcomes*\n",
    "\n",
    "* **Unordered response:**  \n",
    "    * Binary: Labor force participation (work or not)\n",
    "    * *Multinomial:* Choice of transportation (car, bus, rollerblades)\n",
    "\n",
    "* **Ranked response:** List alternatives after attractiveness \n",
    "(prefer car to bus to rollerblades) \n",
    "\n",
    "* **Ordered response:** Evaluation of Lecturer (awful, acceptable, awesome) \n",
    "\n",
    "* **Count data:** Number of hits on a homepage, number of COVID infected, ect. \n",
    "\n",
    "- In this lecture, we focus on **unordered choices** \n"
   ]
  },
  {
   "cell_type": "markdown",
   "metadata": {
    "slideshow": {
     "slide_type": "slide"
    }
   },
   "source": [
    "## Today: Unordered multinomial responses\n",
    "- Explain **choices between different alternatives**:\n",
    "    - Levels of **education** (Msc, Bsc, High School, No education)\n",
    "    - **Job types** (construction, service, clerk, research, etc.)\n",
    "    - **Car brands** (Ford, Fiat, Skoda, BMW, Tesla, etc.)\n",
    "- **Data**:\n",
    "    - **Choice:** Msc (eg, $u^{\\text{Msc}} \\succ u^j$ for all other $j$)\n",
    "    - **Characteristics of alternatives $x_j$** (eg, personal interests, costs, study time, expected wage, expected employment rate, etc.)\n",
    "    - **Characteristics of choice maker** $x_i$ (eg, age, personal background,etc.)\n",
    "- **Model:**\n",
    "    - **Utility function** $u: (x_{ij},\\theta) \\mapsto \\mathbb{R}$\n",
    "    - **Estimation:** Find $\\theta$ such that $u(x_{i,\\text{Msc}},\\theta) > u(x_{ij},\\theta)$ for $j \\neq \\text{Msc}$."
   ]
  },
  {
   "cell_type": "markdown",
   "metadata": {
    "slideshow": {
     "slide_type": "slide"
    }
   },
   "source": [
    "## Extending binary choice models\n",
    "- **Goal:** Extend **binary choice models** to **multiple alternatives**.\n",
    "\n",
    "- We are interested in modeling the conditional choice probability (CCP) for a finite number of alternatives, $j\\in\\{0,\\ldots,J\\}$\n",
    "\n",
    "$$p_j(x)=P(y=j|x) \\in (0,1)$$ \n",
    "\n",
    "\n",
    "- Because alternatives are *mutually exclusive* we have that response probabilities sum to 1 \n",
    "\n",
    "$$\\sum_{j\\in\\{0,\\ldots,J\\}} p_j(x)=1$$\n",
    "\n",
    "- So $p_0(x)=P(y=0|x)$ is determined once we know $p_j(x)$ for $j\\in\\{1,\\ldots,J\\}$\n",
    "\n",
    "$$p_0(x)=1-\\sum_{j=1}^J p_j(x)$$\n",
    "\n"
   ]
  },
  {
   "cell_type": "markdown",
   "metadata": {
    "slideshow": {
     "slide_type": "slide"
    }
   },
   "source": [
    "### How to come up with a model for $p(x)$?\n",
    "- Starting point: **Random utility models**\n",
    "    - **Latent variable** representation of the model.\n",
    "    - One **latent utility** underlying each possible choice.\n",
    "    - Depending on the specification of the structural part, different models\n",
    "    can be formed: **Conditional logit, multinomial logit, mixed logit**.\n",
    "    - What are their differences?\n",
    "- How **realistic** are these models?\n",
    "    - The specification implies some **particular features of the model** \n",
    "    (logit for example implies *independence of irrelevant alternatives*).\n",
    "    - Are these assumptions **too restrictive** or **acceptable** in practice?\n",
    "    - **How can they be relaxed?**"
   ]
  },
  {
   "cell_type": "markdown",
   "metadata": {
    "slideshow": {
     "slide_type": "slide"
    }
   },
   "source": [
    "# The Random Utility Model (RUM)"
   ]
  },
  {
   "cell_type": "markdown",
   "metadata": {
    "slideshow": {
     "slide_type": "slide"
    }
   },
   "source": [
    "## Random utility models\n",
    "**Decision rule**\n",
    "$$y_i = \\arg \\max_{j\\in\\{0,\\ldots,J\\}} u_{ij}\n",
    "\\qquad\\qquad\n",
    "u_{ij} = v_{ij} + \\varepsilon_{ij}$$\n",
    "\n",
    "- $i,j$: **individual** $i=1,\\ldots,N$, and **alternative** $j=0,\\ldots,J$.\n",
    "- $y_i\\in\\{0,\\ldots,J\\}$: **alternative chosen** by individual $i$.\n",
    "- $u_{ij}$: **utility** derived from choosing alternative $j$ for individual $i$.\n",
    "- $v_{ij}$: **observed components** (*deterministic* part).\n",
    "- $\\varepsilon_{ij}$: **error term** (*stochastic* part) - observed by decision maker, but not by econometrician.\n",
    "\n",
    "**Primary classes**\n",
    "- **Logit:** $\\varepsilon_{ij}$ is additive and iid extreme value distributed\n",
    "- **Conditional logit:** $v_{ij} = x_{ij}\\beta$\n",
    "- **Multinomial logit:** $v_{ij} = x_{i}\\beta_j$\n",
    "- **Mixed logit** (confusing term): $v_{ij} = z_{ij}'\\beta + w_{i}\\gamma_j$"
   ]
  },
  {
   "cell_type": "markdown",
   "metadata": {
    "slideshow": {
     "slide_type": "slide"
    }
   },
   "source": [
    "##  More on utility\n",
    "Observed components of utility, $v_{ij}=v\\left( w_i,z_{ij}\\right)$ does not have to be a linear function\n",
    "\n",
    "For example: \n",
    "- an *indirect utility* function in a static optimization problem that involves other choices, $c$\n",
    "$$v_{ij}= \\max_c (\\tilde{v}_{ij}(c))$$\n",
    "\n",
    "- a *choice specific value function* from a dynamic discrete choice problem\n",
    "$$v\\left(x, j\\right) = \\tilde{u}(x,j) + \\rho \\int V(x')p(x'|x,j)) $$\n",
    "where $V(x)=\\int_\\varepsilon  \\max_j(v(x,j)+\\varepsilon_j)d\\varepsilon=\\log(\\sum_j\\exp(v(x,j)))$ is the expected value function, $\\rho$ is the time discount factor, $p(x'|x,j)$ is the transition density for the state variables $x$ and\n",
    "\n"
   ]
  },
  {
   "cell_type": "markdown",
   "metadata": {
    "slideshow": {
     "slide_type": "slide"
    }
   },
   "source": [
    "### Conditional vs. multinomial logit\n",
    "\n",
    "**Conditional logit (CL)**  \n",
    "- $x_{ij}$: $1xK$ vector of characteristics of *alternative* j for individual $i$\n",
    "- **Example:** Education choice\n",
    "$$x_{ij} = (\\texttt{Const}_{j}, \\texttt{Costs}_{ij},\\texttt{StudyTime}_{ij}, \\texttt{ExpectedWage}_{ij}, \\ldots)$$\n",
    "- **Normalization:** No choice invariant intercepts and fixed scale. \n",
    "- $\\beta_k$ interpretation: marginal utility of $x_k$.\n",
    "\n",
    "**Multinomial logit (MNL)** \n",
    "- $x_i$: $1xK$ vector of characteristics of the *individual*\n",
    "- **Example:** Education choice, $x_i = (\\texttt{Age}_i, \\texttt{ParentsEduc}_i, \\ldots)$.\n",
    "- **Normalization:** baseline alternative required, eg, $\\beta_0=0_{K \\times 1}$.\n",
    "- $\\beta_{jk}$ interpretation: utility dependence on $x_i^k$ for alternative $j$\n",
    "relative to baseline alternative."
   ]
  },
  {
   "cell_type": "markdown",
   "metadata": {
    "slideshow": {
     "slide_type": "slide"
    }
   },
   "source": [
    "## Choice probabilities\n",
    "- Remember:\n",
    "$$y_i = \\arg \\max_{j\\in\\{0,\\ldots,J\\}} u_{ij}\n",
    "\\qquad\\qquad\n",
    "u_{ij} = v_{ij} + \\varepsilon_{ij}$$\n",
    "- Therefore:\n",
    "$$\\begin{array}{lcl}\n",
    "p_{ij} \\equiv P(y_i = j) \n",
    "&=& P(u_{ij} > u_{ik} \\quad\\forall k\\neq j) \\\\[1ex]\n",
    "&=& P(v_{ij} + \\varepsilon_{ij} > v_{ik} + \\varepsilon_{ik} \\quad\\forall k\\neq j) \\\\[1ex]\n",
    "&=& P(\\varepsilon_{ik}-\\varepsilon_{ij} < v_{ij}-v_{ik} \\quad\\forall k\\neq j) \\\\[1ex]\n",
    "\\end{array}$$\n",
    "\n",
    "- The expression of $p_{ij}$ depends on the **distributional assumption** on the \n",
    "error term of the random utility model:\n",
    "    - How to choose the distribution of $\\varepsilon_{ij}$? \n",
    "    - What will be the implied distribution of $\\varepsilon_{ik}-\\varepsilon_{ij}$?"
   ]
  },
  {
   "cell_type": "markdown",
   "metadata": {
    "slideshow": {
     "slide_type": "slide"
    }
   },
   "source": [
    "## Error term distribution\n",
    "**Definition: Type 1 Extreme Value distribution**\n",
    "- Also called (standard) **'Gumbel distribution'**.\n",
    "- **Cumulative density** and **probability density** functions:\n",
    "\n",
    "$$\\begin{array}{lcl}\n",
    "F(\\varepsilon) &=&\n",
    "\\exp\\left\\{-\\exp\\{-\\varepsilon\\}\\right\\} \\\\[1em]\n",
    "f(\\varepsilon) &=& \n",
    "\\exp\\left\\{-\\varepsilon-\\exp\\{-\\varepsilon\\}\\right\\}\n",
    "\\end{array}$$\n",
    "\n",
    "\n",
    "**Gumbel distribution:**\n",
    "- Limiting distribution ($N \\rightarrow \\infty$) of the \n",
    "maximum of $N$ random variables drawn from the same distribution.\n",
    "- Popular for predicting **extreme events** (eg, *earthquakes*)\n",
    "- **Why use this peculiar distribution?**"
   ]
  },
  {
   "cell_type": "code",
   "execution_count": 1,
   "metadata": {
    "slideshow": {
     "slide_type": "slide"
    }
   },
   "outputs": [
    {
     "data": {
      "image/png": "[encoded data removed]",
      "text/plain": [
       "<Figure size 1500x500 with 2 Axes>"
      ]
     },
     "metadata": {},
     "output_type": "display_data"
    }
   ],
   "source": [
    "# Type 1 Extreme Value distribution**\n",
    "import matplotlib.pyplot as plt\n",
    "import numpy as np\n",
    "from scipy.stats import norm\n",
    "\n",
    "ε = np.arange(-5, 5., 0.2)\n",
    "F = lambda ε :  np.exp(-np.exp(-ε))\n",
    "f = lambda ε :  np.exp(-ε -np.exp(-ε))\n",
    "Φ = lambda ε :  norm.cdf(ε)\n",
    "ϕ = lambda ε :  norm.pdf(ε)\n",
    "fig, (ax1, ax2) = plt.subplots(1, 2, figsize=(15, 5))\n",
    "fig.suptitle('Normal and Type 1 Extreme Value distribution*')\n",
    "ax1.plot(ε, F(ε), 'r--', ε, Φ(ε))\n",
    "ax1.legend(['Extreme Value CDF, F(ε)',  'Normal CDF, Φ(ε)'])\n",
    "ax2.plot(ε, f(ε), 'r--', ε, ϕ(ε))\n",
    "ax2.legend(['Extreme Value PDF, f(ε)',  'Normal PDF, ϕ(ε)'])\n",
    "plt.show()"
   ]
  },
  {
   "cell_type": "markdown",
   "metadata": {
    "slideshow": {
     "slide_type": "slide"
    }
   },
   "source": [
    "### Distribution skewed to the right *(is this a problem?)*:\n",
    "<img src=\"img/evdist.png\" width=\"900\" height=\"400\">\n",
    "\n",
    "**Property: Type 1 extreme value distribution**\n",
    "- If $\\varepsilon_j \\sim \\text{GEV}$, $\\varepsilon_k \\sim \\text{GEV}$\n",
    "and $\\varepsilon_j$ is independent of $\\varepsilon_k$, then\n",
    "$\\varepsilon_j - \\varepsilon_k \\sim Logistic$.\n",
    "- This property is used to derive the **binary logit model** in the two-choice case.\n",
    "- The GEV distribution is **max stable**, so that maximum of n iid\n",
    "GEV distributed variables with parameters are also\n",
    "GEV-distributed with the shape parameter unchanged.\n",
    "\n"
   ]
  },
  {
   "cell_type": "markdown",
   "metadata": {
    "slideshow": {
     "slide_type": "slide"
    }
   },
   "source": [
    "## Choice Probability\n",
    "For additive random utility models, we get\n",
    "\n",
    "$$\\begin{array}{lcl}\n",
    "p_{ij}  \n",
    "&=&P\\left(u_{ij}>u_{im},\\forall m\\neq j\\right) \\\\\n",
    "&=&P\\left(v_{ij}+\\varepsilon _{ij}>v_{im}+\\varepsilon _{im},\\forall m\\neq j\\right) \\\\\n",
    "&=&\\int_{\\varepsilon_{i0},\\dots,\\varepsilon_{iJ}}\\mathbb{1}\\left( \\varepsilon_{im}-\\varepsilon_{ij}<v_{ij}-v_{im},\\forall m\\neq j\\right) \\\\\n",
    "&&\\quad f\\left( \\varepsilon_{i0},\\dots,\\varepsilon_{iJ}\\right) d\\varepsilon_{i0}\\dots d\\varepsilon_{iJ}\\end{array}$$\n",
    "\n",
    "- In the general case we need to evaluate a multi-dimensional integral over the unobserved portion of utility. \n",
    "\n",
    "- The dimensionality is often reduced by one dimension by considering the distribution of error differences so that the integral is $J-$dimensional\n",
    "\n",
    "- If we have panel data so that $\\varepsilon_{ij}$ is a $T$ vector, the size of the integral increase by a factor T if we do not assume independence over time "
   ]
  },
  {
   "cell_type": "markdown",
   "metadata": {
    "slideshow": {
     "slide_type": "slide"
    }
   },
   "source": [
    "### Logit: \"Closed form\" choice probabilities\n",
    "If we assume $\\varepsilon _{i0},\\dots,\\varepsilon _{iJ}$ are **i.i.d. type I extreme value distributed**, we obtain logit choice probabilities\n",
    "$$\n",
    "p_{ij} =P(v_{ij}+\\varepsilon _{ij}>v_{im}+\\varepsilon _{im},\\forall m\\neq j) \n",
    "$$\n",
    "\n",
    "If we condition on $\\varepsilon _{ij}$ we obtain\n",
    "$$\n",
    "p_{ij}|\\varepsilon _{ij} =P(\\varepsilon _{im}<v_{ij}-v_{im}+\\varepsilon _{ij},\\forall m\\neq j | \\varepsilon _{ij})\n",
    "$$\n",
    "\n",
    "Since $\\varepsilon _{im}$ are independent across alternatives we can write\n",
    "$$p_{ij}|\\varepsilon _{ij} =\\prod_{m\\neq j}e^{-e^{-( \\varepsilon_{ij}+v_{ij}-v_{im})}}\n",
    "$$\n",
    "\n",
    "So that we obtain a 1-dimensional integral of exponential functions\n",
    "$$\n",
    "p_{ij} =\\int_{\\varepsilon _{ij}}\\left(\\prod_{m\\neq j}e^{-e^{-( \\varepsilon_{ij}+v_{ij}-v_{im} )}}\\right)\n",
    "e^{-\\varepsilon_{ij}-e^{(- \\varepsilon_{ij})}}\n",
    "d\\varepsilon _{ij}\n",
    "$$\n",
    "\n",
    "With a closed form solution (See next slide):\n",
    "$$\n",
    "p_{ij} = \\frac{1}{\\sum_{m=0}^{J}\\exp(v_{im}-v_{ij})} = \\frac{\\exp(v_{ij})}{\\sum_{m=0}^{J}\\exp(v_{im})} \n",
    "$$\n"
   ]
  },
  {
   "cell_type": "markdown",
   "metadata": {
    "slideshow": {
     "slide_type": "slide"
    }
   },
   "source": [
    "## Soving the integral\n",
    "Noting that $v_{ij}-v_{ij}=0$ and collecting terms we get\n",
    "$$\n",
    "\\begin{array}{lcl}\n",
    "p_{ij} &=&\\int_{-\\infty}^{\\infty}\\left(\\prod_{m}e^{-e^{-( \\varepsilon_{ij}+v_{ij}-v_{im} )}}\\right)\n",
    "e^{-\\varepsilon_{ij}}\n",
    "d\\varepsilon _{ij}\\\\\n",
    " &=&\\int_{-\\infty}^{\\infty}\\exp(-\\sum_{m}\\exp(-(\\varepsilon_{ij}+v_{ij}-v_{im} ))\n",
    "e^{-\\varepsilon_{ij}}\n",
    "d\\varepsilon _{ij}\\\\\n",
    " &=&\\int_{-\\infty}^{\\infty}\\exp(-e^{-\\varepsilon_{ij}}\\sum_{m}\\exp(-(v_{ij}-v_{im} ))\n",
    "e^{-\\varepsilon_{ij}}\n",
    "d\\varepsilon _{ij}\\\\\n",
    " &=&\\int_{-\\infty}^{\\infty}\\exp(-t\\sum_{m}\\exp(-(v_{ij}-v_{im} ))(-dt)\\\\\n",
    "&=&\\frac{\\exp(v_{ij})}{\\sum_{m=0}^{J\n",
    "}\\exp(v_{im})} \n",
    "\\end{array}\n",
    "$$\n",
    "Define $t=e^{-\\varepsilon_{ij}}$ such that $dt=-e^{-\\varepsilon_{ij}}d\\varepsilon_{ij}$  and note that $\\lim_{\\varepsilon_{ij} \\rightarrow \\infty}e^{-\\varepsilon_{ij}}=0$. We then have\n",
    "$$\n",
    "\\begin{array}{lcl}\n",
    "p_{ij} \n",
    "&=&\\int_{-\\infty}^{0}\\exp(-t\\sum_{m}\\exp(-(v_{ij}-v_{im} ))(-dt)\\\\\n",
    "&=&\\int_{0}^{\\infty}\\exp(-t\\sum_{m}\\exp(-(v_{ij}-v_{im} ))dt\\\\\n",
    "&=&\\left[\\frac{\\exp(-t\\sum_{m}\\exp(-(v_{ij}-v_{im} ))}{-\\sum_{m}\\exp(-(v_{ij}-v_{im} )}\\right]_{0}^{\\infty}\\\\\n",
    "&=&\\frac{1}{\\sum_{m=0}^{J}\\exp(v_{im}-v_{ij})} = \\frac{\\exp(v_{ij})}{\\sum_{m=0}^{J}\\exp(v_{im})} \n",
    "\\end{array}\n",
    "$$"
   ]
  },
  {
   "cell_type": "markdown",
   "metadata": {
    "slideshow": {
     "slide_type": "slide"
    }
   },
   "source": [
    "# Estimation and data"
   ]
  },
  {
   "cell_type": "markdown",
   "metadata": {
    "slideshow": {
     "slide_type": "slide"
    }
   },
   "source": [
    "## Data \n",
    "**Random sampling** \n",
    "- Sample of size $N$ where unit $i$ is randomly sampled\n",
    "    - $(y_i,x_{ij})$ is a random draw from the population\n",
    "    - With panel data where $y_i$ is a Tx1 vector and $x_{ij}$ is a Txk matrix with rows $x_{itj}$. \n",
    "    - For panel data, we assume random sampling over $i$, but not over $t$\n",
    "\n",
    "**Data collection**\n",
    "\n",
    "- **Revealed preference data** (survey, register)\n",
    "    * observe what people actually do \n",
    "- **Stated preference data** (survey)\n",
    "    * observe what people say they will do in hypothetical choice situations\n",
    "    * very common in marketing"
   ]
  },
  {
   "cell_type": "markdown",
   "metadata": {
    "slideshow": {
     "slide_type": "slide"
    }
   },
   "source": [
    "## Likelihood function\n",
    "- To derive the **likelihood**, all **alternative specific probabilities** are needed.\n",
    "- To simplify notation we abstract from $x$\n",
    "- Define $d_{ij} = \\mathbb{1}(y_i=j)$, such that $\\sum_{j=0}^J d_{ij}=1$.\n",
    "- **Probability of choosing alternative $j$:**\n",
    "$$p_{ij} \\equiv P(y_i = j) = P(d_{ij} = 1, d_{ik}=0\\,\\,\\forall k\\neq j)$$\n",
    "- **Individual likelihood and log-likelihood:**\n",
    "$$\\begin{array}{lcl}\n",
    "L_i(\\theta) &=& \\displaystyle\\prod_{j=1}^J p_{ij}^{d_{ij}} \\\\[1em]\n",
    "\\mathcal{L}_i(\\theta) &\\equiv& \\ln L_i(\\theta) =\n",
    "  \\displaystyle\\sum_{j=0}^J d_{ij} \\ln p_{ij}\n",
    "\\end{array}$$\n",
    "- **How to specify $p_{ij}$?**\n"
   ]
  },
  {
   "cell_type": "markdown",
   "metadata": {
    "slideshow": {
     "slide_type": "slide"
    }
   },
   "source": [
    "## Likelihood\n",
    "General expression of $p_{ij}$, for $j=1,\\ldots,J$:\n",
    "$$\\begin{array}{lclcl}\n",
    "\\text{CL:}    &\\quad& p_{ij} &=& \\dfrac{\\exp\\{x_{ij}\\beta\\}}\n",
    "                                 {\\sum_{k=0}^J\\exp\\{x_{ik}\\beta\\}} \\\\[1em]\n",
    "\\text{MNL:}   && p_{ij} &=& \\dfrac{\\exp\\{x_{i}\\beta_j\\}}\n",
    "                                 {\\sum_{k=0}^J\\exp\\{x_{i}\\beta_k\\}} \\\\[1em]\n",
    "\\text{Mixed:} && p_{ij} &=& \\dfrac{\\exp\\{z_{ij}\\beta+w_{i}\\gamma_j\\}}\n",
    "                                 {\\sum_{k=0}^J\\exp\\{z_{ik}\\beta+w_{i}\\gamma_k\\}} \\\\[2em]\n",
    "\\end{array}$$\n",
    "\n",
    "Corresponding **individual log-likelihood**, eg in the **conditional logit**:\n",
    "\n",
    "$$\\mathcal{L}_i(\\beta) = \n",
    "  \\underbrace{\\left(\\sum_{j=1}^J d_{ij} x_{ij}\\beta\\right)}_{=x_{iy_i}\\beta} - \n",
    "  \\ln\\left(\\sum_{k=0}^J\\exp\\{x_{ik}\\beta\\}\\right)$$"
   ]
  },
  {
   "cell_type": "markdown",
   "metadata": {
    "slideshow": {
     "slide_type": "slide"
    }
   },
   "source": [
    "# Identification"
   ]
  },
  {
   "cell_type": "markdown",
   "metadata": {
    "slideshow": {
     "slide_type": "slide"
    }
   },
   "source": [
    "## Identification\n",
    "- **Latent variables** can be **transformed** without \n",
    "changing the likelihood function.\n",
    "- This creates **identification problems** in latent variable models.\n",
    "- **Solution:** Impose **parameter restrictions** to prevent such \n",
    "transformations from happening.\n",
    "- **Example:** In the probit model, we achieved identification by fixing\n",
    "$\\mu=0$ and $\\sigma^2=1$ for the error term.\n",
    "- What are the **potential identification problems** in the **random utility model**?"
   ]
  },
  {
   "cell_type": "markdown",
   "metadata": {
    "slideshow": {
     "slide_type": "slide"
    }
   },
   "source": [
    "### RUM Example: Choice of transportation mode\n",
    "\\begin{eqnarray*}\n",
    "y_{C}^{*} &=&\\alpha _{C}+\\delta _{C}p_{C}+\\gamma _{C}I+\\varepsilon _{C} \\\\\n",
    "y_{T}^{*} &=&\\alpha _{T}+\\delta _{T}p_{T}+\\gamma _{T}I+\\varepsilon _{T}\n",
    "\\end{eqnarray*} \n",
    "\n",
    "- $p_{j}$; Alternative specific price per trip \n",
    "- $I$; Income (individual specific) \n",
    "- $\\varepsilon_{j}$ Unobserved by researcher, observed by decision maker \n",
    "\t- **Taste shiftier:** Some people prefer the car, while others prefer train \n",
    "\t- **Idiosyncratic shocks:** Car engine makes weird noises and start to smoke, son/daughter borrows the car, train personnel strikes, etc.\n"
   ]
  },
  {
   "cell_type": "markdown",
   "metadata": {
    "slideshow": {
     "slide_type": "slide"
    }
   },
   "source": [
    "### RUM Example: Choice of transportation mode\n",
    "**Random Utility**\n",
    "\\begin{eqnarray*}\n",
    "y_{C}^{*} &=&\\alpha _{C}+\\delta _{C}p_{C}+\\gamma _{C}I+\\varepsilon _{C} \\\\\n",
    "y_{T}^{*} &=&\\alpha _{T}+\\delta _{T}p_{T}+\\gamma _{T}I+\\varepsilon _{T}\n",
    "\\end{eqnarray*} \n",
    "\n",
    "**Decision rule:** \n",
    "\\begin{eqnarray*}\n",
    "\t&&y_{C}^{*}-y_{T}^{*}:\\ \\ \\ \\ \\left\\{\\begin{array}{l}\n",
    ">0\\rightarrow \\text{Car} \\\\\n",
    "{<0\\rightarrow \\text{Train}} \\end{array} \\right.  \\\\\n",
    "\ty_{C}^{*}-y_{T}^{*} &=&  \\left( \\alpha _{C}-\\alpha _{T}\\right)  \n",
    " +\\delta _{C}p_{C}-\\delta _{T}p_{T} \n",
    "+\\left( \\gamma _{C}-\\gamma _{T}\\right) I \n",
    "+\\left( \\varepsilon _{C}-\\varepsilon _{T}\\right)\n",
    "\\end{eqnarray*}\n",
    "\n",
    "**Observed outcome**\n",
    "\\begin{eqnarray*}\n",
    "y &=&1\\text{ if Car is chosen}  \\\\\n",
    "y &=&0\\text{ if Train is chosen} \n",
    "\\end{eqnarray*}\n"
   ]
  },
  {
   "cell_type": "markdown",
   "metadata": {
    "slideshow": {
     "slide_type": "slide"
    }
   },
   "source": [
    "### RUM example: Identification\n",
    "\n",
    "\\begin{equation*}\n",
    "\\beta =\\left(\\begin{array}{c}\n",
    "\\beta _{1} \\\\ \\beta _{2} \\\\ \\beta _{3} \\\\ \\beta _{4}\n",
    "\\end{array}\\right)\n",
    "= \\left( \n",
    "\\begin{array}{c}\n",
    "\\alpha _{C}-\\alpha _{T} \\\\ \\delta _{C} \\\\ -\\delta _{T} \\\\ \\gamma _{C}-\\gamma _{T}\n",
    "\\end{array}\\right) \n",
    "\\text{ , where }x\n",
    "=\\left( \\begin{array}{c}\n",
    "1 \\\\ p_{C} \\\\ p_{T} \\\\ I\n",
    "\\end{array}\\right), \\text{  }\\tilde{\\varepsilon}=\\varepsilon _{C}-\\varepsilon _{T}\n",
    "\\end{equation*}\n",
    "\n",
    "For this binary choice we can summarize the model by the (latent) utility difference\n",
    "\n",
    "\\begin{equation*}\n",
    "\\tilde{y}^{*}=y_{C}^{*}-y_{T}^{*}=x^{\\prime }\\beta +\\tilde{\\varepsilon}\n",
    "\\end{equation*}\n",
    "\n",
    "If $\\tilde{\\varepsilon}$ is normally distributed we can estimate this equation by a probit of $y$ on $x$\n",
    "\n",
    "- $\\beta $ is identified up to a scale factor (normalization required)\n",
    "- Given scale normalization, unidentified quantities are: $\\theta =\\left \\{ \\left( \\alpha _{C}-\\alpha\n",
    "_{T}\\right) ,\\delta _{T},\\delta _{C},\\left( \\gamma _{C}-\\gamma _{T}\\right)\n",
    "\\right \\} $\n"
   ]
  },
  {
   "cell_type": "markdown",
   "metadata": {
    "slideshow": {
     "slide_type": "slide"
    }
   },
   "source": [
    "## Identification: Conditional logit\n",
    "- **Location problem:**\n",
    "\n",
    "$$\\begin{array}{lcl}\n",
    "p_{ij}\n",
    "&=&\\dfrac{\\exp\\{\\color{red}{\\beta_0} + x_{ij}\\beta\\}}\n",
    "         {\\sum_{k=0}^J\\exp\\{\\color{red}{\\beta_0} + x_{ik}\\beta\\}} \\\\[0.5em]\n",
    "&=&\\dfrac{\\color{red}{\\exp\\{\\beta_0\\}}\\exp\\{x_{ij}\\beta\\}}\n",
    "         {\\sum_{k=0}^J\\color{red}{\\exp\\{\\beta_0\\}}\\exp\\{x_{ik}\\beta\\}} \\\\[0.5em]\n",
    "&=&\\dfrac{\\exp\\{x_{ij}\\beta\\}}\n",
    "         {\\sum_{k=0}^J\\exp\\{x_{ik}\\beta\\}}\n",
    "\\end{array}$$\n",
    "\n",
    "\n",
    "- **Solution:** Intercept term needs to be fixed to $\\beta_0=0$.\n",
    "- Otherwise, it is possible to **shift all utilities**\n",
    "(ie, add an arbitrary constant) without changing the likelihood."
   ]
  },
  {
   "cell_type": "markdown",
   "metadata": {
    "slideshow": {
     "slide_type": "slide"
    }
   },
   "source": [
    "## Identification: Multinomial logit\n",
    "- **Similar problem:**\n",
    "$$\\begin{array}{lcl}\n",
    "p_{ij}\n",
    "&=&\\dfrac{\\exp\\{x_{i}(\\beta_j+\\color{red}{\\delta})\\}}\n",
    "         {\\sum_{k=0}^J\\exp\\{x_{i}(\\beta_k+\\color{red}{\\delta})\\}} \\\\[.5em]\n",
    "&=&\\dfrac{\\color{red}{\\exp\\{x_i\\delta\\}}\\exp\\{x_{i}\\beta_j\\}}\n",
    "         {\\sum_{k=0}^J\\color{red}{\\exp\\{x_i\\delta\\}}\\exp\\{x_{i}\\beta_k\\}} \\\\[0.5em]\n",
    "&=&\\dfrac{\\exp\\{x_{i}\\beta_j\\}}\n",
    "                                 {\\sum_{k=0}^J\\exp\\{x_{i}\\beta_k\\}}\n",
    "\\end{array}$$\n",
    "\n",
    "- **Solution:** Define a **baseline alternative $j$** (usually the first one) \n",
    "and set $\\beta_j=0$.\n",
    "- This **normalization** (ie, *identification restriction*) implies that the\n",
    "coefficients are always measured *with respect to the baseline category*."
   ]
  },
  {
   "cell_type": "markdown",
   "metadata": {
    "slideshow": {
     "slide_type": "slide"
    }
   },
   "source": [
    "## Identification: Mixed logit\n",
    "- As the mixed logit combines both CL and MNL, it is **affected by both \n",
    "problems**.\n",
    "- **Solution:** **Fix coefficients of baseline category** (eg, $\\beta_0=0$) and \n",
    "**drop any fixed intercept term across alternatives*.\n",
    "- Alternative-specific intercept terms are allowed, as long as the intercept of\n",
    "the baseline category is fixed to 0."
   ]
  },
  {
   "cell_type": "markdown",
   "metadata": {
    "slideshow": {
     "slide_type": "slide"
    }
   },
   "source": [
    "## Identification: Scale of utility is irrelevant\n",
    "- Suppose we had the model with extreme value type I errors\n",
    "$$y_i = \\arg \\max_{j\\in\\{0,\\ldots,J\\}} u_{ij}\n",
    "\\qquad\\qquad\n",
    "u_{ij} = x_{ij}\\beta + \\color{red}{\\sigma}\\varepsilon_{ij}$$\n",
    "\n",
    "- Implied logit ccp's are\n",
    "\n",
    "$$\\begin{array}{lcl}\n",
    "p_{ij}\n",
    "&=&\\dfrac{\\exp\\{x_{i}(\\beta_j/\\color{red}{\\sigma})\\}}\n",
    "         {\\sum_{k=0}^J\\exp\\{x_{i}(\\beta_k/\\color{red}{\\sigma})\\}} \\\\[.5em]\n",
    "\\end{array}$$\n",
    "\n",
    "- Need the usual scale normalization estimate the variance of the error terms $\\varepsilon_{ij}$\n",
    "- **Solution** Usually we make the normalization $\\sigma=1$\n",
    "\n",
    "\n"
   ]
  },
  {
   "cell_type": "markdown",
   "metadata": {
    "slideshow": {
     "slide_type": "slide"
    }
   },
   "source": [
    "## Key takeaway on identification \n",
    "In random utility models for unordered discrete choices\n",
    "1. **Scale of utility is irrelevant**\n",
    "2. **Only differences in utility matter**"
   ]
  },
  {
   "cell_type": "markdown",
   "metadata": {
    "slideshow": {
     "slide_type": "slide"
    }
   },
   "source": [
    "# Features of interest"
   ]
  },
  {
   "cell_type": "markdown",
   "metadata": {
    "slideshow": {
     "slide_type": "slide"
    }
   },
   "source": [
    "## Marginal effects\n",
    "Usually we are not interested in $\\beta$s directly, but in marginal effects:\n",
    "\n",
    "**Conditional logit:** \n",
    "$$p_{ij} = \\dfrac{\\exp\\{x_{ij}\\beta\\}}\n",
    "                                 {\\sum_{k=0}^J\\exp\\{x_{ik}\\beta\\}} \\\\[1em]\n",
    "$$\n",
    "\n",
    "Marginal effects wrt alternative-specific covariates $x_{ik}$\n",
    "\n",
    "$$\\frac{\\partial}{\\partial x_{ik}}P({y_i=j \\mid x_i})\n",
    "\\quad=\\quad p_{ij}\\left(\\mathbb{1}(k=j)-p_{ik}\\right)\\beta$$\n",
    "\n",
    "\n",
    "**Multinomial logit:** \n",
    "$$\n",
    "p_{ij} = \\dfrac{\\exp\\{x_{i}\\beta_j\\}}\n",
    "                                 {\\sum_{k=0}^J\\exp\\{x_{i}\\beta_k\\}} \\\\[1em]\n",
    "$$\n",
    "\n",
    "Marginal effects wrt fixed covariate $x_i$\n",
    "\n",
    "$$\\frac{\\partial}{\\partial x_i}P(y_i=j \\mid x_i)\n",
    "\\quad=\\quad p_{ij}\\left(\\beta_j-\\sum_{l=0}^J p_{il}\\beta_l\\right)$$\n",
    "\n"
   ]
  },
  {
   "cell_type": "markdown",
   "metadata": {
    "slideshow": {
     "slide_type": "slide"
    }
   },
   "source": [
    "## Marginal effects\n",
    "- **Standard errors** obtained via the **Delta method** or **bootstrap**.\n",
    "- Since probabilities sum up to 1 across alternatives, **marginal effects in the conditional logit sum up to 0**\n",
    "\n",
    "\n",
    "### Note: Market shares\n",
    "- When using logit models to estimate consumption decisions, \n",
    " **average choice probabilities** represent **market shares**:\n",
    "$$s_j = \\frac{1}{N}\\sum_{i=1}^N\\mathbb{1}({y_i=j})\n",
    "\\qquad\\stackrel{N\\rightarrow\\infty}{\\rightarrow}\\quad P(y=j)$$\n",
    "- So **average marginal effects** measure how **market shares** change.\n",
    "\n"
   ]
  },
  {
   "cell_type": "markdown",
   "metadata": {},
   "source": [
    "## Regression using market share data\n",
    "- We can estimate $p_{mj}$ using the choice data\n",
    "\n",
    "- If we equate observed market shares, $s_{mj}$ with logit probabilities we get\n",
    "\n",
    "$$s_{mj} = \\dfrac{\\exp\\{x_{mj}\\beta\\}}\n",
    "                                 {\\sum_{k=0}^J\\exp\\{x_{mk}\\beta\\}} \\\\[1em]\n",
    "$$\n",
    "\n",
    "- Easy to transform the choice probabilities for the logit model\n",
    "\n",
    "$$\n",
    "log(s_{mj})-log(s_{m0}) = (x_{mj}-x_{m0})\\beta\n",
    "$$\n",
    "\n",
    "So we can estimate the logit model on market sahre data using simple regression methods"
   ]
  },
  {
   "cell_type": "markdown",
   "metadata": {
    "slideshow": {
     "slide_type": "slide"
    }
   },
   "source": [
    "## MNL: Parameter interpretation\n",
    "- **Warning:** Marginal effect is a complicated function of $\\beta_j$.\n",
    "- The **sign** of the marginal effect is *not* determined by $\\beta_j$ alone!\n",
    "- Instead, consider **log odds ratio** wrt normalized alternative:\n",
    "\n",
    "### Log odds ratio\n",
    "$$\\ln\\frac{P(y_i=j\\mid x_i)}{P(y_i=1\\mid x_i)} \n",
    "= \\ln\\frac{\\frac{\\exp\\{x_i\\beta_j\\}}{\\sum_{l=1}^J\\exp\\{x_i\\beta_l\\}}}\n",
    "          {\\frac{\\exp\\{x_i\\beta_1\\}}{\\sum_{l=1}^J\\exp\\{x_i\\beta_l\\}}}\n",
    "= x_i\\beta_j$$\n",
    "\n",
    "- Measures the change in relative risk when $x_i$ changes by one unit.\n",
    "- Linear in $x_i$. This is why some software report (log) odds ratios."
   ]
  },
  {
   "cell_type": "markdown",
   "metadata": {
    "slideshow": {
     "slide_type": "slide"
    }
   },
   "source": [
    "### Replicate Table 16.1: School and Employment Decision of Young Men\n",
    "See Wooldridge(2010, p. 645)\n",
    "\n",
    "Read in keane.dta estimate MNL for employment status (0: school, 1: home, 2: work)"
   ]
  },
  {
   "cell_type": "code",
   "execution_count": 5,
   "metadata": {
    "scrolled": false
   },
   "outputs": [
    {
     "data": {
      "text/plain": [
       "status\n",
       "2.0       1286\n",
       "1.0        332\n",
       "0.0         99\n",
       "dtype: int64"
      ]
     },
     "execution_count": 5,
     "metadata": {},
     "output_type": "execute_result"
    }
   ],
   "source": [
    "import pandas as pd\n",
    "import numpy as np\n",
    "import statsmodels.api as sm\n",
    "df = pd.read_stata('keane.dta')\n",
    "df=df[df['year']==87].dropna(subset=['status', 'educ', 'exper', 'expersq', 'black'])\n",
    "x=['educ', 'exper', 'expersq', 'black']\n",
    "y=['status'] \n",
    "# status (0: school, 1: home, 2: work)\n",
    "df[y].value_counts()\n",
    "#df"
   ]
  },
  {
   "cell_type": "code",
   "execution_count": 3,
   "metadata": {
    "scrolled": false,
    "slideshow": {
     "slide_type": "slide"
    }
   },
   "outputs": [
    {
     "name": "stdout",
     "output_type": "stream",
     "text": [
      "Optimization terminated successfully.\n",
      "         Current function value: 0.528746\n",
      "         Iterations 8\n",
      "\n",
      "status: 0=school, 1=home, 2=work\n",
      "\n",
      "                           MNLogit Regression Results                          \n",
      "==============================================================================\n",
      "Dep. Variable:                 status   No. Observations:                 1717\n",
      "Model:                        MNLogit   Df Residuals:                     1707\n",
      "Method:                           MLE   Df Model:                            8\n",
      "Date:                Fri, 10 Mar 2023   Pseudo R-squ.:                  0.2433\n",
      "Time:                        10:11:43   Log-Likelihood:                -907.86\n",
      "converged:                       True   LL-Null:                       -1199.7\n",
      "Covariance Type:            nonrobust   LLR p-value:                7.383e-121\n",
      "==============================================================================\n",
      "  status=1       coef    std err          z      P>|z|      [0.025      0.975]\n",
      "------------------------------------------------------------------------------\n",
      "const         10.2779      1.133      9.069      0.000       8.057      12.499\n",
      "educ          -0.6736      0.070     -9.637      0.000      -0.811      -0.537\n",
      "exper         -0.1062      0.173     -0.613      0.540      -0.446       0.233\n",
      "expersq       -0.0125      0.025     -0.496      0.620      -0.062       0.037\n",
      "black          0.8130      0.303      2.686      0.007       0.220       1.406\n",
      "------------------------------------------------------------------------------\n",
      "  status=2       coef    std err          z      P>|z|      [0.025      0.975]\n",
      "------------------------------------------------------------------------------\n",
      "const          5.5438      1.086      5.103      0.000       3.414       7.673\n",
      "educ          -0.3147      0.065     -4.833      0.000      -0.442      -0.187\n",
      "exper          0.8487      0.157      5.406      0.000       0.541       1.156\n",
      "expersq       -0.0773      0.023     -3.372      0.001      -0.122      -0.032\n",
      "black          0.3114      0.282      1.106      0.269      -0.240       0.863\n",
      "==============================================================================\n"
     ]
    }
   ],
   "source": [
    "# Estimimate MNL\n",
    "mnl_keane=sm.MNLogit(df[y], sm.add_constant(df[x]))\n",
    "result=mnl_keane.fit()\n",
    "print('\\nstatus: 0=school, 1=home, 2=work\\n\\n', result.summary())"
   ]
  },
  {
   "cell_type": "code",
   "execution_count": 4,
   "metadata": {
    "scrolled": true,
    "slideshow": {
     "slide_type": "slide"
    }
   },
   "outputs": [
    {
     "name": "stdout",
     "output_type": "stream",
     "text": [
      "status: 0=school, 1=home, 2=work\n",
      "\n",
      "        MNLogit Marginal Effects      \n",
      "=====================================\n",
      "Dep. Variable:                 status\n",
      "Method:                          dydx\n",
      "At:                           overall\n",
      "==============================================================================\n",
      "  status=0      dy/dx    std err          z      P>|z|      [0.025      0.975]\n",
      "------------------------------------------------------------------------------\n",
      "educ           0.0174      0.003      5.981      0.000       0.012       0.023\n",
      "exper         -0.0313      0.007     -4.629      0.000      -0.045      -0.018\n",
      "expersq        0.0030      0.001      2.937      0.003       0.001       0.005\n",
      "black         -0.0184      0.013     -1.435      0.151      -0.043       0.007\n",
      "------------------------------------------------------------------------------\n",
      "  status=1      dy/dx    std err          z      P>|z|      [0.025      0.975]\n",
      "------------------------------------------------------------------------------\n",
      "educ          -0.0429      0.003    -14.312      0.000      -0.049      -0.037\n",
      "exper         -0.1006      0.010    -10.429      0.000      -0.120      -0.082\n",
      "expersq        0.0067      0.001      4.811      0.000       0.004       0.009\n",
      "black          0.0590      0.016      3.587      0.000       0.027       0.091\n",
      "------------------------------------------------------------------------------\n",
      "  status=2      dy/dx    std err          z      P>|z|      [0.025      0.975]\n",
      "------------------------------------------------------------------------------\n",
      "educ           0.0256      0.004      6.276      0.000       0.018       0.034\n",
      "exper          0.1319      0.011     12.327      0.000       0.111       0.153\n",
      "expersq       -0.0097      0.002     -6.122      0.000      -0.013      -0.007\n",
      "black         -0.0406      0.020     -2.057      0.040      -0.079      -0.002\n",
      "==============================================================================\n"
     ]
    }
   ],
   "source": [
    "# Marginal effects\n",
    "margeff=result.get_margeff()\n",
    "print('status: 0=school, 1=home, 2=work\\n\\n', margeff.summary())"
   ]
  },
  {
   "cell_type": "markdown",
   "metadata": {
    "slideshow": {
     "slide_type": "slide"
    }
   },
   "source": [
    "### Some additional features of interest\n",
    "- welfare \n",
    "- marginal utility of money\n",
    "- willingness to pay\n",
    "- money metric consumer/producer surplus\n",
    "- own-price and cross-price elasticities"
   ]
  },
  {
   "cell_type": "markdown",
   "metadata": {
    "slideshow": {
     "slide_type": "slide"
    }
   },
   "source": [
    "### Maximal expected utility - the \"log-sum\"\n",
    "- The maximal attainable utility is $\\max_j(u_{it})=\\max_j(v_{it}+\\varepsilon_{it})$\n",
    "- Since the researcher do not observe $\\varepsilon_{it}$ we often compute the the expected welfare which has a closed form in the logit case\n",
    "$$\n",
    "\\mathbb{E}_{\\varepsilon_{01},...,\\varepsilon_{iJ}}\\left[\\max(v_{ij}+\\varepsilon_{ij})\\right]=\\log\\left[\\sum_{j=0}^{J}\\exp(v_{ij})\\right].\n",
    "$$\n",
    "This is some times referred to as the \"log-sum\" or the \"smooth max operator\". If we scale $\\varepsilon_{it}$ with $\\sigma$ we obtain\n",
    "\\begin{eqnarray*}\n",
    " \\mathbb{E}_{\\varepsilon_{01},...,\\varepsilon_{iJ}}\\left[\\max(v_{ij}+\\sigma\\varepsilon_{ij})\\right]\n",
    "&=& \\sigma\\log\\left[\\sum_{j=0}^{J}\\exp(v_{ij}/\\sigma)\\right] \\\\\n",
    "&=& \\max_j v_{ij} + \\sigma\\log\\left[\\sum_{j=0}^{J}\\exp((v_{ij}-\\max_j  v_{ij})/\\sigma)\\right] \n",
    "\\end{eqnarray*}\n",
    "- From the last term we see that $\\varepsilon_{it}$ always adds positively to expected utility if $\\sigma>0$. \n",
    "- This effect is increasing in number of alternatives, so logit implies that consumers have a love of variety.\n",
    "- We also see that the log-sum converges to the max as $\\sigma \\rightarrow 0$ \n",
    "$$\n",
    "\\lim_{\\sigma \\rightarrow 0}\\sigma\\log\\left[\\sum_{j=0}^{J}\\exp(v_{ij}/\\sigma)\\right]= \\max_j v_{ij} \n",
    "$$"
   ]
  },
  {
   "cell_type": "markdown",
   "metadata": {
    "slideshow": {
     "slide_type": "slide"
    }
   },
   "source": [
    "### Log-sum: The smooth-max operator:\n",
    "<p float=\"center\">\n",
    "    <img src=\"img/max.png\" width=\"500\"/>\n",
    "    <img src=\"img/logsum.png\" width=\"500\"/>\n",
    "</p>\n",
    "\n"
   ]
  },
  {
   "cell_type": "markdown",
   "metadata": {
    "slideshow": {
     "slide_type": "slide"
    }
   },
   "source": [
    "### Money metric welfare analysis and willingness to pay\n",
    "How to express welfare and substitution in monetary terms? \n",
    "\n",
    "Suppose we have the following specification of indirect utility\n",
    "$$\n",
    "u_{ij}=\\delta_p p_{j} + \\delta_z z_{j} + \\varepsilon_{ij}\n",
    "$$\n",
    "where $p_{j}$ is the price of good $j$ and $z_{j}$ is some other attribute of the good. \n",
    "\n",
    "- The price response, $du_{it}/dp_j=\\delta_p$, is also a measure of **the marginal utility of money**\n",
    "- We can then use the price parameter to compute expected **money metric consumer surplus (CS)** by translating welfare form utility units to monetary units\n",
    "$$\n",
    "E(CS)=1/\\delta_p\\log\\left[\\sum_{j=0}^{J}\\exp(\\delta_p p_{j} + \\delta_z z_{j} )\\right] + C.\n",
    "$$\n",
    "- Now consider a change in prices and attributes that holds utility constant $$du_{ij}=\\delta_p dp_{j} + \\delta_x dz_{j} = 0$$\n",
    "- Here $\\text{wtp}=dp_{j}/dz_{j}=-\\delta_z/\\delta_p$ measures the **willingness to pay** for increase in $z$\n",
    "- Price responses for normal goods are negative, so $\\text{wtp}>0$ if $\\delta_x>0$\n"
   ]
  },
  {
   "cell_type": "markdown",
   "metadata": {
    "slideshow": {
     "slide_type": "slide"
    }
   },
   "source": [
    "###  Elasticities for conditional logit\n",
    "Economist are often interested in measuring the response in terms of elaticities, since they are normalized for the variable's units\n",
    "\n",
    "- The elasticity of $p_{ij}$ wrt to a change alternative-specific attribute $x_{ik}$ is\n",
    "\n",
    "$$E_{j, x_{ik}}= \\frac{x_{ik}}{p_{ij}}\\frac{\\partial p_{ij}}{\\partial x_{ik}}\n",
    "\\quad=\\quad \\frac{x_{ik}}{p_{ij}}  p_{ij}\\left(\\mathbb{1}(k=j)-p_{ik}\\right)\\beta \n",
    "\\quad=\\quad \\left(\\mathbb{1}(k=j)-p_{ik}\\right) x_{ik}\\beta $$\n",
    "- **The cross-price elasticity** (i.e. when $k\\ne j$) is completely independent of $j$\n",
    "$$E_{j, x_{ik}}= \n",
    "\\quad=\\quad -p_{ik} x_{ik}\\beta $$\n",
    "- We see that a change in an attribute of alternative $k$ changes demand for all other goods by the same percentage\n",
    "- This is a result of substitution patters imposed by logit which reflects the so-called **independence of irrelative alternatives (IIA)** property\n",
    "\n",
    "\n",
    "\n"
   ]
  },
  {
   "cell_type": "markdown",
   "metadata": {
    "slideshow": {
     "slide_type": "slide"
    }
   },
   "source": [
    "# Independence of irrelative alternatives (IIA)\n"
   ]
  },
  {
   "cell_type": "markdown",
   "metadata": {
    "slideshow": {
     "slide_type": "slide"
    }
   },
   "source": [
    "## Independence of irrelevant alternatives (IIA)\n",
    "- Conditional logit model:\n",
    "$$\\frac{P(y=j \\mid x)}{P(y=k \\mid x)} \n",
    "= \\frac{\\exp\\{x_j\\beta\\}/\\sum_l\\exp\\{x_l\\beta\\}}\n",
    "       {\\exp\\{x_k\\beta\\}/\\sum_l\\exp\\{x_l\\beta\\}}\n",
    "= \\exp\\{(x_j-x_k)\\beta\\}$$\n",
    "- **Ratio of probabilities** of two alternatives does *not* depend on **remaining alternatives**.\n",
    "- This is called the **IIA property**.\n",
    "- This implies that the **odds ratio** (relative prob.) does *not* depend on:\n",
    "    - $x_l$ for any $l \\neq j,k$.\n",
    "    - the size of the choice set.\n",
    "- **Implication:** Restricts **substitution patterns**.\n",
    "- **How realistic is this (implied) assumption? Good or bad?**"
   ]
  },
  {
   "cell_type": "markdown",
   "metadata": {
    "slideshow": {
     "slide_type": "slide"
    }
   },
   "source": [
    "## IIA Example 1: Blue bus/red bus example\n",
    "- Assume two ways of commuting: red bus or car.\n",
    "- Equally likely to be chosen by people:\n",
    "$$P(\\text{red bus})=P(\\text{car})=0.5 \n",
    "\\qquad\\Rightarrow\\qquad\n",
    "\\frac{P(\\text{red bus})}{P(\\text{car})}=1$$\n",
    "- Now, add a blue bus: *identical* to red bus (up to color).\n",
    "- New problem:\n",
    "$$\n",
    "\\begin{cases}\n",
    "P(\\text{blue bus})=P(\\text{red bus}) &\\quad \\text{[identical buses]} \\\\\n",
    "P(\\text{red bus})/P(\\text{car})=1 &\\quad \\text{[must hold (IIA)]}\\\\\n",
    "P(\\text{car})+P(\\text{blue bus})+P(\\text{red bus})=1 &\\quad \\text{[prob. sum to 1]}\n",
    "\\end{cases}$$\n",
    "- Only one solution: $P(\\text{car})=P(\\text{blue bus})=P(\\text{red bus})=1/3$.\n",
    "-We would expect $P(\\text{car})=0.5$, $P(\\text{blue bus})=P(\\text{red bus})=0.25$.\n",
    "\n",
    "\n",
    "**Counterintuitive solution implied by IIA!**\n",
    "\n"
   ]
  },
  {
   "cell_type": "markdown",
   "metadata": {
    "slideshow": {
     "slide_type": "slide"
    }
   },
   "source": [
    "\n",
    "## IIA Example 2: Car example\n",
    "- Suppose $y \\in \\{0,\\ldots,J\\}$ denotes **car type** whose attributes are\n",
    "$x_j=(\\text{price}_j,\\text{size}_j)$.\n",
    "- Assume that **price of car $J$ increases**: \n",
    "$x_{J}^{\\text{new}} = x_{J} + \\Delta$\n",
    "- **Change in probability** (ie, *market share*) **for all other cars \n",
    "$k \\neq J$** are **changed similarly**:\n",
    "$$\\begin{array}{lcl}\n",
    "P(y=k \\mid x^{\\text{new}}) \n",
    "&=& \\dfrac{\\exp\\{x_k'\\beta\\}}\n",
    "         {\\exp\\{\\beta_1\\Delta\\}\\exp\\{x_J\\beta\\}+\\sum_{j\\neq J}\\exp\\{x_j\\beta\\}} \\\\[2em]\n",
    "&=& 1/\\rho \\cdot P(y=k \\mid x^{\\text{old}})\n",
    "\\end{array}$$\n",
    "with: \n",
    "$\\rho=\\left(\\exp\\{\\beta_1\\Delta\\}\\exp\\{x_J\\beta\\}+\\sum_{j\\neq J}\\exp\\{x_j'\\beta\\}\\right)/\\left(\\sum_{j}\\exp\\{x_j\\beta\\}\\right)$\n",
    "\n",
    "\n",
    "\n",
    "- $\\log(\\rho)$ measures the change in consumer surplus after the price change\n",
    "- **How realistic is it that all market shares are impacted proportionally by the same $\\rho$?**\n"
   ]
  },
  {
   "cell_type": "markdown",
   "metadata": {
    "slideshow": {
     "slide_type": "slide"
    }
   },
   "source": [
    "## Concluding remarks: Possible extensions\n",
    "- **IIA assumption** comes from the **independence** of the error terms.\n",
    "- **Independence of the error terms** is required to build\n",
    "conditional/multinomial/mixed logit models.\n",
    "- In practice, **IIA can be tested** (eg, Hausman test).\n",
    "- **How to do better in practice?**\n",
    "- Relax independence:\n",
    "    - **Nested logit:** Allow correlation within groups of alternatives.\n",
    "    - **Multinomial probit:** Assume a multivariate normal distribution on the\n",
    "    error terms.\n",
    "    - Random coefficients logit\n",
    "- **Panel data:**  Random effects\n",
    "   "
   ]
  }
 ],
 "metadata": {
  "celltoolbar": "Slideshow",
  "date": 1602643870.398518,
  "filename": "38_optimization.rst",
  "kernelspec": {
   "display_name": "Python 3 (ipykernel)",
   "language": "python",
   "name": "python3"
  },
  "language_info": {
   "codemirror_mode": {
    "name": "ipython",
    "version": 3
   },
   "file_extension": ".py",
   "mimetype": "text/x-python",
   "name": "python",
   "nbconvert_exporter": "python",
   "pygments_lexer": "ipython3",
   "version": "3.9.12"
  },
  "title": "Econometrics B #13"
 },
 "nbformat": 4,
 "nbformat_minor": 4
}
