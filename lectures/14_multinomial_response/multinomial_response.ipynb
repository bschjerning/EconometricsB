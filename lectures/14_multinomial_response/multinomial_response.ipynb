{
 "cells": [
  {
   "cell_type": "markdown",
   "metadata": {
    "slideshow": {
     "slide_type": "subslide"
    }
   },
   "source": [
    "\n",
    "# Introduction to Multinomial Responses\n",
    "\n",
    "### Econometrics B (ØkB)\n",
    "\n",
    "**Bertel Schjerning**  \n",
    "Department of Economics, University of Copenhagen  \n",
    "\n",
    "### Readings:  \n",
    "- [Train, Ch. 3 Logit](https://eml.berkeley.edu/books/choice2nd/Ch03_p34-75.pdf)\n",
    "- Wooldridge ch. 16 (suplementary)\n",
    "\n",
    "### References:  \n",
    "- Wooldridge, J.M. (2010). *Econometric Analysis of Cross Section and Panel Data*, 2nd ed., MIT Press, Ch. 16.  \n",
    "- Train, K. (2009). *Discrete Choice Methods with Simulation*, 2nd ed., Cambridge University Press.\n",
    "[Download 1st ed. of book](https://eml.berkeley.edu/books/choice2.html)  \n",
    "\n",
    "\n"
   ]
  },
  {
   "cell_type": "markdown",
   "metadata": {
    "slideshow": {
     "slide_type": "slide"
    }
   },
   "source": [
    "## Why Discrete Choice Models?\n",
    "\n",
    "- Many economic decisions involve choosing **one among many alternatives**:  \n",
    "  - Which mode of transport? (**Car, bus, train**)  \n",
    "  - Which product to buy? (**iPhone, Samsung, Google Pixel**)  \n",
    "  - Which university program to apply for? (**Ranked application system in Denmark**)  \n",
    "\n",
    "- **Choices come from a finite set**, requiring models that capture **utility differences across alternatives**.  \n",
    "\n",
    "### Types of Discrete Responses and Suitable Models  \n",
    "\n",
    "- **Binary Choice** (Work or not work) → **Binary Logit / Probit**  \n",
    "- **Unordered Choice** (Transportation mode, product purchase, educational choice) <br>→ **Multinomial Logit, Nested Logit, Mixed Logit**  \n",
    "- **Ordered Choice** (Lecturer rating: Awful, Acceptable, Awesome) → **Ordered Logit / Ordered Probit**  \n",
    "- **Ranked Choice** (University admissions, job applications) → **Exploded Logit, Rank-Ordered Logit**  \n",
    "- **Count Data** (Homepage visits, COVID cases) → **Poisson, Negative Binomial Regression**  \n",
    "\n",
    "We focus on **unordered choices**, where consumers select the option with the highest utility.  "
   ]
  },
  {
   "cell_type": "markdown",
   "metadata": {
    "slideshow": {
     "slide_type": "slide"
    }
   },
   "source": [
    "## Today: Unordered Multinomial Responses  \n",
    "\n",
    "- **Individuals $i$ choose among $J$ mutually exclusive alternatives**  \n",
    "  - **Education** (MSc, BSc, High School)  \n",
    "  - **Transport** (Car, Bus, Train)  \n",
    "  - **Car Brand** (Ford, BMW, Tesla)  \n",
    "\n",
    "- **Deja vi from Econometrics A**: Logit demand model for **market shares in car demand** (OLS/IV/GMM)  \n",
    "- **Now**: Model **individual choices** and derive choice probabilities (estimate with MLE) \n",
    "- **Later**: Return to **market shares** formulation aggreating individual choices (estimate with GMM)"
   ]
  },
  {
   "cell_type": "markdown",
   "metadata": {
    "slideshow": {
     "slide_type": "slide"
    }
   },
   "source": [
    "## Extending binary choice models to **multiple alternatives**.\n",
    "\n",
    "- Interested in modeling the conditional choice probability (CCP) for a finite number of alternatives, $j\\in\\{0,\\ldots,J\\}$\n",
    "\n",
    "$$p_j(x)=P(y=j|x) \\in (0,1)$$ \n",
    "\n",
    "\n",
    "- Because alternatives are *mutually exclusive*, CCPs sum to 1 \n",
    "\n",
    "$$\\sum_{j\\in\\{0,\\ldots,J\\}} p_j(x)=1$$\n",
    "\n",
    "- So $p_0(x)=P(y=0|x)$ is determined once we know $p_j(x)$ for $j\\in\\{1,\\ldots,J\\}$\n",
    "\n",
    "$$p_0(x)=1-\\sum_{j=1}^J p_j(x)$$\n",
    "\n",
    "- **How do we model $p_j(x)$?**  \n",
    "  - Need a **structural model**  \n",
    "  - This leads us to the **Random Utility Model (RUM)**  \n",
    "\n"
   ]
  },
  {
   "cell_type": "markdown",
   "metadata": {
    "slideshow": {
     "slide_type": "slide"
    }
   },
   "source": [
    "# The Random Utility Model (RUM)"
   ]
  },
  {
   "cell_type": "markdown",
   "metadata": {
    "slideshow": {
     "slide_type": "slide"
    }
   },
   "source": [
    "## The Random Utility Model (RUM)\n",
    "\n",
    "**Decision rule**  \n",
    "$$ y_i = \\arg \\max_{j\\in\\{0,\\ldots,J\\}} u_{ij}, \\quad u_{ij} = v_{ij} + \\varepsilon_{ij} $$  \n",
    "\n",
    "- **Setup**:  \n",
    "  - $i=1,\\ldots,N$ (individuals), $j=0,\\ldots,J$ (alternatives)  \n",
    "  - $y_i$ = chosen alternative  \n",
    "  - $u_{ij}$ = total utility  \n",
    "  - $v_{ij}$ = deterministic utility  \n",
    "  - $\\varepsilon_{ij}$ = stochastic term (observed by decision maker, not econometrician)  \n",
    "\n",
    "**Key Models**  \n",
    "- **Logit models**: $\\varepsilon_{ij} \\sim$ i.i.d. extreme value  \n",
    "- **Conditional Logit**: $v_{ij} = x_{ij} \\beta$  \n",
    "- **Multinomial Logit**: $v_{ij} = x_i \\beta_j$  \n",
    "- **Combined Logit**: $v_{ij} = z_{ij}' \\beta + w_i \\gamma_j$  \n",
    "\n",
    "**Implications**  \n",
    "- Logit assumes **Independence of Irrelevant Alternatives (IIA)**  \n",
    "- **Are these assumptions realistic?**  \n",
    "- **How can they be relaxed? (Nested Logit, Mixed Logit, Random Coefficients Logit)**  "
   ]
  },
  {
   "cell_type": "markdown",
   "metadata": {
    "slideshow": {
     "slide_type": "slide"
    }
   },
   "source": [
    "## More on Utility  \n",
    "\n",
    "The observed component of utility, $v_{ij} = v(w_i, z_{ij})$, **does not have to be linear**.  \n",
    "\n",
    "### Examples:  \n",
    "\n",
    "- **Indirect Utility in Static Optimization**  \n",
    "  - When utility depends on another choice variable $c$:  \n",
    "    $$ v_{ij} = \\max_c \\tilde{v}_{ij}(c) $$  \n",
    "\n",
    "- **Choice-Specific Value Function in Dynamic Models**  \n",
    "  - When choices impact future states:  \n",
    "    $$ v(x, j) = \\tilde{u}(x, j) + \\rho \\int V(x') p(x' | x, j) dx' $$  \n",
    "  - With **expected value function**:  \n",
    "    $$ V(x) = \\int_\\varepsilon \\max_j (v(x, j) + \\varepsilon_j) d\\varepsilon = \\log \\sum_j \\exp(v(x, j)) $$  \n",
    "  - Where:  \n",
    "    - $\\rho$ = discount factor  \n",
    "    - $p(x' | x, j)$ = transition density of state variables  "
   ]
  },
  {
   "cell_type": "markdown",
   "metadata": {
    "slideshow": {
     "slide_type": "slide"
    }
   },
   "source": [
    "## Choice probabilities\n",
    "- From the **random utility model**:  \n",
    "$$y_i = \\arg \\max_{j\\in\\{0,\\ldots,J\\}} u_{ij}\n",
    "\\qquad\\qquad\n",
    "u_{ij} = v_{ij} + \\varepsilon_{ij}$$\n",
    "- Probability of choosing $j$:  \n",
    "$$\\begin{array}{lcl}\n",
    "p_{ij} \\equiv P(y_i = j) \n",
    "&=& P(u_{ij} > u_{ik} \\quad\\forall k\\neq j) \\\\[1ex]\n",
    "&=& P(v_{ij} + \\varepsilon_{ij} > v_{ik} + \\varepsilon_{ik} \\quad\\forall k\\neq j) \\\\[1ex]\n",
    "&=& P(\\varepsilon_{ik}-\\varepsilon_{ij} < v_{ij}-v_{ik} \\quad\\forall k\\neq j) \\\\[1ex]\n",
    "\\end{array}$$\n",
    "\n",
    "- The expression for $p_{ij}$ **depends on the distribution** of $\\varepsilon_{ij}$ \n",
    "    - How to choose the distribution of $\\varepsilon_{ij}$? \n",
    "    - What will be the implied distribution of $\\varepsilon_{ik}-\\varepsilon_{ij}$?\n",
    "    - Popular choice for $\\varepsilon_{ij}$ is the *Type 1 Extreme Value (Gumbel) Distribution*"
   ]
  },
  {
   "cell_type": "markdown",
   "metadata": {
    "slideshow": {
     "slide_type": "slide"
    }
   },
   "source": [
    "## Type 1 Extreme Value (Gumbel) Distribution (Location-Scale Form)\n",
    "For location $\\mu$ and scale $\\sigma$:  \n",
    "$$\n",
    "F(\\varepsilon) = \\exp\\left\\{-\\exp\\left(-\\frac{\\varepsilon - \\mu}{\\sigma}\\right)\\right\\}, \\quad\n",
    "f(\\varepsilon) = \\frac{1}{\\sigma} \\exp\\left\\{-\\frac{\\varepsilon - \\mu}{\\sigma} - \\exp\\left(-\\frac{\\varepsilon - \\mu}{\\sigma}\\right)\\right\\}\n",
    "$$  \n",
    "- **Limit distribution** for max of $N$ i.i.d. random variables as $N \\to \\infty$.  \n",
    "- **Mean:** $\\mu + \\gamma\\sigma$, where $\\gamma \\approx 0.577$ (Euler-Mascheroni constant).  \n",
    "- **Variance:** $\\frac{\\pi^2}{6} \\sigma^2$."
   ]
  },
  {
   "cell_type": "code",
   "execution_count": 1,
   "metadata": {
    "scrolled": true,
    "slideshow": {
     "slide_type": "-"
    }
   },
   "outputs": [
    {
     "data": {
      "image/png": "[encoded data removed]",
      "text/plain": [
       "<Figure size 1200x400 with 2 Axes>"
      ]
     },
     "metadata": {},
     "output_type": "display_data"
    }
   ],
   "source": [
    "import matplotlib.pyplot as plt\n",
    "import numpy as np\n",
    "from scipy.stats import norm\n",
    "μ, σ = 0, 1  # Location and scale \n",
    "# μ, σ  = -0.5772 * (6 / np.pi**2)**0.5, (6 / np.pi**2)**0.5 # uncomment to set E(ε)=0, var(ε)=1\n",
    "ε = np.linspace(-5, 5, 100)\n",
    "F = lambda ε: np.exp(-np.exp(-(ε - μ) / σ))\n",
    "f = lambda ε: (1 / σ) * np.exp(-(ε - μ) / σ - np.exp(-(ε - μ) / σ))\n",
    "Φ, ϕ = norm.cdf, norm.pdf  \n",
    "fig, (ax1, ax2) = plt.subplots(1, 2, figsize=(12, 4))\n",
    "ax1.plot(ε, F(ε), 'r--', ε, Φ(ε))\n",
    "ax1.legend([r'Extreme Value CDF, $F(\\varepsilon)$', r'Normal CDF, $\\Phi(\\varepsilon)$'])\n",
    "ax2.plot(ε, f(ε), 'r--', ε, ϕ(ε))\n",
    "ax2.legend([r'Extreme Value PDF, $f(\\varepsilon)$', r'Normal PDF, $\\phi(\\varepsilon)$'])\n",
    "plt.show()"
   ]
  },
  {
   "cell_type": "markdown",
   "metadata": {
    "slideshow": {
     "slide_type": "slide"
    }
   },
   "source": [
    "## Why the Type 1 Extreme Value (EV) Distribution?  \n",
    "\n",
    "<img src=\"img/evdist.png\" width=\"900\" height=\"400\">\n",
    "\n",
    "- The **EV distribution is right-skewed**, but only **error differences** in RUM matter:  \n",
    "  $$ p_{ij} = P(\\varepsilon_{ik} - \\varepsilon_{ij} < v_{ij} - v_{ik}, \\forall k \\neq j) $$  \n",
    "\n",
    "- If $\\varepsilon_j, \\varepsilon_k \\sim$ i.i.d. EV, then  \n",
    "  $$ \\varepsilon_j - \\varepsilon_k \\sim \\text{Logistic} $$  \n",
    "  - This **logistic difference property** gives **closed-form logit probabilities** in the binary case.  \n",
    "  - It also **extends to the multinomial case**, allowing us to derive **multinomial logit probabilities**:  \n",
    "    $$ p_{ij} = \\frac{\\exp(v_{ij})}{\\sum_{m=0}^{J} \\exp(v_{im})} $$  \n",
    "\n",
    "- The EV distribution is **max stable**:  \n",
    "  - The **maximum** of $n$ i.i.d. EV-distributed variables remains EV-distributed.  \n",
    "  - A **generalization leads to nested logit models**.  \n",
    "  - **Contrast with normal distributions**: sums of normals remain normal.  "
   ]
  },
  {
   "cell_type": "markdown",
   "metadata": {
    "slideshow": {
     "slide_type": "slide"
    }
   },
   "source": [
    "## Choice Probabilities  \n",
    "\n",
    "For additive random utility models:  \n",
    "\n",
    "$$\n",
    "\\begin{array}{lcl}\n",
    "p_{ij}  \n",
    "&=& P\\left(u_{ij} > u_{im}, \\forall m \\neq j \\right) \\\\\n",
    "&=& P\\left(v_{ij} + \\varepsilon _{ij} > v_{im} + \\varepsilon _{im}, \\forall m \\neq j \\right) \\\\\n",
    "&=& \\int_{\\varepsilon_{i0},\\dots,\\varepsilon_{iJ}} \\mathbb{1} \\left( \\varepsilon_{im} - \\varepsilon_{ij} < v_{ij} - v_{im}, \\forall m \\neq j \\right) \\\\\n",
    "&& \\quad f\\left( \\varepsilon_{i0},\\dots,\\varepsilon_{iJ} \\right) d\\varepsilon_{i0} \\dots d\\varepsilon_{iJ} \n",
    "\\end{array}\n",
    "$$\n",
    "\n",
    "- **Non-logit models require solving high-dimensional integrals** \n",
    "- **Error differences reduce dimension to $J$**, but still costly when $J$ is large  \n",
    "- **Panel data worsens the problem**: If $\\varepsilon_{ij}$ is a $T$-vector, dimension of integration scales with $J \\times T$  \n",
    "- **Logit avoids integration** and give **closed-form choice probabilities**, making estimation computationally feasible"
   ]
  },
  {
   "cell_type": "markdown",
   "metadata": {
    "slideshow": {
     "slide_type": "slide"
    }
   },
   "source": [
    "### Logit: \"Closed Form\" Choice Probabilities  \n",
    "\n",
    "**Start with additive RUM**:  \n",
    "  $$ p_{ij} = P(v_{ij} + \\varepsilon_{ij} > v_{im} + \\varepsilon_{im}, \\forall m \\neq j) $$  \n",
    "\n",
    "**Condition on $\\varepsilon_{ij}$**:  \n",
    "  $$ p_{ij} | \\varepsilon_{ij} = P(\\varepsilon_{im} < v_{ij} - v_{im} + \\varepsilon_{ij}, \\forall m \\neq j \\mid \\varepsilon_{ij}) $$  \n",
    "\n",
    "**Now assume $\\varepsilon_{im} \\sim$ i.i.d. EV:** <br>\n",
    "Because EV-distributed errors are **independent**, the probability of all inequalities holding factorizes into product of probabilities\n",
    "\n",
    "  $$ p_{ij} | \\varepsilon_{ij} = \\prod_{m \\neq j} e^{-e^{-(\\varepsilon_{ij} + v_{ij} - v_{im})}} $$  \n",
    "\n",
    "**Conditioning on $\\varepsilon_{ij}$ reduces the $(J+1)$-dimensional integral to a single integral**:  \n",
    "  $$ p_{ij} = \\int_{\\varepsilon_{ij}} \\left( \\prod_{m \\neq j} e^{-e^{-(\\varepsilon_{ij} + v_{ij} - v_{im})}} \\right) e^{-\\varepsilon_{ij} - e^{-\\varepsilon_{ij}}} d\\varepsilon_{ij} $$  \n",
    "\n",
    "**This integral has a closed-form solution, leading to the well-known logit formula**:  \n",
    "  $$ p_{ij} = \\frac{\\exp(v_{ij})}{\\sum_{m=0}^{J} \\exp(v_{im})} $$  \n",
    "\n",
    "(See next slide for the full derivation of the integral.)"
   ]
  },
  {
   "cell_type": "markdown",
   "metadata": {
    "slideshow": {
     "slide_type": "slide"
    }
   },
   "source": [
    "### Solving the Integral\n",
    "Noting that $v_{ij} - v_{ij} = 0$ and collecting terms, we get:\n",
    "\n",
    "$$\n",
    "\\begin{array}{lcl}\n",
    "p_{ij} &=& \\int_{-\\infty}^{\\infty} \\left(\\prod_{m} e^{-e^{-(\\varepsilon_{ij} + v_{ij} - v_{im})}}\\right) e^{-\\varepsilon_{ij}} d\\varepsilon_{ij} \\\\[1em]\n",
    "&=& \\int_{-\\infty}^{\\infty} \\exp\\left(-\\sum_{m} \\exp(-(\\varepsilon_{ij} + v_{ij} - v_{im}))\\right) e^{-\\varepsilon_{ij}} d\\varepsilon_{ij} \\\\[1em]\n",
    "&=& \\int_{-\\infty}^{\\infty} \\exp\\left(-e^{-\\varepsilon_{ij}} \\sum_{m} \\exp(-(v_{ij} - v_{im}))\\right) e^{-\\varepsilon_{ij}} d\\varepsilon_{ij}.\n",
    "\\end{array}\n",
    "$$  \n",
    "\n",
    "Using the substitution $t = e^{-\\varepsilon_{ij}}$, so that $dt = -e^{-\\varepsilon_{ij}} d\\varepsilon_{ij}$, we obtain:  \n",
    "\n",
    "$$\n",
    "p_{ij} = \\int_{0}^{\\infty} \\exp\\left(-t \\sum_{m} \\exp(-(v_{ij} - v_{im}))\\right) dt.\n",
    "$$  \n",
    "\n",
    "Evaluating the integral:\n",
    "\n",
    "$$\n",
    "p_{ij} = \\left[ \\frac{\\exp(-t \\sum_{m} \\exp(-(v_{ij} - v_{im})))}{-\\sum_{m} \\exp(-(v_{ij} - v_{im}))} \\right]_{0}^{\\infty}.\n",
    "$$  \n",
    "\n",
    "Substituting limits:\n",
    "\n",
    "$$\n",
    "p_{ij} = \\frac{1}{\\sum_{m=0}^{J} \\exp(v_{im} - v_{ij})} = \\frac{\\exp(v_{ij})}{\\sum_{m=0}^{J} \\exp(v_{im})}.\n",
    "$$  "
   ]
  },
  {
   "cell_type": "markdown",
   "metadata": {
    "slideshow": {
     "slide_type": "slide"
    }
   },
   "source": [
    "# Identification"
   ]
  },
  {
   "cell_type": "markdown",
   "metadata": {
    "slideshow": {
     "slide_type": "slide"
    }
   },
   "source": [
    "## **Identification in Random Utility Models**  \n",
    "\n",
    "**Affine transformations of utility do not affect choices**:  \n",
    "  $$ u_{ij}^* = a_i + b_i u_{ij}, \\quad b_i > 0 $$  \n",
    "The transformation can be **individual-specific** ($a_i$, $b_i$ can vary across $i$) but **independent of $j$**.  \n",
    "\n",
    "**Decision rule remains unchanged** under transformation:  \n",
    "\\begin{align}\n",
    " p_{ij} &=P(a_i + b_i u_{ij} > a_i + b_i u_{im}, \\forall m \\neq j)  \n",
    "  \\\\ &=P(b_i u_{ij} > b_i u_{im}, \\forall m \\neq j)   \n",
    "  \\\\ &=P(u_{ij} > u_{im}, \\forall m \\neq j)   \n",
    "\\end{align}\n",
    "  - The constant shift $a_i$ **cancels out** from both sides of the inequalities.  \n",
    "  - The positive scale factor $b_i$ **does not affect the inequalities**.\n",
    "  - Models are **observably equivalent** for any $a_i$ and any positive scaling factor $b_i$.\n",
    "  \n",
    "### Implication:  \n",
    "- **Only differences in utility matter** \n",
    "- **Utility scale is arbitrary**"
   ]
  },
  {
   "cell_type": "markdown",
   "metadata": {
    "slideshow": {
     "slide_type": "slide"
    }
   },
   "source": [
    "## Normalization needed for identification\n",
    "- **Level normalization:** Fix a reference alternative (e.g., set $u_{i0} = 0$).  \n",
    "- **Scale normalization:** Fix the variance of $\\varepsilon_{ij}$ (e.g., $\\sigma = 1$) or normalize a coefficient.  \n",
    "\n",
    "*These normalizations are required for all discrete choice models, not just logit.*\n"
   ]
  },
  {
   "cell_type": "markdown",
   "metadata": {
    "slideshow": {
     "slide_type": "slide"
    }
   },
   "source": [
    "## Identification example: \n",
    "Start with the linear utility specification:\n",
    "\n",
    "$$u_{ij} = \\color{red}{\\alpha_i} + \\delta_j + x_{ij} \\beta_i + z_i \\gamma_j + \\color{red}{w_i \\phi} + \\sigma \\varepsilon_{ij}$$\n",
    "\n",
    "Compute utility differences relative to reference alternative $j=0$\n",
    "\n",
    "$$\n",
    "u_{ij} - u_{i0} = \\color{red}{(\\delta_j - \\delta_0)} + (x_{ij} - x_{i0}) \\beta_i + z_i \\color{red}{(\\gamma_j - \\gamma_0)}  + \\color{red}{\\sigma} (\\varepsilon_{ij} - \\varepsilon_{i0})\n",
    "$$\n",
    "\n",
    "- **Only differences in utility matter:** \n",
    "    - Any component that does not vary over alternatives cancels out ( intercept $\\alpha_i$ and $w_i\\phi$) \n",
    "    - Alternative-specific intercepts ($\\delta_j$) is only be identified relative to a baseline ($\\delta_0$).\n",
    "    - Alternative-specific coefficents to $z_i$ ($\\gamma_j$) is only be identified relative to a baseline ($\\gamma_0$).\n",
    "    - Individual-specific variables ($w_i$) must interact with alternative-specific effects ($\\gamma_j$), or they drop out.\n",
    "\n",
    "- **Scale of utility is arbitrary:**\n",
    "    - The scale of $\\varepsilon_{ij}$ is arbitrary → We must impose scale normalization (e.g., $\\sigma=1$ or fix a coefficient).\n",
    "    - Fixing $\\sigma=1$ implies that parameters are measured relative to $\\sigma$, e.g. ${(\\delta_j - \\delta_0)}/\\sigma$\n",
    "    \n",
    "✅ **Key Takeaway:** **Both level and scale normalizations are essential for identification and affect interpretation of parameters**"
   ]
  },
  {
   "cell_type": "markdown",
   "metadata": {
    "slideshow": {
     "slide_type": "slide"
    }
   },
   "source": [
    "## **Identification in Conditional vs. Multinomial Logit**  \n",
    "\n",
    "### **Conditional Logit (CL)**  \n",
    "$$ u_{ij} = x_{ij} \\beta + \\sigma \\varepsilon_{ij} $$\n",
    "- $x_{ij}$: **$1 \\times K$ vector** of characteristics of **alternative $j$** for individual $i$.  \n",
    "- **Example (Education choice)**:\n",
    "  $$ x_{ij} = (\\texttt{Const}_{j}, \\texttt{Costs}_{ij}, \\texttt{StudyTime}_{ij}, \\texttt{ExpectedWage}_{ij}, \\dots) $$  \n",
    "- **Identification**: No choice-invariant intercepts, fixed scale (e.g., $\\sigma=1$).  \n",
    "- **Interpretation of $\\beta_k$**: Marginal utility of $x_{ij,k}$.  \n",
    "\n",
    "### **Multinomial Logit (MNL)**  \n",
    "$$ u_{ij} = x_i \\beta_j + \\sigma \\varepsilon_{ij} $$\n",
    "- $x_i$: **$1 \\times K$ vector** of characteristics of **individual $i$** (same across alternatives).  \n",
    "- **Example (Education choice)**:  \n",
    "  $$ x_i = (\\texttt{Age}_i, \\texttt{ParentsEduc}_i, \\dots) $$  \n",
    "- **Identification**: Requires a **baseline alternative** (e.g., $\\beta_0 = 0$), fixed scale (e.g., $\\sigma=1$).  \n",
    "- **Interpretation of $\\beta_{jk}$**: Effect of individual characteristic $x_i^k$ on utility of alternative $j$ (relative to baseline $j=0$).  "
   ]
  },
  {
   "cell_type": "markdown",
   "metadata": {
    "slideshow": {
     "slide_type": "slide"
    }
   },
   "source": [
    "## Identification: Conditional logit\n",
    "- **Location problem:**\n",
    "\n",
    "$$\\begin{array}{lcl}\n",
    "p_{ij}\n",
    "&=&\\dfrac{\\exp\\{{\\color{red}\\beta_0} + x_{ij}\\beta\\}}\n",
    "         {\\sum_{k=0}^J\\exp\\{{\\color{red}\\beta_0} + x_{ik}\\beta\\}} \\\\[0.5em]\n",
    "&=&\\dfrac{{\\exp\\{\\color{red}\\beta_0}\\}\\exp\\{x_{ij}\\beta\\}}\n",
    "         {\\sum_{k=0}^J{\\exp\\{\\color{red}\\beta_0}\\}\\exp\\{x_{ik}\\beta\\}} \\\\[0.5em]\n",
    "&=&\\dfrac{\\exp\\{x_{ij}\\beta\\}}\n",
    "         {\\sum_{k=0}^J\\exp\\{x_{ik}\\beta\\}}\n",
    "\\end{array}$$\n",
    "\n",
    "\n",
    "- **Solution:** Intercept term needs to be fixed to $\\beta_0=0$.\n",
    "- Otherwise, it is possible to **shift all utilities**\n",
    "(ie, add an arbitrary constant) without changing the ccps."
   ]
  },
  {
   "cell_type": "markdown",
   "metadata": {
    "slideshow": {
     "slide_type": "slide"
    }
   },
   "source": [
    "## Identification: Multinomial logit\n",
    "- **Similar problem:**\n",
    "$$\\begin{array}{lcl}\n",
    "p_{ij}\n",
    "&=&\\dfrac{\\exp\\{x_{i}(\\beta_j+{\\color{red}\\delta})\\}}\n",
    "         {\\sum_{k=0}^J\\exp\\{x_{i}(\\beta_k+{\\color{red}\\delta})\\}} \\\\[.5em]\n",
    "&=&\\dfrac{{\\color{red}\\exp\\{x_i\\delta\\}}\\exp\\{x_{i}\\beta_j\\}}\n",
    "         {\\sum_{k=0}^J{\\color{red}\\exp\\{x_i\\delta\\}}\\exp\\{x_{i}\\beta_k\\}} \\\\[0.5em]\n",
    "&=&\\dfrac{\\exp\\{x_{i}\\beta_j\\}}\n",
    "                                 {\\sum_{k=0}^J\\exp\\{x_{i}\\beta_k\\}}\n",
    "\\end{array}$$\n",
    "\n",
    "- **Solution:** Define a **baseline alternative $j$** (usually the first one) \n",
    "and set $\\beta_j=0$.\n",
    "- This **normalization** (ie, *identification restriction*) implies that the\n",
    "coefficients are always measured *with respect to the baseline category*."
   ]
  },
  {
   "cell_type": "markdown",
   "metadata": {
    "slideshow": {
     "slide_type": "slide"
    }
   },
   "source": [
    "## Identification: Scale of utility is irrelevant\n",
    "- Suppose we had the model with extreme value type I errors\n",
    "$$y_i = \\arg \\max_{j\\in\\{0,\\ldots,J\\}} u_{ij}\n",
    "\\qquad\\qquad\n",
    "u_{ij} = x_{ij}\\beta + \\color{red}{\\sigma}\\varepsilon_{ij}$$\n",
    "\n",
    "- Implied logit ccp's are (here for CL)\n",
    "\n",
    "$$\\begin{array}{lcl} \n",
    "p_{ij}\n",
    "&=&\\dfrac{\\exp\\{x_{ij}\\beta/{\\color{red}\\sigma}\\}}\n",
    "         {\\sum_{k=0}^J\\exp\\{x_{ik}\\beta/{\\color{red}\\sigma}\\}} \\\\[.5em]\n",
    "\\end{array}$$\n",
    "\n",
    "- Coefficients are only identified up to scale, $\\beta/\\color{red}{\\sigma}$ \n",
    "- Need the usual scale normalization\n",
    "- **Solution** \n",
    "    - Usually we make the normalization $\\sigma=1$. \n",
    "    - Sometimes we alternatively normalize the scale on one of the coefficients, say $\\beta_k=1$\n",
    "\n",
    "\n"
   ]
  },
  {
   "cell_type": "markdown",
   "metadata": {
    "slideshow": {
     "slide_type": "slide"
    }
   },
   "source": [
    "### Conclusion: Identification in Discrete Choice Models\n",
    "\n",
    "1. **Only differences in utility matter** → Any component that does not vary across alternatives cancels out\n",
    "2. **Utility scale is arbitrary** → Model is only identified up to scale.  \n",
    "\n",
    "3. **Identification conditions depend on variable structure:**  \n",
    "   - **Conditional Logit (CL)**:  \n",
    "     - Attributes vary across alternatives → **Choice-invariant coefficients must be excluded.** \n",
    "   - **Multinomial Logit (MNL)**:  \n",
    "     - Explanatory cariables vary across individuals → **coefficients need to be alternative-specific** \n",
    "     - In models with many alternatives, MNL result in a **huge number of patameters**\n",
    "     - **All alternative-specific coefficients must be measured relative to a baseline alternative.**  \n",
    "   - **In both CL and MNL**: Scale must be normalized, e..g by setting $\\sigma=1$ (or an equivalent restriction).  \n",
    "   - **Models that combines both CL and MNL** →  must take account of all problems above.\n",
    "\n",
    "\n",
    "4. **Key Takeaway:**  \n",
    "   - **Both level and scale normalizations are necessary** for identification.  \n",
    "   - **Interpretation of coefficients depends on normalization choice.**  \n",
    "   - **The same identification issues extend to more general discrete choice models** (e.g., nested logit, mixed logit).  \n"
   ]
  },
  {
   "cell_type": "markdown",
   "metadata": {
    "slideshow": {
     "slide_type": "slide"
    }
   },
   "source": [
    "# Logit and Independence of irrelative alternatives (IIA)\n"
   ]
  },
  {
   "cell_type": "markdown",
   "metadata": {
    "slideshow": {
     "slide_type": "slide"
    }
   },
   "source": [
    "## Logit $\\rightarrow$  Independence of irrelevant alternatives (IIA)\n",
    "\n",
    "- **Odds ratio** between two alternatives:  \n",
    "  $$\n",
    "  \\frac{P(y=j \\mid x)}{P(y=k \\mid x)} \n",
    "  = \\frac{\\exp(x_j\\beta)/\\sum_l\\exp(x_l\\beta)}\n",
    "         {\\exp(x_k\\beta)/\\sum_l\\exp(x_l\\beta)}\n",
    "  = \\exp((x_j-x_k)\\beta)\n",
    "  $$\n",
    "- **Probability of choosing $j$ over $k$** - does **not depend on any other alternatives** $\\rightarrow$  **IIA property**.  \n",
    "- **Logit restricts substitution patterns**: The impact of changes in attributes applies **proportionally** to all alternatives (we show later that cross elasticities are identical).  \n",
    "\n",
    "### **Why Logit and IIA Is Often Too Restrictive**  \n",
    "- **Airlines:** \n",
    "    - Logit assumes a new **Copenhagen–Stuttgart** route reduces demand **equally** across all other routes, including **Copenhagen–Sydney**. \n",
    "    - In reality, it mainly reduces demand for **Copenhagen–Frankfurt** and **Copenhagen–Munich** (closer substitutes).  \n",
    "- **Car Market:**\n",
    "    - Logit assumes a price drop for **Tesla Model 3** shifts demand **equally** across all car models, including **Ford F-150 Truck**. \n",
    "    - In reality, it mainly shifts demand from other EVs like **Polestar 2** and **BMW i4**.  \n",
    "- **Grocery Stores:** \n",
    "    - Logit assumes that when **Irma** closed, its customers switched **equally** to all other supermarkets, including **Lidl**. \n",
    "    - In reality, most switched to **Meny** or **SuperBrugsen**, which are more similar in price and product selection.  \n",
    "- **Public Transport:** \n",
    "    - Logit assumes adding a **blue bus** takes passengers **equally** from **red bus, car, and train**. \n",
    "    - In reality, it mainly reduces demand for the **red bus**, as they are direct substitutes.  "
   ]
  },
  {
   "cell_type": "markdown",
   "metadata": {
    "slideshow": {
     "slide_type": "slide"
    }
   },
   "source": [
    "## IIA Example 1: Blue bus/red bus example\n",
    "- Assume two ways of commuting: red bus or car.\n",
    "- Equally likely to be chosen by people:\n",
    "$$P(\\text{red bus})=P(\\text{car})=0.5 \n",
    "\\qquad\\Rightarrow\\qquad\n",
    "\\frac{P(\\text{red bus})}{P(\\text{car})}=1$$\n",
    "- Now, add a blue bus: *identical* to red bus (up to color).\n",
    "- New problem:\n",
    "$$\n",
    "\\begin{cases}\n",
    "P(\\text{blue bus})=P(\\text{red bus}) &\\quad \\text{[identical buses]} \\\\\n",
    "P(\\text{red bus})/P(\\text{car})=1 &\\quad \\text{[must hold (IIA)]}\\\\\n",
    "P(\\text{car})+P(\\text{blue bus})+P(\\text{red bus})=1 &\\quad \\text{[prob. sum to 1]}\n",
    "\\end{cases}$$\n",
    "- Only one solution: $P(\\text{car})=P(\\text{blue bus})=P(\\text{red bus})=1/3$.\n",
    "-We would expect $P(\\text{car})=0.5$, $P(\\text{blue bus})=P(\\text{red bus})=0.25$.\n",
    "\n",
    "\n",
    "**Counterintuitive solution implied by IIA!**\n",
    "\n"
   ]
  },
  {
   "cell_type": "markdown",
   "metadata": {
    "slideshow": {
     "slide_type": "slide"
    }
   },
   "source": [
    "\n",
    "## IIA Example 2: Car example\n",
    "- Suppose $y \\in \\{0,\\ldots,J\\}$ denotes **car type** whose attributes are\n",
    "$x_j=(\\text{price}_j,\\text{size}_j)$.\n",
    "- Assume that **price of car $J$ increases**: \n",
    "$x_{J}^{\\text{new}} = x_{J} + \\Delta$\n",
    "- **Change in probability** (ie, *market share*) **for all other cars \n",
    "$k \\neq J$** are **changed similarly**:\n",
    "$$\\begin{array}{lcl}\n",
    "P(y=k \\mid x^{\\text{new}}) \n",
    "&=& \\dfrac{\\exp\\{x_k'\\beta\\}}\n",
    "         {\\exp\\{\\beta_1\\Delta\\}\\exp\\{x_J\\beta\\}+\\sum_{j\\neq J}\\exp\\{x_j\\beta\\}} \\\\[2em]\n",
    "&=& 1/\\rho \\cdot P(y=k \\mid x^{\\text{old}})\n",
    "\\end{array}$$\n",
    "with: \n",
    "$\\rho=\\left(\\exp\\{\\beta_1\\Delta\\}\\exp\\{x_J\\beta\\}+\\sum_{j\\neq J}\\exp\\{x_j'\\beta\\}\\right)/\\left(\\sum_{j}\\exp\\{x_j\\beta\\}\\right)$\n",
    "\n",
    "\n",
    "\n",
    "- $\\log(\\rho)$ measures the change in consumer surplus after the price change\n",
    "- **How realistic is it that all market shares are impacted proportionally by the same $\\rho$?**\n"
   ]
  },
  {
   "cell_type": "markdown",
   "metadata": {
    "slideshow": {
     "slide_type": "slide"
    }
   },
   "source": [
    "# Welfare analysis and willingness to pay"
   ]
  },
  {
   "cell_type": "markdown",
   "metadata": {
    "slideshow": {
     "slide_type": "slide"
    }
   },
   "source": [
    "## Maximal expected utility - the \"log-sum\"\n",
    "- The maximal attainable utility is $\\max_j(u_{it})=\\max_j(v_{it}+\\varepsilon_{it})$\n",
    "- Since the researcher do not observe $\\varepsilon_{it}$ we often compute the the expected welfare which has a closed form in the logit case\n",
    "$$\n",
    "\\mathbb{E}_{\\varepsilon_{01},...,\\varepsilon_{iJ}}\\left[\\max(v_{ij}+\\varepsilon_{ij})\\right]=\\log\\left[\\sum_{j=0}^{J}\\exp(v_{ij})\\right].\n",
    "$$\n",
    "This is some times referred to as the \"log-sum\" or the \"smooth max operator\". If we scale $\\varepsilon_{it}$ with $\\sigma$ we obtain\n",
    "\\begin{eqnarray*}\n",
    " \\mathbb{E}_{\\varepsilon_{01},...,\\varepsilon_{iJ}}\\left[\\max(v_{ij}+\\sigma\\varepsilon_{ij})\\right]\n",
    "&=& \\sigma\\log\\left[\\sum_{j=0}^{J}\\exp(v_{ij}/\\sigma)\\right] \\\\\n",
    "&=& \\max_j v_{ij} + \\sigma\\log\\left[\\sum_{j=0}^{J}\\exp((v_{ij}-\\max_j  v_{ij})/\\sigma)\\right] \n",
    "\\end{eqnarray*}\n",
    "- From the last term we see that $\\varepsilon_{it}$ always adds positively to expected utility if $\\sigma>0$. \n",
    "- This effect is increasing in number of alternatives, so logit implies that consumers have a love of variety.\n",
    "- We also see that the log-sum converges to the max as $\\sigma \\rightarrow 0$ \n",
    "$$\n",
    "\\lim_{\\sigma \\rightarrow 0}\\sigma\\log\\left[\\sum_{j=0}^{J}\\exp(v_{ij}/\\sigma)\\right]= \\max_j v_{ij} \n",
    "$$"
   ]
  },
  {
   "cell_type": "markdown",
   "metadata": {
    "slideshow": {
     "slide_type": "slide"
    }
   },
   "source": [
    "### Log-sum: The smooth-max operator:\n",
    "<p float=\"center\">\n",
    "    <img src=\"img/max.png\" width=\"500\"/> <img src=\"img/logsum.png\" width=\"500\"/>\n",
    "</p>\n",
    "\n"
   ]
  },
  {
   "cell_type": "markdown",
   "metadata": {
    "slideshow": {
     "slide_type": "slide"
    }
   },
   "source": [
    "### Money metric welfare analysis and willingness to pay\n",
    "How to express welfare and substitution in monetary terms? \n",
    "\n",
    "Suppose we have the following specification of indirect utility\n",
    "$$\n",
    "u_{ij}=\\delta_p p_{j} + \\delta_z z_{j} + \\varepsilon_{ij}\n",
    "$$\n",
    "where $p_{j}$ is the price of good $j$ and $z_{j}$ is some other attribute of the good. \n",
    "\n",
    "- The price response, $du_{it}/dp_j=\\delta_p$, is also a measure of **the marginal utility of money**\n",
    "- We can then use the price parameter to compute expected **money metric consumer surplus (CS)** by translating welfare form utility units to monetary units\n",
    "$$\n",
    "E(CS)=1/\\delta_p\\log\\left[\\sum_{j=0}^{J}\\exp(\\delta_p p_{j} + \\delta_z z_{j} )\\right] + C.\n",
    "$$\n",
    "- Now consider a change in prices and attributes that holds utility constant $$du_{ij}=\\delta_p dp_{j} + \\delta_x dz_{j} = 0$$\n",
    "- Here $\\text{wtp}=dp_{j}/dz_{j}=-\\delta_z/\\delta_p$ measures the **willingness to pay** for increase in $z$\n",
    "- Price responses for normal goods are negative, so $\\text{wtp}>0$ if $\\delta_x>0$\n"
   ]
  },
  {
   "cell_type": "markdown",
   "metadata": {
    "slideshow": {
     "slide_type": "slide"
    }
   },
   "source": [
    "# Estimation and data"
   ]
  },
  {
   "cell_type": "markdown",
   "metadata": {
    "slideshow": {
     "slide_type": "slide"
    }
   },
   "source": [
    "## Data Collection and Sources  \n",
    "- **Revealed Preference Data (RP)**\n",
    "  - **Observed real-world choices** from individuals or markets.  \n",
    "  - **Examples:**  \n",
    "    - Danish register data on labor market choices, residental choices, car owenership, etc.  \n",
    "    - Retail scanner data (consumer purchases).  \n",
    "    - Car sales data (market shares, prices, attributes).  \n",
    "  - **Advantage:** Reflects actual behavior under real constraints.  \n",
    "  - **Limitation:** No direct information on unchosen alternatives or counterfactuals.  \n",
    "\n",
    "- **Stated Preference Data (SP)**\n",
    "  - **Hypothetical choices** from surveys or experiments.  \n",
    "  - **Examples:**  \n",
    "    - Discrete choice experiments (DCE) in transport and healthcare.  \n",
    "    - Consumer surveys on willingness to pay for new products.  \n",
    "  - **Advantage:** Allows direct measurement of preferences under controlled conditions.  \n",
    "  - **Limitation:** Risk of hypothetical bias—stated choices may not reflect actual behavior.   "
   ]
  },
  {
   "cell_type": "markdown",
   "metadata": {
    "slideshow": {
     "slide_type": "slide"
    }
   },
   "source": [
    "## Likelihood function\n",
    "- To derive the **likelihood**, all **alternative specific probabilities** are needed.\n",
    "- To simplify notation we abstract from $x$\n",
    "- Define $d_{ij} = \\mathbb{1}(y_i=j)$, such that $\\sum_{j=0}^J d_{ij}=1$.\n",
    "- **Probability of choosing alternative $j$:**\n",
    "$$p_{ij} \\equiv P(y_i = j) = P(d_{ij} = 1, d_{ik}=0\\,\\,\\forall k\\neq j)$$\n",
    "- **Individual likelihood and log-likelihood:**\n",
    "$$\\begin{array}{lcl}\n",
    "L_i(\\theta) &=& \\displaystyle\\prod_{j=1}^J p_{ij}^{d_{ij}} \\\\[1em]\n",
    "\\mathcal{L}_i(\\theta) &\\equiv& \\ln L_i(\\theta) =\n",
    "  \\displaystyle\\sum_{j=0}^J d_{ij} \\ln p_{ij}\n",
    "\\end{array}$$\n",
    "- **How to specify $p_{ij}$?**\n"
   ]
  },
  {
   "cell_type": "markdown",
   "metadata": {
    "slideshow": {
     "slide_type": "slide"
    }
   },
   "source": [
    "## Data Types and Sampling  \n",
    "- **Micro Cross-Sectional and Panel Data** \n",
    "  - Sample of size $N$ where unit $i$ is randomly sampled:  \n",
    "  - **Cross-section:** $(y_i, x_{ij})$ is a random draw from the population.  \n",
    "  - **Panel:** $(y_i, x_{ij})$ extends to repeated choices over time.  \n",
    "  - **Panel structure:** $y_i$ is a $T \\times 1$ vector, $x_{ij}$ is a $T \\times K$ matrix with rows $x_{itj}$.  \n",
    "  - **Assumption:** Random sampling over $i$, but not necessarily over $t$.  \n",
    "\n",
    "- **Aggregate (Market Share) Data**\n",
    "    - **Observed:** $(s_{jt}, x_{jt})$, tracking market shares over time and/or across geographic markets.     \n",
    "    - **Interpretation:** Market shares approximate choice probabilities.   \n",
    "    - **Common Panel Features:** Fixed effects for time, product, or geography.  \n",
    "    - **Example:** Grieco et al. (2023) car sales dataset with model-time fixed effects.  \n",
    "\n",
    "- **Key Implications for Estimation** \n",
    "    - **Micro data:** Directly models individual choices and substitution patterns.  \n",
    "    - **Aggregate data:** Requires equilibrium assumptions to infer demand.  \n",
    "    - **Panel structures:** Need models accounting for time dependence and fixed effects.  "
   ]
  },
  {
   "cell_type": "markdown",
   "metadata": {
    "slideshow": {
     "slide_type": "slide"
    }
   },
   "source": [
    "# Maximum Likelihood Estimation (MLE) with Cross-Sectional Micro Data"
   ]
  },
  {
   "cell_type": "markdown",
   "metadata": {
    "slideshow": {
     "slide_type": "slide"
    }
   },
   "source": [
    "## **Likelihood Function for Discrete Choice Models**\n",
    "- Given observed choices $(y_i)$ and explanatory variables $(x_{i})$, we estimate parameters $\\beta_j$ by maximizing the likelihood function.\n",
    "- Define the **choice indicator**:\n",
    "  $$ d_{ij} = \\mathbb{1}(y_i = j), \\quad \\sum_{j=0}^{J} d_{ij} = 1 $$\n",
    "- The **individual likelihood function**:\n",
    "  $$ L_i(\\beta) = \\prod_{j=1}^{J} p_{ij}^{d_{ij}}, \\quad \\text{where } p_{ij} = P(y_i = j) $$\n",
    "- The **log-likelihood function**:\n",
    "  $$ \\mathcal{L}(\\beta) = \\sum_{i=1}^{N} \\sum_{j=0}^{J} d_{ij} \\ln p_{ij} $$"
   ]
  },
  {
   "cell_type": "markdown",
   "metadata": {
    "slideshow": {
     "slide_type": "slide"
    }
   },
   "source": [
    "## **MLE for Multinomial Logit Model (MNL)**\n",
    "For **multinomial logit**, choice probabilities take the form:\n",
    "$$ p_{ij} = \\frac{\\exp(x_{i} \\beta_j)}{\\sum_{k=0}^{J} \\exp(x_{i} \\beta_k)} $$\n",
    "**Log-likelihood contribution** for individual $i$\n",
    "  $$ \\mathcal{L_i}(\\beta) = \n",
    "  \\underbrace{\\sum_{j=1}^J d_{ij} x_{ij}\\beta}_{=x_{iy_i}\\beta} - \n",
    "  \\ln\\left(\\sum_{k=0}^J\\exp\\{x_{ik}\\beta\\}\\right)$$\n",
    "**Maximum likelihood estimator**\n",
    "$$\\hat{\\beta}_{MLE} = \\arg \\max_{\\beta} 1/N\\sum_{n=1}^N\\mathcal{L}(\\beta)$$\n",
    "   - Solve via numerical optimization.\n",
    "   - First-order condition (score function):\n",
    "     $$ \\frac{\\partial \\mathcal{L}}{\\partial \\beta_j} = \\sum_{i=1}^{N} \\left( d_{ij} - p_{ij} \\right) x_i = 0 $$\n",
    "     (i.e. model residuals should be orthogonal to explanatory variables)"
   ]
  },
  {
   "cell_type": "markdown",
   "metadata": {
    "slideshow": {
     "slide_type": "slide"
    }
   },
   "source": [
    "## Applicaiton of MNL: Schooling and Employment Choices\n",
    "Replicate Table 16.1 in Wooldridge (2010, p. 645)\n",
    "- **Outcome variable ($y_i$):** Employment status of young men  \n",
    "  - $y_i = 0$: School (**baseline**)  \n",
    "  - $y_i = 1$: Home  \n",
    "  - $y_i = 2$: Work  \n",
    "- **Covariates ($x_i$):**  \n",
    "  - `educ`: Years of education  \n",
    "  - `exper`: Work experience (years)  \n",
    "  - `expersq`: Experience squared  \n",
    "  - `black`: Indicator for Black individuals \n",
    "- **Utility function in MNL ($x_i$):** $u_{ij}=x_i \\beta_j + \\varepsilon_{ij}$ \n",
    "    - Covariates $x_i$ only has variation over $i$\n",
    "    - Coefficients need to be alternative specific, $\\beta_j$\n",
    "- **Normalization for Identification:**  \n",
    "  - We normalize $\\beta_j$ and use `School` as **baseline category**, so $\\beta_{\\text{School}} = 0 $  \n",
    "  - Coefficients for `Home` and `Work` are measured **relative to School** "
   ]
  },
  {
   "cell_type": "markdown",
   "metadata": {
    "slideshow": {
     "slide_type": "slide"
    }
   },
   "source": [
    "##  Read in the data"
   ]
  },
  {
   "cell_type": "code",
   "execution_count": 2,
   "metadata": {
    "scrolled": true
   },
   "outputs": [
    {
     "name": "stdout",
     "output_type": "stream",
     "text": [
      "status\n",
      "2.0       1286\n",
      "1.0        332\n",
      "0.0         99\n",
      "dtype: int64\n"
     ]
    },
    {
     "data": {
      "text/html": [
       "<div>\n",
       "<style scoped>\n",
       "    .dataframe tbody tr th:only-of-type {\n",
       "        vertical-align: middle;\n",
       "    }\n",
       "\n",
       "    .dataframe tbody tr th {\n",
       "        vertical-align: top;\n",
       "    }\n",
       "\n",
       "    .dataframe thead th {\n",
       "        text-align: right;\n",
       "    }\n",
       "</style>\n",
       "<table border=\"1\" class=\"dataframe\">\n",
       "  <thead>\n",
       "    <tr style=\"text-align: right;\">\n",
       "      <th></th>\n",
       "      <th>id</th>\n",
       "      <th>year</th>\n",
       "      <th>choice</th>\n",
       "      <th>wage</th>\n",
       "      <th>educ</th>\n",
       "      <th>expwc</th>\n",
       "      <th>expbc</th>\n",
       "      <th>expser</th>\n",
       "      <th>manuf</th>\n",
       "      <th>black</th>\n",
       "      <th>...</th>\n",
       "      <th>y84</th>\n",
       "      <th>y85</th>\n",
       "      <th>y86</th>\n",
       "      <th>y87</th>\n",
       "      <th>enroll</th>\n",
       "      <th>employ</th>\n",
       "      <th>attrit</th>\n",
       "      <th>exper</th>\n",
       "      <th>expersq</th>\n",
       "      <th>status</th>\n",
       "    </tr>\n",
       "  </thead>\n",
       "  <tbody>\n",
       "    <tr>\n",
       "      <th>6</th>\n",
       "      <td>1</td>\n",
       "      <td>87</td>\n",
       "      <td>2.0</td>\n",
       "      <td>NaN</td>\n",
       "      <td>11</td>\n",
       "      <td>0</td>\n",
       "      <td>0</td>\n",
       "      <td>0</td>\n",
       "      <td>0.0</td>\n",
       "      <td>1</td>\n",
       "      <td>...</td>\n",
       "      <td>0</td>\n",
       "      <td>0</td>\n",
       "      <td>0</td>\n",
       "      <td>1</td>\n",
       "      <td>0</td>\n",
       "      <td>0</td>\n",
       "      <td>0</td>\n",
       "      <td>0</td>\n",
       "      <td>0</td>\n",
       "      <td>1.0</td>\n",
       "    </tr>\n",
       "    <tr>\n",
       "      <th>13</th>\n",
       "      <td>2</td>\n",
       "      <td>87</td>\n",
       "      <td>4.0</td>\n",
       "      <td>15841.410156</td>\n",
       "      <td>12</td>\n",
       "      <td>0</td>\n",
       "      <td>3</td>\n",
       "      <td>2</td>\n",
       "      <td>0.0</td>\n",
       "      <td>1</td>\n",
       "      <td>...</td>\n",
       "      <td>0</td>\n",
       "      <td>0</td>\n",
       "      <td>0</td>\n",
       "      <td>1</td>\n",
       "      <td>0</td>\n",
       "      <td>1</td>\n",
       "      <td>0</td>\n",
       "      <td>5</td>\n",
       "      <td>25</td>\n",
       "      <td>2.0</td>\n",
       "    </tr>\n",
       "    <tr>\n",
       "      <th>20</th>\n",
       "      <td>4</td>\n",
       "      <td>87</td>\n",
       "      <td>5.0</td>\n",
       "      <td>6093.600098</td>\n",
       "      <td>9</td>\n",
       "      <td>0</td>\n",
       "      <td>0</td>\n",
       "      <td>0</td>\n",
       "      <td>0.0</td>\n",
       "      <td>1</td>\n",
       "      <td>...</td>\n",
       "      <td>0</td>\n",
       "      <td>0</td>\n",
       "      <td>0</td>\n",
       "      <td>1</td>\n",
       "      <td>0</td>\n",
       "      <td>1</td>\n",
       "      <td>0</td>\n",
       "      <td>0</td>\n",
       "      <td>0</td>\n",
       "      <td>2.0</td>\n",
       "    </tr>\n",
       "    <tr>\n",
       "      <th>27</th>\n",
       "      <td>5</td>\n",
       "      <td>87</td>\n",
       "      <td>3.0</td>\n",
       "      <td>11017.230469</td>\n",
       "      <td>9</td>\n",
       "      <td>2</td>\n",
       "      <td>1</td>\n",
       "      <td>4</td>\n",
       "      <td>0.0</td>\n",
       "      <td>1</td>\n",
       "      <td>...</td>\n",
       "      <td>0</td>\n",
       "      <td>0</td>\n",
       "      <td>0</td>\n",
       "      <td>1</td>\n",
       "      <td>0</td>\n",
       "      <td>1</td>\n",
       "      <td>0</td>\n",
       "      <td>7</td>\n",
       "      <td>49</td>\n",
       "      <td>2.0</td>\n",
       "    </tr>\n",
       "    <tr>\n",
       "      <th>34</th>\n",
       "      <td>6</td>\n",
       "      <td>87</td>\n",
       "      <td>2.0</td>\n",
       "      <td>NaN</td>\n",
       "      <td>8</td>\n",
       "      <td>0</td>\n",
       "      <td>4</td>\n",
       "      <td>0</td>\n",
       "      <td>0.0</td>\n",
       "      <td>1</td>\n",
       "      <td>...</td>\n",
       "      <td>0</td>\n",
       "      <td>0</td>\n",
       "      <td>0</td>\n",
       "      <td>1</td>\n",
       "      <td>0</td>\n",
       "      <td>0</td>\n",
       "      <td>0</td>\n",
       "      <td>4</td>\n",
       "      <td>16</td>\n",
       "      <td>1.0</td>\n",
       "    </tr>\n",
       "    <tr>\n",
       "      <th>...</th>\n",
       "      <td>...</td>\n",
       "      <td>...</td>\n",
       "      <td>...</td>\n",
       "      <td>...</td>\n",
       "      <td>...</td>\n",
       "      <td>...</td>\n",
       "      <td>...</td>\n",
       "      <td>...</td>\n",
       "      <td>...</td>\n",
       "      <td>...</td>\n",
       "      <td>...</td>\n",
       "      <td>...</td>\n",
       "      <td>...</td>\n",
       "      <td>...</td>\n",
       "      <td>...</td>\n",
       "      <td>...</td>\n",
       "      <td>...</td>\n",
       "      <td>...</td>\n",
       "      <td>...</td>\n",
       "      <td>...</td>\n",
       "      <td>...</td>\n",
       "    </tr>\n",
       "    <tr>\n",
       "      <th>12137</th>\n",
       "      <td>2226</td>\n",
       "      <td>87</td>\n",
       "      <td>1.0</td>\n",
       "      <td>NaN</td>\n",
       "      <td>13</td>\n",
       "      <td>1</td>\n",
       "      <td>1</td>\n",
       "      <td>0</td>\n",
       "      <td>0.0</td>\n",
       "      <td>0</td>\n",
       "      <td>...</td>\n",
       "      <td>0</td>\n",
       "      <td>0</td>\n",
       "      <td>0</td>\n",
       "      <td>1</td>\n",
       "      <td>1</td>\n",
       "      <td>0</td>\n",
       "      <td>0</td>\n",
       "      <td>2</td>\n",
       "      <td>4</td>\n",
       "      <td>0.0</td>\n",
       "    </tr>\n",
       "    <tr>\n",
       "      <th>12144</th>\n",
       "      <td>2228</td>\n",
       "      <td>87</td>\n",
       "      <td>3.0</td>\n",
       "      <td>25762.279297</td>\n",
       "      <td>16</td>\n",
       "      <td>0</td>\n",
       "      <td>0</td>\n",
       "      <td>0</td>\n",
       "      <td>1.0</td>\n",
       "      <td>0</td>\n",
       "      <td>...</td>\n",
       "      <td>0</td>\n",
       "      <td>0</td>\n",
       "      <td>0</td>\n",
       "      <td>1</td>\n",
       "      <td>0</td>\n",
       "      <td>1</td>\n",
       "      <td>0</td>\n",
       "      <td>0</td>\n",
       "      <td>0</td>\n",
       "      <td>2.0</td>\n",
       "    </tr>\n",
       "    <tr>\n",
       "      <th>12151</th>\n",
       "      <td>2229</td>\n",
       "      <td>87</td>\n",
       "      <td>4.0</td>\n",
       "      <td>23576.240234</td>\n",
       "      <td>11</td>\n",
       "      <td>0</td>\n",
       "      <td>4</td>\n",
       "      <td>2</td>\n",
       "      <td>1.0</td>\n",
       "      <td>0</td>\n",
       "      <td>...</td>\n",
       "      <td>0</td>\n",
       "      <td>0</td>\n",
       "      <td>0</td>\n",
       "      <td>1</td>\n",
       "      <td>0</td>\n",
       "      <td>1</td>\n",
       "      <td>0</td>\n",
       "      <td>6</td>\n",
       "      <td>36</td>\n",
       "      <td>2.0</td>\n",
       "    </tr>\n",
       "    <tr>\n",
       "      <th>12158</th>\n",
       "      <td>2230</td>\n",
       "      <td>87</td>\n",
       "      <td>3.0</td>\n",
       "      <td>23886.910156</td>\n",
       "      <td>12</td>\n",
       "      <td>3</td>\n",
       "      <td>4</td>\n",
       "      <td>0</td>\n",
       "      <td>0.0</td>\n",
       "      <td>0</td>\n",
       "      <td>...</td>\n",
       "      <td>0</td>\n",
       "      <td>0</td>\n",
       "      <td>0</td>\n",
       "      <td>1</td>\n",
       "      <td>0</td>\n",
       "      <td>1</td>\n",
       "      <td>0</td>\n",
       "      <td>7</td>\n",
       "      <td>49</td>\n",
       "      <td>2.0</td>\n",
       "    </tr>\n",
       "    <tr>\n",
       "      <th>12165</th>\n",
       "      <td>2231</td>\n",
       "      <td>87</td>\n",
       "      <td>3.0</td>\n",
       "      <td>37487.828125</td>\n",
       "      <td>16</td>\n",
       "      <td>2</td>\n",
       "      <td>0</td>\n",
       "      <td>0</td>\n",
       "      <td>0.0</td>\n",
       "      <td>0</td>\n",
       "      <td>...</td>\n",
       "      <td>0</td>\n",
       "      <td>0</td>\n",
       "      <td>0</td>\n",
       "      <td>1</td>\n",
       "      <td>0</td>\n",
       "      <td>1</td>\n",
       "      <td>0</td>\n",
       "      <td>2</td>\n",
       "      <td>4</td>\n",
       "      <td>2.0</td>\n",
       "    </tr>\n",
       "  </tbody>\n",
       "</table>\n",
       "<p>1717 rows × 24 columns</p>\n",
       "</div>"
      ],
      "text/plain": [
       "         id  year  choice          wage  educ  expwc  expbc  expser  manuf  \\\n",
       "6         1    87     2.0           NaN    11      0      0       0    0.0   \n",
       "13        2    87     4.0  15841.410156    12      0      3       2    0.0   \n",
       "20        4    87     5.0   6093.600098     9      0      0       0    0.0   \n",
       "27        5    87     3.0  11017.230469     9      2      1       4    0.0   \n",
       "34        6    87     2.0           NaN     8      0      4       0    0.0   \n",
       "...     ...   ...     ...           ...   ...    ...    ...     ...    ...   \n",
       "12137  2226    87     1.0           NaN    13      1      1       0    0.0   \n",
       "12144  2228    87     3.0  25762.279297    16      0      0       0    1.0   \n",
       "12151  2229    87     4.0  23576.240234    11      0      4       2    1.0   \n",
       "12158  2230    87     3.0  23886.910156    12      3      4       0    0.0   \n",
       "12165  2231    87     3.0  37487.828125    16      2      0       0    0.0   \n",
       "\n",
       "       black  ...  y84  y85  y86  y87  enroll  employ  attrit  exper  expersq  \\\n",
       "6          1  ...    0    0    0    1       0       0       0      0        0   \n",
       "13         1  ...    0    0    0    1       0       1       0      5       25   \n",
       "20         1  ...    0    0    0    1       0       1       0      0        0   \n",
       "27         1  ...    0    0    0    1       0       1       0      7       49   \n",
       "34         1  ...    0    0    0    1       0       0       0      4       16   \n",
       "...      ...  ...  ...  ...  ...  ...     ...     ...     ...    ...      ...   \n",
       "12137      0  ...    0    0    0    1       1       0       0      2        4   \n",
       "12144      0  ...    0    0    0    1       0       1       0      0        0   \n",
       "12151      0  ...    0    0    0    1       0       1       0      6       36   \n",
       "12158      0  ...    0    0    0    1       0       1       0      7       49   \n",
       "12165      0  ...    0    0    0    1       0       1       0      2        4   \n",
       "\n",
       "       status  \n",
       "6         1.0  \n",
       "13        2.0  \n",
       "20        2.0  \n",
       "27        2.0  \n",
       "34        1.0  \n",
       "...       ...  \n",
       "12137     0.0  \n",
       "12144     2.0  \n",
       "12151     2.0  \n",
       "12158     2.0  \n",
       "12165     2.0  \n",
       "\n",
       "[1717 rows x 24 columns]"
      ]
     },
     "metadata": {},
     "output_type": "display_data"
    }
   ],
   "source": [
    "import pandas as pd\n",
    "import numpy as np\n",
    "import statsmodels.api as sm\n",
    "df = pd.read_stata('keane.dta')\n",
    "df=df[df['year']==87].dropna(subset=['status', 'educ', 'exper', 'expersq', 'black'])\n",
    "x=['educ', 'exper', 'expersq', 'black']\n",
    "y=['status'] # status (0: school, 1: home, 2: work)\n",
    "print(df[y].value_counts())\n",
    "display(df)"
   ]
  },
  {
   "cell_type": "markdown",
   "metadata": {
    "slideshow": {
     "slide_type": "slide"
    }
   },
   "source": [
    "##  Parameter estimates - school as reference kategory\n",
    "See Table 16.1 in Wooldridge(2010, p. 645)"
   ]
  },
  {
   "cell_type": "code",
   "execution_count": 3,
   "metadata": {
    "scrolled": true,
    "slideshow": {
     "slide_type": "-"
    }
   },
   "outputs": [
    {
     "name": "stdout",
     "output_type": "stream",
     "text": [
      "Optimization terminated successfully.\n",
      "         Current function value: 0.528746\n",
      "         Iterations 8\n",
      "\n",
      "status: 0=school (baseline), 1=home, 2=work\n",
      "\n",
      "                           MNLogit Regression Results                          \n",
      "==============================================================================\n",
      "Dep. Variable:                 status   No. Observations:                 1717\n",
      "Model:                        MNLogit   Df Residuals:                     1707\n",
      "Method:                           MLE   Df Model:                            8\n",
      "Date:                Mon, 03 Mar 2025   Pseudo R-squ.:                  0.2433\n",
      "Time:                        15:20:47   Log-Likelihood:                -907.86\n",
      "converged:                       True   LL-Null:                       -1199.7\n",
      "Covariance Type:            nonrobust   LLR p-value:                7.383e-121\n",
      "==============================================================================\n",
      "  status=1       coef    std err          z      P>|z|      [0.025      0.975]\n",
      "------------------------------------------------------------------------------\n",
      "const         10.2779      1.133      9.069      0.000       8.057      12.499\n",
      "educ          -0.6736      0.070     -9.637      0.000      -0.811      -0.537\n",
      "exper         -0.1062      0.173     -0.613      0.540      -0.446       0.233\n",
      "expersq       -0.0125      0.025     -0.496      0.620      -0.062       0.037\n",
      "black          0.8130      0.303      2.686      0.007       0.220       1.406\n",
      "------------------------------------------------------------------------------\n",
      "  status=2       coef    std err          z      P>|z|      [0.025      0.975]\n",
      "------------------------------------------------------------------------------\n",
      "const          5.5438      1.086      5.103      0.000       3.414       7.673\n",
      "educ          -0.3147      0.065     -4.833      0.000      -0.442      -0.187\n",
      "exper          0.8487      0.157      5.406      0.000       0.541       1.156\n",
      "expersq       -0.0773      0.023     -3.372      0.001      -0.122      -0.032\n",
      "black          0.3114      0.282      1.106      0.269      -0.240       0.863\n",
      "==============================================================================\n"
     ]
    }
   ],
   "source": [
    "# Estimimate MNL\n",
    "mnl_keane=sm.MNLogit(df[y], sm.add_constant(df[x]))\n",
    "result=mnl_keane.fit()\n",
    "print('\\nstatus: 0=school (baseline), 1=home, 2=work\\n\\n', result.summary())"
   ]
  },
  {
   "cell_type": "markdown",
   "metadata": {
    "slideshow": {
     "slide_type": "slide"
    }
   },
   "source": [
    "##  Parameter estimates - Try work as reference kategory"
   ]
  },
  {
   "cell_type": "code",
   "execution_count": 4,
   "metadata": {
    "scrolled": true,
    "slideshow": {
     "slide_type": "-"
    }
   },
   "outputs": [
    {
     "name": "stdout",
     "output_type": "stream",
     "text": [
      "Optimization terminated successfully.\n",
      "         Current function value: 0.528746\n",
      "         Iterations 8\n",
      "\n",
      "status_w0: 2=work (baseline), 0=school, 1=home\n",
      "\n",
      "                           MNLogit Regression Results                          \n",
      "==============================================================================\n",
      "Dep. Variable:              status_w0   No. Observations:                 1717\n",
      "Model:                        MNLogit   Df Residuals:                     1707\n",
      "Method:                           MLE   Df Model:                            8\n",
      "Date:                Mon, 03 Mar 2025   Pseudo R-squ.:                  0.2433\n",
      "Time:                        15:20:47   Log-Likelihood:                -907.86\n",
      "converged:                       True   LL-Null:                       -1199.7\n",
      "Covariance Type:            nonrobust   LLR p-value:                7.383e-121\n",
      "===============================================================================\n",
      "status_w0=1       coef    std err          z      P>|z|      [0.025      0.975]\n",
      "-------------------------------------------------------------------------------\n",
      "const          -5.5438      1.086     -5.103      0.000      -7.673      -3.414\n",
      "educ            0.3147      0.065      4.833      0.000       0.187       0.442\n",
      "exper          -0.8487      0.157     -5.406      0.000      -1.156      -0.541\n",
      "expersq         0.0773      0.023      3.372      0.001       0.032       0.122\n",
      "black          -0.3114      0.282     -1.106      0.269      -0.863       0.240\n",
      "-------------------------------------------------------------------------------\n",
      "status_w0=2       coef    std err          z      P>|z|      [0.025      0.975]\n",
      "-------------------------------------------------------------------------------\n",
      "const           4.7341      0.462     10.253      0.000       3.829       5.639\n",
      "educ           -0.3590      0.032    -11.238      0.000      -0.422      -0.296\n",
      "exper          -0.9550      0.097     -9.882      0.000      -1.144      -0.766\n",
      "expersq         0.0648      0.013      5.076      0.000       0.040       0.090\n",
      "black           0.5017      0.148      3.380      0.001       0.211       0.793\n",
      "===============================================================================\n"
     ]
    }
   ],
   "source": [
    "df['status_w0'] = df[y].replace({0: 1, 1: 2, 2: 0})  # Makes 'work' (2) the baseline\n",
    "mnl_keane_w0 = sm.MNLogit(df['status_w0'], sm.add_constant(df[x]))\n",
    "result_w0 = mnl_keane_w0.fit()\n",
    "print('\\nstatus_w0: 2=work (baseline), 0=school, 1=home\\n\\n', result_w0.summary())"
   ]
  },
  {
   "cell_type": "markdown",
   "metadata": {
    "slideshow": {
     "slide_type": "slide"
    }
   },
   "source": [
    "## Interpreting MNL Estimates: $\\beta_j$ is Hard to Interpret  \n",
    "- **Multinomial Logit Choice Probabilities**\n",
    "$$\n",
    "p_{ij} = \\frac{\\exp\\{x_{i}\\beta_j\\}}{\\sum_{k=0}^J\\exp\\{x_{i}\\beta_k\\}}\n",
    "$$  \n",
    "\n",
    "- **Log Odds Ratio (Relative to Baseline $j=0$)**  \n",
    "$$\n",
    "\\ln\\frac{P(y_i=j\\mid x_i)}{P(y_i=0\\mid x_i)} = \\ln\\frac{\\exp\\{x_{i}\\beta_j\\}/\\sum_{k=0}^J\\exp\\{x_{i}\\beta_k\\}}{\\exp\\{x_{i}\\beta_j\\}/\\sum_{k=0}^J\\exp\\{x_{i}\\beta_k\\}}=x_i(\\beta_j-\\beta_0) = x_i\\beta_j \n",
    "$$  \n",
    "    - **Linear in $x_i$** \n",
    "    - $\\beta_j$ measures change in **log odds** between alternative $j$ and baseline.  \n",
    "    \n",
    "- **Marginal Effects** \n",
    "$$\n",
    "\\frac{\\partial}{\\partial x_i}P(y_i=j \\mid x_i)\n",
    "= p_{ij}\\left(\\beta_j-\\sum_{l=0}^J p_{il}\\beta_l\\right) \n",
    "$$  \n",
    "    - Depend on **all $\\beta_k$** and choice probabilities.  \n",
    "    - **Sign of $\\beta_j$ alone does not determine effect on $P(y_i=j)$!**  \n",
    "\n",
    "- **Key Takeaways** \n",
    "    - Unlike **binary logit**, **MNL $\\beta_j$ does not directly indicate direction of effect**.  \n",
    "    - **Marginal effects** provide the correct interpretation → Compute them! \n",
    "    - If we average over all observations, we get *Average Marginal Effects* "
   ]
  },
  {
   "cell_type": "markdown",
   "metadata": {
    "slideshow": {
     "slide_type": "slide"
    }
   },
   "source": [
    "## Average Marginal Effects"
   ]
  },
  {
   "cell_type": "code",
   "execution_count": 5,
   "metadata": {
    "scrolled": true,
    "slideshow": {
     "slide_type": "-"
    }
   },
   "outputs": [
    {
     "name": "stdout",
     "output_type": "stream",
     "text": [
      "status: 0=school, 1=home, 2=work\n",
      "\n",
      "        MNLogit Marginal Effects      \n",
      "=====================================\n",
      "Dep. Variable:                 status\n",
      "Method:                          dydx\n",
      "At:                           overall\n",
      "==============================================================================\n",
      "  status=0      dy/dx    std err          z      P>|z|      [0.025      0.975]\n",
      "------------------------------------------------------------------------------\n",
      "educ           0.0174      0.003      5.981      0.000       0.012       0.023\n",
      "exper         -0.0313      0.007     -4.629      0.000      -0.045      -0.018\n",
      "expersq        0.0030      0.001      2.937      0.003       0.001       0.005\n",
      "black         -0.0184      0.013     -1.435      0.151      -0.043       0.007\n",
      "------------------------------------------------------------------------------\n",
      "  status=1      dy/dx    std err          z      P>|z|      [0.025      0.975]\n",
      "------------------------------------------------------------------------------\n",
      "educ          -0.0429      0.003    -14.312      0.000      -0.049      -0.037\n",
      "exper         -0.1006      0.010    -10.429      0.000      -0.120      -0.082\n",
      "expersq        0.0067      0.001      4.811      0.000       0.004       0.009\n",
      "black          0.0590      0.016      3.587      0.000       0.027       0.091\n",
      "------------------------------------------------------------------------------\n",
      "  status=2      dy/dx    std err          z      P>|z|      [0.025      0.975]\n",
      "------------------------------------------------------------------------------\n",
      "educ           0.0256      0.004      6.276      0.000       0.018       0.034\n",
      "exper          0.1319      0.011     12.327      0.000       0.111       0.153\n",
      "expersq       -0.0097      0.002     -6.122      0.000      -0.013      -0.007\n",
      "black         -0.0406      0.020     -2.057      0.040      -0.079      -0.002\n",
      "==============================================================================\n"
     ]
    }
   ],
   "source": [
    "margeff=result.get_margeff(at='overall') # try at=‘mean' or 'median', or 'zero' \n",
    "print('status: 0=school, 1=home, 2=work\\n\\n', margeff.summary())"
   ]
  },
  {
   "cell_type": "markdown",
   "metadata": {
    "slideshow": {
     "slide_type": "slide"
    }
   },
   "source": [
    "## **Conclusion: Why MNL Coefficients Are Hard to Interpret**  \n",
    "\n",
    "### **1. Normalization Affects Coefficients**  \n",
    "- $\\beta_j$ is measured **relative to the baseline** → Changing baseline shifts all $\\beta_j$.  \n",
    "- Example: $\\beta_{\\text{educ}}$ for **Home** and **Work** changes when switching from **School** to **Work**.  \n",
    "\n",
    "### **2. Coefficients ≠ Direct Effects on Probabilities**  \n",
    "- $\\beta_j$ affects **log odds, not choice probabilities**.  \n",
    "- **Sign of $\\beta_j$ does not determine the sign of marginal effects**.  \n",
    "- Example: $\\beta_{\\text{educ}} < 0$ for both **Home** and **Work**, but dy/dx is **positive for Work, negative for Home**.  \n",
    "\n",
    "### **3. Marginal Effects Are Necessary**  \n",
    "- Depend on **both $\\beta_j$ and choice probabilities $p_{ij}$**\n",
    "- We compute Average Marginal Effects to summarize\n",
    "\n",
    "**🔹 Key Takeaway:** Always interpret **marginal effects, not raw coefficients**."
   ]
  },
  {
   "cell_type": "markdown",
   "metadata": {
    "slideshow": {
     "slide_type": "slide"
    }
   },
   "source": [
    "## **Conditional Logit: From Theory to Implementation**  \n",
    "**Model Setup: Conditional Logit (CL)**  \n",
    "- **Utility specification:** $u_{ij} = x_{ij} \\beta + \\varepsilon_{ij}$  \n",
    "- **Key difference from MNL:** Covariates ($x_{ij}$) **vary across alternatives** instead of individuals.  \n",
    "\n",
    "**Construct** the entire **MLE estimation pipeline** from scratch using `mestim.py` and `discrete_choice.py`:  \n",
    "1. **Utility function:** How observed attributes influence choices.  \n",
    "2. **Choice probabilities (CCPs) and log-likelihood:** From utility to ccps to log-likelihood for indivdual $i$.  \n",
    "3. **MLE, objective and optimization** Set up objective and scores for optimization and pass it to `mestim.py` to obtain MLE and standard errors.  \n",
    "4. **Simulation Study:** Verifying implementation.  \n",
    "5. **Own and Cross price elasticities:** Understanding substition patterns\n",
    "6. **Empirical Application:** Choice of cooling and heating system \n",
    "\n",
    "**Key Objectives**  \n",
    "- **Move beyond “black-box” estimation** to understand what’s happening.  \n",
    "- **Prepare for more advanced models** (Nested Logit, BLP, Structural Estimation).  \n",
    "- **Bridge from theory to practical implementation in Python.**  "
   ]
  },
  {
   "cell_type": "markdown",
   "metadata": {
    "slideshow": {
     "slide_type": "slide"
    }
   },
   "source": [
    "### Before we move on, let's load some libraries"
   ]
  },
  {
   "cell_type": "code",
   "execution_count": 6,
   "metadata": {
    "scrolled": true,
    "slideshow": {
     "slide_type": "-"
    }
   },
   "outputs": [],
   "source": [
    "%reset -f\n",
    "%load_ext autoreload\n",
    "%autoreload 2\n",
    "import pandas as pd\n",
    "import numpy as np\n",
    "\n",
    "# routines for simulation and estimation of conditional logit\n",
    "from discrete_choice import *\n",
    "import discrete_choice as ds\n",
    "import mestim as M"
   ]
  },
  {
   "cell_type": "markdown",
   "metadata": {
    "slideshow": {
     "slide_type": "slide"
    }
   },
   "source": [
    "## **Step 1: Utility Function in Conditional Logit**  \n",
    "\n",
    "- **Choice rule:** Individuals select $j$ that maximizes:  \n",
    "  $$ u_{ij} = v_{ij} + \\varepsilon_{ij}, \\quad v_{ij} = x_{ij} \\beta $$  \n",
    "- $K$ covariates $x_{ij}$ that all vary across alternatives (and potentially with individuals) \n",
    "- **Dimensions:**  \n",
    "  - $N$: Individuals, $J$: Alternatives, $K$: Covariates  \n",
    "  - $x$: $(N, J, K)$, $\\beta$: $(K, 1)$, $v$: $(N, J)$  "
   ]
  },
  {
   "cell_type": "code",
   "execution_count": 7,
   "metadata": {
    "scrolled": true
   },
   "outputs": [
    {
     "name": "stdout",
     "output_type": "stream",
     "text": [
      "Chocie specific utility: (N x J):\n"
     ]
    },
    {
     "data": {
      "text/plain": [
       "array([[-0.12830706,  0.54491488,  0.09584645],\n",
       "       [-0.72356048,  0.5771351 ,  0.14161433],\n",
       "       [ 0.4467849 , -1.19333869,  0.38356442],\n",
       "       [-0.20424138,  0.41310552, -0.1809353 ],\n",
       "       [ 0.3104013 , -0.25052216, -0.27786539]])"
      ]
     },
     "execution_count": 7,
     "metadata": {},
     "output_type": "execute_result"
    }
   ],
   "source": [
    "def utility(theta, x):\n",
    "\tN, J, K = x.shape       # N: Individuals, J: Alternatives, K: Covariates\n",
    "\tu = x @ theta           # Compute deterministic utility v_ij = x_ij * beta\n",
    "\treturn u.reshape(N, J)  # Reshape to match (N, J) structure\n",
    "\n",
    "β=[[0.5], [-0.2]]           \n",
    "N, J, K = 5, 3, len(β)\n",
    "x=np.random.randn(N, J, K) \n",
    "print('Chocie specific utility: (N x J):')\n",
    "utility(β, x)"
   ]
  },
  {
   "cell_type": "markdown",
   "metadata": {
    "slideshow": {
     "slide_type": "slide"
    }
   },
   "source": [
    "## **Step 2: Choice Probabilities & Log-Likelihood Contribution**  \n",
    "- **Conditional Choice Probabilities (CCPs):**  \n",
    "$$ p_{ij} = \\frac{\\exp(v_{ij})}{\\sum_{k=1}^{J} \\exp(v_{ik})} $$  \n",
    "- **Log-likelihood contribution:**  \n",
    "$$ \\mathcal{L}_i = v_{iy_i} - \\log \\sum_{k=1}^{J} \\exp(v_{ik}) $$ \n",
    "- **Interpretation of Log-likelihood:**  \n",
    "    - First term $v_{iy_i}$ captures the realized utility of the chosen alternative.\n",
    "    - Second term $\\log \\sum_{k} \\exp(v_{ik})$ represents the expected maximum utility under EV1 errors.\n",
    "  $$ E(\\max_j(u_{ij})=\\log \\sum_{k} \\exp(v_{ik}) $$ \n",
    "    - The log-likelihood thus measures the difference between the realized utility at the chosen alternative and the expected max utility.\n",
    "    - So MLE selects utility parameters $\\beta$ so that observed choices correspond to alternatives with the highest expected utility."
   ]
  },
  {
   "cell_type": "markdown",
   "metadata": {
    "slideshow": {
     "slide_type": "slide"
    }
   },
   "source": [
    "### Python implementation of CCPs, Emax, and log-likelihood"
   ]
  },
  {
   "cell_type": "code",
   "execution_count": 8,
   "metadata": {
    "scrolled": true,
    "slideshow": {
     "slide_type": "-"
    }
   },
   "outputs": [],
   "source": [
    "def logsum(v, sigma=1): \n",
    "    # Expected max utility under EV1 errors\n",
    "    # v: (N, J) matrix of deterministic utilities\n",
    "    # Returns: (N, 1) vector of expected maximum utilities\n",
    "    max_v = v.max(axis=1, keepdims=True)  \n",
    "    return max_v + sigma * np.log(np.sum(np.exp((v - max_v) / sigma), axis=1, keepdims=True))\n",
    "\n",
    "def logccp(v, y=None, sigma=1):\n",
    "    # Compute log-conditional choice probabilities or log-likelihood contribution\n",
    "    # v: (N, J) matrix of deterministic utilities\n",
    "    # y: (N,) vector of chosen alternatives (optional)\n",
    "    # Returns: (N, J) matrix of log choice probabilities if y is None\n",
    "    #          (N, 1) vector of log-likelihood values if y is provided\n",
    "    ev = logsum(v, sigma)  \n",
    "    if y is not None:  \t\t\n",
    "        N, J = v.shape\n",
    "        idx = y + J * np.arange(N)  # Flattened index selection for chosen alternative\n",
    "        v = v.reshape(N * J, 1)[idx]  # Select chosen alternative's utility (N, 1)\n",
    "    return (v - ev) / sigma  \n",
    "\n",
    "def ccp(v, y=None, sigma=1):\n",
    "    # Compute conditional choice probabilities\n",
    "    # v: (N, J) matrix of deterministic utilities\n",
    "    # Returns: (N, J) matrix of probabilities if y is None\n",
    "    #          (N, 1) vector of likelihood values if y is provided\n",
    "    return np.exp(logccp(v, y, sigma))"
   ]
  },
  {
   "cell_type": "markdown",
   "metadata": {
    "slideshow": {
     "slide_type": "slide"
    }
   },
   "source": [
    "## **Step 3: MLE, sample objective function and it's derivatives**  \n",
    "1. **Maximum Likelihood Estimator**  \n",
    "We estimate $ \\beta $ by maximizing the sample average log-likelihood:  \n",
    "$$\n",
    "\\hat{\\beta}_{MLE} = \\arg \\max_{\\beta} \\frac{1}{N} \\sum_{i=1}^{N} \\mathcal{L}_i(\\beta) \n",
    "$$\n",
    "or equivalently minimizing sample objective function $Q_N(\\beta)$ defined as the negative log-likelihood:\n",
    "\\begin{align}\n",
    "\\hat{\\beta}_{MLE} &=\\arg  \\min_{\\beta} -\\frac{1}{N} \\sum_{i=1}^{N} \\mathcal{L}_i(\\beta)\n",
    "=\\arg  \\min_{\\beta} \\underbrace{-\\frac{1}{N} \\sum_{i=1}^{N}  \\left( v_{iy_i} - \\log \\sum_{k=1}^{J} \\exp(v_{ik})\\right)}_{Q_N(\\beta) } \n",
    "\\end{align}\n",
    "\n",
    "1. **First-Order Condition (FOC) and Interpretation**  \n",
    "The **gradient** (score function) must be zero at the optimum   \n",
    "$$\n",
    "\\begin{align}\n",
    "\\frac{\\partial Q_N(\\beta)}{\\partial \\beta} = - \\frac{1}{N} \\sum_{i=1}^{N} \\left( \\partial v_{iy_i}/\\partial \\beta - \\sum_{j=1}^{J} p_{ij}(\\beta) \\partial v_{ij} / \\partial \\beta \\right) \n",
    "= - \\frac{1}{N} \\sum_{i=1}^{N} \\underbrace{\\left(x_{iy_i} - \\sum_{j=1}^{J} p_{ij}(\\beta) x_{ij} \\right) }_{s_i(\\beta)}\n",
    "= 0\n",
    "\\end{align}\n",
    "$$\n",
    "    - With linear utility $v_{ij} = x_{ij}\\beta$, we have $\\partial v_{ij} / \\partial \\beta = x_{ij}$\n",
    "    - Derivative of $\\log \\sum_{k=1}^{J} \\exp(v_{ik})$ wrt change in $v_{ij}$ is $p_{ij}=\\frac{\\exp(v_{ij})}{\\sum_{k=1}^{J} \\exp(v_{ik})}$\n",
    "    - $ x_{iy_i} $ are attributes for the chosen alternative.  \n",
    "    - $ p_{ij}(\\beta) $ are logit choice probabilities (as function of $\\beta$).  \n",
    "- **Interpretation:** \n",
    "MLE sets $\\beta$ so observed attributes $x_{iy_i}$ on average matches the expected ones $\\sum_j p_{ij}(\\beta)x_{ij}$."
   ]
  },
  {
   "cell_type": "markdown",
   "metadata": {
    "slideshow": {
     "slide_type": "slide"
    }
   },
   "source": [
    "### Python implementation of objective function, $Q_N(\\beta)$, scores, $s_i(\\beta)$ and gradient, $\\partial Q_N(\\beta)/\\partial \\beta$"
   ]
  },
  {
   "cell_type": "code",
   "execution_count": 9,
   "metadata": {
    "scrolled": true
   },
   "outputs": [],
   "source": [
    "def Q_clogit(theta, y, x, out='Q'):\n",
    "    \"\"\"\n",
    "    Sample log-likelihood and its derivatives for Conditional Logit.\n",
    "    \n",
    "    Parameters:\n",
    "    - theta: (K, 1) parameter vector\n",
    "    - y: (N,) observed choices\n",
    "    - x: (N, J, K) covariates (varying across alternatives)\n",
    "    - out: 'Q' for negative log-likelihood, 's_i' for individual scores, 'dQ' for gradient of Q.\n",
    "\n",
    "    Returns:\n",
    "    - Negative mean log-likelihood (if out='Q')\n",
    "    - Individual score contributions (if out='s_i')\n",
    "    - Gradient (if out='dQ')\n",
    "    \"\"\"\n",
    "    \n",
    "    N, J, K = x.shape\n",
    "    v = utility(theta, x)  # Compute deterministic utility v_ij = x_ij * beta\n",
    "    ll_i = logccp(v, y)   # Compute log-likelihood contribution\n",
    "\n",
    "    if out == 'Q': \n",
    "        return -np.mean(ll_i)  # Sample objective function (negative mean log-likelihood)\n",
    "\n",
    "    # Compute (s_i) or gradient (dQ)\n",
    "    p = ccp(v)  # Compute choice probabilities p_ij\n",
    "    x_iy = x.reshape(N * J, K)[y + J * np.arange(N), :]  # Extract covariates for chosen alternative\n",
    "    s_i = x_iy - np.sum(p.reshape(N, J, 1) * x, axis=1)  # Score function: residual of x_iy - E[x|choice]\n",
    "\n",
    "    return s_i if out == 's_i' else -np.mean(s_i, axis=0)  # Return individual scores or gradient (dQ)\n"
   ]
  },
  {
   "cell_type": "markdown",
   "metadata": {
    "slideshow": {
     "slide_type": "slide"
    }
   },
   "source": [
    "### Python implementation of Conditional Logit (minimize $Q_N$ and report results)"
   ]
  },
  {
   "cell_type": "code",
   "execution_count": 10,
   "metadata": {
    "scrolled": true
   },
   "outputs": [],
   "source": [
    "from discrete_choice import print_output\n",
    "def clogit(y, x, cov_type='Ainv', theta0=None, deriv=1, quiet=False,  xvars=None): \n",
    "    \"\"\"\n",
    "    Estimates a Conditional Logit model using M-estimation.\n",
    "    \n",
    "    Parameters:\n",
    "    - y: (N,) vector of observed choices (0, 1, ..., J-1)\n",
    "    - x: (N, J, K) covariate matrix (varying across alternatives)\n",
    "    - cov_type: Type of variance estimation ('Ainv', 'Binv', 'sandwich')\n",
    "    - theta0: Initial parameter guess (default: zeros)\n",
    "    - deriv: Order of derivative (0 for none, 1 for first-order)\n",
    "    - quiet: Suppress output if True\n",
    "    \n",
    "    Returns:\n",
    "    - res: Dictionary with estimates, standard errors, and diagnostics\n",
    "    \"\"\"\n",
    "    N, J, K, _, _, xvars = labels(x, xvars)  # Extract dimensions and variable names\n",
    "    \n",
    "    Qfun = lambda theta, out: Q_clogit(theta, y, x, out)  # Define sample objective function\n",
    "    theta0 = np.zeros(K) if theta0 is None else theta0  # Default start values\n",
    "    res = M.estimation(Qfun, theta0, deriv, cov_type, parnames=xvars)  # Estimate via MLE\n",
    "    res.update({'yvar': 'y', 'xvars': xvars, 'N': N, 'K': K, 'n': N})  # Store model details\n",
    "\n",
    "    if not quiet:    \n",
    "        print('Conditional Logit Estimation')\n",
    "        print('Initial log-likelihood:', -Qfun(theta0, 'Q'))\n",
    "        print('Initial gradient:\\n', -Qfun(theta0, 'dQ'))\n",
    "        print_output(res)\n",
    "\n",
    "    return res"
   ]
  },
  {
   "cell_type": "markdown",
   "metadata": {
    "slideshow": {
     "slide_type": "slide"
    }
   },
   "source": [
    "## Step 4: Simulation Study: Simulate data and estimate conditional logit using MLE\n",
    "**Data Generation Process (DGP)**  \n",
    "\\begin{align} \n",
    "y_i &= \\arg \\max_j x_{ij} \\beta + \\varepsilon_{ij}, \\quad \\varepsilon_{ij} \\sim \\text{i.i.d. EV1}  \n",
    "\\\\x_{ij} &\\sim \\mathcal{N}(\\mu_j, I_K), \\quad \\mu_j \\text{ increasing from 3 to 5 across } j  \n",
    "\\end{align}\n",
    "\n",
    "**Experiment**: \n",
    "- Change parameters, sample size, and number of alternatives\n",
    "- Inspect parameter estimates, standard errors and cpu time"
   ]
  },
  {
   "cell_type": "code",
   "execution_count": 11,
   "metadata": {
    "scrolled": true
   },
   "outputs": [
    {
     "name": "stdout",
     "output_type": "stream",
     "text": [
      "Optimization terminated successfully.\n",
      "Conditional Logit Estimation\n",
      "Initial log-likelihood: -1.6094379124340994\n",
      "Initial gradient:\n",
      " [0.8227063  0.23881931 1.30452475]\n",
      "Dep. var. : y \n",
      "\n",
      "parnames      theta_hat          se    t-values         jac\n",
      "----------  -----------  ----------  ----------  ----------\n",
      "var0            0.77695     0.18055     4.30319     0.00000\n",
      "var1           -0.77559     0.16762    -4.62714     0.00001\n",
      "var2            1.78133     0.23386     7.61713    -0.00000\n",
      "# of observations : 100\n",
      "# log-likelihood. : -68.94477214560135 \n",
      "\n",
      "Iteration info: 11 iterations, 12 evaluations of objective, and 12 evaluations of gradients\n",
      "Elapsed time: 0.0027 seconds\n",
      "\n"
     ]
    }
   ],
   "source": [
    "J=5         # number of alternatives index j=0,..,J-1\n",
    "N=100        # number of observations\n",
    "theta=np.array([1, -1, 2])  # True parameters\n",
    "dta=ds.sim_data(N, J, theta);\n",
    "res=clogit(dta['y'], dta['x'], deriv=1)  # Estimate c-logit model"
   ]
  },
  {
   "cell_type": "markdown",
   "metadata": {
    "slideshow": {
     "slide_type": "slide"
    }
   },
   "source": [
    "## Step 5: Marginal Effects, Own and Cross elasticities:\n",
    "**Marginal Effects in Conditional Logit**  \n",
    "\n",
    "We start from the conditional logit choice probability:  \n",
    "$$\n",
    "p_{ij} = \\frac{\\exp(v_{ij} )}{\\sum_{k=1}^{J} \\exp(v_{ik})}\n",
    "$$\n",
    "\n",
    "To compute the **marginal effect** of a change in $x_{ik}$, we differentiate $p_{ij}$ with respect to $x_{ik}$:\n",
    "\n",
    "\\begin{align}\n",
    "\\frac{\\partial p_{ij}}{\\partial x_{ik}} &= \n",
    "\\frac{\\mathbb{1}(j = k) \\exp(v_{ij} )  \\sum_{m} \\exp(v_{im}) \n",
    "- \\exp(v_{ij}) \\exp(v_{ik})}\n",
    "{(\\sum_{m} \\exp(v_{im}))^2}  \\frac{\\partial v_{ik}}{ \\partial x_{ik}}\n",
    "\\\\&=p_{ij} (\\mathbb{1}(j=k) - p_{ik}) \\frac{\\partial v_{ik}}{ \\partial x_{ik}}\n",
    "\\end{align}\n",
    "\n",
    "With linear utility $\\frac{\\partial v_{ik}}{ \\partial x_{ik}}=\\beta$, we obtain:  \n",
    "$$\n",
    "\\frac{\\partial p_{ij}}{\\partial x_{ik}} = \n",
    "p_{ij}  (\\mathbb{1}(j=k) - p_{ik})\\beta\n",
    "$$\n",
    "\n",
    "**Derivatives sum to zero** (since probabilities always sum to 1)  \n",
    "  $$\\sum_{j=1}^{J} \\frac{\\partial p_{ij}}{\\partial x_{ik}} = 0.$$\n"
   ]
  },
  {
   "cell_type": "markdown",
   "metadata": {
    "slideshow": {
     "slide_type": "slide"
    }
   },
   "source": [
    "### Properties of Partial Effects and Average Partial Effects (APE)\n",
    "- **Own effect (marginal effect of $x_{ij}$ on $p_{ij}$):**  \n",
    " $\\frac{\\partial p_{ij}}{\\partial x_{ij}} = p_{ij} (1 - p_{ij}) \\beta  \\quad (\\text{same sign as } \\beta)$\n",
    "\n",
    "- **Cross effect (effect of $x_{ik}$ on $p_{ij}$ for $j \\neq k$):**  \n",
    "$\\frac{\\partial p_{ij}}{\\partial x_{ik}} = -p_{ij} p_{ik} \\beta  \\quad (\\text{opposite sign of } \\beta)$\n",
    "\n",
    "- **With linear utility **all goods are substitutes in logit** \n",
    ":** \n",
    "  \n",
    "  - If $x_{ik}$ is a **desirable attribute**, i.e., $\\beta > 0$, then increasing $x_{ik}$ increases the probability of choosing alternative $k$ and decreases the probability of choosing all other alternatives.  \n",
    "  - If $x_{ik}=\\text{price}_{ik}$ of a good $k$ and $\\beta_{\\text{price}} < 0$, then increasing the price **reduces the probability of choosing good $k$** while **increasing the probability of choosing other alternative goods**.  \n",
    "\n",
    "- **Average Partial Effects (APE)**  \n",
    "(Averaging over individuals)  \n",
    "$$\n",
    "\\mathbb{E} \\left[ \\frac{\\partial p_{ij}}{\\partial x_{ij}} \\right] = \\mathbb{E} \\left[ p_{ij} (1 - p_{ij}) \\right] \\beta.\n",
    "$$  \n",
    "    - Recall $p_{ij} (1 - p_{ij})$ is the variance of a Bernoulli variable\n",
    "    - APE scales $\\beta$ by $\\mathbb{E} \\left[ p_{ij} (1 - p_{ij}) \\right]$ which is the expected variation in choice of $j$.\n",
    "    - If $p_{ij}$ is close to 0 or 1 for all individuals, the marginal effect is small since choices are almost deterministic"
   ]
  },
  {
   "cell_type": "markdown",
   "metadata": {
    "slideshow": {
     "slide_type": "slide"
    }
   },
   "source": [
    "### Compute Average Partial Effects (APE)\n",
    "Below we compute derivatives averaged over the sample, i.e. average partial effects (APE)"
   ]
  },
  {
   "cell_type": "code",
   "execution_count": 12,
   "metadata": {
    "scrolled": true
   },
   "outputs": [
    {
     "name": "stdout",
     "output_type": "stream",
     "text": [
      "\n",
      "APE: Average change in ['p0', 'p1', 'p2', 'p3', 'p4']\n",
      "    - w.r.t. change in ['alt0', 'alt1', 'alt2', 'alt3', 'alt4'] \n",
      "    - for attribute m=0 (var0) with coefficient θ_0=[0.7769]\n",
      "              p0          p1          p2          p3          p4\n",
      "----  ----------  ----------  ----------  ----------  ----------\n",
      "alt0     0.02197    -0.00264    -0.00428    -0.00886    -0.00619\n",
      "alt1    -0.00264     0.03886    -0.00634    -0.01232    -0.01755\n",
      "alt2    -0.00428    -0.00634     0.05165    -0.01712    -0.02390\n",
      "alt3    -0.00886    -0.01232    -0.01712     0.08224    -0.04393\n",
      "alt4    -0.00619    -0.01755    -0.02390    -0.04393     0.09158\n",
      "\n",
      "Check: Derivatives of pj should sum to 0 over all alternatives: True\n"
     ]
    }
   ],
   "source": [
    "from discrete_choice import labels \n",
    "def APE_var(theta, x, m=0, xvars=None, alternatives=None, quiet=False):    \n",
    "    N, J, K, palt, xalt, xvars = labels(x, xvars, alternatives) # Extract dimensions and labels\n",
    "    \n",
    "    # Compute APE: Expected marginal effects of x_{ik} on p_{ij}\n",
    "    p = ccp(utility(theta, x))  # Compute choice probabilities p_ij\n",
    "    E = np.empty((J, J)) # Initialize APE matrix     \n",
    "    for j in range(J):  # Loop over alternatives (j)\n",
    "        for k in range(J):  # Loop over alternatives (k)\n",
    "            E[k, j] = np.mean(p[:, j] * theta[m] * (1 * (j == k) - p[:, k]), axis=0)\n",
    "\n",
    "    # Print APE results if quiet=False\n",
    "    if not quiet:  \n",
    "        print(f\"\\nAPE: Average change in {palt}\\n    - w.r.t. change in {xalt} \\n    - for attribute m={m} ({xvars[m]}) with coefficient θ_{m}={theta[m].round(4)}\")\n",
    "        print(tabulate(np.c_[xalt, E], headers=palt, floatfmt=\"10.5f\"))\n",
    "\n",
    "    return E\n",
    "\n",
    "dydx = APE_var(res.theta_hat, dta['x'], m=0) # Compute APE for the first attribute (m=0) - Try other attributes\n",
    "print(\"\\nCheck: Derivatives of pj should sum to 0 over all alternatives:\", np.allclose(np.sum(dydx, axis=1), 0))"
   ]
  },
  {
   "cell_type": "markdown",
   "metadata": {
    "slideshow": {
     "slide_type": "slide"
    }
   },
   "source": [
    "## Elasticities in Conditional Logit\n",
    "Economists often measure responses in terms of **elasticities**, as they normalize for units of measurement.\n",
    "\n",
    "- **Elasticity of $p_{ij}$ w.r.t. an alternative-specific attribute $x_{ik}$**:\n",
    "\n",
    "  $$\n",
    "  E_{j, x_{ik}}= \\frac{x_{ik}}{p_{ij}}\\frac{\\partial p_{ij}}{\\partial x_{ik}}\n",
    "  \\quad=\\quad \\frac{x_{ik}}{p_{ij}}  p_{ij}\\left(\\mathbb{1}(k=j)-p_{ik}\\right)\\beta \n",
    "  \\quad=\\quad \\left(\\mathbb{1}(k=j)-p_{ik}\\right) x_{ik}\\beta \n",
    "  $$\n",
    "- **Own elasticity** (i.e. when $k=j$)\n",
    "\n",
    "$$E_{j, x_{ik}}= \n",
    "\\quad=\\quad (1-p_{ik})x_{ik}\\beta $$\n",
    "\n",
    "- **The cross elasticity** (i.e. when $k\\ne j$) is completely independent of $j$\n",
    "\n",
    "$$E_{j, x_{ik}}= \n",
    "\\quad=\\quad -p_{ik} x_{ik}\\beta $$\n",
    "\n",
    "### **Restrictive and Unrealistic Substitution Patterns**\n",
    "- A change in an attribute of alternative $k$ **affects all other alternatives equally in percentage terms**.  \n",
    "- Logit imposes the **Independence of Irrelevant Alternatives (IIA)** property, leading to **proportional substitution patterns**.  \n",
    "- **IIA implies that relative odds between any two alternatives remain constant, regardless of the presence or attributes of other choices**.  \n",
    "- This is often **unrealistic**, motivating **generalized models such as Nested Logit or Mixed Logit**."
   ]
  },
  {
   "cell_type": "markdown",
   "metadata": {
    "slideshow": {
     "slide_type": "slide"
    }
   },
   "source": [
    "### Compute elasticities\n",
    "Note that the **cross elasticity** $E_{j, x_{ik}} = - p_{ik} x_{ik} \\beta$ are identical for all $j\\ne k$"
   ]
  },
  {
   "cell_type": "code",
   "execution_count": 13,
   "metadata": {
    "scrolled": true,
    "slideshow": {
     "slide_type": "-"
    }
   },
   "outputs": [
    {
     "name": "stdout",
     "output_type": "stream",
     "text": [
      "\n",
      "Elasticity wrt change in var0\n",
      "              p0          p1          p2          p3          p4\n",
      "----  ----------  ----------  ----------  ----------  ----------\n",
      "alt0     2.23256    -0.10572    -0.10572    -0.10572    -0.10572\n",
      "alt1    -0.23759     2.51907    -0.23759    -0.23759    -0.23759\n",
      "alt2    -0.54916    -0.54916     2.58167    -0.54916    -0.54916\n",
      "alt3    -1.01178    -1.01178    -1.01178     2.54769    -1.01178\n",
      "alt4    -1.85728    -1.85728    -1.85728    -1.85728     1.96909\n"
     ]
    }
   ],
   "source": [
    "def Ematrix_var(theta, x, m=0, xvars=None, alternatives=None, quiet=False):\n",
    "\t# matrix of elasticities with respect ot a change in attribute m\n",
    "\tN, J, K, palt, xalt, xvars = labels(x, xvars, alternatives)\n",
    "\tp=ccp(utility(theta, x))\n",
    "\tE=np.empty((J,J))\n",
    "\tfor j in range(J):\n",
    "\t    for k in range(J):\n",
    "\t        E[k, j]=np.mean(x[:,k,m]*theta[m]*(1*(j==k)-p[:,k]), axis=0)\n",
    "\tif not quiet: \n",
    "\t    print('\\nElasticity wrt change in', xvars[m])\n",
    "\t    print(tabulate(np.c_[xalt, E], headers=palt,floatfmt=\"10.5f\"))\n",
    "\treturn E\n",
    "E=Ematrix_var(res.theta_hat, dta['x'], m=0)"
   ]
  },
  {
   "cell_type": "markdown",
   "metadata": {
    "slideshow": {
     "slide_type": "slide"
    }
   },
   "source": [
    "## **Own and Cross-Elasticities in Conditional Logit**  \n",
    "- **Own elasticity $E_{j, x_{ij}}$**  \n",
    "  - **Percentage change in probability of choosing $j$** when **$x_{ij}$ changes by 1%**.  \n",
    "- **Cross elasticity $E_{j, x_{ik}}$ ($j \\neq k$)**  \n",
    "  - **Percentage change in probability of choosing $j$** when **$x_{ik}$ (an attribute of alternative $k$) changes by 1%**.  \n",
    "  - If $x_{ik}$ is **price**, this is a **cross-price elasticity**, which is widely used in demand analysis.  \n",
    "  - Logit forces **all cross elasticities to be the same for all alternatives**, which is a major limitation.\n",
    "\n",
    "\n",
    "Since **cross elasticity** $E_{j, x_{ik}} = - p_{ik} x_{ik} \\beta$ is **identical for all $j\\ne k$**, we often **only report a single cross elasticity per attribute**.\n",
    "\n"
   ]
  },
  {
   "cell_type": "code",
   "execution_count": 14,
   "metadata": {
    "scrolled": false
   },
   "outputs": [
    {
     "name": "stdout",
     "output_type": "stream",
     "text": [
      "\n",
      "Own elasticity\n",
      "            var0        var1        var2\n",
      "----  ----------  ----------  ----------\n",
      "alt0     2.23256    -2.29230     4.92988\n",
      "alt1     2.51907    -2.55836     5.91574\n",
      "alt2     2.58167    -2.69933     5.63306\n",
      "alt3     2.54769    -2.64599     5.67309\n",
      "alt4     1.96909    -2.05912     4.45909\n",
      "\n",
      "Cross-Elasticity\n",
      "            var0        var1        var2\n",
      "----  ----------  ----------  ----------\n",
      "alt0    -0.10572     0.06209    -0.26968\n",
      "alt1    -0.23759     0.18078    -0.64849\n",
      "alt2    -0.54916     0.44568    -1.43802\n",
      "alt3    -1.01178     0.84390    -2.43579\n",
      "alt4    -1.85728     1.76286    -4.76546\n"
     ]
    }
   ],
   "source": [
    "E_own=ds.Ematrix_own(res.theta_hat, dta['x'])\n",
    "E_cross=ds.Ematrix_cross(res.theta_hat, dta['x'])"
   ]
  },
  {
   "cell_type": "markdown",
   "metadata": {
    "slideshow": {
     "slide_type": "slide"
    }
   },
   "source": [
    "## Empirical Example: Choice of heating and central cooling system in California"
   ]
  },
  {
   "cell_type": "markdown",
   "metadata": {
    "slideshow": {
     "slide_type": "slide"
    }
   },
   "source": [
    "## **Dataset Overview: House Cooling Systems**  \n",
    "**Alternatives (Heating & Cooling Options)**  \n",
    "- **gcc:** Gas Central Heat with Cooling  \n",
    "- **ecc:** Electric Central Resistance Heat with Cooling  \n",
    "- **erc:** Electric Room Resistance Heat with Cooling  \n",
    "- **hpc:** Electric Heat Pump (always provides cooling)  \n",
    "- **gc:** Gas Central Heat without Cooling  \n",
    "- **ec:** Electric Central Resistance Heat without Cooling  \n",
    "- **er:** Electric Room Resistance Heat without Cooling  \n",
    "- *Note:* Heat pumps (hpc) always provide both heating & cooling.  \n",
    "\n",
    "**Variables & Interpretation**  \n",
    "- **depvar:** Chosen alternative  \n",
    "- **ich:** Installation cost for heating  \n",
    "- **icca:** Installation cost for cooling  \n",
    "- **och:** Operating cost for heating  \n",
    "- **occa:** Operating cost for cooling  \n",
    "- **income:** Annual household income  \n",
    "- **int.cooling:** Dummy = 1 if alternative provides cooling (gcc, ecc, erc, hpc)  \n",
    "- **inc.cooling:** Income × int.cooling (income effect for cooling options)  \n",
    "- **inc.room:** Income × dummy for room resistance heating (erc, er)  "
   ]
  },
  {
   "cell_type": "markdown",
   "metadata": {
    "slideshow": {
     "slide_type": "slide"
    }
   },
   "source": [
    "### Read data in long format and reshape xvars to 3d array"
   ]
  },
  {
   "cell_type": "code",
   "execution_count": 15,
   "metadata": {},
   "outputs": [
    {
     "name": "stdout",
     "output_type": "stream",
     "text": [
      "alt_codes: {'ec': 0, 'ecc': 1, 'er': 2, 'erc': 3, 'gc': 4, 'gcc': 5, 'hpc': 6}\n",
      "Counts of each alternative:\n",
      "gcc    186\n",
      "hpc     26\n",
      "gc      24\n",
      "er       8\n",
      "ecc      4\n",
      "erc      1\n",
      "ec       1\n",
      "Name: idx.id2, dtype: int64\n"
     ]
    }
   ],
   "source": [
    "import pandas as pd\n",
    "# Load the data (long format)\n",
    "df = pd.read_csv(\"HC.csv\",index_col=0)\n",
    "# display(df)\n",
    "# HC.csv is downloaded from \"https://raw.githubusercontent.com/gsbDBI/torch-choice/main/tutorials/public_datasets/HC.csv\"\n",
    "\n",
    "# Encode alternatives as numeric choice indices\n",
    "alt_codes = {alt: idx for idx, alt in enumerate(df['idx.id2'].unique())}\n",
    "df['alt_index'] = df['idx.id2'].map(alt_codes) # create index 0,1,..,J-1 with chosen alternatives\n",
    "print(\"alt_codes:\", alt_codes)\n",
    "\n",
    "# Prepare data for Conditional Logit\n",
    "J = len(alt_codes)  # Number of alternatives\n",
    "N = df.shape[0] // J  # Number of households\n",
    "\n",
    "# dependent variable: index for chosen alternative\n",
    "y = df[df['depvar'] == True]['alt_index'].values  # (N,) \n",
    "\n",
    "# Select covariates that vary across alternatives\n",
    "xvars = ['ich', 'icca', 'och', 'occa', 'inc.room', 'inc.cooling', 'int.cooling']\n",
    "alt=['ec', 'ecc', 'er', 'erc', 'gc', 'gcc', 'hpc']\n",
    "X = df[xvars].values.reshape(N, J, len(xvars))  # Reshape for CL estimation\n",
    "print(f\"Counts of each alternative:\\n{df[df['depvar'] == True]['idx.id2'].value_counts()}\")"
   ]
  },
  {
   "cell_type": "markdown",
   "metadata": {
    "slideshow": {
     "slide_type": "slide"
    }
   },
   "source": [
    "### Estimate model with clogit"
   ]
  },
  {
   "cell_type": "code",
   "execution_count": 16,
   "metadata": {
    "scrolled": true
   },
   "outputs": [
    {
     "name": "stdout",
     "output_type": "stream",
     "text": [
      "Optimization terminated successfully.\n",
      "Conditional Logit Estimation\n",
      "Initial log-likelihood: -1.945910149055313\n",
      "Initial gradient:\n",
      " [ -3.89552      7.48256     -0.97809143   0.73202286 -12.05714286\n",
      "  16.08571429   0.29657143]\n",
      "Dep. var. : y \n",
      "\n",
      "parnames       theta_hat          se    t-values         jac\n",
      "-----------  -----------  ----------  ----------  ----------\n",
      "ich             -0.85158     0.07879   -10.80835     0.00000\n",
      "icca            -0.25724     0.12697    -2.02600    -0.00001\n",
      "och             -1.35633     0.14740    -9.20187     0.00000\n",
      "occa            -1.41380     1.14907    -1.23039    -0.00000\n",
      "inc.room        -0.58034     0.06326    -9.17434     0.00000\n",
      "inc.cooling      0.31412     0.05399     5.81769    -0.00001\n",
      "int.cooling    -10.62837     5.12930    -2.07209    -0.00000\n",
      "# of observations : 250\n",
      "# log-likelihood. : -180.2864426152086 \n",
      "\n",
      "Iteration info: 45 iterations, 50 evaluations of objective, and 50 evaluations of gradients\n",
      "Elapsed time: 0.0131 seconds\n",
      "\n"
     ]
    }
   ],
   "source": [
    "# Estimate the model\n",
    "import discrete_choice as ds\n",
    "import mestim as M\n",
    "res=ds.clogit(y, X, deriv=1, xvars=xvars)  # Estimate c-logit model"
   ]
  },
  {
   "cell_type": "markdown",
   "metadata": {
    "slideshow": {
     "slide_type": "slide"
    }
   },
   "source": [
    "## Conditional Logit Estimates\n",
    "\n",
    "- **Installation Costs (Heating & Cooling)**  \n",
    "  - Higher installation costs reduce the probability of choosing an alternative.\n",
    "  - **ich (-0.85158)**: Significant and negative, indicating higher heating installation costs deter adoption.  \n",
    "  - **icca (-0.25724)**: Negative, suggesting higher cooling installation costs reduce probability but with lower magnitude.\n",
    "\n",
    "- **Operating Costs (Heating & Cooling)**  \n",
    "  - **och (-1.35633)**: Strong negative effect, confirming higher heating operating costs reduce adoption.  \n",
    "  - **occa (-1.41379)**: Insignificant, implying cooling operating costs are less influential.\n",
    "\n",
    "- **Income Interactions**  \n",
    "  - **inc.room (-0.58034)**: Negative, meaning higher-income households are less likely to choose electric room resistance heating.  \n",
    "  - **inc.cooling (0.31412)**: Positive, suggesting wealthier households prefer alternatives with cooling.  \n",
    "  - **int.cooling (-10.62842)**: Strong negative coefficient, indicating a structural effect in cooling provision.\n"
   ]
  },
  {
   "cell_type": "markdown",
   "metadata": {
    "slideshow": {
     "slide_type": "slide"
    }
   },
   "source": [
    "### Average partical effects"
   ]
  },
  {
   "cell_type": "code",
   "execution_count": 17,
   "metadata": {
    "scrolled": false
   },
   "outputs": [
    {
     "name": "stdout",
     "output_type": "stream",
     "text": [
      "\n",
      "APE: Average change in ['p_ec', 'p_ecc', 'p_er', 'p_erc', 'p_gc', 'p_gcc', 'p_hpc']\n",
      "    - w.r.t. change in ['x_ec', 'x_ecc', 'x_er', 'x_erc', 'x_gc', 'x_gcc', 'x_hpc'] \n",
      "    - for attribute m=0 (ich) with coefficient θ_0=[-0.8516]\n",
      "             p_ec       p_ecc        p_er       p_erc        p_gc       p_gcc       p_hpc\n",
      "-----  ----------  ----------  ----------  ----------  ----------  ----------  ----------\n",
      "x_ec     -0.00861     0.00059     0.00062     0.00000     0.00288     0.00261     0.00191\n",
      "x_ecc     0.00059    -0.04061     0.00090     0.00000     0.00135     0.02556     0.01220\n",
      "x_er      0.00062     0.00090    -0.01705     0.00000     0.00520     0.00766     0.00267\n",
      "x_erc     0.00000     0.00000     0.00000    -0.00000     0.00000     0.00000     0.00000\n",
      "x_gc      0.00288     0.00135     0.00520     0.00000    -0.02986     0.01578     0.00466\n",
      "x_gcc     0.00261     0.02556     0.00766     0.00000     0.01578    -0.13872     0.08711\n",
      "x_hpc     0.00191     0.01220     0.00267     0.00000     0.00466     0.08711    -0.10856\n"
     ]
    }
   ],
   "source": [
    "#E_var=ds.APE(res.theta_hat, X, 0, xvars, alternatives=alt)\n",
    "dydx = ds.APE_var(res.theta_hat, X, m=0, xvars=xvars, alternatives=alt) # Compute APE for the first attribute (m=0) - Try other attributes"
   ]
  },
  {
   "cell_type": "markdown",
   "metadata": {
    "slideshow": {
     "slide_type": "slide"
    }
   },
   "source": [
    "### Own and Cross Elasticities"
   ]
  },
  {
   "cell_type": "code",
   "execution_count": 18,
   "metadata": {
    "scrolled": false
   },
   "outputs": [
    {
     "name": "stdout",
     "output_type": "stream",
     "text": [
      "\n",
      "Elasticity wrt change in ich\n",
      "             p_ec       p_ecc        p_er       p_erc        p_gc       p_gcc       p_hpc\n",
      "-----  ----------  ----------  ----------  ----------  ----------  ----------  ----------\n",
      "x_ec    -21.51054     0.24569     0.24569     0.24569     0.24569     0.24569     0.24569\n",
      "x_ecc     0.38215    -6.73039     0.38215     0.38215     0.38215     0.38215     0.38215\n",
      "x_er      0.23719     0.23719    -6.37120     0.23719     0.23719     0.23719     0.23719\n",
      "x_erc     0.00000     0.00000     0.00000    -6.71794     0.00000     0.00000     0.00000\n",
      "x_gc      1.45661     1.45661     1.45661     1.45661   -19.80301     1.45661     1.45661\n",
      "x_gcc     3.75649     3.75649     3.75649     3.75649     3.75649    -2.90678     3.75649\n",
      "x_hpc     1.90690     1.90690     1.90690     1.90690     1.90690     1.90690    -7.09186\n",
      "\n",
      "Own elasticity\n",
      "              ich        icca         och        occa    inc.room    inc.cooling    int.cooling\n",
      "-----  ----------  ----------  ----------  ----------  ----------  -------------  -------------\n",
      "x_ec    -21.51054     0.00000    -5.45816     0.00000     0.00000        0.00000        0.00000\n",
      "x_ecc    -6.73039    -6.13901    -5.23722    -3.31858     0.00000       13.17627      -10.01009\n",
      "x_er     -6.37120     0.00000    -5.40331     0.00000   -25.53483        0.00000        0.00000\n",
      "x_erc    -6.71794    -6.52133    -5.60361    -3.51958   -25.95268       14.04733      -10.62837\n",
      "x_gc    -19.80301     0.00000    -2.81123     0.00000     0.00000        0.00000        0.00000\n",
      "x_gcc    -2.90678    -2.75297    -1.31293    -1.48291     0.00000        5.32938       -4.45425\n",
      "x_hpc    -7.09186    -5.02074    -1.58287    -2.71112     0.00000       10.55650       -8.19535\n",
      "\n",
      "Cross-Elasticity\n",
      "              ich        icca         och        occa    inc.room    inc.cooling    int.cooling\n",
      "-----  ----------  ----------  ----------  ----------  ----------  -------------  -------------\n",
      "x_ec      0.24569     0.00000     0.07384     0.00000     0.00000        0.00000        0.00000\n",
      "x_ecc     0.38215     0.38232     0.29477     0.20100     0.00000       -0.87106        0.61828\n",
      "x_er      0.23719     0.00000     0.20030     0.00000     0.41784        0.00000        0.00000\n",
      "x_erc     0.00000     0.00000     0.00000     0.00000     0.00000       -0.00000        0.00000\n",
      "x_gc      1.45661     0.00000     0.24394     0.00000     0.00000        0.00000        0.00000\n",
      "x_gcc     3.75649     3.76837     1.74224     2.03667     0.00000       -8.71795        6.17412\n",
      "x_hpc     1.90690     1.50060     0.46541     0.80846     0.00000       -3.49083        2.43302\n"
     ]
    }
   ],
   "source": [
    "E_var=ds.Ematrix_var(res.theta_hat, X, 0, xvars, alternatives=alt)\n",
    "E_own=ds.Ematrix_own(res.theta_hat, X, xvars, alternatives=alt)\n",
    "E_cross=ds.Ematrix_cross(res.theta_hat, X,  xvars, alternatives=alt)"
   ]
  },
  {
   "cell_type": "markdown",
   "metadata": {
    "slideshow": {
     "slide_type": "slide"
    }
   },
   "source": [
    "### **Own and Cross-Elasticities**\n",
    "\n",
    "#### **Own-Elasticities**\n",
    "- **Installation Costs:** Most elastic for **gcc (-21.51)** and **gc (-19.80)**.  \n",
    "- **Operating Costs:**  \n",
    "  - **Heating (och):** Strongest effect for **gcc (-5.46)** and **hpc (-5.60)**.  \n",
    "  - **Cooling (occa):** More elastic for cooling alternatives, **hpc (-3.52)** and **ecc (-3.32)**.  \n",
    "- **Income Effects:**  \n",
    "  - **Room heating (erc, er):** Strong negative effect (-25.53 to -25.95), wealthier households avoid it.  \n",
    "  - **Cooling (inc.cooling):** Positive, confirming income-driven preference.  \n",
    "\n",
    "#### **Cross-Elasticities**\n",
    "- **Identical substitution effects** (logit assumption)  \n",
    "  - Raising heat pump costs affects all other options **equally**, which is **unrealistic**.  \n",
    "  - Demand should shift more towards other **cooling** options, not **non-cooling** alternatives.  \n",
    "- **Negligible Cross-Elasticities for erc**  \n",
    "  - **Only one household chose erc**, leading to near-zero substitution effects.  \n",
    "- **Logit Model Limitation (IIA)**  \n",
    "  - Forces proportional substitution, ignoring closer substitutes.  \n",
    "  - Example: Higher heat pump costs should shift demand to **gcc**, not **gc**.  \n",
    "  - Similarly, **raising och for hpc** should primarily impact other **cooling** options."
   ]
  },
  {
   "cell_type": "markdown",
   "metadata": {
    "slideshow": {
     "slide_type": "slide"
    }
   },
   "source": [
    "### CCPs measure aggreagte market shares\n",
    "- When using logit models to estimate consumption decisions, \n",
    " **average choice probabilities** represent **market shares**:\n",
    "$$s_j = \\frac{1}{N}\\sum_{i=1}^N\\mathbb{1}({y_i=j})\n",
    "\\qquad\\stackrel{N\\rightarrow\\infty}{\\rightarrow}\\quad P(y=j)$$\n",
    "- So **average marginal effects** measure how **market shares** change.\n",
    "\n",
    "### Standard errors on derived quantities\n",
    "- Marginal effects and elasticties are non linear functions of the estimated parameters. \n",
    "- **Standard errors** of marginal effects and elasticties can be obtained via the **Delta method** or **bootstrap**.\n",
    "- Since probabilities sum up to 1 across alternatives, **marginal effects in the conditional logit sum up to 0**\n",
    "\n",
    "\n"
   ]
  },
  {
   "cell_type": "markdown",
   "metadata": {
    "slideshow": {
     "slide_type": "slide"
    }
   },
   "source": [
    "# Least Squres with Cross-Sectional Aggregate Data"
   ]
  },
  {
   "cell_type": "markdown",
   "metadata": {
    "slideshow": {
     "slide_type": "slide"
    }
   },
   "source": [
    "## Regression using market share data\n",
    "\n",
    "For logit, **average choice probabilities** represent **market shares**:\n",
    "$$s_j = \\frac{1}{N}\\sum_{i=1}^N\\mathbb{1}({y_i=j})\n",
    "\\qquad\\stackrel{N\\rightarrow\\infty}{\\rightarrow}\\quad P(y=j)$$\n",
    "- So **average marginal effects** measure how **market shares** change.\n",
    "\n",
    "- We can estimate $p_{mj}$ using the choice data\n",
    "\n",
    "- If we equate observed market shares, $s_{mj}$ with logit probabilities we get\n",
    "\n",
    "$$s_{mj} = \\dfrac{\\exp\\{x_{mj}\\beta\\}}\n",
    "                                 {\\sum_{k=0}^J\\exp\\{x_{mk}\\beta\\}} \\\\[1em]\n",
    "$$\n",
    "\n",
    "- Easy to transform the choice probabilities for the logit model\n",
    "\n",
    "$$\n",
    "log(s_{mj})-log(s_{m0}) = (x_{mj}-x_{m0})\\beta\n",
    "$$\n",
    "\n",
    "So we can estimate the logit model on market share data using simple regression methods"
   ]
  },
  {
   "cell_type": "markdown",
   "metadata": {
    "slideshow": {
     "slide_type": "slide"
    }
   },
   "source": [
    "# Conclusion"
   ]
  },
  {
   "cell_type": "markdown",
   "metadata": {
    "slideshow": {
     "slide_type": "slide"
    }
   },
   "source": [
    "### **Moving Beyond Conditional Logit – Addressing IIA**  \n",
    "- **IIA** arises due to the assumption that **error terms are independent across alternatives.**\n",
    "- **IIA can be tested** using methods like the **Hausman-McFadden test**.  \n",
    "- **How do we improve the model?**  \n",
    "  - **Nested Logit:** Groups alternatives to allow for **within-group correlation**.  \n",
    "  - **Multinomial Probit:** Allows **general correlation structures in errors**.  \n",
    "  - **Random Coefficients Logit (Mixed Logit):** Introduces **preference heterogeneity** across individuals.  \n",
    "  - **BLP (Berry, Levinsohn, and Pakes):** Addresses IIA for **aggregate market share data** by incorporating **endogenous price and unobserved product characteristics**.  \n",
    "  - **Panel Data Approaches:** Allows **individual-specific variation** in choice behavior over time.  \n",
    "\n",
    "**Next: BLP and Nested Logit – relaxing IIA!**  "
   ]
  }
 ],
 "metadata": {
  "celltoolbar": "Slideshow",
  "date": 1602643870.398518,
  "filename": "38_optimization.rst",
  "kernelspec": {
   "display_name": "Python 3 (ipykernel)",
   "language": "python",
   "name": "python3"
  },
  "language_info": {
   "codemirror_mode": {
    "name": "ipython",
    "version": 3
   },
   "file_extension": ".py",
   "mimetype": "text/x-python",
   "name": "python",
   "nbconvert_exporter": "python",
   "pygments_lexer": "ipython3",
   "version": "3.12.2"
  },
  "title": "Econometrics B #13"
 },
 "nbformat": 4,
 "nbformat_minor": 4
}
