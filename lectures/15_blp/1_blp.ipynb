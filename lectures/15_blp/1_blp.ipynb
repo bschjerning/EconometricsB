{
 "cells": [
  {
   "cell_type": "markdown",
   "metadata": {
    "slideshow": {
     "slide_type": "slide"
    }
   },
   "source": [
    "# Random Coefficients Logit Demand Model\n",
    "\n",
    "### Econometrics B (ØkB)\n",
    "\n",
    "**Bertel Schjerning**  \n",
    "Department of Economics, University of Copenhagen  \n",
    "\n",
    "### Readings:\n",
    "- **Conlon & Gortmaker (2020).** [\"Best Practices for Differentiated Products Demand Estimation with PyBLP.\"](https://doi.org/10.1111/1756-2171.12352) *RAND Journal of Economics*, 51(4), 1108–1161.\n",
    "\n",
    "### More readings\n",
    "  3. **B**erry, **L**evinsohn, & **P**akes (1995) - BLP demand model\n",
    "  4. Nevo (2000) - A practitioner's guide to random coefficients logit\n",
    "  5. Petrin (2002) - Quantifying benefits of new products\n",
    "  6. Berry, Levinsohn, & Pakes (2004) - Micro and macro data in demand estimation\n",
    "  1. Berry & Haile (2021) - Foundations of demand estimation\n",
    "  2. Conlon & Gortmaker (2025) - Incorporating microdata into BLP with PyBLP\n",
    "\n",
    "None of these are required but are recommended for further study. See full refeference list at last slide \n",
    "\n"
   ]
  },
  {
   "cell_type": "markdown",
   "metadata": {
    "slideshow": {
     "slide_type": "slide"
    }
   },
   "source": [
    "## **Part 1**: OLS and IV estimation of logit demand model with $\\mu_{ijt}=0$\n",
    "$$\n",
    "            \\log\\frac{s_{jt}}{s_{0t}} = \\delta_{jt} = \\alpha p_{jt} + x_{jt}'\\beta + \\xi_{jt}\n",
    "$$"
   ]
  },
  {
   "cell_type": "markdown",
   "metadata": {
    "slideshow": {
     "slide_type": "slide"
    }
   },
   "source": [
    "## Initial setup of libraries"
   ]
  },
  {
   "cell_type": "code",
   "execution_count": 1,
   "metadata": {
    "scrolled": true
   },
   "outputs": [],
   "source": [
    "# For debugging\n",
    "%reset -f\n",
    "%load_ext autoreload\n",
    "%autoreload 2\n",
    "\n",
    "import numpy as np\n",
    "import pandas as pd\n",
    "import mymlr as mlr\n",
    "import seaborn as sns\n",
    "import matplotlib.pyplot as plt\n",
    "import scipy.optimize as opt\n",
    "import time\n",
    "# Matrix inversion shorthand\n",
    "inv = np.linalg.inv\n",
    "\n",
    "\n",
    "# Set up the display settings\n",
    "pd.set_option('display.max_columns', None)  # Show all columns\n",
    "pd.set_option('display.max_rows', None)     # Show all rows\n",
    "pd.set_option('display.float_format', '{:g}'.format)"
   ]
  },
  {
   "cell_type": "markdown",
   "metadata": {
    "slideshow": {
     "slide_type": "slide"
    }
   },
   "source": [
    "## Read the data from and Greico et al. (2024) and create variables"
   ]
  },
  {
   "cell_type": "code",
   "execution_count": 2,
   "metadata": {
    "scrolled": true
   },
   "outputs": [],
   "source": [
    "# Load data and add constant\n",
    "df = pd.read_csv(\"cars.csv\")\n",
    "df[\"const\"] = 1  \n",
    "\n",
    "# Compute market shares and outside good share\n",
    "df[\"s_jt\"] = df[\"sales\"] / (df[\"number_households\"] / 2.5)\n",
    "df[\"s_0t\"] = 1 - df.groupby(\"year\")[\"s_jt\"].transform(\"sum\")\n",
    "\n",
    "# Log-difference of shares\n",
    "df[\"dlogs_jt\"] = np.log(df[\"s_jt\"]) - np.log(df[\"s_0t\"])\n",
    "\n",
    "# Create dummies (drop reference categories)\n",
    "year_dummies = pd.get_dummies(df[\"year\"], prefix=\"y\").drop(columns=\"y_1980\", errors=\"ignore\")\n",
    "make_dummies = pd.get_dummies(df[\"make\"]).drop(columns=\"volvo\", errors=\"ignore\")\n",
    "df = pd.concat([df, year_dummies, make_dummies], axis=1)\n",
    "\n",
    "# Dummy variable groups\n",
    "D_year, D_make = year_dummies.columns.tolist(), make_dummies.columns.tolist()\n",
    "D_type = [\"sport\", \"EV\", \"truck\", \"suv\", \"van\"]\n",
    "\n",
    "# Log-transform selected variables\n",
    "X_var = [\"height\", \"hp\", \"mpg\", \"weight\", \"footprint\", \"number_trims\"]\n",
    "df[[f\"log_{x}\" for x in X_var]] = np.log(df[X_var])\n",
    "X_var = [f\"log_{x}\" for x in X_var] + [\"releaseYear\", \"yearsSinceDesign\"]"
   ]
  },
  {
   "cell_type": "markdown",
   "metadata": {
    "slideshow": {
     "slide_type": "slide"
    }
   },
   "source": [
    "## Estimation using OLS and IV"
   ]
  },
  {
   "cell_type": "code",
   "execution_count": 3,
   "metadata": {
    "scrolled": true
   },
   "outputs": [
    {
     "name": "stdout",
     "output_type": "stream",
     "text": [
      "                            p        p+X      p+X+t    p+X+t+y  p+X+t+y+m p+X+t+y+m (IV)\n",
      "Dependent variable [dlogs_jt] [dlogs_jt] [dlogs_jt] [dlogs_jt] [dlogs_jt]     [dlogs_jt]\n",
      "             price    -0.0373    -0.0203    -0.0179    -0.0298    -0.0337        -0.1694\n",
      "                     (0.0010)   (0.0014)   (0.0014)   (0.0014)   (0.0017)       (0.0269)\n",
      "        log_height               -0.8774    -2.2726    -1.2168    -0.8707        -3.1315\n",
      "                                (0.2059)   (0.2864)   (0.2824)   (0.2723)       (0.5682)\n",
      "            log_hp               -1.2029    -1.2179     0.4285     0.3750         2.6639\n",
      "                                (0.0666)   (0.0679)   (0.1049)   (0.1012)       (0.4801)\n",
      "           log_mpg               -1.3059    -1.2027     0.3280    -0.1240         0.5428\n",
      "                                (0.0834)   (0.0883)   (0.1218)   (0.1139)       (0.2002)\n",
      "        log_weight               -1.0178    -1.5160    -0.8093    -0.9774         3.7059\n",
      "                                (0.2241)   (0.2289)   (0.2175)   (0.2121)       (0.9808)\n",
      "     log_footprint                3.0629     4.0413     2.9136     2.0209         0.8242\n",
      "                                (0.2167)   (0.2364)   (0.2287)   (0.2415)       (0.4025)\n",
      "  log_number_trims                1.1175     1.1608     1.1869     1.1894         1.0058\n",
      "                                (0.0216)   (0.0219)   (0.0214)   (0.0212)       (0.0436)\n",
      "       releaseYear               -0.4667    -0.3841    -0.5031    -0.4066        -0.5155\n",
      "                                (0.0557)   (0.0552)   (0.0536)   (0.0498)       (0.0679)\n",
      "  yearsSinceDesign               -0.1229    -0.1153    -0.1077    -0.1103        -0.1100\n",
      "                                (0.0064)   (0.0063)   (0.0061)   (0.0056)       (0.0068)\n",
      "         R_squared     0.1062     0.4349     0.4569     0.5065     0.5889         0.3269\n",
      "               TSS 37300.6952 37300.6952 37300.6952 37300.6952 37300.6952     37300.6952\n",
      "               RSS 33339.4749 21079.5633 20258.8758 18407.0415 15333.5079     25106.1190\n",
      "               ESS  3961.2203 16221.1319 17041.8194 18893.6537 21967.1873     12194.5762\n",
      "                 n       9694       9694       9694       9694       9694           9694\n",
      "Note: Standard errors are reported in parentheses.\n",
      "Only showing subset of regressors.\n",
      "\n",
      "\n"
     ]
    }
   ],
   "source": [
    "# Define LHS variable\n",
    "delta = df[\"dlogs_jt\"]\n",
    "# Define RHS variable sets\n",
    "c = df[[\"const\"]]\n",
    "X_sets = [\n",
    "    c, \n",
    "    df[[\"const\"] + X_var], \n",
    "    df[[\"const\"] + X_var + D_type], \n",
    "    df[[\"const\"] + X_var + D_type + D_year], \n",
    "    df[[\"const\"] + X_var + D_type + D_year + D_make]\n",
    "]\n",
    "# Run OLS regressions\n",
    "results = [mlr.ols(delta, pd.concat([X1, df[\"price\"]], axis=1), robust=True) for X1 in X_sets]\n",
    "# Run IV regression\n",
    "results.append(mlr.tsls(y=delta, X1=X_sets[-1], X2=df[\"price\"], Ze=df[\"RXR\"], robust=True))\n",
    "# Regression summary\n",
    "column_titles = [\"p\", \"p+X\", \"p+X+t\", \"p+X+t+y\", \"p+X+t+y+m\", \"p+X+t+y+m (IV)\"]\n",
    "mlr.summary(results, column_titles=column_titles, print_regressors=[\"price\"] + X_var)"
   ]
  },
  {
   "cell_type": "markdown",
   "metadata": {
    "slideshow": {
     "slide_type": "slide"
    }
   },
   "source": [
    "## **Part 2**:  Solve for $\\delta$ using the BLP contraction when $\\mu_{ijt}=0$ and compare to $\\log(\\hat{s}_{jt}/\\hat{s}_{0t})$\n",
    "**BLP Contraction iteration:**\n",
    "$$\n",
    "\\delta_{jt}^{k+1} = \\delta_{jt}^{k} + \\log(\\hat{s}_{jt}) - \\log(s_{jt}(\\delta^k))\n",
    "$$\n",
    "where $s_{jt}(\\delta^k)$ is computed using the logit choice probabilities."
   ]
  },
  {
   "cell_type": "markdown",
   "metadata": {
    "slideshow": {
     "slide_type": "slide"
    }
   },
   "source": [
    "## Let's first implement the logit ccp's\n"
   ]
  },
  {
   "cell_type": "code",
   "execution_count": 4,
   "metadata": {
    "scrolled": true
   },
   "outputs": [],
   "source": [
    "# Logit choice probabilities\n",
    "def logsum(v, sigma=1):\n",
    "    max_v = np.max(v, axis=1)  # Max across alternatives\n",
    "    exp_v = np.exp((v - max_v.reshape(-1, 1)) / sigma)\n",
    "    return max_v + sigma * np.log(np.sum(exp_v, axis=1))\n",
    "\n",
    "def logit(v, sigma=1, v0=None):\n",
    "    ''' Logit probability function '''\n",
    "    max_v = np.max(v, axis=1)\n",
    "    exp_v = np.exp((v - max_v.reshape(-1, 1)) / sigma)\n",
    "    sumexp = np.sum(exp_v, axis=1).reshape(-1, 1)\n",
    "    if v0 is not None:\n",
    "        sumexp += np.exp((v0 - max_v) / sigma)\n",
    "    return exp_v / sumexp \n"
   ]
  },
  {
   "cell_type": "markdown",
   "metadata": {
    "slideshow": {
     "slide_type": "slide"
    }
   },
   "source": [
    "## Demand inversion using contraction mapping\n",
    "To estimate **$\\delta$**, we need to solve for a fixed point using on the contraction mapping, $\\delta=\\Gamma(\\delta)$\n",
    "\n",
    "$$\n",
    "\\Gamma(\\delta) = \\delta + \\log(\\hat{s}_{jt}) - \\log(s_{jt}(\\delta))\n",
    "$$\n",
    "- $\\hat{s}_{jt}$ is the observed market share.\n",
    "- $s_{jt}(\\delta)$ is the predicted market share given current $\\delta$.\n",
    "- The mapping ensures that the predicted shares match the observed shares at convergence."
   ]
  },
  {
   "cell_type": "code",
   "execution_count": 5,
   "metadata": {
    "scrolled": true
   },
   "outputs": [],
   "source": [
    "# Compute conditional choice probabilities (CCP) in the data\n",
    "def predicted_share_logit(df, delta):\n",
    "    N = len(df)  # Number of observations\n",
    "    ccp_jt = np.zeros((N, 1))  # (N x 1)\n",
    "\n",
    "    years = df[\"year\"].unique() \n",
    "    for year in years:\n",
    "        iy = df[\"year\"] == year \n",
    "        delta_y = delta[iy].reshape(1, -1)  # (1 x Jt)\n",
    "        ccp_jt[iy] = logit(delta_y, v0=0).reshape(-1, 1)  # (Jt x 1)\n",
    "    return ccp_jt  # (N x 1)\n",
    "\n",
    "# Contraction mapping\n",
    "def contraction_logit(delta): \n",
    "    s_jt=df[[\"s_jt\"]].values\n",
    "    return delta + np.log(s_jt) - np.log(predicted_share_logit(df, delta))\n"
   ]
  },
  {
   "cell_type": "markdown",
   "metadata": {
    "slideshow": {
     "slide_type": "slide"
    }
   },
   "source": [
    "## **Solving Fixed Points using Successive Approximations**\n",
    "\n",
    "### **Fixed Point Algorithm: Successive Approximations**\n",
    "1. **Choose an initial guess** $\\delta^{(0)}$ (e.g., zeros or log differences of market shares).\n",
    "2. **Apply the contraction mapping** iteratively:\n",
    "   - Compute the update $\\delta^{(k+1)} = \\Gamma(\\delta^{(k)})$.\n",
    "   - Check for convergence $||\\delta^{(k+1)} - \\delta^{(k)}|| < \\text{tolerance}$.\n",
    "3. **Stop when convergence is achieved**.\n",
    "\n",
    "### **Why does this work?**\n",
    "- The operator $\\Gamma(\\delta)$ is a **contraction mapping**, meaning that it satisfies:\n",
    "\n",
    "$$\n",
    "\\|\\Gamma(\\delta') - \\Gamma(\\delta)\\| \\leq A \\|\\delta' - \\delta\\|, \\quad \\text{for some } A < 1.\n",
    "$$\n",
    "\n",
    "- This guarantees that **successive approximations** converge to the unique fixed point $\\delta=\\Gamma(\\delta)$.\n",
    "- Each iteration **shrinks** the difference between successive estimates of $\\delta$:\n",
    "\n",
    "$$\n",
    "\\|\\Gamma(\\delta^{(k+1)}) - \\Gamma(\\delta^{(k)})\\| \\leq A \\|\\delta^{(k+1)} - \\delta^{(k)}\\|\n",
    "$$\n",
    "\n",
    "- **Ensures convergence** under contraction mapping properties, since $A < 1$, which holds for the BLP contraction.\n",
    "- **Computationally efficient** for large-scale demand models."
   ]
  },
  {
   "cell_type": "markdown",
   "metadata": {
    "slideshow": {
     "slide_type": "slide"
    }
   },
   "source": [
    "## Method of successive approximations"
   ]
  },
  {
   "cell_type": "code",
   "execution_count": 6,
   "metadata": {
    "scrolled": true
   },
   "outputs": [],
   "source": [
    "def solve_sa(F, x0, maxiter=100, tol=1e-6, verbose='on'):\n",
    "    ''' Solve fixed point using successive approximations\n",
    "        parameters:\n",
    "            F: function to solve\n",
    "            x0: initial guess\n",
    "            maxiter: maximum number of iterations\n",
    "            tol: tolerance for convergence\n",
    "            verbose: \n",
    "                'on' (default: print only if convergence is achieved)\n",
    "                'notify' (print only if convergence is not achieved)\n",
    "                'iter' (print every iteration)\n",
    "                'off' (no print)\n",
    "        returns:\n",
    "            x1: fixed point\n",
    "    '''\n",
    "    if verbose in ['on', 'iter']:\n",
    "        print('Solving fixed point using successive approximations')\n",
    "    if verbose=='iter': \n",
    "        print(f'Iter   ||x1-x0||')\n",
    "    for iter in range(maxiter): \n",
    "        x1=F(x0)  # Fixed point iteration\n",
    "        metric=np.max(np.abs(x1-x0))\n",
    "        if verbose=='iter': \n",
    "            print(f\"{iter:<4d} {metric:10.4g}\")  \n",
    "        if metric < tol:\n",
    "            if verbose in ['on', 'iter']:\n",
    "                print(f'Convergence achieved after {iter+1} iteration(s)')\n",
    "                print(f'||x1-x0||= {metric:<g} <tol={tol}\\n')\n",
    "            return x1\n",
    "        x0=x1 # prepare for next iteration \n",
    "    \n",
    "    if verbose in ['on', 'iter', 'notify']:\n",
    "        print(f'Convergence failed after {iter+1} iterations') \n",
    "        print(f'||x1-x0||= {metric:<g} <tol={tol}\\n')\n",
    "    return x1"
   ]
  },
  {
   "cell_type": "markdown",
   "metadata": {
    "slideshow": {
     "slide_type": "slide"
    }
   },
   "source": [
    "## Solve for $\\delta$ using contraction iterations"
   ]
  },
  {
   "cell_type": "code",
   "execution_count": 7,
   "metadata": {
    "scrolled": false
   },
   "outputs": [
    {
     "name": "stdout",
     "output_type": "stream",
     "text": [
      "Solving fixed point using successive approximations\n",
      "Iter   ||x1-x0||\n",
      "0         9.773\n",
      "1         1.488\n",
      "2          1.44\n",
      "3         1.263\n",
      "4        0.9047\n",
      "5        0.6763\n",
      "6        0.4558\n",
      "7        0.2745\n",
      "8        0.1407\n",
      "9       0.06487\n",
      "10      0.02825\n",
      "11      0.01198\n",
      "12     0.005023\n",
      "13     0.002096\n",
      "14    0.0008723\n",
      "15    0.0003628\n",
      "16    0.0001509\n",
      "17    6.271e-05\n",
      "18    2.631e-05\n",
      "19     1.11e-05\n",
      "20     4.68e-06\n",
      "21    1.974e-06\n",
      "22    8.324e-07\n",
      "23    3.511e-07\n",
      "24    1.481e-07\n",
      "25    6.244e-08\n",
      "26    2.633e-08\n",
      "27    1.111e-08\n",
      "28    4.684e-09\n",
      "29    1.975e-09\n",
      "30    8.331e-10\n",
      "31    3.513e-10\n",
      "32    1.482e-10\n",
      "33    6.249e-11\n",
      "Convergence achieved after 34 iteration(s)\n",
      "||x1-x0||= 6.2494e-11 <tol=1e-10\n",
      "\n"
     ]
    }
   ],
   "source": [
    "# Initial guess for delta (e.g., zero vector)\n",
    "delta_init = np.zeros((len(df),1)) # Initialize delta at zeros\n",
    "# delta_init= df[[\"dlogs_jt\"]].values # Uncomment to initialize delta at log differences of market shares\n",
    "\n",
    "# Solve for delta\n",
    "delta_hat = solve_sa(contraction_logit, delta_init, verbose='iter', tol=1e-10, maxiter=200)"
   ]
  },
  {
   "cell_type": "markdown",
   "metadata": {
    "slideshow": {
     "slide_type": "slide"
    }
   },
   "source": [
    "## Veryfy that predicted market shares equals observed market shares at our solution of $\\delta$"
   ]
  },
  {
   "cell_type": "code",
   "execution_count": 8,
   "metadata": {
    "scrolled": true
   },
   "outputs": [
    {
     "data": {
      "image/png": "[encoded data removed]",
      "text/plain": [
       "<Figure size 640x480 with 1 Axes>"
      ]
     },
     "metadata": {},
     "output_type": "display_data"
    }
   ],
   "source": [
    "# Compute predicted market shares using estimated delta\n",
    "s_jt_pred = predicted_share_logit(df, delta_hat)\n",
    "\n",
    "# Scatter plot: Observed vs. Predicted market shares\n",
    "plt.scatter(df[\"s_jt\"], s_jt_pred, alpha=0.5)\n",
    "plt.plot([0, max(df[\"s_jt\"])], [0, max(df[\"s_jt\"])], 'r--')  # 45-degree line\n",
    "plt.xlabel(r\"Observed Market Shares $\\hat{s}_{jt}$\")\n",
    "plt.ylabel(r\"Predicted Market Shares $s_{jt}(\\delta_{\\hat{jt}})$\")\n",
    "plt.title(r\"Observed vs. Predicted Market Shares\")\n",
    "plt.show()"
   ]
  },
  {
   "cell_type": "markdown",
   "metadata": {
    "slideshow": {
     "slide_type": "slide"
    }
   },
   "source": [
    "## **Contraction Mapping Finds $\\delta$**\n",
    "- We solve for $\\delta$ using **successive approximations** on the BLP contraction:\n",
    "  $$\n",
    "  \\delta_{jt}^{k+1} = \\delta_{jt}^{k} + \\log(\\hat{s}_{jt}) - \\log(s_{jt}(\\delta^k))\n",
    "  $$\n",
    "- When initialized at **zero**, the contraction mapping converges to the correct $\\delta$.\n",
    "- When initialized at **log differences of market shares** (the solution), it converges in **one iteration**.\n",
    "- The **scatter plot** of observed vs. predicted shares aligns along the **45-degree line**, verifying our implementation."
   ]
  },
  {
   "cell_type": "markdown",
   "metadata": {
    "slideshow": {
     "slide_type": "slide"
    }
   },
   "source": [
    "## **Part 3**: Estimate $\\beta$ using GMM with $\\delta$ from Contraction Mapping and compare to IV\n"
   ]
  },
  {
   "cell_type": "markdown",
   "metadata": {
    "slideshow": {
     "slide_type": "slide"
    }
   },
   "source": [
    "## Moment conditions and GMM Objective\n",
    "\n",
    "The **moment conditions** in the GMM estimation are given by:\n",
    "\n",
    "$$\n",
    "\\mathbb{E}[\\xi_{jt} z_{jt}] = 0, \\quad \\text{where } \\xi_{jt} = \\delta_{jt} - X_{jt} \\beta\n",
    "$$\n",
    "\n",
    "The corresponding **sample moment conditions** are:\n",
    "\n",
    "$$\n",
    "g(\\beta) = \\frac{1}{N} Z' \\xi = \\frac{1}{N} Z' (\\delta - X \\beta)\n",
    "$$\n",
    "\n",
    "The **GMM objective estimator** minimizes the weighted quadratic form of the moments:\n",
    "\n",
    "$$\n",
    "Q(\\beta) = g(\\beta)' W g(\\beta)\n",
    "$$\n",
    "\n",
    "where \\( W \\) is a positive definite weighting matrix."
   ]
  },
  {
   "cell_type": "code",
   "execution_count": 9,
   "metadata": {},
   "outputs": [],
   "source": [
    "# Compute GMM moment conditions\n",
    "def gmm_moments(theta, X, Z, delta):\n",
    "    \"\"\" Compute moment conditions g(β) = (Z' ξ) / N \"\"\"\n",
    "    theta=theta.reshape(-1, 1) # ensure that theta is Kx1\n",
    "    xi = delta - X @ theta  # Structural error term (N, 1)\n",
    "    g = (Z.T @ xi) / len(delta)  # Moment conditions (q, 1)\n",
    "    return g\n",
    "\n",
    "# Compute the GMM objective function g' W g (returns scalar)\n",
    "def gmm_objective(theta, X, Z, delta, W):\n",
    "    \"\"\" Compute the GMM objective function g' W g \"\"\"\n",
    "    g = gmm_moments(theta, X, Z, delta)  # (q, 1)\n",
    "    return (g.T @ W @ g).item()  # Ensure scalar output"
   ]
  },
  {
   "cell_type": "markdown",
   "metadata": {
    "slideshow": {
     "slide_type": "slide"
    }
   },
   "source": [
    "## GMM estimation"
   ]
  },
  {
   "cell_type": "code",
   "execution_count": 10,
   "metadata": {},
   "outputs": [],
   "source": [
    "# Convert pandas DataFrame/Series to NumPy arrays\n",
    "def pd_to_arrays(vars):\n",
    "    return [var.to_frame().values if isinstance(var, pd.Series) else var.values for var in vars]\n",
    "\n",
    "# Construct matrices X (regressors) and Z (instruments)\n",
    "def build_X_Z(X1, X2, Ze):\n",
    "    X1, X2, Ze = [pd.DataFrame(var) for var in [X1, X2, Ze]]\n",
    "    X = pd.concat([X2, X1], axis=1)  # Combine X1 and X2 (n x k)\n",
    "    Z = pd.concat([X1, Ze], axis=1)  # Combine X2 and Ze (n x q)\n",
    "    return pd_to_arrays([X, Z])  # Convert to NumPy arrays\n",
    "\n",
    "# Estimate parameters using GMM\n",
    "def gmm_estimate(X1, X2, Ze, delta, verbose=True):\n",
    "    \"\"\" Estimate beta using GMM \"\"\"\n",
    "    X, Z = build_X_Z(X1, X2, Ze)\n",
    "\n",
    "    # Define W using the correct dimension\n",
    "    W = np.eye(Z.shape[1])  \n",
    "\n",
    "    # Ensure `W` is square\n",
    "    assert W.shape == (Z.shape[1], Z.shape[1]), f\"Weighting matrix W must be square, got {W.shape}\"\n",
    "\n",
    "    # Initial estimate using OLS\n",
    "    beta_ols = inv(X.T @ X) @ X.T @ delta  \n",
    "    \n",
    "    # Estimate beta_hat using \"2SLS\" formula: β = (X'PzX)^(-1) * X'Pz*y\n",
    "    Pz = Z @ inv(Z.T @ Z) @ Z.T  # (n x n) projection matrix (to get X predicted by Z)\n",
    "    X_hat = Pz @ X  # (n x k2)    \n",
    "    beta_2sls = inv(X.T@Pz@X) @ X.T@Pz@delta  # (k1 + k2 x 1)\n",
    "\n",
    "    beta_init=beta_ols\n",
    "    \n",
    "    # Optimize GMM objective function\n",
    "    start_time = time.perf_counter()\n",
    "    res = opt.minimize(gmm_objective, beta_init.flatten(), args=(X, Z, delta, W),\n",
    "                       method='BFGS', options={'disp': verbose})\n",
    "    end_time = time.perf_counter()\n",
    "\n",
    "    # Display timing\n",
    "    if verbose:\n",
    "        print(f\"Optimization completed in {end_time - start_time:.6f} seconds\")\n",
    "\n",
    "    return res.x.reshape(-1,1), res"
   ]
  },
  {
   "cell_type": "markdown",
   "metadata": {
    "slideshow": {
     "slide_type": "slide"
    }
   },
   "source": [
    "## Extract relevant variables and estimate model using non-linear GMM, OLS and IV"
   ]
  },
  {
   "cell_type": "code",
   "execution_count": 11,
   "metadata": {},
   "outputs": [
    {
     "name": "stdout",
     "output_type": "stream",
     "text": [
      "Optimization terminated successfully.\n",
      "         Current function value: 0.000000\n",
      "         Iterations: 5\n",
      "         Function evaluations: 30\n",
      "         Gradient evaluations: 10\n",
      "Optimization completed in 0.001948 seconds\n",
      "\n",
      "Estimated β_price using GMM: [-0.0975]\n",
      "                          OLS         IV\n",
      "Dependent variable    [delta]    [delta]\n",
      "             price    -0.0373    -0.0975\n",
      "                     (0.0010)   (0.0040)\n",
      "             const    -5.9072    -3.7399\n",
      "                     (0.0426)   (0.1428)\n",
      "         R_squared     0.1062    -0.1693\n",
      "               TSS 37300.6952 37300.6952\n",
      "               RSS 33339.4749 43617.0537\n",
      "               ESS  3961.2203 -6316.3585\n",
      "                 n       9694       9694\n",
      "Note: Standard errors are reported in parentheses.\n",
      "Only showing subset of regressors.\n",
      "\n",
      "\n"
     ]
    }
   ],
   "source": [
    "# Extract relevant variables and estimate model using non-linear GMM, OLS and IV\n",
    "X2 = df[[\"price\"]]  # Endogenous regressor: price\n",
    "X1 = df[[\"const\"]]  # Exogenous variables (e.g., constant term)\n",
    "X1 = df[[\"const\"] + X_var + D_type + D_year + D_make]  # Exogenous variables\n",
    "X1 = df[[\"const\"]]  # Exogenous variables\n",
    "Ze = df[[\"RXR\"]]  # External instruments\n",
    "delta = delta_hat  # Estimated delta from contraction\n",
    "df['delta']=delta_hat\n",
    "\n",
    "# Run GMM estimation\n",
    "beta_hat_gmm, res_gmm = gmm_estimate(X1, X2, Ze, delta)\n",
    "\n",
    "# Display results\n",
    "np.set_printoptions(precision=4, suppress=True, floatmode='maxprec_equal')\n",
    "print(\"\\nEstimated β_price using GMM:\", beta_hat_gmm[0].T)\n",
    "\n",
    "m2sls=mlr.tsls(y=df['delta'], X1=X1, X2=X2, Ze=Ze, robust=True)\n",
    "m2ols=mlr.ols(df['delta'], pd.concat([X2, X1], axis=1), robust=True)\n",
    "\n",
    "mlr.summary([m2ols, m2sls], column_titles=['OLS', 'IV'], print_regressors=[\"price\" ,'const'] + X_var)\n",
    "# mlr.summary([m2ols, m2sls], column_titles=['OLS', 'IV'])"
   ]
  },
  {
   "cell_type": "markdown",
   "metadata": {
    "slideshow": {
     "slide_type": "slide"
    }
   },
   "source": [
    "## References\n",
    "- Berry, S. (1994). [\"Estimating Discrete-Choice Models of Product Differentiation.\"](https://www.jstor.org/stable/2555829) *RAND Journal of Economics*, 25(2), 242–262.\n",
    "- Berry, S., & Pakes, A. (2007). [\"The Pure Characteristics Demand Model.\"]( https://doi.org/10.1111/j.1468-2354.2007.00459.x) *International Economic Review*, 48(4), 1193–1225.\n",
    "- Berry, S., Levinsohn, J., & Pakes, A. (1995). [\"Automobile Prices in Market Equilibrium.\"](https://www.jstor.org/stable/2171802) *Econometrica*, 63(4), 841–890.\n",
    "- Berry, S., Levinsohn, J., & Pakes, A. (2004). [\"Differentiated Products Demand Systems from a Combination of Micro and Macro Data: The New Car Market.\"](https://www.journals.uchicago.edu/doi/10.1086/379939) *Journal of Political Economy*, 112(1), 68–105.\n",
    "- Berry, S., & Haile, P. (2021). [\"Foundations of Demand Estimation.\"](https://doi.org/10.1016/bs.hesind.2021.11.001) In *Handbook of Industrial Organization* (Vol. 4), pp. 1–62.\n",
    "- Conlon, C., & Gortmaker, J. (2020). [\"Best Practices for Differentiated Products Demand Estimation with PyBLP.\"](https://doi.org/10.1111/1756-2171.12352) *RAND Journal of Economics*, 51(4), 1108–1161.\n",
    "- Conlon, C., & Gortmaker, J. (2025). [\"Incorporating Microdata into Differentiated Products Demand Estimation with PyBLP.\"](https://doi.org/10.1016/j.jeconom.2024.105926), *Journal of Econometrics*, forthcoming\n",
    "- DellaVigna, S., & Gentzkow, M. (2019). [\"Uniform Pricing in US Retail Chains.\"](https://academic.oup.com/qje/article/134/4/2011/5549382) *Quarterly Journal of Economics*, 134(4), 2011–2084.\n",
    "- Hausman, J. (1996). [\"Valuation of New Goods Under Perfect and Imperfect Competition.\"](https://www.nber.org/chapters/c6068) In *The Economics of New Goods* (University of Chicago Press), pp. 207–248.\n",
    "- Nevo, A. (2000). [\"A Practitioner's Guide to Estimation of Random-Coefficients Logit Models of Demand.\"](https://doi.org/10.1111/j.1430-9134.2000.00513.x) *Journal of Economics & Management Strategy*, 9(4), 513–548.\n",
    "- Petrin, A. (2002). [\"Quantifying the Benefits of New Products: The Case of the Minivan.\"](https://www.journals.uchicago.edu/doi/10.1086/340779) *Journal of Political Economy*, 110(4), 705–729."
   ]
  }
 ],
 "metadata": {
  "celltoolbar": "Slideshow",
  "date": 1602643870.398518,
  "filename": "38_optimization.rst",
  "kernelspec": {
   "display_name": "Python 3 (ipykernel)",
   "language": "python",
   "name": "python3"
  },
  "language_info": {
   "codemirror_mode": {
    "name": "ipython",
    "version": 3
   },
   "file_extension": ".py",
   "mimetype": "text/x-python",
   "name": "python",
   "nbconvert_exporter": "python",
   "pygments_lexer": "ipython3",
   "version": "3.12.2"
  },
  "title": "Econometrics B #13"
 },
 "nbformat": 4,
 "nbformat_minor": 4
}
